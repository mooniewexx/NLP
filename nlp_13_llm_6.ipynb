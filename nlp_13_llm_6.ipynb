{
  "cells": [
    {
      "cell_type": "markdown",
      "id": "3a564d5f",
      "metadata": {
        "id": "3a564d5f"
      },
      "source": [
        "#  Разработка чат-бота с применением генеративных моделей 🤗 Transformers\n",
        "\n",
        "__Автор задач: Блохин Н.В. (NVBlokhin@fa.ru)__\n",
        "\n",
        "Материалы:\n",
        "* https://huggingface.co/docs/transformers/generation_strategies\n",
        "* https://huggingface.co/docs/transformers/main/tasks/prompting\n",
        "* https://huggingface.co/docs/huggingface_hub/guides/inference\n",
        "* https://huggingface.co/settings/tokens\n",
        "* https://huggingface.co/tiiuae/falcon-7b-instruct\n",
        "* https://python.langchain.com/\n",
        "* https://www.youtube.com/watch?v=cKjh5ZOWqus\n",
        "* https://docs.chainlit.io/get-started/overview\n",
        "* https://www.youtube.com/watch?v=cKjh5ZOWqus"
      ]
    },
    {
      "cell_type": "markdown",
      "id": "c9ecd663",
      "metadata": {
        "id": "c9ecd663"
      },
      "source": [
        "## Задачи для совместного разбора"
      ]
    },
    {
      "cell_type": "markdown",
      "id": "1a9f47a1",
      "metadata": {
        "id": "1a9f47a1"
      },
      "source": [
        "1\\. Рассмотрите работу с генеративными моделями из 🤗 Transformers при помощи Inference API"
      ]
    },
    {
      "cell_type": "code",
      "source": [
        "!pip install python-dotenv"
      ],
      "metadata": {
        "colab": {
          "base_uri": "https://localhost:8080/"
        },
        "id": "orFtDnwxaa8v",
        "outputId": "e695de9b-5fca-4bbb-9719-aee8455923f5"
      },
      "id": "orFtDnwxaa8v",
      "execution_count": null,
      "outputs": [
        {
          "output_type": "stream",
          "name": "stdout",
          "text": [
            "Collecting python-dotenv\n",
            "  Downloading python_dotenv-1.1.0-py3-none-any.whl.metadata (24 kB)\n",
            "Downloading python_dotenv-1.1.0-py3-none-any.whl (20 kB)\n",
            "Installing collected packages: python-dotenv\n",
            "Successfully installed python-dotenv-1.1.0\n"
          ]
        }
      ]
    },
    {
      "cell_type": "code",
      "source": [
        "from huggingface_hub import InferenceClient\n",
        "from dotenv import load_dotenv\n",
        "import os"
      ],
      "metadata": {
        "id": "ooWGEKHwZRVC"
      },
      "id": "ooWGEKHwZRVC",
      "execution_count": null,
      "outputs": []
    },
    {
      "cell_type": "code",
      "source": [
        "load_dotenv(\"tokens.env\")"
      ],
      "metadata": {
        "id": "e3ia0mDpaAXD",
        "colab": {
          "base_uri": "https://localhost:8080/"
        },
        "outputId": "2f60e9e6-0e65-4097-c58d-2591f74315ef"
      },
      "id": "e3ia0mDpaAXD",
      "execution_count": null,
      "outputs": [
        {
          "output_type": "execute_result",
          "data": {
            "text/plain": [
              "True"
            ]
          },
          "metadata": {},
          "execution_count": 6
        }
      ]
    },
    {
      "cell_type": "code",
      "source": [
        "client = InferenceClient(\n",
        "    model=\"gpt2\",\n",
        "    token=os.getenv(\"MY_TOKEN\"),\n",
        ")"
      ],
      "metadata": {
        "id": "LpvHf261ZVqK"
      },
      "id": "LpvHf261ZVqK",
      "execution_count": null,
      "outputs": []
    },
    {
      "cell_type": "code",
      "source": [
        "from google.colab import userdata\n",
        "userdata.get('HF_TOKEN_SECRTER')"
      ],
      "metadata": {
        "colab": {
          "base_uri": "https://localhost:8080/",
          "height": 297
        },
        "collapsed": true,
        "id": "1IF68F3ia1k0",
        "outputId": "aeec76c8-ce62-48ad-d7b3-8471b8cc9a57"
      },
      "id": "1IF68F3ia1k0",
      "execution_count": null,
      "outputs": [
        {
          "output_type": "error",
          "ename": "TimeoutException",
          "evalue": "Requesting secret HF_TOKEN_SECRTER timed out. Secrets can only be fetched when running from the Colab UI.",
          "traceback": [
            "\u001b[0;31m---------------------------------------------------------------------------\u001b[0m",
            "\u001b[0;31mTimeoutException\u001b[0m                          Traceback (most recent call last)",
            "\u001b[0;32m<ipython-input-10-743196ca9dc7>\u001b[0m in \u001b[0;36m<cell line: 0>\u001b[0;34m()\u001b[0m\n\u001b[1;32m      1\u001b[0m \u001b[0;32mfrom\u001b[0m \u001b[0mgoogle\u001b[0m\u001b[0;34m.\u001b[0m\u001b[0mcolab\u001b[0m \u001b[0;32mimport\u001b[0m \u001b[0muserdata\u001b[0m\u001b[0;34m\u001b[0m\u001b[0;34m\u001b[0m\u001b[0m\n\u001b[0;32m----> 2\u001b[0;31m \u001b[0muserdata\u001b[0m\u001b[0;34m.\u001b[0m\u001b[0mget\u001b[0m\u001b[0;34m(\u001b[0m\u001b[0;34m'HF_TOKEN_SECRTER'\u001b[0m\u001b[0;34m)\u001b[0m\u001b[0;34m\u001b[0m\u001b[0;34m\u001b[0m\u001b[0m\n\u001b[0m",
            "\u001b[0;32m/usr/local/lib/python3.11/dist-packages/google/colab/userdata.py\u001b[0m in \u001b[0;36mget\u001b[0;34m(key)\u001b[0m\n\u001b[1;32m     64\u001b[0m     )\n\u001b[1;32m     65\u001b[0m   \u001b[0;32mif\u001b[0m \u001b[0;32mnot\u001b[0m \u001b[0mresp\u001b[0m\u001b[0;34m:\u001b[0m\u001b[0;34m\u001b[0m\u001b[0;34m\u001b[0m\u001b[0m\n\u001b[0;32m---> 66\u001b[0;31m     \u001b[0;32mraise\u001b[0m \u001b[0mTimeoutException\u001b[0m\u001b[0;34m(\u001b[0m\u001b[0mkey\u001b[0m\u001b[0;34m)\u001b[0m\u001b[0;34m\u001b[0m\u001b[0;34m\u001b[0m\u001b[0m\n\u001b[0m\u001b[1;32m     67\u001b[0m   \u001b[0;32mif\u001b[0m \u001b[0;32mnot\u001b[0m \u001b[0mresp\u001b[0m\u001b[0;34m.\u001b[0m\u001b[0mget\u001b[0m\u001b[0;34m(\u001b[0m\u001b[0;34m'exists'\u001b[0m\u001b[0;34m,\u001b[0m \u001b[0;32mFalse\u001b[0m\u001b[0;34m)\u001b[0m\u001b[0;34m:\u001b[0m\u001b[0;34m\u001b[0m\u001b[0;34m\u001b[0m\u001b[0m\n\u001b[1;32m     68\u001b[0m     \u001b[0;32mraise\u001b[0m \u001b[0mSecretNotFoundError\u001b[0m\u001b[0;34m(\u001b[0m\u001b[0mkey\u001b[0m\u001b[0;34m)\u001b[0m\u001b[0;34m\u001b[0m\u001b[0;34m\u001b[0m\u001b[0m\n",
            "\u001b[0;31mTimeoutException\u001b[0m: Requesting secret HF_TOKEN_SECRTER timed out. Secrets can only be fetched when running from the Colab UI."
          ]
        }
      ]
    },
    {
      "cell_type": "code",
      "source": [
        "client.text_generation(\n",
        "    prompt=\"I don't want to be here because\"\n",
        ")"
      ],
      "metadata": {
        "colab": {
          "base_uri": "https://localhost:8080/",
          "height": 316
        },
        "collapsed": true,
        "id": "7jRUNWqQbG0_",
        "outputId": "ada88674-1e28-4b45-e40f-5e4b593fbbab"
      },
      "id": "7jRUNWqQbG0_",
      "execution_count": null,
      "outputs": [
        {
          "output_type": "stream",
          "name": "stderr",
          "text": [
            "/usr/local/lib/python3.11/dist-packages/huggingface_hub/utils/_auth.py:94: UserWarning: \n",
            "The secret `HF_TOKEN` does not exist in your Colab secrets.\n",
            "To authenticate with the Hugging Face Hub, create a token in your settings tab (https://huggingface.co/settings/tokens), set it as secret in your Google Colab and restart your session.\n",
            "You will be able to reuse this secret in all of your notebooks.\n",
            "Please note that authentication is recommended but still optional to access public models or datasets.\n",
            "  warnings.warn(\n"
          ]
        },
        {
          "output_type": "execute_result",
          "data": {
            "text/plain": [
              "\" I'm not here to be a part of this. I'm here to be a part of this. I'm here to be a part of this. I'm here to be a part of this. I'm here to be a part of this. I'm here to be a part of this. I'm here to be a part of this. I'm here to be a part of this. I'm here to be a part of this. I'm here to be a part of this. I'm here to be a part of this. I'm here to be a part of this. I'm here to be a part of this. I'm here to be a part of this. I'm here to be a part of this. I'm here to be a part of this. I'm here to be a part of this. I'm here to be a part of this. I'm here to be a part of this. I'm here to be a part of this. I'm here to be a part of this. I'm here to be a part of this. I'm here to be a part of this. I'm here to be a part of this. I'm here to be a part of this. I'm here to be a part of this. I'm here to be a part of this. I'm here to be a part of this. I'm here to be a part of this. I'm here to be a part of this. I'm here to be a part of this. I'm here to be a part of this. I'm here to be a part of this. I'm here to be a part of this. I'm here to be a part of this. I'm here to be a part of this. I'm here to be a part of this. I'm here to be a part of this. I'm here to be a part of this. I'm here to be a part of this. I'm here to be a part of this. I'm here to be a part of this. I'm here to be a part of this. I'm here to be a part of this. I'm here to be a part of this. I'm here to be a part of this. I'm here to be a part of this. I'm here to be a part of this. I'm here to be a part of this. I'm here to be a part of this. I'm here to be a part of this. I'm here to be a part of this. I'm here to be a part of this. I'm here to be a part of this. I'm here to be a part of this. I'm here to be a part of this. I'm here to be a part of this. I'm here to be a part of this. I'm here to be a part of this. I'm here to be a part of this. I'm here to be a part of this. I'm here to be a part of this. I'm here to be a part of this. I'm here to be a part of this. I'm here to be a part of this. I'm here to be a part of this. I'm here to be a part of this. I'm here to be a part of this. I'm here to be a part of this. I'm here to be a part of this. I'm here to be a part of this. I'm here to be a part of this. I'm here to be a part of this. I'm here to be a part of this. I'm here to be a part of this. I'm here to be a part of this. I'm here to be a part of this. I'm here to be a part of this. I'm here to be a part of this. I'm here to be a part of this. I'm here to be a part of this. I'm here to be a part of this. I'm here to be a part of this. I'm here to be a part of this. I'm here to be a part of this. I'm here to be a part of this. I'm here to be a part of this. I'm here to be a part of this. I'm here to be a part of this. I'm here to be a part of this. I'm here to be a part of this. I'm here to be a part of this. I'm here to be a part of this. I'm here to be a part of this. I'm here to be a part of this. I'm here to be a part of this. I'm here to be a part of this. I'm here to be a part of this. I'm here to be a part of this. I'm here to be a part of this. I'm here to be a part of this. I'm here to be\""
            ],
            "application/vnd.google.colaboratory.intrinsic+json": {
              "type": "string"
            }
          },
          "metadata": {},
          "execution_count": 11
        }
      ]
    },
    {
      "cell_type": "markdown",
      "source": [],
      "metadata": {
        "id": "4nEZnND3bAe3"
      },
      "id": "4nEZnND3bAe3"
    },
    {
      "cell_type": "markdown",
      "id": "77d624a0",
      "metadata": {
        "id": "77d624a0"
      },
      "source": [
        "## Задачи для самостоятельного решения"
      ]
    },
    {
      "cell_type": "markdown",
      "source": [
        "### 1."
      ],
      "metadata": {
        "id": "jvMHhiF0WwTe"
      },
      "id": "jvMHhiF0WwTe"
    },
    {
      "cell_type": "markdown",
      "id": "b90b59bb",
      "metadata": {
        "id": "b90b59bb"
      },
      "source": [
        "<p class=\"task\" id=\"1\"></p>\n",
        "\n",
        "1\\. Загрузите любую большую языковую модель для генерации текста на русском языке из 🤗 Transformers. Используя данную модель, продолжите текст `prompt`. Изучите, как на результат влияют следующие параметры:\n",
        "\n",
        "* max_new_tokens;\n",
        "* do_sample;\n",
        "* num_beams;\n",
        "* num_beam_groups.\n",
        "\n",
        "Выведите несколько примеров сгенерированного текста с разными настройками.\n",
        "\n",
        "\n",
        "- [ ] Проверено на семинаре"
      ]
    },
    {
      "cell_type": "code",
      "source": [
        "from huggingface_hub import InferenceClient\n",
        "from dotenv import load_dotenv\n",
        "import os"
      ],
      "metadata": {
        "id": "nhuz9KUaKjdV"
      },
      "execution_count": null,
      "outputs": [],
      "id": "nhuz9KUaKjdV"
    },
    {
      "cell_type": "code",
      "source": [
        "from google.colab import userdata\n",
        "# userdata.get('HF_TOKEN')"
      ],
      "metadata": {
        "id": "SkpOZcZPK906"
      },
      "id": "SkpOZcZPK906",
      "execution_count": null,
      "outputs": []
    },
    {
      "cell_type": "code",
      "source": [
        "client = InferenceClient(\n",
        "    model=\"sberbank-ai/rugpt3large_based_on_gpt2\",\n",
        "    token=userdata.get('HF_TOKEN'),\n",
        ")"
      ],
      "metadata": {
        "id": "jmOQV0XwKjdW"
      },
      "execution_count": null,
      "outputs": [],
      "id": "jmOQV0XwKjdW"
    },
    {
      "cell_type": "code",
      "source": [
        "client.text_generation(\n",
        "    prompt=\"завтра я хочу\"\n",
        ")"
      ],
      "metadata": {
        "colab": {
          "base_uri": "https://localhost:8080/",
          "height": 389
        },
        "collapsed": true,
        "outputId": "651923ff-1afe-44aa-bd5c-53e7c97cefb7",
        "id": "r6NMv1MGKjdW"
      },
      "execution_count": null,
      "outputs": [
        {
          "output_type": "error",
          "ename": "StopIteration",
          "evalue": "",
          "traceback": [
            "\u001b[0;31m---------------------------------------------------------------------------\u001b[0m",
            "\u001b[0;31mStopIteration\u001b[0m                             Traceback (most recent call last)",
            "\u001b[0;32m<ipython-input-26-3535c9dd904b>\u001b[0m in \u001b[0;36m<cell line: 0>\u001b[0;34m()\u001b[0m\n\u001b[0;32m----> 1\u001b[0;31m client.text_generation(\n\u001b[0m\u001b[1;32m      2\u001b[0m     \u001b[0mprompt\u001b[0m\u001b[0;34m=\u001b[0m\u001b[0;34m\"завтра я хочу\"\u001b[0m\u001b[0;34m\u001b[0m\u001b[0;34m\u001b[0m\u001b[0m\n\u001b[1;32m      3\u001b[0m )\n",
            "\u001b[0;32m/usr/local/lib/python3.11/dist-packages/huggingface_hub/inference/_client.py\u001b[0m in \u001b[0;36mtext_generation\u001b[0;34m(self, prompt, details, stream, model, adapter_id, best_of, decoder_input_details, do_sample, frequency_penalty, grammar, max_new_tokens, repetition_penalty, return_full_text, seed, stop, stop_sequences, temperature, top_k, top_n_tokens, top_p, truncate, typical_p, watermark)\u001b[0m\n\u001b[1;32m   2295\u001b[0m \u001b[0;34m\u001b[0m\u001b[0m\n\u001b[1;32m   2296\u001b[0m         \u001b[0mmodel_id\u001b[0m \u001b[0;34m=\u001b[0m \u001b[0mmodel\u001b[0m \u001b[0;32mor\u001b[0m \u001b[0mself\u001b[0m\u001b[0;34m.\u001b[0m\u001b[0mmodel\u001b[0m\u001b[0;34m\u001b[0m\u001b[0;34m\u001b[0m\u001b[0m\n\u001b[0;32m-> 2297\u001b[0;31m         \u001b[0mprovider_helper\u001b[0m \u001b[0;34m=\u001b[0m \u001b[0mget_provider_helper\u001b[0m\u001b[0;34m(\u001b[0m\u001b[0mself\u001b[0m\u001b[0;34m.\u001b[0m\u001b[0mprovider\u001b[0m\u001b[0;34m,\u001b[0m \u001b[0mtask\u001b[0m\u001b[0;34m=\u001b[0m\u001b[0;34m\"text-generation\"\u001b[0m\u001b[0;34m,\u001b[0m \u001b[0mmodel\u001b[0m\u001b[0;34m=\u001b[0m\u001b[0mmodel_id\u001b[0m\u001b[0;34m)\u001b[0m\u001b[0;34m\u001b[0m\u001b[0;34m\u001b[0m\u001b[0m\n\u001b[0m\u001b[1;32m   2298\u001b[0m         request_parameters = provider_helper.prepare_request(\n\u001b[1;32m   2299\u001b[0m             \u001b[0minputs\u001b[0m\u001b[0;34m=\u001b[0m\u001b[0mprompt\u001b[0m\u001b[0;34m,\u001b[0m\u001b[0;34m\u001b[0m\u001b[0;34m\u001b[0m\u001b[0m\n",
            "\u001b[0;32m/usr/local/lib/python3.11/dist-packages/huggingface_hub/inference/_providers/__init__.py\u001b[0m in \u001b[0;36mget_provider_helper\u001b[0;34m(provider, task, model)\u001b[0m\n\u001b[1;32m    163\u001b[0m             \u001b[0;32mraise\u001b[0m \u001b[0mValueError\u001b[0m\u001b[0;34m(\u001b[0m\u001b[0;34m\"Specifying a model is required when provider is 'auto'\"\u001b[0m\u001b[0;34m)\u001b[0m\u001b[0;34m\u001b[0m\u001b[0;34m\u001b[0m\u001b[0m\n\u001b[1;32m    164\u001b[0m         \u001b[0mprovider_mapping\u001b[0m \u001b[0;34m=\u001b[0m \u001b[0m_fetch_inference_provider_mapping\u001b[0m\u001b[0;34m(\u001b[0m\u001b[0mmodel\u001b[0m\u001b[0;34m)\u001b[0m\u001b[0;34m\u001b[0m\u001b[0;34m\u001b[0m\u001b[0m\n\u001b[0;32m--> 165\u001b[0;31m         \u001b[0mprovider\u001b[0m \u001b[0;34m=\u001b[0m \u001b[0mnext\u001b[0m\u001b[0;34m(\u001b[0m\u001b[0miter\u001b[0m\u001b[0;34m(\u001b[0m\u001b[0mprovider_mapping\u001b[0m\u001b[0;34m)\u001b[0m\u001b[0;34m)\u001b[0m\u001b[0;34m\u001b[0m\u001b[0;34m\u001b[0m\u001b[0m\n\u001b[0m\u001b[1;32m    166\u001b[0m \u001b[0;34m\u001b[0m\u001b[0m\n\u001b[1;32m    167\u001b[0m     \u001b[0mprovider_tasks\u001b[0m \u001b[0;34m=\u001b[0m \u001b[0mPROVIDERS\u001b[0m\u001b[0;34m.\u001b[0m\u001b[0mget\u001b[0m\u001b[0;34m(\u001b[0m\u001b[0mprovider\u001b[0m\u001b[0;34m)\u001b[0m  \u001b[0;31m# type: ignore\u001b[0m\u001b[0;34m\u001b[0m\u001b[0;34m\u001b[0m\u001b[0m\n",
            "\u001b[0;31mStopIteration\u001b[0m: "
          ]
        }
      ],
      "id": "r6NMv1MGKjdW"
    },
    {
      "cell_type": "code",
      "source": [
        "prompt=\"завтра я хочу\""
      ],
      "metadata": {
        "id": "Wx5paTIMMcRI"
      },
      "id": "Wx5paTIMMcRI",
      "execution_count": null,
      "outputs": []
    },
    {
      "cell_type": "code",
      "source": [
        "from transformers import pipeline, AutoTokenizer\n",
        "\n",
        "model_name = \"sberbank-ai/rugpt3large_based_on_gpt2\"\n",
        "tokenizer = AutoTokenizer.from_pretrained(model_name)\n",
        "generator = pipeline(\"text-generation\", model=model_name, tokenizer=tokenizer)\n",
        "\n",
        "result = generator(prompt)\n",
        "print(result)"
      ],
      "metadata": {
        "colab": {
          "base_uri": "https://localhost:8080/",
          "height": 265,
          "referenced_widgets": [
            "c59c28fe4dec4b18a660303c5672884e",
            "5636a532fc424e88921b311031994572",
            "19f8679ea7e242d1bbf7130ded2f1e10",
            "24044d8ef96545349343f9fff25c06b0",
            "2c0e36b9235b41f68b9fcbd9f8cc3276",
            "1a3d972de3404513a85fd3cebe21c654",
            "1d4e1c43e0584cc49b7933cf80df92b3",
            "df3954676bca48c8a2a176a6d13b7597",
            "e01790419874456bb99d3efc26438533",
            "656aeacc012f4d3aa30722cb754d4f3c",
            "8cddcc6711cd4c948407f809b525071e",
            "e131f273bf9e4890b1a98d14e7e55cda",
            "90e375436cc246759115e5eff434a4ea",
            "bd91f5aa9aaa4369b247c5d3e9af96d4",
            "82e92e26865b42c4a98a833ea3aa4a04",
            "c3accac7a7d545bbb9f29a208f76af41",
            "ac10d5a5b6894be9b88e206cf1ff0416",
            "dc5c50a62c1b439db671c62a900b9f38",
            "4238da6603ea450692df346241291d40",
            "4d4d4d29ac66446ca6e7a7ff42f465bd",
            "e156b724b3224dc88ac17254d2abb724",
            "7367e86e434543028910a93107584e74",
            "66cd11bb3cd742e683587d9b91807e53",
            "6bdf39365bae4ceab1311421bf82b8f9",
            "3c60f677442641ff91a141c89cad8340",
            "fe1c5bf48ab043089ff7ee1a1ccb7784",
            "0cb83c0090f5459d99aa666e4ffc8e3e",
            "70038ce802db4fa7878dc9761fe59925",
            "0144de1672a0448c8e57aee9b67cff3e",
            "7e9c367890b946129fd7707122385887",
            "39089c81eeaa4b46ab8e42041b06d503",
            "2990a7a18d394c64a333aab4fb74265d",
            "56f6a166ff5e4ffc820e9bada5c63947",
            "97824f7c67fa443bb04b663216aff558",
            "b0b81c850f2746f59482d17d96e9704c",
            "f60be26d7a7d4ce2ad5d20a9799befb2",
            "f2e4e1950cbe4ce1981da1d301d0c424",
            "ab40cbccde364ad7813b0f4d9322e720",
            "781abc0a98054fcdb858b11afd59f2b3",
            "b40a74b3a6c740bdb54376c2d58a6878",
            "2ab5dffc59d54fc294abf6a50d50a5ab",
            "d3b7fd1748604b93981d85c1ebf84ba0",
            "906ed0dab2d34852b64a7425e08d0ce3",
            "0b52b3831b914bc097f546f1c9fbfd14",
            "e29100185cd1465f855a85569ba8f5fe",
            "62248b378e024604921740035b0845e7",
            "8550d38a3d844ec790cfd0bc0373efba",
            "094c5b56e10b48eca06997e8a3730e41",
            "703f1c39830949018f7a5c097f199956",
            "2c9124293a164c988aeb2cfd8482b8a3",
            "94bd868c4acd4006a0b9097ac215703d",
            "175f18d5e85d47189f5d1764edd6d3c5",
            "b3e0de26b342432aa208aced9a649206",
            "6a84b4b584ce4f5da9ac5acc601fb980",
            "e391d7ade70f4881ab90b6895cbcedc9",
            "33e843d150ae4284aec19520e8ef01db",
            "616530cc32a94333836eb5e431770385",
            "aba82100fbeb4b8cb565508e42bbda68",
            "c8466d364d0f4f72b4af5c3e06e76fa2",
            "436e3128b1ed494e8d8b968b59f64de8",
            "9ed582efcfe14f9790ee7002e5a97e37",
            "4a2f545b67cc4dc99bc8f427a12e3cff",
            "9d17bb2045a74e7f8e31ec93092939ca",
            "8fe5cac1ac9d47e4b8659059e76924a2",
            "f5a2f92f35ee4ccba488601bbe493886",
            "691e46dad77e46d699103f4b780607af"
          ]
        },
        "id": "Dhe1CrJTKh20",
        "outputId": "04f5b301-f917-47e9-cb11-c7884bc7ff21"
      },
      "id": "Dhe1CrJTKh20",
      "execution_count": null,
      "outputs": [
        {
          "output_type": "display_data",
          "data": {
            "text/plain": [
              "tokenizer_config.json:   0%|          | 0.00/1.25k [00:00<?, ?B/s]"
            ],
            "application/vnd.jupyter.widget-view+json": {
              "version_major": 2,
              "version_minor": 0,
              "model_id": "c59c28fe4dec4b18a660303c5672884e"
            }
          },
          "metadata": {}
        },
        {
          "output_type": "display_data",
          "data": {
            "text/plain": [
              "vocab.json:   0%|          | 0.00/1.71M [00:00<?, ?B/s]"
            ],
            "application/vnd.jupyter.widget-view+json": {
              "version_major": 2,
              "version_minor": 0,
              "model_id": "e131f273bf9e4890b1a98d14e7e55cda"
            }
          },
          "metadata": {}
        },
        {
          "output_type": "display_data",
          "data": {
            "text/plain": [
              "merges.txt:   0%|          | 0.00/1.27M [00:00<?, ?B/s]"
            ],
            "application/vnd.jupyter.widget-view+json": {
              "version_major": 2,
              "version_minor": 0,
              "model_id": "66cd11bb3cd742e683587d9b91807e53"
            }
          },
          "metadata": {}
        },
        {
          "output_type": "display_data",
          "data": {
            "text/plain": [
              "special_tokens_map.json:   0%|          | 0.00/574 [00:00<?, ?B/s]"
            ],
            "application/vnd.jupyter.widget-view+json": {
              "version_major": 2,
              "version_minor": 0,
              "model_id": "97824f7c67fa443bb04b663216aff558"
            }
          },
          "metadata": {}
        },
        {
          "output_type": "display_data",
          "data": {
            "text/plain": [
              "config.json:   0%|          | 0.00/622 [00:00<?, ?B/s]"
            ],
            "application/vnd.jupyter.widget-view+json": {
              "version_major": 2,
              "version_minor": 0,
              "model_id": "e29100185cd1465f855a85569ba8f5fe"
            }
          },
          "metadata": {}
        },
        {
          "output_type": "display_data",
          "data": {
            "text/plain": [
              "pytorch_model.bin:   0%|          | 0.00/3.14G [00:00<?, ?B/s]"
            ],
            "application/vnd.jupyter.widget-view+json": {
              "version_major": 2,
              "version_minor": 0,
              "model_id": "33e843d150ae4284aec19520e8ef01db"
            }
          },
          "metadata": {}
        },
        {
          "output_type": "stream",
          "name": "stderr",
          "text": [
            "Device set to use cuda:0\n"
          ]
        },
        {
          "output_type": "stream",
          "name": "stdout",
          "text": [
            "[{'generated_text': 'завтра я хочу, чтобы ты была рядом.\\n\\n—\\xa0Я не могу,\\xa0— сказала она.\\xa0'}]\n"
          ]
        }
      ]
    },
    {
      "cell_type": "code",
      "source": [
        "print(result[0]['generated_text'])"
      ],
      "metadata": {
        "colab": {
          "base_uri": "https://localhost:8080/"
        },
        "id": "scvbaN1tMyqj",
        "outputId": "826e1328-5870-4281-c4ca-c20fec0a7160"
      },
      "id": "scvbaN1tMyqj",
      "execution_count": null,
      "outputs": [
        {
          "output_type": "stream",
          "name": "stdout",
          "text": [
            "завтра я хочу, чтобы ты была рядом.\n",
            "\n",
            "— Я не могу, — сказала она. \n"
          ]
        }
      ]
    },
    {
      "cell_type": "code",
      "source": [
        "for n_tok in [20, 50, 100]:\n",
        "  result = generator(prompt, max_new_tokens = n_tok)[0]['generated_text']\n",
        "  print(f'{n_tok}: {result}\\n\\n')"
      ],
      "metadata": {
        "colab": {
          "base_uri": "https://localhost:8080/"
        },
        "id": "4t6G4hv7O7P5",
        "outputId": "05887ae5-03f0-437e-8206-0cf5e6ecbc1f"
      },
      "id": "4t6G4hv7O7P5",
      "execution_count": null,
      "outputs": [
        {
          "output_type": "stream",
          "name": "stdout",
          "text": [
            "20: завтра я хочу, чтобы ты была рядом.\n",
            "\n",
            "— Я не могу, — сказала она. \n",
            "\n",
            "\n",
            "50: завтра я хочу, чтобы ты была рядом.\n",
            "\n",
            "— Я не могу, — сказала она. — Я не могу.\n",
            "\n",
            "— Я знаю, — сказал он. — Я знаю.\n",
            "\n",
            "— Я не могу,\n",
            "\n",
            "\n",
            "100: завтра я хочу, чтобы ты была рядом.\n",
            "\n",
            "— Я не могу, — сказала она. — Я не могу.\n",
            "\n",
            "— Я знаю, — сказал он. — Я знаю.\n",
            "\n",
            "— Я не могу, — повторила она.\n",
            "\n",
            "— Я знаю, — сказал он. — Я знаю.\n",
            "\n",
            "— Я не могу, — повторила она.\n",
            "\n",
            "— Я знаю, — сказал он. — Я\n",
            "\n",
            "\n"
          ]
        }
      ]
    },
    {
      "cell_type": "code",
      "source": [
        "for sample in [True, False]:\n",
        "  result = generator(prompt, max_new_tokens = 50, do_sample=sample)[0]['generated_text']\n",
        "  print(f'do_sample={sample}: {result}\\n\\n')"
      ],
      "metadata": {
        "colab": {
          "base_uri": "https://localhost:8080/"
        },
        "id": "VLgp0E47PvE4",
        "outputId": "ff8fb324-2813-4a9b-9fb3-6ee243576a7f"
      },
      "id": "VLgp0E47PvE4",
      "execution_count": null,
      "outputs": [
        {
          "output_type": "stream",
          "name": "stdout",
          "text": [
            "do_sample=True: завтра я хочу увидеться с тобой. Если тебе есть, чем поделиться - расскажи, пока не поздно».\n",
            "\n",
            "  А я... я не стал звонить! Это неправильно, неправильно. Я больше не стану таким, как она...\n",
            "\n",
            "  - Что\n",
            "\n",
            "\n",
            "do_sample=False: завтра я хочу, чтобы ты была рядом.\n",
            "\n",
            "— Я не могу, — сказала она. — Я не могу.\n",
            "\n",
            "— Я знаю, — сказал он. — Я знаю.\n",
            "\n",
            "— Я не могу,\n",
            "\n",
            "\n"
          ]
        }
      ]
    },
    {
      "cell_type": "code",
      "source": [
        "for beams in [1, 3, 5]:\n",
        "  result = generator(prompt, max_new_tokens = 50, do_sample=True, num_beams=beams)[0]['generated_text']\n",
        "  print(f'num_beams={beams}: {result}\\n\\n')"
      ],
      "metadata": {
        "colab": {
          "base_uri": "https://localhost:8080/"
        },
        "id": "mGXAvf36Qd5E",
        "outputId": "b466bc6b-83ae-42e6-cb8f-b19214936d69"
      },
      "id": "mGXAvf36Qd5E",
      "execution_count": null,
      "outputs": [
        {
          "output_type": "stream",
          "name": "stdout",
          "text": [
            "num_beams=1: завтра я хочу встретиться с ним. \n",
            "\n",
            "Но пока что он меня избегал. \n",
            "\n",
            "Всего один день прошел, а я уже была вся в его мыслях. Он сказал, что у него есть для меня несколько работ: он их только что закончил. Так\n",
            "\n",
            "\n",
            "num_beams=3: завтра я хочу попросить у тебя прощения.\n",
            "\n",
            "— За что?\n",
            "\n",
            "— За все.\n",
            "\n",
            "— За что?\n",
            "\n",
            "— За то, что я не послушалась тебя.\n",
            "\n",
            "— За что?\n",
            "\n",
            "—\n",
            "\n",
            "\n",
            "num_beams=5: завтра я хочу поговорить с тобой.\n",
            "\n",
            "— О чем?\n",
            "\n",
            "— О тебе.\n",
            "\n",
            "— О чем?\n",
            "\n",
            "— О тебе.\n",
            "\n",
            "— О чем?\n",
            "\n",
            "— О тебе.\n",
            "\n",
            "— \n",
            "\n",
            "\n"
          ]
        }
      ]
    },
    {
      "cell_type": "code",
      "source": [
        "for groups in [2, 3]:\n",
        "  result = generator(prompt, max_new_tokens=50, num_beams=groups*2, num_beam_groups=groups,\n",
        "                     diversity_penalty=1.0)[0]['generated_text']\n",
        "  print(f'num_beams_group={groups}: {result}\\n\\n')"
      ],
      "metadata": {
        "colab": {
          "base_uri": "https://localhost:8080/"
        },
        "id": "ELRs3O0dTNnt",
        "outputId": "0b90f742-d57f-44b5-87d2-2b1042084350"
      },
      "id": "ELRs3O0dTNnt",
      "execution_count": null,
      "outputs": [
        {
          "output_type": "stream",
          "name": "stdout",
          "text": [
            "num_beams_group=2: завтра я хочу, чтобы ты была со мной.\n",
            "\n",
            "— Я не могу.\n",
            "\n",
            "— Почему?\n",
            "\n",
            "— Потому что я не могу.\n",
            "\n",
            "— Почему?\n",
            "\n",
            "— Потому что я не могу.\n",
            "\n",
            "—\n",
            "\n",
            "\n",
            "num_beams_group=3: завтра я хочу быть с тобой. Я хочу быть с тобой. Я хочу быть с тобой. Я хочу быть с тобой. Я хочу быть с тобой. Я хочу быть с тобой. Я хочу быть с тобой. Я хочу быть с тобой. Я хочу быть с\n",
            "\n",
            "\n"
          ]
        }
      ]
    },
    {
      "cell_type": "markdown",
      "source": [
        "ввожу штраф на повторения:"
      ],
      "metadata": {
        "id": "3pujzWvrUsHk"
      },
      "id": "3pujzWvrUsHk"
    },
    {
      "cell_type": "code",
      "source": [
        "for groups in [2, 3]:\n",
        "  result = generator(prompt, num_beams=groups*2, num_beam_groups=groups,\n",
        "                     diversity_penalty=1.0, repetition_penalty=1.5)[0]['generated_text']\n",
        "  print(f'num_beams_group={groups}: {result}\\n\\n')"
      ],
      "metadata": {
        "colab": {
          "base_uri": "https://localhost:8080/"
        },
        "id": "lQwBvaMlT-1B",
        "outputId": "42ed6c92-4841-485f-a2c1-fcca5eeded65"
      },
      "id": "lQwBvaMlT-1B",
      "execution_count": null,
      "outputs": [
        {
          "output_type": "stream",
          "name": "stdout",
          "text": [
            "num_beams_group=2: завтра я хочу сделать тебе подарок.\n",
            "\n",
            "— Какой?\n",
            "\n",
            "— Я хочу, чтобы ты была\n",
            "\n",
            "\n",
            "num_beams_group=3: завтра я хочу сделать тебе подарок.\n",
            "\n",
            "— Какой?\n",
            "\n",
            "— Я хочу, чтобы ты была\n",
            "\n",
            "\n"
          ]
        }
      ]
    },
    {
      "cell_type": "markdown",
      "source": [
        "просто различные настройки:"
      ],
      "metadata": {
        "id": "ihjdgB9OWXJ5"
      },
      "id": "ihjdgB9OWXJ5"
    },
    {
      "cell_type": "code",
      "source": [
        "result = generator(\n",
        "  prompt,\n",
        "  max_new_tokens=70,\n",
        "  do_sample=False,\n",
        "  num_beams=6,\n",
        "  num_beam_groups=3,\n",
        "  diversity_penalty=1.0,\n",
        "  repetition_penalty=2.0\n",
        ")[0]['generated_text']\n",
        "\n",
        "print(result)"
      ],
      "metadata": {
        "colab": {
          "base_uri": "https://localhost:8080/"
        },
        "id": "0IbNZcL-V7XV",
        "outputId": "3942c96a-c2ad-4c5b-ffa2-7e5525bd54d7"
      },
      "id": "0IbNZcL-V7XV",
      "execution_count": null,
      "outputs": [
        {
          "output_type": "stream",
          "name": "stdout",
          "text": [
            "завтра я хочу, чтобы ты была со мной.\n",
            "\n",
            "— Я не могу, — сказала она.\n",
            "\n",
            "— Почему?\n",
            "\n",
            "— Потому что… потому что…\n",
            "\n",
            "— Что «потому что»?\n",
            "\n",
            "— Потому что у меня есть работа.\n",
            "\n",
            "— Работа?\n",
            "\n",
            "— Да.\n",
            "\n",
            "\n"
          ]
        }
      ]
    },
    {
      "cell_type": "code",
      "source": [
        "result = generator(\n",
        "  prompt,\n",
        "  max_new_tokens=100,\n",
        "  do_sample=True,\n",
        "  temperature=0.7,\n",
        "  top_k=50,\n",
        "  top_p=0.9,\n",
        "  num_beams=3,\n",
        "  repetition_penalty=1.2\n",
        ")[0]['generated_text']\n",
        "\n",
        "print(result)"
      ],
      "metadata": {
        "colab": {
          "base_uri": "https://localhost:8080/"
        },
        "id": "kRljepX7VYJQ",
        "outputId": "8d6c59bd-80d5-4e05-d23c-d4fd551cb616"
      },
      "id": "kRljepX7VYJQ",
      "execution_count": null,
      "outputs": [
        {
          "output_type": "stream",
          "name": "stdout",
          "text": [
            "завтра я хочу, чтобы ты была рядом со мной.\n",
            "\n",
            "— Я буду рядом с тобой, — пообещала она.\n",
            "\n",
            "— Я люблю тебя, — сказал он.\n",
            "\n",
            "— Я тоже люблю тебя, — сказала она.\n",
            "\n",
            "— Я люблю тебя, — сказал он.\n",
            "\n",
            "— Я люблю тебя, — сказала она.\n",
            "\n",
            "— Я люблю тебя, — сказал он.\n",
            "\n",
            "— Я люблю тебя, — сказала\n"
          ]
        }
      ]
    },
    {
      "cell_type": "markdown",
      "source": [
        "### 2."
      ],
      "metadata": {
        "id": "HRqaHuCVW1WV"
      },
      "id": "HRqaHuCVW1WV"
    },
    {
      "cell_type": "markdown",
      "id": "13659564",
      "metadata": {
        "id": "13659564"
      },
      "source": [
        "<p class=\"task\" id=\"2\"></p>\n",
        "\n",
        "2\\. Загрузите любую большую языковую модель для генерации текста на английском языке из 🤗 Transformers. Придумайте prompt, который позволит по тексту вопроса из файлов каталога `qst_eng_txt/questions` выделить именованную сущность и определить интент вопроса. Продемонстрируйте работу модели на примерах различных интентов.\n",
        "\n",
        "В случае нехватки ресурсов на машине для разворачивания языковой модели вы можете воспользоваться Inference API 🤗 Transformers.\n",
        "\n",
        "Советы по созданию промпта:\n",
        "* максимально четко опишите, что вы хотите получить на выходе;\n",
        "* можно показать в промпте несколько примеров вопросов, правильных ответов и формата ответов.\n",
        "\n",
        "- [ ] Проверено на семинаре"
      ]
    },
    {
      "cell_type": "code",
      "source": [
        "import zipfile\n",
        "import os\n",
        "\n",
        "with zipfile.ZipFile('qst_eng_txt.zip', 'r') as zip_ref:\n",
        "  zip_ref.extractall()"
      ],
      "metadata": {
        "id": "SU3PHZV2Yecf"
      },
      "id": "SU3PHZV2Yecf",
      "execution_count": null,
      "outputs": []
    },
    {
      "cell_type": "code",
      "source": [
        "import pandas as pd\n",
        "\n",
        "data = []\n",
        "dir = '/content/qst_eng_txt/questions'\n",
        "\n",
        "for filename in os.listdir(dir):\n",
        "  if filename.endswith('.csv'):\n",
        "    intent = filename.replace('.csv', '')\n",
        "\n",
        "    filepath = os.path.join(dir, filename)\n",
        "    with open(filepath, 'r', encoding='utf-8') as f:\n",
        "      first_line = f.readline()\n",
        "      questions = f.read().splitlines()\n",
        "\n",
        "    for question in questions:\n",
        "          data.append({\n",
        "              'question': question.strip(),\n",
        "              'intent': f'{intent}'\n",
        "          })\n",
        "\n",
        "df = pd.DataFrame(data)\n",
        "\n",
        "df.head()"
      ],
      "metadata": {
        "colab": {
          "base_uri": "https://localhost:8080/",
          "height": 206
        },
        "id": "2t4wuzeQskdt",
        "outputId": "fe7fec3e-312d-458a-abcd-c144e1d2c190"
      },
      "execution_count": null,
      "outputs": [
        {
          "output_type": "execute_result",
          "data": {
            "text/plain": [
              "                                         question          intent\n",
              "0          Can you name the Cameraman of Gravity?  film_cameraman\n",
              "1              Who was the cameraman for Dunkirk?  film_cameraman\n",
              "2  who operated the camera for blade runner 2049?  film_cameraman\n",
              "3    Who was the cameraman for Blade Runner 2049?  film_cameraman\n",
              "4                    mad max fury road cameraman?  film_cameraman"
            ],
            "text/html": [
              "\n",
              "  <div id=\"df-04aafc41-09fe-4518-a5a7-ccb5f1c1c91d\" class=\"colab-df-container\">\n",
              "    <div>\n",
              "<style scoped>\n",
              "    .dataframe tbody tr th:only-of-type {\n",
              "        vertical-align: middle;\n",
              "    }\n",
              "\n",
              "    .dataframe tbody tr th {\n",
              "        vertical-align: top;\n",
              "    }\n",
              "\n",
              "    .dataframe thead th {\n",
              "        text-align: right;\n",
              "    }\n",
              "</style>\n",
              "<table border=\"1\" class=\"dataframe\">\n",
              "  <thead>\n",
              "    <tr style=\"text-align: right;\">\n",
              "      <th></th>\n",
              "      <th>question</th>\n",
              "      <th>intent</th>\n",
              "    </tr>\n",
              "  </thead>\n",
              "  <tbody>\n",
              "    <tr>\n",
              "      <th>0</th>\n",
              "      <td>Can you name the Cameraman of Gravity?</td>\n",
              "      <td>film_cameraman</td>\n",
              "    </tr>\n",
              "    <tr>\n",
              "      <th>1</th>\n",
              "      <td>Who was the cameraman for Dunkirk?</td>\n",
              "      <td>film_cameraman</td>\n",
              "    </tr>\n",
              "    <tr>\n",
              "      <th>2</th>\n",
              "      <td>who operated the camera for blade runner 2049?</td>\n",
              "      <td>film_cameraman</td>\n",
              "    </tr>\n",
              "    <tr>\n",
              "      <th>3</th>\n",
              "      <td>Who was the cameraman for Blade Runner 2049?</td>\n",
              "      <td>film_cameraman</td>\n",
              "    </tr>\n",
              "    <tr>\n",
              "      <th>4</th>\n",
              "      <td>mad max fury road cameraman?</td>\n",
              "      <td>film_cameraman</td>\n",
              "    </tr>\n",
              "  </tbody>\n",
              "</table>\n",
              "</div>\n",
              "    <div class=\"colab-df-buttons\">\n",
              "\n",
              "  <div class=\"colab-df-container\">\n",
              "    <button class=\"colab-df-convert\" onclick=\"convertToInteractive('df-04aafc41-09fe-4518-a5a7-ccb5f1c1c91d')\"\n",
              "            title=\"Convert this dataframe to an interactive table.\"\n",
              "            style=\"display:none;\">\n",
              "\n",
              "  <svg xmlns=\"http://www.w3.org/2000/svg\" height=\"24px\" viewBox=\"0 -960 960 960\">\n",
              "    <path d=\"M120-120v-720h720v720H120Zm60-500h600v-160H180v160Zm220 220h160v-160H400v160Zm0 220h160v-160H400v160ZM180-400h160v-160H180v160Zm440 0h160v-160H620v160ZM180-180h160v-160H180v160Zm440 0h160v-160H620v160Z\"/>\n",
              "  </svg>\n",
              "    </button>\n",
              "\n",
              "  <style>\n",
              "    .colab-df-container {\n",
              "      display:flex;\n",
              "      gap: 12px;\n",
              "    }\n",
              "\n",
              "    .colab-df-convert {\n",
              "      background-color: #E8F0FE;\n",
              "      border: none;\n",
              "      border-radius: 50%;\n",
              "      cursor: pointer;\n",
              "      display: none;\n",
              "      fill: #1967D2;\n",
              "      height: 32px;\n",
              "      padding: 0 0 0 0;\n",
              "      width: 32px;\n",
              "    }\n",
              "\n",
              "    .colab-df-convert:hover {\n",
              "      background-color: #E2EBFA;\n",
              "      box-shadow: 0px 1px 2px rgba(60, 64, 67, 0.3), 0px 1px 3px 1px rgba(60, 64, 67, 0.15);\n",
              "      fill: #174EA6;\n",
              "    }\n",
              "\n",
              "    .colab-df-buttons div {\n",
              "      margin-bottom: 4px;\n",
              "    }\n",
              "\n",
              "    [theme=dark] .colab-df-convert {\n",
              "      background-color: #3B4455;\n",
              "      fill: #D2E3FC;\n",
              "    }\n",
              "\n",
              "    [theme=dark] .colab-df-convert:hover {\n",
              "      background-color: #434B5C;\n",
              "      box-shadow: 0px 1px 3px 1px rgba(0, 0, 0, 0.15);\n",
              "      filter: drop-shadow(0px 1px 2px rgba(0, 0, 0, 0.3));\n",
              "      fill: #FFFFFF;\n",
              "    }\n",
              "  </style>\n",
              "\n",
              "    <script>\n",
              "      const buttonEl =\n",
              "        document.querySelector('#df-04aafc41-09fe-4518-a5a7-ccb5f1c1c91d button.colab-df-convert');\n",
              "      buttonEl.style.display =\n",
              "        google.colab.kernel.accessAllowed ? 'block' : 'none';\n",
              "\n",
              "      async function convertToInteractive(key) {\n",
              "        const element = document.querySelector('#df-04aafc41-09fe-4518-a5a7-ccb5f1c1c91d');\n",
              "        const dataTable =\n",
              "          await google.colab.kernel.invokeFunction('convertToInteractive',\n",
              "                                                    [key], {});\n",
              "        if (!dataTable) return;\n",
              "\n",
              "        const docLinkHtml = 'Like what you see? Visit the ' +\n",
              "          '<a target=\"_blank\" href=https://colab.research.google.com/notebooks/data_table.ipynb>data table notebook</a>'\n",
              "          + ' to learn more about interactive tables.';\n",
              "        element.innerHTML = '';\n",
              "        dataTable['output_type'] = 'display_data';\n",
              "        await google.colab.output.renderOutput(dataTable, element);\n",
              "        const docLink = document.createElement('div');\n",
              "        docLink.innerHTML = docLinkHtml;\n",
              "        element.appendChild(docLink);\n",
              "      }\n",
              "    </script>\n",
              "  </div>\n",
              "\n",
              "\n",
              "    <div id=\"df-1950ba94-c7cc-4710-81fb-6ca5516059e3\">\n",
              "      <button class=\"colab-df-quickchart\" onclick=\"quickchart('df-1950ba94-c7cc-4710-81fb-6ca5516059e3')\"\n",
              "                title=\"Suggest charts\"\n",
              "                style=\"display:none;\">\n",
              "\n",
              "<svg xmlns=\"http://www.w3.org/2000/svg\" height=\"24px\"viewBox=\"0 0 24 24\"\n",
              "     width=\"24px\">\n",
              "    <g>\n",
              "        <path d=\"M19 3H5c-1.1 0-2 .9-2 2v14c0 1.1.9 2 2 2h14c1.1 0 2-.9 2-2V5c0-1.1-.9-2-2-2zM9 17H7v-7h2v7zm4 0h-2V7h2v10zm4 0h-2v-4h2v4z\"/>\n",
              "    </g>\n",
              "</svg>\n",
              "      </button>\n",
              "\n",
              "<style>\n",
              "  .colab-df-quickchart {\n",
              "      --bg-color: #E8F0FE;\n",
              "      --fill-color: #1967D2;\n",
              "      --hover-bg-color: #E2EBFA;\n",
              "      --hover-fill-color: #174EA6;\n",
              "      --disabled-fill-color: #AAA;\n",
              "      --disabled-bg-color: #DDD;\n",
              "  }\n",
              "\n",
              "  [theme=dark] .colab-df-quickchart {\n",
              "      --bg-color: #3B4455;\n",
              "      --fill-color: #D2E3FC;\n",
              "      --hover-bg-color: #434B5C;\n",
              "      --hover-fill-color: #FFFFFF;\n",
              "      --disabled-bg-color: #3B4455;\n",
              "      --disabled-fill-color: #666;\n",
              "  }\n",
              "\n",
              "  .colab-df-quickchart {\n",
              "    background-color: var(--bg-color);\n",
              "    border: none;\n",
              "    border-radius: 50%;\n",
              "    cursor: pointer;\n",
              "    display: none;\n",
              "    fill: var(--fill-color);\n",
              "    height: 32px;\n",
              "    padding: 0;\n",
              "    width: 32px;\n",
              "  }\n",
              "\n",
              "  .colab-df-quickchart:hover {\n",
              "    background-color: var(--hover-bg-color);\n",
              "    box-shadow: 0 1px 2px rgba(60, 64, 67, 0.3), 0 1px 3px 1px rgba(60, 64, 67, 0.15);\n",
              "    fill: var(--button-hover-fill-color);\n",
              "  }\n",
              "\n",
              "  .colab-df-quickchart-complete:disabled,\n",
              "  .colab-df-quickchart-complete:disabled:hover {\n",
              "    background-color: var(--disabled-bg-color);\n",
              "    fill: var(--disabled-fill-color);\n",
              "    box-shadow: none;\n",
              "  }\n",
              "\n",
              "  .colab-df-spinner {\n",
              "    border: 2px solid var(--fill-color);\n",
              "    border-color: transparent;\n",
              "    border-bottom-color: var(--fill-color);\n",
              "    animation:\n",
              "      spin 1s steps(1) infinite;\n",
              "  }\n",
              "\n",
              "  @keyframes spin {\n",
              "    0% {\n",
              "      border-color: transparent;\n",
              "      border-bottom-color: var(--fill-color);\n",
              "      border-left-color: var(--fill-color);\n",
              "    }\n",
              "    20% {\n",
              "      border-color: transparent;\n",
              "      border-left-color: var(--fill-color);\n",
              "      border-top-color: var(--fill-color);\n",
              "    }\n",
              "    30% {\n",
              "      border-color: transparent;\n",
              "      border-left-color: var(--fill-color);\n",
              "      border-top-color: var(--fill-color);\n",
              "      border-right-color: var(--fill-color);\n",
              "    }\n",
              "    40% {\n",
              "      border-color: transparent;\n",
              "      border-right-color: var(--fill-color);\n",
              "      border-top-color: var(--fill-color);\n",
              "    }\n",
              "    60% {\n",
              "      border-color: transparent;\n",
              "      border-right-color: var(--fill-color);\n",
              "    }\n",
              "    80% {\n",
              "      border-color: transparent;\n",
              "      border-right-color: var(--fill-color);\n",
              "      border-bottom-color: var(--fill-color);\n",
              "    }\n",
              "    90% {\n",
              "      border-color: transparent;\n",
              "      border-bottom-color: var(--fill-color);\n",
              "    }\n",
              "  }\n",
              "</style>\n",
              "\n",
              "      <script>\n",
              "        async function quickchart(key) {\n",
              "          const quickchartButtonEl =\n",
              "            document.querySelector('#' + key + ' button');\n",
              "          quickchartButtonEl.disabled = true;  // To prevent multiple clicks.\n",
              "          quickchartButtonEl.classList.add('colab-df-spinner');\n",
              "          try {\n",
              "            const charts = await google.colab.kernel.invokeFunction(\n",
              "                'suggestCharts', [key], {});\n",
              "          } catch (error) {\n",
              "            console.error('Error during call to suggestCharts:', error);\n",
              "          }\n",
              "          quickchartButtonEl.classList.remove('colab-df-spinner');\n",
              "          quickchartButtonEl.classList.add('colab-df-quickchart-complete');\n",
              "        }\n",
              "        (() => {\n",
              "          let quickchartButtonEl =\n",
              "            document.querySelector('#df-1950ba94-c7cc-4710-81fb-6ca5516059e3 button');\n",
              "          quickchartButtonEl.style.display =\n",
              "            google.colab.kernel.accessAllowed ? 'block' : 'none';\n",
              "        })();\n",
              "      </script>\n",
              "    </div>\n",
              "    </div>\n",
              "  </div>\n"
            ],
            "application/vnd.google.colaboratory.intrinsic+json": {
              "type": "dataframe",
              "variable_name": "df",
              "summary": "{\n  \"name\": \"df\",\n  \"rows\": 82,\n  \"fields\": [\n    {\n      \"column\": \"question\",\n      \"properties\": {\n        \"dtype\": \"string\",\n        \"num_unique_values\": 79,\n        \"samples\": [\n          \"\\\"who portrayed the lead roles in \\\"\\\"inception\\\"\\\"?\\\"\",\n          \"Can you name the Cameraman of Gravity?\",\n          \"List cameramen Dunkirk.\"\n        ],\n        \"semantic_type\": \"\",\n        \"description\": \"\"\n      }\n    },\n    {\n      \"column\": \"intent\",\n      \"properties\": {\n        \"dtype\": \"category\",\n        \"num_unique_values\": 3,\n        \"samples\": [\n          \"film_cameraman\",\n          \"film_actors\",\n          \"film_director\"\n        ],\n        \"semantic_type\": \"\",\n        \"description\": \"\"\n      }\n    }\n  ]\n}"
            }
          },
          "metadata": {},
          "execution_count": 10
        }
      ],
      "id": "2t4wuzeQskdt"
    },
    {
      "cell_type": "code",
      "source": [
        "df['intent'].unique()"
      ],
      "metadata": {
        "colab": {
          "base_uri": "https://localhost:8080/"
        },
        "id": "Uhm_S3WNqKCa",
        "outputId": "a4874edd-a3de-4b94-8e83-3bc2027efbb2"
      },
      "id": "Uhm_S3WNqKCa",
      "execution_count": null,
      "outputs": [
        {
          "output_type": "execute_result",
          "data": {
            "text/plain": [
              "array(['film_cameraman', 'film_actors', 'film_director'], dtype=object)"
            ]
          },
          "metadata": {},
          "execution_count": 11
        }
      ]
    },
    {
      "cell_type": "code",
      "source": [
        "from transformers import pipeline, AutoTokenizer\n",
        "import pandas as pd\n",
        "\n",
        "tokenizer = AutoTokenizer.from_pretrained(\"gpt2\")\n",
        "generator = pipeline(\"text-generation\", model=\"gpt2\", tokenizer=tokenizer,\n",
        "                     pad_token_id=tokenizer.eos_token_id)"
      ],
      "metadata": {
        "colab": {
          "base_uri": "https://localhost:8080/"
        },
        "id": "yKhpOO5NW3wg",
        "outputId": "65b7ca80-1d48-4aeb-e193-74c6f2940a5c"
      },
      "id": "yKhpOO5NW3wg",
      "execution_count": null,
      "outputs": [
        {
          "output_type": "stream",
          "name": "stderr",
          "text": [
            "Device set to use cuda:0\n"
          ]
        }
      ]
    },
    {
      "cell_type": "code",
      "source": [
        "prompt = \"\"\"\n",
        "Analyze question and extract:\n",
        "1. Main entity (object/person being asked about)\n",
        "2. Question Intent (must be one of: film_director, film_actors, film_cameraman)\n",
        "\n",
        "Return ONLY in this format:\n",
        "Entity: [extracted entity]\n",
        "Intent: [detected intent]\n",
        "\n",
        "Examples:\n",
        "Question: Who directed The Dark Knight?\n",
        "Entity: The Dark Knight\n",
        "Intent: film_director\n",
        "\n",
        "Question: Name actors in The Matrix\n",
        "Entity: The Matrix\n",
        "Intent: film_actors\n",
        "\n",
        "Question: Who directed Inception?\n",
        "Entity: Inception\n",
        "Intent: film_director\n",
        "\n",
        "Now analyze this question:\n",
        "Question: {question}\n",
        "\"\"\""
      ],
      "metadata": {
        "id": "MLJ_I7qXqk7T"
      },
      "id": "MLJ_I7qXqk7T",
      "execution_count": null,
      "outputs": []
    },
    {
      "cell_type": "code",
      "source": [
        "def analyze_question(question):\n",
        "  filled_prompt = prompt.format(question=question)\n",
        "\n",
        "  result = generator(filled_prompt, max_new_tokens=30, do_sample=True,\n",
        "                     temperature = 0.5, num_return_sequences=1, stop_sequence='\\n\\n')[0]['generated_text']\n",
        "\n",
        "  return result\n",
        "\n",
        "def parse_answer(answer):\n",
        "  entity = None\n",
        "  intent = None\n",
        "\n",
        "  for line in answer.split('\\n'):\n",
        "    if line.startswith('Entity:'):\n",
        "      entity = line.replace('Entity:', '').strip()\n",
        "    elif line.startswith('Intent:'):\n",
        "      intent = line.replace('Intent:', '').strip()\n",
        "\n",
        "  return entity, intent"
      ],
      "metadata": {
        "id": "n5-t6-SOvU0C"
      },
      "id": "n5-t6-SOvU0C",
      "execution_count": null,
      "outputs": []
    },
    {
      "cell_type": "code",
      "source": [
        "for idx, row in df.sample(5).iterrows():\n",
        "  print(f\"question: {row['question']}\")\n",
        "  print(f\"true intent: {row['intent']}\")\n",
        "\n",
        "  answer = analyze_question(row['question'])\n",
        "  entity, intent = parse_answer(answer)\n",
        "\n",
        "  print(f\"extracted entity: {entity}\")\n",
        "  print(f\"predicted intent: {intent}\")\n",
        "  print('-'*30 + '\\n\\n')"
      ],
      "metadata": {
        "colab": {
          "base_uri": "https://localhost:8080/"
        },
        "id": "p3kxNeXbvUvg",
        "outputId": "6ebabf3c-2096-4da1-fd9f-f82f414c3162"
      },
      "id": "p3kxNeXbvUvg",
      "execution_count": null,
      "outputs": [
        {
          "output_type": "stream",
          "name": "stdout",
          "text": [
            "question: dark knight director?\n",
            "true intent: film_director\n",
            "extracted entity: Dark Knight\n",
            "predicted intent: film_director\n",
            "------------------------------\n",
            "\n",
            "\n",
            "question: Who directed Inception?\n",
            "true intent: film_director\n",
            "extracted entity: The Matrix\n",
            "predicted intent: film_director\n",
            "------------------------------\n",
            "\n",
            "\n",
            "question: Who was the cameraman for Mad Max\n",
            "true intent: film_cameraman\n",
            "extracted entity: Avengers\n",
            "predicted intent: film_actors\n",
            "------------------------------\n",
            "\n",
            "\n",
            "question: godfather director?\n",
            "true intent: film_director\n",
            "extracted entity: Godfather director\n",
            "predicted intent: film_actors\n",
            "------------------------------\n",
            "\n",
            "\n",
            "question: \"Who were the main actors in \"\"The Dark Knight\"\"?\"\n",
            "true intent: film_actors\n",
            "extracted entity: The Dark Knight\n",
            "predicted intent: film_director\n",
            "------------------------------\n",
            "\n",
            "\n"
          ]
        }
      ]
    },
    {
      "cell_type": "markdown",
      "source": [
        "### 3."
      ],
      "metadata": {
        "id": "a7D0MFaWayeF"
      },
      "id": "a7D0MFaWayeF"
    },
    {
      "cell_type": "markdown",
      "id": "87ce97f2",
      "metadata": {
        "id": "87ce97f2"
      },
      "source": [
        "<p class=\"task\" id=\"3\"></p>\n",
        "\n",
        "3\\. Создайте словарь `db` следующего вида:\n",
        "```\n",
        "{\n",
        "    \"film_director\": {\n",
        "        \"The Shawshank Redemption\": \"Frank Darabont\",\n",
        "        ...\n",
        "    },\n",
        "    ...\n",
        "}\n",
        "```\n",
        "\n",
        "Напишите функции `parse_llm_result` и `find_answer`. Продемонстрируйте работоспособность на нескольких примерах.\n",
        "\n",
        "\n",
        "- [ ] Проверено на семинаре"
      ]
    },
    {
      "cell_type": "code",
      "source": [
        "import os\n",
        "import pandas as pd\n",
        "\n",
        "def create_db(data_dir):\n",
        "  db = {\n",
        "      \"film_director\": {},\n",
        "      \"film_cameraman\": {},\n",
        "      \"film_actors\": {},\n",
        "    }\n",
        "\n",
        "  for intent in db.keys():\n",
        "    filepath = os.path.join(data_dir, 'answers', f'{intent}.csv')\n",
        "    if os.path.exists(filepath):\n",
        "      df = pd.read_csv(filepath, header=None, skiprows=1, names=['entity', 'answer'])\n",
        "      for _, row in df.iterrows():\n",
        "        film = row['entity'].strip()\n",
        "        answer = row['answer'].strip()\n",
        "        db[intent][film] = answer\n",
        "\n",
        "  return db\n",
        "\n",
        "db = create_db('/content/qst_eng_txt')\n",
        "db"
      ],
      "metadata": {
        "id": "B5WzBoc-y5XO",
        "colab": {
          "base_uri": "https://localhost:8080/"
        },
        "outputId": "79fcad3e-e73c-4ad7-f5e0-61c811be3705"
      },
      "id": "B5WzBoc-y5XO",
      "execution_count": null,
      "outputs": [
        {
          "output_type": "execute_result",
          "data": {
            "text/plain": [
              "{'film_director': {'The Shawshank Redemption': 'Frank Darabont.',\n",
              "  'Inception': 'Christopher Nolan.',\n",
              "  'The Godfather': 'Francis Ford Coppola.',\n",
              "  'The Dark Knight': 'Christopher Nolan.',\n",
              "  'Forrest Gump': 'Robert Zemeckis.'},\n",
              " 'film_cameraman': {'The Revenant': 'Emmanuel Lubezki.',\n",
              "  'Mad Max': 'John Seale.',\n",
              "  'Blade Runner 2049': 'Roger Deakins.',\n",
              "  'La La Land': 'Linus Sandgren.',\n",
              "  'Dunkirk': 'Hoyte van Hoytema.',\n",
              "  'Gravity': 'Emmanuel Lubezki.'},\n",
              " 'film_actors': {'The Matrix': 'Keanu Reeves, Laurence Fishburne, Carrie-Anne Moss, and others.',\n",
              "  'The Dark Knight': 'Christian Bale and Heath Ledger.',\n",
              "  'Pulp Fiction': 'John Travolta, Uma Thurman, and Samuel L. Jackson.',\n",
              "  'Inception': 'Leonardo DiCaprio, Joseph Gordon-Levitt, Ellen Page, and others.',\n",
              "  'Forrest Gump': 'Tom Hanks, Robin Wright, Gary Sinise, and others.'}}"
            ]
          },
          "metadata": {},
          "execution_count": 12
        }
      ]
    },
    {
      "cell_type": "code",
      "source": [
        "!pip install thefuzz"
      ],
      "metadata": {
        "colab": {
          "base_uri": "https://localhost:8080/"
        },
        "id": "MJTMER0OAHPl",
        "outputId": "b064c20f-7e61-4f34-c370-257d1503c86e"
      },
      "id": "MJTMER0OAHPl",
      "execution_count": null,
      "outputs": [
        {
          "output_type": "stream",
          "name": "stdout",
          "text": [
            "Collecting thefuzz\n",
            "  Downloading thefuzz-0.22.1-py3-none-any.whl.metadata (3.9 kB)\n",
            "Collecting rapidfuzz<4.0.0,>=3.0.0 (from thefuzz)\n",
            "  Downloading rapidfuzz-3.13.0-cp311-cp311-manylinux_2_17_x86_64.manylinux2014_x86_64.whl.metadata (12 kB)\n",
            "Downloading thefuzz-0.22.1-py3-none-any.whl (8.2 kB)\n",
            "Downloading rapidfuzz-3.13.0-cp311-cp311-manylinux_2_17_x86_64.manylinux2014_x86_64.whl (3.1 MB)\n",
            "\u001b[2K   \u001b[90m━━━━━━━━━━━━━━━━━━━━━━━━━━━━━━━━━━━━━━━━\u001b[0m \u001b[32m3.1/3.1 MB\u001b[0m \u001b[31m46.3 MB/s\u001b[0m eta \u001b[36m0:00:00\u001b[0m\n",
            "\u001b[?25hInstalling collected packages: rapidfuzz, thefuzz\n",
            "Successfully installed rapidfuzz-3.13.0 thefuzz-0.22.1\n"
          ]
        }
      ]
    },
    {
      "cell_type": "code",
      "execution_count": null,
      "id": "dd1009f2",
      "metadata": {
        "id": "dd1009f2"
      },
      "outputs": [],
      "source": [
        "def parse_llm_result(result: str) -> tuple[str, str]:\n",
        "    \"\"\"Возвращает интент и название сущности из ответа LLM\"\"\"\n",
        "    pass"
      ]
    },
    {
      "cell_type": "code",
      "execution_count": null,
      "id": "1e9b92a3",
      "metadata": {
        "id": "1e9b92a3"
      },
      "outputs": [],
      "source": [
        "def find_answer(entity: str, intent: str, db: dict) -> tuple[str, int]:\n",
        "    \"\"\"entity и intent - результат работы parse_llm_result\n",
        "    Для поиска ключа в словаре db[intent] воспользуйтесь методом process.extractOne из пакета thefuzz\n",
        "    \"\"\"\n",
        "    pass"
      ]
    },
    {
      "cell_type": "code",
      "source": [
        "from transformers import pipeline, AutoTokenizer\n",
        "import pandas as pd\n",
        "\n",
        "tokenizer = AutoTokenizer.from_pretrained(\"gpt2\")\n",
        "generator = pipeline(\"text-generation\", model=\"gpt2\", tokenizer=tokenizer,\n",
        "                     pad_token_id=tokenizer.eos_token_id)"
      ],
      "metadata": {
        "colab": {
          "base_uri": "https://localhost:8080/"
        },
        "outputId": "e8bd12a8-5997-4c9e-aa23-b37f7620ce52",
        "id": "PYeEgUmwIK4j"
      },
      "execution_count": null,
      "outputs": [
        {
          "output_type": "stream",
          "name": "stderr",
          "text": [
            "Device set to use cuda:0\n"
          ]
        }
      ],
      "id": "PYeEgUmwIK4j"
    },
    {
      "cell_type": "code",
      "source": [
        "prompt = \"\"\"\n",
        "Analyze question and extract:\n",
        "1. Main entity (object/person being asked about)\n",
        "2. Question Intent (must be one of: film_director, film_actors, film_cameraman)\n",
        "\n",
        "Return ONLY in this format:\n",
        "Entity: [extracted entity]\n",
        "Intent: [detected intent]\n",
        "\n",
        "Examples:\n",
        "Question: Who directed The Dark Knight?\n",
        "Entity: The Dark Knight\n",
        "Intent: film_director\n",
        "\n",
        "Question: Name actors in The Matrix\n",
        "Entity: The Matrix\n",
        "Intent: film_actors\n",
        "\n",
        "Question: Who directed Inception?\n",
        "Entity: Inception\n",
        "Intent: film_director\n",
        "\n",
        "Now analyze this question:\n",
        "Question: {question}\n",
        "\"\"\""
      ],
      "metadata": {
        "id": "Wf0Wt6kRIK4j"
      },
      "execution_count": null,
      "outputs": [],
      "id": "Wf0Wt6kRIK4j"
    },
    {
      "cell_type": "code",
      "source": [
        "def parse_llm_result(result: str) -> tuple[str, str]:\n",
        "    \"\"\"Возвращает интент и название сущности из ответа LLM\"\"\"\n",
        "    entity_match = re.search(r\"Entity:\\s*(.*)\", result)\n",
        "    intent_match = re.search(r\"Intent:\\s*(film_director|film_actors|film_cameraman)\", result, re.IGNORECASE)\n",
        "\n",
        "    entity = entity_match.group(1).strip() if entity_match else None\n",
        "    intent = intent_match.group(1).lower() if intent_match else None\n",
        "\n",
        "    return entity, intent\n",
        "\n",
        "def find_answer(entity: str, intent: str, db: dict) -> tuple[str, int]:\n",
        "    \"\"\"entity и intent - результат работы parse_llm_result\n",
        "    Для поиска ключа в словаре db[intent] воспользуйтесь методом process.extractOne из пакета thefuzz\n",
        "    \"\"\"\n",
        "\n",
        "    best_match = process.extractOne(entity, db[intent].keys())\n",
        "\n",
        "    return db[intent][best_match[0]], best_match[1]"
      ],
      "metadata": {
        "id": "Lu1UuRwXUbu4"
      },
      "id": "Lu1UuRwXUbu4",
      "execution_count": null,
      "outputs": []
    },
    {
      "cell_type": "code",
      "source": [
        "for question in list(df.sample(5)['question']):\n",
        "  print(f\"\\nQuestion: {question}\")\n",
        "\n",
        "  prompt_filled = prompt.format(question=question)\n",
        "\n",
        "  result = generator(prompt_filled, max_new_tokens=30, do_sample=False, temperature=0.1,\n",
        "                     num_return_sequences=1, pad_token_id=tokenizer.eos_token_id)[0]['generated_text']\n",
        "\n",
        "  answer = result.replace(prompt_filled, \"\").strip() # без промпта\n",
        "  #print('-'*30)\n",
        "  #print(f\"Model answer:\\n{answer}\")\n",
        "  #print('-'*30)\n",
        "\n",
        "  entity, intent = parse_llm_result(answer)\n",
        "\n",
        "  print(f\"Parsed entity: {entity}\")\n",
        "  print(f\"Parsed intent: {intent}\")\n",
        "\n",
        "  if entity and intent:\n",
        "    answer, score = find_answer(entity, intent, db)\n",
        "\n",
        "    print(f\"Answer: {answer} (score: {score})\")\n",
        "\n",
        "  print('='*50)"
      ],
      "metadata": {
        "colab": {
          "base_uri": "https://localhost:8080/"
        },
        "id": "oXmMYAApUbse",
        "outputId": "5d95e517-4fab-4035-bdeb-26f06938bf5f"
      },
      "id": "oXmMYAApUbse",
      "execution_count": null,
      "outputs": [
        {
          "output_type": "stream",
          "name": "stdout",
          "text": [
            "\n",
            "Question: Who was the cameraman for Gravity?\n",
            "Parsed entity: Gravity\n",
            "Parsed intent: film_actors\n",
            "Answer: Christian Bale and Heath Ledger. (score: 36)\n",
            "==================================================\n",
            "\n",
            "Question: Who directed Inception?\n",
            "Parsed entity: Inception\n",
            "Parsed intent: film_actors\n",
            "Answer: Leonardo DiCaprio, Joseph Gordon-Levitt, Ellen Page, and others. (score: 100)\n",
            "==================================================\n",
            "\n",
            "Question: who was the director of shawshank redemption?\n",
            "Parsed entity: The Dark Knight\n",
            "Parsed intent: film_actors\n",
            "Answer: Christian Bale and Heath Ledger. (score: 100)\n",
            "==================================================\n",
            "\n",
            "Question: who was the director of forrest gump?\n",
            "Parsed entity: Forrest Gump\n",
            "Parsed intent: film_actors\n",
            "Answer: Tom Hanks, Robin Wright, Gary Sinise, and others. (score: 100)\n",
            "==================================================\n",
            "\n",
            "Question: Can you name the Main Actors of The Matrix?\n",
            "Parsed entity: The Matrix\n",
            "Parsed intent: film_actors\n",
            "Answer: Keanu Reeves, Laurence Fishburne, Carrie-Anne Moss, and others. (score: 100)\n",
            "==================================================\n"
          ]
        }
      ]
    },
    {
      "cell_type": "code",
      "source": [
        "list(df.sample(5)['question'])"
      ],
      "metadata": {
        "colab": {
          "base_uri": "https://localhost:8080/"
        },
        "id": "QkHe1g_SVgFr",
        "outputId": "99e76847-85ec-4a2f-d08d-eb8cded01b37"
      },
      "id": "QkHe1g_SVgFr",
      "execution_count": null,
      "outputs": [
        {
          "output_type": "execute_result",
          "data": {
            "text/plain": [
              "['Who played the main actors in Forrest Gump?',\n",
              " 'list actors inception main.',\n",
              " 'Who directed Inception?',\n",
              " 'revenant cameraman?',\n",
              " 'Who were the main actors in pulp fiction?']"
            ]
          },
          "metadata": {},
          "execution_count": 32
        }
      ]
    },
    {
      "cell_type": "code",
      "source": [
        "for idx, row in df.sample(5).iterrows():\n",
        "  print(f\"question: {row['question']}\")\n",
        "  print(f\"true intent: {row['intent']}\")\n",
        "\n",
        "  answer = analyze_question(row['question'])\n",
        "  entity, intent = parse_answer(answer)\n",
        "\n",
        "  print(f\"extracted entity: {entity}\")\n",
        "  print(f\"predicted intent: {intent}\")\n",
        "  print('-'*30 + '\\n\\n')"
      ],
      "metadata": {
        "id": "EAIs-0LUUbqN"
      },
      "id": "EAIs-0LUUbqN",
      "execution_count": null,
      "outputs": []
    },
    {
      "cell_type": "markdown",
      "source": [
        "### 4."
      ],
      "metadata": {
        "id": "zo-UtVyja2Af"
      },
      "id": "zo-UtVyja2Af"
    },
    {
      "cell_type": "markdown",
      "id": "1ede29a4",
      "metadata": {
        "id": "1ede29a4"
      },
      "source": [
        "<p class=\"task\" id=\"4\"></p>\n",
        "\n",
        "4\\. Реализуйте функцию для ведения диалога с LLM по следующему принципу.\n",
        "\n",
        "Вам дан начальный контекст диалога `context`.\n",
        "\n",
        "```\n",
        "Some context\n",
        "```\n",
        "\n",
        "Вы придумываете сообщение и расширяете строку с контекстом:\n",
        "```\n",
        "Some context\n",
        "\n",
        "User: some message\n",
        "```\n",
        "\n",
        "Далее вы передаете полученную строку в LLM и расширяете контекст на основе ответа, сгенерированного моделью:\n",
        "\n",
        "```\n",
        "Some context\n",
        "\n",
        "User: some message\n",
        "\n",
        "AI: some answer\n",
        "```\n",
        "\n",
        "Обменяйтесь с языковой моделью несколькими репликами в таком стиле и покажите, что у языковой модели получается извлекать информацию из накопленного контекста.\n",
        "- [ ] Проверено на семинаре"
      ]
    },
    {
      "cell_type": "code",
      "execution_count": null,
      "id": "1fac86a3",
      "metadata": {
        "id": "1fac86a3"
      },
      "outputs": [],
      "source": [
        "context = \"\"\"\n",
        "AI love machine learning and remembers a lot of information about it. He will be happy to help you to take the upcoming exam. The user will interact with the AI, the AI must give an answer and wait for the next replica of the person. AI does not generate replica for a human.\n",
        "\n",
        "\"\"\""
      ]
    },
    {
      "cell_type": "code",
      "source": [
        "from transformers import pipeline, AutoTokenizer, AutoModelForCausalLM\n",
        "\n",
        "model_name = \"Qwen/Qwen3-0.6B\"\n",
        "tokenizer = AutoTokenizer.from_pretrained(model_name)\n",
        "model = AutoModelForCausalLM.from_pretrained(model_name, device_map=\"auto\", torch_dtype=\"auto\")\n",
        "\n",
        "generator = pipeline(\"text-generation\", model=model, tokenizer=tokenizer)\n",
        "\n",
        "def chat(context: str, user_input: str, max_new_tokens: int = 100) -> str:\n",
        "  context += f\"\\nUser: {user_input}\\nAI:\"\n",
        "  response = generator(context, max_new_tokens=max_new_tokens, do_sample=False)[0]['generated_text']\n",
        "  new_response = response[len(context):].split(\"User:\")[0].strip()\n",
        "  context += f\" {new_response}\"\n",
        "\n",
        "  return context"
      ],
      "metadata": {
        "colab": {
          "base_uri": "https://localhost:8080/"
        },
        "id": "jjwMWg6DX1Cb",
        "outputId": "0214ae5a-b5a7-4810-a3b6-0d03cf8d6e67"
      },
      "id": "jjwMWg6DX1Cb",
      "execution_count": null,
      "outputs": [
        {
          "output_type": "stream",
          "name": "stderr",
          "text": [
            "Device set to use cuda:0\n"
          ]
        }
      ]
    },
    {
      "cell_type": "code",
      "source": [
        "context = chat(context, \"Hi! Can you help me prepare for the exam?\")\n",
        "print(context)\n",
        "\n",
        "context = chat(context, \"What is the difference between supervised and unsupervised learning?\")\n",
        "print(context)\n",
        "\n",
        "context = chat(context, \"What algorithm would you recommend for classification?\")\n",
        "print(context)"
      ],
      "metadata": {
        "colab": {
          "base_uri": "https://localhost:8080/"
        },
        "id": "HFcn1CjLX4pb",
        "outputId": "0e46ba73-fba4-4bb9-eeeb-f7d9a78415bc"
      },
      "id": "HFcn1CjLX4pb",
      "execution_count": null,
      "outputs": [
        {
          "output_type": "stream",
          "name": "stderr",
          "text": [
            "/usr/local/lib/python3.11/dist-packages/transformers/generation/configuration_utils.py:631: UserWarning: `do_sample` is set to `False`. However, `temperature` is set to `0.6` -- this flag is only used in sample-based generation modes. You should set `do_sample=True` or unset `temperature`.\n",
            "  warnings.warn(\n",
            "/usr/local/lib/python3.11/dist-packages/transformers/generation/configuration_utils.py:636: UserWarning: `do_sample` is set to `False`. However, `top_p` is set to `0.95` -- this flag is only used in sample-based generation modes. You should set `do_sample=True` or unset `top_p`.\n",
            "  warnings.warn(\n",
            "/usr/local/lib/python3.11/dist-packages/transformers/generation/configuration_utils.py:653: UserWarning: `do_sample` is set to `False`. However, `top_k` is set to `20` -- this flag is only used in sample-based generation modes. You should set `do_sample=True` or unset `top_k`.\n",
            "  warnings.warn(\n"
          ]
        },
        {
          "output_type": "stream",
          "name": "stdout",
          "text": [
            "\n",
            "AI loves machine learning and remembers a lot of information about it. He will be happy to help you to take the upcoming exam. The user will interact with the AI, the AI must give an answer and wait for the next replica of the person. AI does not generate replica for a human.\n",
            "\n",
            "User: Hi! Can you help me prepare for the exam?\n",
            "AI: Of course! I'm here to help you prepare for the exam. What would you like to prepare for?\n",
            "\n",
            "AI loves machine learning and remembers a lot of information about it. He will be happy to help you to take the upcoming exam. The user will interact with the AI, the AI must give an answer and wait for the next replica of the person. AI does not generate replica for a human.\n",
            "\n",
            "User: Hi! Can you help me prepare for the exam?\n",
            "AI: Of course! I'm here to help you prepare for the exam. What would you like to prepare for?\n",
            "User: What is the difference between supervised and unsupervised learning?\n",
            "AI: Supervised learning is when the model is trained on a dataset that contains both input and output features. Unsupervised learning is when the model is trained on a dataset that contains only input features. Please let me know if you have any questions.\n",
            "\n",
            "AI loves machine learning and remembers a lot of information about it. He will be happy to help you to take the upcoming exam. The user will interact with the AI, the AI must give an answer and wait for the next replica of the person. AI does not generate replica for a human.\n",
            "\n",
            "User: Hi! Can you help me prepare for the exam?\n",
            "AI: Of course! I'm here to help you prepare for the exam. What would you like to prepare for?\n",
            "User: What is the difference between supervised and unsupervised learning?\n",
            "AI: Supervised learning is when the model is trained on a dataset that contains both input and output features. Unsupervised learning is when the model is trained on a dataset that contains only input features. Please let me know if you have any questions.\n",
            "User: What algorithm would you recommend for classification?\n",
            "AI: I recommend using a decision tree or a random forest for classification. These algorithms are effective for handling both numerical and categorical data.\n"
          ]
        }
      ]
    },
    {
      "cell_type": "code",
      "source": [],
      "metadata": {
        "id": "0YLJL9MeYhEs"
      },
      "id": "0YLJL9MeYhEs",
      "execution_count": null,
      "outputs": []
    }
  ],
  "metadata": {
    "kernelspec": {
      "display_name": "Python 3",
      "name": "python3"
    },
    "language_info": {
      "codemirror_mode": {
        "name": "ipython",
        "version": 3
      },
      "file_extension": ".py",
      "mimetype": "text/x-python",
      "name": "python",
      "nbconvert_exporter": "python",
      "pygments_lexer": "ipython3",
      "version": "3.11.5"
    },
    "colab": {
      "provenance": [],
      "gpuType": "T4",
      "toc_visible": true
    },
    "accelerator": "GPU",
    "widgets": {
      "application/vnd.jupyter.widget-state+json": {
        "c59c28fe4dec4b18a660303c5672884e": {
          "model_module": "@jupyter-widgets/controls",
          "model_name": "HBoxModel",
          "model_module_version": "1.5.0",
          "state": {
            "_dom_classes": [],
            "_model_module": "@jupyter-widgets/controls",
            "_model_module_version": "1.5.0",
            "_model_name": "HBoxModel",
            "_view_count": null,
            "_view_module": "@jupyter-widgets/controls",
            "_view_module_version": "1.5.0",
            "_view_name": "HBoxView",
            "box_style": "",
            "children": [
              "IPY_MODEL_5636a532fc424e88921b311031994572",
              "IPY_MODEL_19f8679ea7e242d1bbf7130ded2f1e10",
              "IPY_MODEL_24044d8ef96545349343f9fff25c06b0"
            ],
            "layout": "IPY_MODEL_2c0e36b9235b41f68b9fcbd9f8cc3276"
          }
        },
        "5636a532fc424e88921b311031994572": {
          "model_module": "@jupyter-widgets/controls",
          "model_name": "HTMLModel",
          "model_module_version": "1.5.0",
          "state": {
            "_dom_classes": [],
            "_model_module": "@jupyter-widgets/controls",
            "_model_module_version": "1.5.0",
            "_model_name": "HTMLModel",
            "_view_count": null,
            "_view_module": "@jupyter-widgets/controls",
            "_view_module_version": "1.5.0",
            "_view_name": "HTMLView",
            "description": "",
            "description_tooltip": null,
            "layout": "IPY_MODEL_1a3d972de3404513a85fd3cebe21c654",
            "placeholder": "​",
            "style": "IPY_MODEL_1d4e1c43e0584cc49b7933cf80df92b3",
            "value": "tokenizer_config.json: 100%"
          }
        },
        "19f8679ea7e242d1bbf7130ded2f1e10": {
          "model_module": "@jupyter-widgets/controls",
          "model_name": "FloatProgressModel",
          "model_module_version": "1.5.0",
          "state": {
            "_dom_classes": [],
            "_model_module": "@jupyter-widgets/controls",
            "_model_module_version": "1.5.0",
            "_model_name": "FloatProgressModel",
            "_view_count": null,
            "_view_module": "@jupyter-widgets/controls",
            "_view_module_version": "1.5.0",
            "_view_name": "ProgressView",
            "bar_style": "success",
            "description": "",
            "description_tooltip": null,
            "layout": "IPY_MODEL_df3954676bca48c8a2a176a6d13b7597",
            "max": 1252,
            "min": 0,
            "orientation": "horizontal",
            "style": "IPY_MODEL_e01790419874456bb99d3efc26438533",
            "value": 1252
          }
        },
        "24044d8ef96545349343f9fff25c06b0": {
          "model_module": "@jupyter-widgets/controls",
          "model_name": "HTMLModel",
          "model_module_version": "1.5.0",
          "state": {
            "_dom_classes": [],
            "_model_module": "@jupyter-widgets/controls",
            "_model_module_version": "1.5.0",
            "_model_name": "HTMLModel",
            "_view_count": null,
            "_view_module": "@jupyter-widgets/controls",
            "_view_module_version": "1.5.0",
            "_view_name": "HTMLView",
            "description": "",
            "description_tooltip": null,
            "layout": "IPY_MODEL_656aeacc012f4d3aa30722cb754d4f3c",
            "placeholder": "​",
            "style": "IPY_MODEL_8cddcc6711cd4c948407f809b525071e",
            "value": " 1.25k/1.25k [00:00&lt;00:00, 111kB/s]"
          }
        },
        "2c0e36b9235b41f68b9fcbd9f8cc3276": {
          "model_module": "@jupyter-widgets/base",
          "model_name": "LayoutModel",
          "model_module_version": "1.2.0",
          "state": {
            "_model_module": "@jupyter-widgets/base",
            "_model_module_version": "1.2.0",
            "_model_name": "LayoutModel",
            "_view_count": null,
            "_view_module": "@jupyter-widgets/base",
            "_view_module_version": "1.2.0",
            "_view_name": "LayoutView",
            "align_content": null,
            "align_items": null,
            "align_self": null,
            "border": null,
            "bottom": null,
            "display": null,
            "flex": null,
            "flex_flow": null,
            "grid_area": null,
            "grid_auto_columns": null,
            "grid_auto_flow": null,
            "grid_auto_rows": null,
            "grid_column": null,
            "grid_gap": null,
            "grid_row": null,
            "grid_template_areas": null,
            "grid_template_columns": null,
            "grid_template_rows": null,
            "height": null,
            "justify_content": null,
            "justify_items": null,
            "left": null,
            "margin": null,
            "max_height": null,
            "max_width": null,
            "min_height": null,
            "min_width": null,
            "object_fit": null,
            "object_position": null,
            "order": null,
            "overflow": null,
            "overflow_x": null,
            "overflow_y": null,
            "padding": null,
            "right": null,
            "top": null,
            "visibility": null,
            "width": null
          }
        },
        "1a3d972de3404513a85fd3cebe21c654": {
          "model_module": "@jupyter-widgets/base",
          "model_name": "LayoutModel",
          "model_module_version": "1.2.0",
          "state": {
            "_model_module": "@jupyter-widgets/base",
            "_model_module_version": "1.2.0",
            "_model_name": "LayoutModel",
            "_view_count": null,
            "_view_module": "@jupyter-widgets/base",
            "_view_module_version": "1.2.0",
            "_view_name": "LayoutView",
            "align_content": null,
            "align_items": null,
            "align_self": null,
            "border": null,
            "bottom": null,
            "display": null,
            "flex": null,
            "flex_flow": null,
            "grid_area": null,
            "grid_auto_columns": null,
            "grid_auto_flow": null,
            "grid_auto_rows": null,
            "grid_column": null,
            "grid_gap": null,
            "grid_row": null,
            "grid_template_areas": null,
            "grid_template_columns": null,
            "grid_template_rows": null,
            "height": null,
            "justify_content": null,
            "justify_items": null,
            "left": null,
            "margin": null,
            "max_height": null,
            "max_width": null,
            "min_height": null,
            "min_width": null,
            "object_fit": null,
            "object_position": null,
            "order": null,
            "overflow": null,
            "overflow_x": null,
            "overflow_y": null,
            "padding": null,
            "right": null,
            "top": null,
            "visibility": null,
            "width": null
          }
        },
        "1d4e1c43e0584cc49b7933cf80df92b3": {
          "model_module": "@jupyter-widgets/controls",
          "model_name": "DescriptionStyleModel",
          "model_module_version": "1.5.0",
          "state": {
            "_model_module": "@jupyter-widgets/controls",
            "_model_module_version": "1.5.0",
            "_model_name": "DescriptionStyleModel",
            "_view_count": null,
            "_view_module": "@jupyter-widgets/base",
            "_view_module_version": "1.2.0",
            "_view_name": "StyleView",
            "description_width": ""
          }
        },
        "df3954676bca48c8a2a176a6d13b7597": {
          "model_module": "@jupyter-widgets/base",
          "model_name": "LayoutModel",
          "model_module_version": "1.2.0",
          "state": {
            "_model_module": "@jupyter-widgets/base",
            "_model_module_version": "1.2.0",
            "_model_name": "LayoutModel",
            "_view_count": null,
            "_view_module": "@jupyter-widgets/base",
            "_view_module_version": "1.2.0",
            "_view_name": "LayoutView",
            "align_content": null,
            "align_items": null,
            "align_self": null,
            "border": null,
            "bottom": null,
            "display": null,
            "flex": null,
            "flex_flow": null,
            "grid_area": null,
            "grid_auto_columns": null,
            "grid_auto_flow": null,
            "grid_auto_rows": null,
            "grid_column": null,
            "grid_gap": null,
            "grid_row": null,
            "grid_template_areas": null,
            "grid_template_columns": null,
            "grid_template_rows": null,
            "height": null,
            "justify_content": null,
            "justify_items": null,
            "left": null,
            "margin": null,
            "max_height": null,
            "max_width": null,
            "min_height": null,
            "min_width": null,
            "object_fit": null,
            "object_position": null,
            "order": null,
            "overflow": null,
            "overflow_x": null,
            "overflow_y": null,
            "padding": null,
            "right": null,
            "top": null,
            "visibility": null,
            "width": null
          }
        },
        "e01790419874456bb99d3efc26438533": {
          "model_module": "@jupyter-widgets/controls",
          "model_name": "ProgressStyleModel",
          "model_module_version": "1.5.0",
          "state": {
            "_model_module": "@jupyter-widgets/controls",
            "_model_module_version": "1.5.0",
            "_model_name": "ProgressStyleModel",
            "_view_count": null,
            "_view_module": "@jupyter-widgets/base",
            "_view_module_version": "1.2.0",
            "_view_name": "StyleView",
            "bar_color": null,
            "description_width": ""
          }
        },
        "656aeacc012f4d3aa30722cb754d4f3c": {
          "model_module": "@jupyter-widgets/base",
          "model_name": "LayoutModel",
          "model_module_version": "1.2.0",
          "state": {
            "_model_module": "@jupyter-widgets/base",
            "_model_module_version": "1.2.0",
            "_model_name": "LayoutModel",
            "_view_count": null,
            "_view_module": "@jupyter-widgets/base",
            "_view_module_version": "1.2.0",
            "_view_name": "LayoutView",
            "align_content": null,
            "align_items": null,
            "align_self": null,
            "border": null,
            "bottom": null,
            "display": null,
            "flex": null,
            "flex_flow": null,
            "grid_area": null,
            "grid_auto_columns": null,
            "grid_auto_flow": null,
            "grid_auto_rows": null,
            "grid_column": null,
            "grid_gap": null,
            "grid_row": null,
            "grid_template_areas": null,
            "grid_template_columns": null,
            "grid_template_rows": null,
            "height": null,
            "justify_content": null,
            "justify_items": null,
            "left": null,
            "margin": null,
            "max_height": null,
            "max_width": null,
            "min_height": null,
            "min_width": null,
            "object_fit": null,
            "object_position": null,
            "order": null,
            "overflow": null,
            "overflow_x": null,
            "overflow_y": null,
            "padding": null,
            "right": null,
            "top": null,
            "visibility": null,
            "width": null
          }
        },
        "8cddcc6711cd4c948407f809b525071e": {
          "model_module": "@jupyter-widgets/controls",
          "model_name": "DescriptionStyleModel",
          "model_module_version": "1.5.0",
          "state": {
            "_model_module": "@jupyter-widgets/controls",
            "_model_module_version": "1.5.0",
            "_model_name": "DescriptionStyleModel",
            "_view_count": null,
            "_view_module": "@jupyter-widgets/base",
            "_view_module_version": "1.2.0",
            "_view_name": "StyleView",
            "description_width": ""
          }
        },
        "e131f273bf9e4890b1a98d14e7e55cda": {
          "model_module": "@jupyter-widgets/controls",
          "model_name": "HBoxModel",
          "model_module_version": "1.5.0",
          "state": {
            "_dom_classes": [],
            "_model_module": "@jupyter-widgets/controls",
            "_model_module_version": "1.5.0",
            "_model_name": "HBoxModel",
            "_view_count": null,
            "_view_module": "@jupyter-widgets/controls",
            "_view_module_version": "1.5.0",
            "_view_name": "HBoxView",
            "box_style": "",
            "children": [
              "IPY_MODEL_90e375436cc246759115e5eff434a4ea",
              "IPY_MODEL_bd91f5aa9aaa4369b247c5d3e9af96d4",
              "IPY_MODEL_82e92e26865b42c4a98a833ea3aa4a04"
            ],
            "layout": "IPY_MODEL_c3accac7a7d545bbb9f29a208f76af41"
          }
        },
        "90e375436cc246759115e5eff434a4ea": {
          "model_module": "@jupyter-widgets/controls",
          "model_name": "HTMLModel",
          "model_module_version": "1.5.0",
          "state": {
            "_dom_classes": [],
            "_model_module": "@jupyter-widgets/controls",
            "_model_module_version": "1.5.0",
            "_model_name": "HTMLModel",
            "_view_count": null,
            "_view_module": "@jupyter-widgets/controls",
            "_view_module_version": "1.5.0",
            "_view_name": "HTMLView",
            "description": "",
            "description_tooltip": null,
            "layout": "IPY_MODEL_ac10d5a5b6894be9b88e206cf1ff0416",
            "placeholder": "​",
            "style": "IPY_MODEL_dc5c50a62c1b439db671c62a900b9f38",
            "value": "vocab.json: 100%"
          }
        },
        "bd91f5aa9aaa4369b247c5d3e9af96d4": {
          "model_module": "@jupyter-widgets/controls",
          "model_name": "FloatProgressModel",
          "model_module_version": "1.5.0",
          "state": {
            "_dom_classes": [],
            "_model_module": "@jupyter-widgets/controls",
            "_model_module_version": "1.5.0",
            "_model_name": "FloatProgressModel",
            "_view_count": null,
            "_view_module": "@jupyter-widgets/controls",
            "_view_module_version": "1.5.0",
            "_view_name": "ProgressView",
            "bar_style": "success",
            "description": "",
            "description_tooltip": null,
            "layout": "IPY_MODEL_4238da6603ea450692df346241291d40",
            "max": 1713123,
            "min": 0,
            "orientation": "horizontal",
            "style": "IPY_MODEL_4d4d4d29ac66446ca6e7a7ff42f465bd",
            "value": 1713123
          }
        },
        "82e92e26865b42c4a98a833ea3aa4a04": {
          "model_module": "@jupyter-widgets/controls",
          "model_name": "HTMLModel",
          "model_module_version": "1.5.0",
          "state": {
            "_dom_classes": [],
            "_model_module": "@jupyter-widgets/controls",
            "_model_module_version": "1.5.0",
            "_model_name": "HTMLModel",
            "_view_count": null,
            "_view_module": "@jupyter-widgets/controls",
            "_view_module_version": "1.5.0",
            "_view_name": "HTMLView",
            "description": "",
            "description_tooltip": null,
            "layout": "IPY_MODEL_e156b724b3224dc88ac17254d2abb724",
            "placeholder": "​",
            "style": "IPY_MODEL_7367e86e434543028910a93107584e74",
            "value": " 1.71M/1.71M [00:00&lt;00:00, 2.41MB/s]"
          }
        },
        "c3accac7a7d545bbb9f29a208f76af41": {
          "model_module": "@jupyter-widgets/base",
          "model_name": "LayoutModel",
          "model_module_version": "1.2.0",
          "state": {
            "_model_module": "@jupyter-widgets/base",
            "_model_module_version": "1.2.0",
            "_model_name": "LayoutModel",
            "_view_count": null,
            "_view_module": "@jupyter-widgets/base",
            "_view_module_version": "1.2.0",
            "_view_name": "LayoutView",
            "align_content": null,
            "align_items": null,
            "align_self": null,
            "border": null,
            "bottom": null,
            "display": null,
            "flex": null,
            "flex_flow": null,
            "grid_area": null,
            "grid_auto_columns": null,
            "grid_auto_flow": null,
            "grid_auto_rows": null,
            "grid_column": null,
            "grid_gap": null,
            "grid_row": null,
            "grid_template_areas": null,
            "grid_template_columns": null,
            "grid_template_rows": null,
            "height": null,
            "justify_content": null,
            "justify_items": null,
            "left": null,
            "margin": null,
            "max_height": null,
            "max_width": null,
            "min_height": null,
            "min_width": null,
            "object_fit": null,
            "object_position": null,
            "order": null,
            "overflow": null,
            "overflow_x": null,
            "overflow_y": null,
            "padding": null,
            "right": null,
            "top": null,
            "visibility": null,
            "width": null
          }
        },
        "ac10d5a5b6894be9b88e206cf1ff0416": {
          "model_module": "@jupyter-widgets/base",
          "model_name": "LayoutModel",
          "model_module_version": "1.2.0",
          "state": {
            "_model_module": "@jupyter-widgets/base",
            "_model_module_version": "1.2.0",
            "_model_name": "LayoutModel",
            "_view_count": null,
            "_view_module": "@jupyter-widgets/base",
            "_view_module_version": "1.2.0",
            "_view_name": "LayoutView",
            "align_content": null,
            "align_items": null,
            "align_self": null,
            "border": null,
            "bottom": null,
            "display": null,
            "flex": null,
            "flex_flow": null,
            "grid_area": null,
            "grid_auto_columns": null,
            "grid_auto_flow": null,
            "grid_auto_rows": null,
            "grid_column": null,
            "grid_gap": null,
            "grid_row": null,
            "grid_template_areas": null,
            "grid_template_columns": null,
            "grid_template_rows": null,
            "height": null,
            "justify_content": null,
            "justify_items": null,
            "left": null,
            "margin": null,
            "max_height": null,
            "max_width": null,
            "min_height": null,
            "min_width": null,
            "object_fit": null,
            "object_position": null,
            "order": null,
            "overflow": null,
            "overflow_x": null,
            "overflow_y": null,
            "padding": null,
            "right": null,
            "top": null,
            "visibility": null,
            "width": null
          }
        },
        "dc5c50a62c1b439db671c62a900b9f38": {
          "model_module": "@jupyter-widgets/controls",
          "model_name": "DescriptionStyleModel",
          "model_module_version": "1.5.0",
          "state": {
            "_model_module": "@jupyter-widgets/controls",
            "_model_module_version": "1.5.0",
            "_model_name": "DescriptionStyleModel",
            "_view_count": null,
            "_view_module": "@jupyter-widgets/base",
            "_view_module_version": "1.2.0",
            "_view_name": "StyleView",
            "description_width": ""
          }
        },
        "4238da6603ea450692df346241291d40": {
          "model_module": "@jupyter-widgets/base",
          "model_name": "LayoutModel",
          "model_module_version": "1.2.0",
          "state": {
            "_model_module": "@jupyter-widgets/base",
            "_model_module_version": "1.2.0",
            "_model_name": "LayoutModel",
            "_view_count": null,
            "_view_module": "@jupyter-widgets/base",
            "_view_module_version": "1.2.0",
            "_view_name": "LayoutView",
            "align_content": null,
            "align_items": null,
            "align_self": null,
            "border": null,
            "bottom": null,
            "display": null,
            "flex": null,
            "flex_flow": null,
            "grid_area": null,
            "grid_auto_columns": null,
            "grid_auto_flow": null,
            "grid_auto_rows": null,
            "grid_column": null,
            "grid_gap": null,
            "grid_row": null,
            "grid_template_areas": null,
            "grid_template_columns": null,
            "grid_template_rows": null,
            "height": null,
            "justify_content": null,
            "justify_items": null,
            "left": null,
            "margin": null,
            "max_height": null,
            "max_width": null,
            "min_height": null,
            "min_width": null,
            "object_fit": null,
            "object_position": null,
            "order": null,
            "overflow": null,
            "overflow_x": null,
            "overflow_y": null,
            "padding": null,
            "right": null,
            "top": null,
            "visibility": null,
            "width": null
          }
        },
        "4d4d4d29ac66446ca6e7a7ff42f465bd": {
          "model_module": "@jupyter-widgets/controls",
          "model_name": "ProgressStyleModel",
          "model_module_version": "1.5.0",
          "state": {
            "_model_module": "@jupyter-widgets/controls",
            "_model_module_version": "1.5.0",
            "_model_name": "ProgressStyleModel",
            "_view_count": null,
            "_view_module": "@jupyter-widgets/base",
            "_view_module_version": "1.2.0",
            "_view_name": "StyleView",
            "bar_color": null,
            "description_width": ""
          }
        },
        "e156b724b3224dc88ac17254d2abb724": {
          "model_module": "@jupyter-widgets/base",
          "model_name": "LayoutModel",
          "model_module_version": "1.2.0",
          "state": {
            "_model_module": "@jupyter-widgets/base",
            "_model_module_version": "1.2.0",
            "_model_name": "LayoutModel",
            "_view_count": null,
            "_view_module": "@jupyter-widgets/base",
            "_view_module_version": "1.2.0",
            "_view_name": "LayoutView",
            "align_content": null,
            "align_items": null,
            "align_self": null,
            "border": null,
            "bottom": null,
            "display": null,
            "flex": null,
            "flex_flow": null,
            "grid_area": null,
            "grid_auto_columns": null,
            "grid_auto_flow": null,
            "grid_auto_rows": null,
            "grid_column": null,
            "grid_gap": null,
            "grid_row": null,
            "grid_template_areas": null,
            "grid_template_columns": null,
            "grid_template_rows": null,
            "height": null,
            "justify_content": null,
            "justify_items": null,
            "left": null,
            "margin": null,
            "max_height": null,
            "max_width": null,
            "min_height": null,
            "min_width": null,
            "object_fit": null,
            "object_position": null,
            "order": null,
            "overflow": null,
            "overflow_x": null,
            "overflow_y": null,
            "padding": null,
            "right": null,
            "top": null,
            "visibility": null,
            "width": null
          }
        },
        "7367e86e434543028910a93107584e74": {
          "model_module": "@jupyter-widgets/controls",
          "model_name": "DescriptionStyleModel",
          "model_module_version": "1.5.0",
          "state": {
            "_model_module": "@jupyter-widgets/controls",
            "_model_module_version": "1.5.0",
            "_model_name": "DescriptionStyleModel",
            "_view_count": null,
            "_view_module": "@jupyter-widgets/base",
            "_view_module_version": "1.2.0",
            "_view_name": "StyleView",
            "description_width": ""
          }
        },
        "66cd11bb3cd742e683587d9b91807e53": {
          "model_module": "@jupyter-widgets/controls",
          "model_name": "HBoxModel",
          "model_module_version": "1.5.0",
          "state": {
            "_dom_classes": [],
            "_model_module": "@jupyter-widgets/controls",
            "_model_module_version": "1.5.0",
            "_model_name": "HBoxModel",
            "_view_count": null,
            "_view_module": "@jupyter-widgets/controls",
            "_view_module_version": "1.5.0",
            "_view_name": "HBoxView",
            "box_style": "",
            "children": [
              "IPY_MODEL_6bdf39365bae4ceab1311421bf82b8f9",
              "IPY_MODEL_3c60f677442641ff91a141c89cad8340",
              "IPY_MODEL_fe1c5bf48ab043089ff7ee1a1ccb7784"
            ],
            "layout": "IPY_MODEL_0cb83c0090f5459d99aa666e4ffc8e3e"
          }
        },
        "6bdf39365bae4ceab1311421bf82b8f9": {
          "model_module": "@jupyter-widgets/controls",
          "model_name": "HTMLModel",
          "model_module_version": "1.5.0",
          "state": {
            "_dom_classes": [],
            "_model_module": "@jupyter-widgets/controls",
            "_model_module_version": "1.5.0",
            "_model_name": "HTMLModel",
            "_view_count": null,
            "_view_module": "@jupyter-widgets/controls",
            "_view_module_version": "1.5.0",
            "_view_name": "HTMLView",
            "description": "",
            "description_tooltip": null,
            "layout": "IPY_MODEL_70038ce802db4fa7878dc9761fe59925",
            "placeholder": "​",
            "style": "IPY_MODEL_0144de1672a0448c8e57aee9b67cff3e",
            "value": "merges.txt: 100%"
          }
        },
        "3c60f677442641ff91a141c89cad8340": {
          "model_module": "@jupyter-widgets/controls",
          "model_name": "FloatProgressModel",
          "model_module_version": "1.5.0",
          "state": {
            "_dom_classes": [],
            "_model_module": "@jupyter-widgets/controls",
            "_model_module_version": "1.5.0",
            "_model_name": "FloatProgressModel",
            "_view_count": null,
            "_view_module": "@jupyter-widgets/controls",
            "_view_module_version": "1.5.0",
            "_view_name": "ProgressView",
            "bar_style": "success",
            "description": "",
            "description_tooltip": null,
            "layout": "IPY_MODEL_7e9c367890b946129fd7707122385887",
            "max": 1270925,
            "min": 0,
            "orientation": "horizontal",
            "style": "IPY_MODEL_39089c81eeaa4b46ab8e42041b06d503",
            "value": 1270925
          }
        },
        "fe1c5bf48ab043089ff7ee1a1ccb7784": {
          "model_module": "@jupyter-widgets/controls",
          "model_name": "HTMLModel",
          "model_module_version": "1.5.0",
          "state": {
            "_dom_classes": [],
            "_model_module": "@jupyter-widgets/controls",
            "_model_module_version": "1.5.0",
            "_model_name": "HTMLModel",
            "_view_count": null,
            "_view_module": "@jupyter-widgets/controls",
            "_view_module_version": "1.5.0",
            "_view_name": "HTMLView",
            "description": "",
            "description_tooltip": null,
            "layout": "IPY_MODEL_2990a7a18d394c64a333aab4fb74265d",
            "placeholder": "​",
            "style": "IPY_MODEL_56f6a166ff5e4ffc820e9bada5c63947",
            "value": " 1.27M/1.27M [00:01&lt;00:00, 747kB/s]"
          }
        },
        "0cb83c0090f5459d99aa666e4ffc8e3e": {
          "model_module": "@jupyter-widgets/base",
          "model_name": "LayoutModel",
          "model_module_version": "1.2.0",
          "state": {
            "_model_module": "@jupyter-widgets/base",
            "_model_module_version": "1.2.0",
            "_model_name": "LayoutModel",
            "_view_count": null,
            "_view_module": "@jupyter-widgets/base",
            "_view_module_version": "1.2.0",
            "_view_name": "LayoutView",
            "align_content": null,
            "align_items": null,
            "align_self": null,
            "border": null,
            "bottom": null,
            "display": null,
            "flex": null,
            "flex_flow": null,
            "grid_area": null,
            "grid_auto_columns": null,
            "grid_auto_flow": null,
            "grid_auto_rows": null,
            "grid_column": null,
            "grid_gap": null,
            "grid_row": null,
            "grid_template_areas": null,
            "grid_template_columns": null,
            "grid_template_rows": null,
            "height": null,
            "justify_content": null,
            "justify_items": null,
            "left": null,
            "margin": null,
            "max_height": null,
            "max_width": null,
            "min_height": null,
            "min_width": null,
            "object_fit": null,
            "object_position": null,
            "order": null,
            "overflow": null,
            "overflow_x": null,
            "overflow_y": null,
            "padding": null,
            "right": null,
            "top": null,
            "visibility": null,
            "width": null
          }
        },
        "70038ce802db4fa7878dc9761fe59925": {
          "model_module": "@jupyter-widgets/base",
          "model_name": "LayoutModel",
          "model_module_version": "1.2.0",
          "state": {
            "_model_module": "@jupyter-widgets/base",
            "_model_module_version": "1.2.0",
            "_model_name": "LayoutModel",
            "_view_count": null,
            "_view_module": "@jupyter-widgets/base",
            "_view_module_version": "1.2.0",
            "_view_name": "LayoutView",
            "align_content": null,
            "align_items": null,
            "align_self": null,
            "border": null,
            "bottom": null,
            "display": null,
            "flex": null,
            "flex_flow": null,
            "grid_area": null,
            "grid_auto_columns": null,
            "grid_auto_flow": null,
            "grid_auto_rows": null,
            "grid_column": null,
            "grid_gap": null,
            "grid_row": null,
            "grid_template_areas": null,
            "grid_template_columns": null,
            "grid_template_rows": null,
            "height": null,
            "justify_content": null,
            "justify_items": null,
            "left": null,
            "margin": null,
            "max_height": null,
            "max_width": null,
            "min_height": null,
            "min_width": null,
            "object_fit": null,
            "object_position": null,
            "order": null,
            "overflow": null,
            "overflow_x": null,
            "overflow_y": null,
            "padding": null,
            "right": null,
            "top": null,
            "visibility": null,
            "width": null
          }
        },
        "0144de1672a0448c8e57aee9b67cff3e": {
          "model_module": "@jupyter-widgets/controls",
          "model_name": "DescriptionStyleModel",
          "model_module_version": "1.5.0",
          "state": {
            "_model_module": "@jupyter-widgets/controls",
            "_model_module_version": "1.5.0",
            "_model_name": "DescriptionStyleModel",
            "_view_count": null,
            "_view_module": "@jupyter-widgets/base",
            "_view_module_version": "1.2.0",
            "_view_name": "StyleView",
            "description_width": ""
          }
        },
        "7e9c367890b946129fd7707122385887": {
          "model_module": "@jupyter-widgets/base",
          "model_name": "LayoutModel",
          "model_module_version": "1.2.0",
          "state": {
            "_model_module": "@jupyter-widgets/base",
            "_model_module_version": "1.2.0",
            "_model_name": "LayoutModel",
            "_view_count": null,
            "_view_module": "@jupyter-widgets/base",
            "_view_module_version": "1.2.0",
            "_view_name": "LayoutView",
            "align_content": null,
            "align_items": null,
            "align_self": null,
            "border": null,
            "bottom": null,
            "display": null,
            "flex": null,
            "flex_flow": null,
            "grid_area": null,
            "grid_auto_columns": null,
            "grid_auto_flow": null,
            "grid_auto_rows": null,
            "grid_column": null,
            "grid_gap": null,
            "grid_row": null,
            "grid_template_areas": null,
            "grid_template_columns": null,
            "grid_template_rows": null,
            "height": null,
            "justify_content": null,
            "justify_items": null,
            "left": null,
            "margin": null,
            "max_height": null,
            "max_width": null,
            "min_height": null,
            "min_width": null,
            "object_fit": null,
            "object_position": null,
            "order": null,
            "overflow": null,
            "overflow_x": null,
            "overflow_y": null,
            "padding": null,
            "right": null,
            "top": null,
            "visibility": null,
            "width": null
          }
        },
        "39089c81eeaa4b46ab8e42041b06d503": {
          "model_module": "@jupyter-widgets/controls",
          "model_name": "ProgressStyleModel",
          "model_module_version": "1.5.0",
          "state": {
            "_model_module": "@jupyter-widgets/controls",
            "_model_module_version": "1.5.0",
            "_model_name": "ProgressStyleModel",
            "_view_count": null,
            "_view_module": "@jupyter-widgets/base",
            "_view_module_version": "1.2.0",
            "_view_name": "StyleView",
            "bar_color": null,
            "description_width": ""
          }
        },
        "2990a7a18d394c64a333aab4fb74265d": {
          "model_module": "@jupyter-widgets/base",
          "model_name": "LayoutModel",
          "model_module_version": "1.2.0",
          "state": {
            "_model_module": "@jupyter-widgets/base",
            "_model_module_version": "1.2.0",
            "_model_name": "LayoutModel",
            "_view_count": null,
            "_view_module": "@jupyter-widgets/base",
            "_view_module_version": "1.2.0",
            "_view_name": "LayoutView",
            "align_content": null,
            "align_items": null,
            "align_self": null,
            "border": null,
            "bottom": null,
            "display": null,
            "flex": null,
            "flex_flow": null,
            "grid_area": null,
            "grid_auto_columns": null,
            "grid_auto_flow": null,
            "grid_auto_rows": null,
            "grid_column": null,
            "grid_gap": null,
            "grid_row": null,
            "grid_template_areas": null,
            "grid_template_columns": null,
            "grid_template_rows": null,
            "height": null,
            "justify_content": null,
            "justify_items": null,
            "left": null,
            "margin": null,
            "max_height": null,
            "max_width": null,
            "min_height": null,
            "min_width": null,
            "object_fit": null,
            "object_position": null,
            "order": null,
            "overflow": null,
            "overflow_x": null,
            "overflow_y": null,
            "padding": null,
            "right": null,
            "top": null,
            "visibility": null,
            "width": null
          }
        },
        "56f6a166ff5e4ffc820e9bada5c63947": {
          "model_module": "@jupyter-widgets/controls",
          "model_name": "DescriptionStyleModel",
          "model_module_version": "1.5.0",
          "state": {
            "_model_module": "@jupyter-widgets/controls",
            "_model_module_version": "1.5.0",
            "_model_name": "DescriptionStyleModel",
            "_view_count": null,
            "_view_module": "@jupyter-widgets/base",
            "_view_module_version": "1.2.0",
            "_view_name": "StyleView",
            "description_width": ""
          }
        },
        "97824f7c67fa443bb04b663216aff558": {
          "model_module": "@jupyter-widgets/controls",
          "model_name": "HBoxModel",
          "model_module_version": "1.5.0",
          "state": {
            "_dom_classes": [],
            "_model_module": "@jupyter-widgets/controls",
            "_model_module_version": "1.5.0",
            "_model_name": "HBoxModel",
            "_view_count": null,
            "_view_module": "@jupyter-widgets/controls",
            "_view_module_version": "1.5.0",
            "_view_name": "HBoxView",
            "box_style": "",
            "children": [
              "IPY_MODEL_b0b81c850f2746f59482d17d96e9704c",
              "IPY_MODEL_f60be26d7a7d4ce2ad5d20a9799befb2",
              "IPY_MODEL_f2e4e1950cbe4ce1981da1d301d0c424"
            ],
            "layout": "IPY_MODEL_ab40cbccde364ad7813b0f4d9322e720"
          }
        },
        "b0b81c850f2746f59482d17d96e9704c": {
          "model_module": "@jupyter-widgets/controls",
          "model_name": "HTMLModel",
          "model_module_version": "1.5.0",
          "state": {
            "_dom_classes": [],
            "_model_module": "@jupyter-widgets/controls",
            "_model_module_version": "1.5.0",
            "_model_name": "HTMLModel",
            "_view_count": null,
            "_view_module": "@jupyter-widgets/controls",
            "_view_module_version": "1.5.0",
            "_view_name": "HTMLView",
            "description": "",
            "description_tooltip": null,
            "layout": "IPY_MODEL_781abc0a98054fcdb858b11afd59f2b3",
            "placeholder": "​",
            "style": "IPY_MODEL_b40a74b3a6c740bdb54376c2d58a6878",
            "value": "special_tokens_map.json: 100%"
          }
        },
        "f60be26d7a7d4ce2ad5d20a9799befb2": {
          "model_module": "@jupyter-widgets/controls",
          "model_name": "FloatProgressModel",
          "model_module_version": "1.5.0",
          "state": {
            "_dom_classes": [],
            "_model_module": "@jupyter-widgets/controls",
            "_model_module_version": "1.5.0",
            "_model_name": "FloatProgressModel",
            "_view_count": null,
            "_view_module": "@jupyter-widgets/controls",
            "_view_module_version": "1.5.0",
            "_view_name": "ProgressView",
            "bar_style": "success",
            "description": "",
            "description_tooltip": null,
            "layout": "IPY_MODEL_2ab5dffc59d54fc294abf6a50d50a5ab",
            "max": 574,
            "min": 0,
            "orientation": "horizontal",
            "style": "IPY_MODEL_d3b7fd1748604b93981d85c1ebf84ba0",
            "value": 574
          }
        },
        "f2e4e1950cbe4ce1981da1d301d0c424": {
          "model_module": "@jupyter-widgets/controls",
          "model_name": "HTMLModel",
          "model_module_version": "1.5.0",
          "state": {
            "_dom_classes": [],
            "_model_module": "@jupyter-widgets/controls",
            "_model_module_version": "1.5.0",
            "_model_name": "HTMLModel",
            "_view_count": null,
            "_view_module": "@jupyter-widgets/controls",
            "_view_module_version": "1.5.0",
            "_view_name": "HTMLView",
            "description": "",
            "description_tooltip": null,
            "layout": "IPY_MODEL_906ed0dab2d34852b64a7425e08d0ce3",
            "placeholder": "​",
            "style": "IPY_MODEL_0b52b3831b914bc097f546f1c9fbfd14",
            "value": " 574/574 [00:00&lt;00:00, 65.0kB/s]"
          }
        },
        "ab40cbccde364ad7813b0f4d9322e720": {
          "model_module": "@jupyter-widgets/base",
          "model_name": "LayoutModel",
          "model_module_version": "1.2.0",
          "state": {
            "_model_module": "@jupyter-widgets/base",
            "_model_module_version": "1.2.0",
            "_model_name": "LayoutModel",
            "_view_count": null,
            "_view_module": "@jupyter-widgets/base",
            "_view_module_version": "1.2.0",
            "_view_name": "LayoutView",
            "align_content": null,
            "align_items": null,
            "align_self": null,
            "border": null,
            "bottom": null,
            "display": null,
            "flex": null,
            "flex_flow": null,
            "grid_area": null,
            "grid_auto_columns": null,
            "grid_auto_flow": null,
            "grid_auto_rows": null,
            "grid_column": null,
            "grid_gap": null,
            "grid_row": null,
            "grid_template_areas": null,
            "grid_template_columns": null,
            "grid_template_rows": null,
            "height": null,
            "justify_content": null,
            "justify_items": null,
            "left": null,
            "margin": null,
            "max_height": null,
            "max_width": null,
            "min_height": null,
            "min_width": null,
            "object_fit": null,
            "object_position": null,
            "order": null,
            "overflow": null,
            "overflow_x": null,
            "overflow_y": null,
            "padding": null,
            "right": null,
            "top": null,
            "visibility": null,
            "width": null
          }
        },
        "781abc0a98054fcdb858b11afd59f2b3": {
          "model_module": "@jupyter-widgets/base",
          "model_name": "LayoutModel",
          "model_module_version": "1.2.0",
          "state": {
            "_model_module": "@jupyter-widgets/base",
            "_model_module_version": "1.2.0",
            "_model_name": "LayoutModel",
            "_view_count": null,
            "_view_module": "@jupyter-widgets/base",
            "_view_module_version": "1.2.0",
            "_view_name": "LayoutView",
            "align_content": null,
            "align_items": null,
            "align_self": null,
            "border": null,
            "bottom": null,
            "display": null,
            "flex": null,
            "flex_flow": null,
            "grid_area": null,
            "grid_auto_columns": null,
            "grid_auto_flow": null,
            "grid_auto_rows": null,
            "grid_column": null,
            "grid_gap": null,
            "grid_row": null,
            "grid_template_areas": null,
            "grid_template_columns": null,
            "grid_template_rows": null,
            "height": null,
            "justify_content": null,
            "justify_items": null,
            "left": null,
            "margin": null,
            "max_height": null,
            "max_width": null,
            "min_height": null,
            "min_width": null,
            "object_fit": null,
            "object_position": null,
            "order": null,
            "overflow": null,
            "overflow_x": null,
            "overflow_y": null,
            "padding": null,
            "right": null,
            "top": null,
            "visibility": null,
            "width": null
          }
        },
        "b40a74b3a6c740bdb54376c2d58a6878": {
          "model_module": "@jupyter-widgets/controls",
          "model_name": "DescriptionStyleModel",
          "model_module_version": "1.5.0",
          "state": {
            "_model_module": "@jupyter-widgets/controls",
            "_model_module_version": "1.5.0",
            "_model_name": "DescriptionStyleModel",
            "_view_count": null,
            "_view_module": "@jupyter-widgets/base",
            "_view_module_version": "1.2.0",
            "_view_name": "StyleView",
            "description_width": ""
          }
        },
        "2ab5dffc59d54fc294abf6a50d50a5ab": {
          "model_module": "@jupyter-widgets/base",
          "model_name": "LayoutModel",
          "model_module_version": "1.2.0",
          "state": {
            "_model_module": "@jupyter-widgets/base",
            "_model_module_version": "1.2.0",
            "_model_name": "LayoutModel",
            "_view_count": null,
            "_view_module": "@jupyter-widgets/base",
            "_view_module_version": "1.2.0",
            "_view_name": "LayoutView",
            "align_content": null,
            "align_items": null,
            "align_self": null,
            "border": null,
            "bottom": null,
            "display": null,
            "flex": null,
            "flex_flow": null,
            "grid_area": null,
            "grid_auto_columns": null,
            "grid_auto_flow": null,
            "grid_auto_rows": null,
            "grid_column": null,
            "grid_gap": null,
            "grid_row": null,
            "grid_template_areas": null,
            "grid_template_columns": null,
            "grid_template_rows": null,
            "height": null,
            "justify_content": null,
            "justify_items": null,
            "left": null,
            "margin": null,
            "max_height": null,
            "max_width": null,
            "min_height": null,
            "min_width": null,
            "object_fit": null,
            "object_position": null,
            "order": null,
            "overflow": null,
            "overflow_x": null,
            "overflow_y": null,
            "padding": null,
            "right": null,
            "top": null,
            "visibility": null,
            "width": null
          }
        },
        "d3b7fd1748604b93981d85c1ebf84ba0": {
          "model_module": "@jupyter-widgets/controls",
          "model_name": "ProgressStyleModel",
          "model_module_version": "1.5.0",
          "state": {
            "_model_module": "@jupyter-widgets/controls",
            "_model_module_version": "1.5.0",
            "_model_name": "ProgressStyleModel",
            "_view_count": null,
            "_view_module": "@jupyter-widgets/base",
            "_view_module_version": "1.2.0",
            "_view_name": "StyleView",
            "bar_color": null,
            "description_width": ""
          }
        },
        "906ed0dab2d34852b64a7425e08d0ce3": {
          "model_module": "@jupyter-widgets/base",
          "model_name": "LayoutModel",
          "model_module_version": "1.2.0",
          "state": {
            "_model_module": "@jupyter-widgets/base",
            "_model_module_version": "1.2.0",
            "_model_name": "LayoutModel",
            "_view_count": null,
            "_view_module": "@jupyter-widgets/base",
            "_view_module_version": "1.2.0",
            "_view_name": "LayoutView",
            "align_content": null,
            "align_items": null,
            "align_self": null,
            "border": null,
            "bottom": null,
            "display": null,
            "flex": null,
            "flex_flow": null,
            "grid_area": null,
            "grid_auto_columns": null,
            "grid_auto_flow": null,
            "grid_auto_rows": null,
            "grid_column": null,
            "grid_gap": null,
            "grid_row": null,
            "grid_template_areas": null,
            "grid_template_columns": null,
            "grid_template_rows": null,
            "height": null,
            "justify_content": null,
            "justify_items": null,
            "left": null,
            "margin": null,
            "max_height": null,
            "max_width": null,
            "min_height": null,
            "min_width": null,
            "object_fit": null,
            "object_position": null,
            "order": null,
            "overflow": null,
            "overflow_x": null,
            "overflow_y": null,
            "padding": null,
            "right": null,
            "top": null,
            "visibility": null,
            "width": null
          }
        },
        "0b52b3831b914bc097f546f1c9fbfd14": {
          "model_module": "@jupyter-widgets/controls",
          "model_name": "DescriptionStyleModel",
          "model_module_version": "1.5.0",
          "state": {
            "_model_module": "@jupyter-widgets/controls",
            "_model_module_version": "1.5.0",
            "_model_name": "DescriptionStyleModel",
            "_view_count": null,
            "_view_module": "@jupyter-widgets/base",
            "_view_module_version": "1.2.0",
            "_view_name": "StyleView",
            "description_width": ""
          }
        },
        "e29100185cd1465f855a85569ba8f5fe": {
          "model_module": "@jupyter-widgets/controls",
          "model_name": "HBoxModel",
          "model_module_version": "1.5.0",
          "state": {
            "_dom_classes": [],
            "_model_module": "@jupyter-widgets/controls",
            "_model_module_version": "1.5.0",
            "_model_name": "HBoxModel",
            "_view_count": null,
            "_view_module": "@jupyter-widgets/controls",
            "_view_module_version": "1.5.0",
            "_view_name": "HBoxView",
            "box_style": "",
            "children": [
              "IPY_MODEL_62248b378e024604921740035b0845e7",
              "IPY_MODEL_8550d38a3d844ec790cfd0bc0373efba",
              "IPY_MODEL_094c5b56e10b48eca06997e8a3730e41"
            ],
            "layout": "IPY_MODEL_703f1c39830949018f7a5c097f199956"
          }
        },
        "62248b378e024604921740035b0845e7": {
          "model_module": "@jupyter-widgets/controls",
          "model_name": "HTMLModel",
          "model_module_version": "1.5.0",
          "state": {
            "_dom_classes": [],
            "_model_module": "@jupyter-widgets/controls",
            "_model_module_version": "1.5.0",
            "_model_name": "HTMLModel",
            "_view_count": null,
            "_view_module": "@jupyter-widgets/controls",
            "_view_module_version": "1.5.0",
            "_view_name": "HTMLView",
            "description": "",
            "description_tooltip": null,
            "layout": "IPY_MODEL_2c9124293a164c988aeb2cfd8482b8a3",
            "placeholder": "​",
            "style": "IPY_MODEL_94bd868c4acd4006a0b9097ac215703d",
            "value": "config.json: 100%"
          }
        },
        "8550d38a3d844ec790cfd0bc0373efba": {
          "model_module": "@jupyter-widgets/controls",
          "model_name": "FloatProgressModel",
          "model_module_version": "1.5.0",
          "state": {
            "_dom_classes": [],
            "_model_module": "@jupyter-widgets/controls",
            "_model_module_version": "1.5.0",
            "_model_name": "FloatProgressModel",
            "_view_count": null,
            "_view_module": "@jupyter-widgets/controls",
            "_view_module_version": "1.5.0",
            "_view_name": "ProgressView",
            "bar_style": "success",
            "description": "",
            "description_tooltip": null,
            "layout": "IPY_MODEL_175f18d5e85d47189f5d1764edd6d3c5",
            "max": 622,
            "min": 0,
            "orientation": "horizontal",
            "style": "IPY_MODEL_b3e0de26b342432aa208aced9a649206",
            "value": 622
          }
        },
        "094c5b56e10b48eca06997e8a3730e41": {
          "model_module": "@jupyter-widgets/controls",
          "model_name": "HTMLModel",
          "model_module_version": "1.5.0",
          "state": {
            "_dom_classes": [],
            "_model_module": "@jupyter-widgets/controls",
            "_model_module_version": "1.5.0",
            "_model_name": "HTMLModel",
            "_view_count": null,
            "_view_module": "@jupyter-widgets/controls",
            "_view_module_version": "1.5.0",
            "_view_name": "HTMLView",
            "description": "",
            "description_tooltip": null,
            "layout": "IPY_MODEL_6a84b4b584ce4f5da9ac5acc601fb980",
            "placeholder": "​",
            "style": "IPY_MODEL_e391d7ade70f4881ab90b6895cbcedc9",
            "value": " 622/622 [00:00&lt;00:00, 65.1kB/s]"
          }
        },
        "703f1c39830949018f7a5c097f199956": {
          "model_module": "@jupyter-widgets/base",
          "model_name": "LayoutModel",
          "model_module_version": "1.2.0",
          "state": {
            "_model_module": "@jupyter-widgets/base",
            "_model_module_version": "1.2.0",
            "_model_name": "LayoutModel",
            "_view_count": null,
            "_view_module": "@jupyter-widgets/base",
            "_view_module_version": "1.2.0",
            "_view_name": "LayoutView",
            "align_content": null,
            "align_items": null,
            "align_self": null,
            "border": null,
            "bottom": null,
            "display": null,
            "flex": null,
            "flex_flow": null,
            "grid_area": null,
            "grid_auto_columns": null,
            "grid_auto_flow": null,
            "grid_auto_rows": null,
            "grid_column": null,
            "grid_gap": null,
            "grid_row": null,
            "grid_template_areas": null,
            "grid_template_columns": null,
            "grid_template_rows": null,
            "height": null,
            "justify_content": null,
            "justify_items": null,
            "left": null,
            "margin": null,
            "max_height": null,
            "max_width": null,
            "min_height": null,
            "min_width": null,
            "object_fit": null,
            "object_position": null,
            "order": null,
            "overflow": null,
            "overflow_x": null,
            "overflow_y": null,
            "padding": null,
            "right": null,
            "top": null,
            "visibility": null,
            "width": null
          }
        },
        "2c9124293a164c988aeb2cfd8482b8a3": {
          "model_module": "@jupyter-widgets/base",
          "model_name": "LayoutModel",
          "model_module_version": "1.2.0",
          "state": {
            "_model_module": "@jupyter-widgets/base",
            "_model_module_version": "1.2.0",
            "_model_name": "LayoutModel",
            "_view_count": null,
            "_view_module": "@jupyter-widgets/base",
            "_view_module_version": "1.2.0",
            "_view_name": "LayoutView",
            "align_content": null,
            "align_items": null,
            "align_self": null,
            "border": null,
            "bottom": null,
            "display": null,
            "flex": null,
            "flex_flow": null,
            "grid_area": null,
            "grid_auto_columns": null,
            "grid_auto_flow": null,
            "grid_auto_rows": null,
            "grid_column": null,
            "grid_gap": null,
            "grid_row": null,
            "grid_template_areas": null,
            "grid_template_columns": null,
            "grid_template_rows": null,
            "height": null,
            "justify_content": null,
            "justify_items": null,
            "left": null,
            "margin": null,
            "max_height": null,
            "max_width": null,
            "min_height": null,
            "min_width": null,
            "object_fit": null,
            "object_position": null,
            "order": null,
            "overflow": null,
            "overflow_x": null,
            "overflow_y": null,
            "padding": null,
            "right": null,
            "top": null,
            "visibility": null,
            "width": null
          }
        },
        "94bd868c4acd4006a0b9097ac215703d": {
          "model_module": "@jupyter-widgets/controls",
          "model_name": "DescriptionStyleModel",
          "model_module_version": "1.5.0",
          "state": {
            "_model_module": "@jupyter-widgets/controls",
            "_model_module_version": "1.5.0",
            "_model_name": "DescriptionStyleModel",
            "_view_count": null,
            "_view_module": "@jupyter-widgets/base",
            "_view_module_version": "1.2.0",
            "_view_name": "StyleView",
            "description_width": ""
          }
        },
        "175f18d5e85d47189f5d1764edd6d3c5": {
          "model_module": "@jupyter-widgets/base",
          "model_name": "LayoutModel",
          "model_module_version": "1.2.0",
          "state": {
            "_model_module": "@jupyter-widgets/base",
            "_model_module_version": "1.2.0",
            "_model_name": "LayoutModel",
            "_view_count": null,
            "_view_module": "@jupyter-widgets/base",
            "_view_module_version": "1.2.0",
            "_view_name": "LayoutView",
            "align_content": null,
            "align_items": null,
            "align_self": null,
            "border": null,
            "bottom": null,
            "display": null,
            "flex": null,
            "flex_flow": null,
            "grid_area": null,
            "grid_auto_columns": null,
            "grid_auto_flow": null,
            "grid_auto_rows": null,
            "grid_column": null,
            "grid_gap": null,
            "grid_row": null,
            "grid_template_areas": null,
            "grid_template_columns": null,
            "grid_template_rows": null,
            "height": null,
            "justify_content": null,
            "justify_items": null,
            "left": null,
            "margin": null,
            "max_height": null,
            "max_width": null,
            "min_height": null,
            "min_width": null,
            "object_fit": null,
            "object_position": null,
            "order": null,
            "overflow": null,
            "overflow_x": null,
            "overflow_y": null,
            "padding": null,
            "right": null,
            "top": null,
            "visibility": null,
            "width": null
          }
        },
        "b3e0de26b342432aa208aced9a649206": {
          "model_module": "@jupyter-widgets/controls",
          "model_name": "ProgressStyleModel",
          "model_module_version": "1.5.0",
          "state": {
            "_model_module": "@jupyter-widgets/controls",
            "_model_module_version": "1.5.0",
            "_model_name": "ProgressStyleModel",
            "_view_count": null,
            "_view_module": "@jupyter-widgets/base",
            "_view_module_version": "1.2.0",
            "_view_name": "StyleView",
            "bar_color": null,
            "description_width": ""
          }
        },
        "6a84b4b584ce4f5da9ac5acc601fb980": {
          "model_module": "@jupyter-widgets/base",
          "model_name": "LayoutModel",
          "model_module_version": "1.2.0",
          "state": {
            "_model_module": "@jupyter-widgets/base",
            "_model_module_version": "1.2.0",
            "_model_name": "LayoutModel",
            "_view_count": null,
            "_view_module": "@jupyter-widgets/base",
            "_view_module_version": "1.2.0",
            "_view_name": "LayoutView",
            "align_content": null,
            "align_items": null,
            "align_self": null,
            "border": null,
            "bottom": null,
            "display": null,
            "flex": null,
            "flex_flow": null,
            "grid_area": null,
            "grid_auto_columns": null,
            "grid_auto_flow": null,
            "grid_auto_rows": null,
            "grid_column": null,
            "grid_gap": null,
            "grid_row": null,
            "grid_template_areas": null,
            "grid_template_columns": null,
            "grid_template_rows": null,
            "height": null,
            "justify_content": null,
            "justify_items": null,
            "left": null,
            "margin": null,
            "max_height": null,
            "max_width": null,
            "min_height": null,
            "min_width": null,
            "object_fit": null,
            "object_position": null,
            "order": null,
            "overflow": null,
            "overflow_x": null,
            "overflow_y": null,
            "padding": null,
            "right": null,
            "top": null,
            "visibility": null,
            "width": null
          }
        },
        "e391d7ade70f4881ab90b6895cbcedc9": {
          "model_module": "@jupyter-widgets/controls",
          "model_name": "DescriptionStyleModel",
          "model_module_version": "1.5.0",
          "state": {
            "_model_module": "@jupyter-widgets/controls",
            "_model_module_version": "1.5.0",
            "_model_name": "DescriptionStyleModel",
            "_view_count": null,
            "_view_module": "@jupyter-widgets/base",
            "_view_module_version": "1.2.0",
            "_view_name": "StyleView",
            "description_width": ""
          }
        },
        "33e843d150ae4284aec19520e8ef01db": {
          "model_module": "@jupyter-widgets/controls",
          "model_name": "HBoxModel",
          "model_module_version": "1.5.0",
          "state": {
            "_dom_classes": [],
            "_model_module": "@jupyter-widgets/controls",
            "_model_module_version": "1.5.0",
            "_model_name": "HBoxModel",
            "_view_count": null,
            "_view_module": "@jupyter-widgets/controls",
            "_view_module_version": "1.5.0",
            "_view_name": "HBoxView",
            "box_style": "",
            "children": [
              "IPY_MODEL_616530cc32a94333836eb5e431770385",
              "IPY_MODEL_aba82100fbeb4b8cb565508e42bbda68",
              "IPY_MODEL_c8466d364d0f4f72b4af5c3e06e76fa2"
            ],
            "layout": "IPY_MODEL_436e3128b1ed494e8d8b968b59f64de8"
          }
        },
        "616530cc32a94333836eb5e431770385": {
          "model_module": "@jupyter-widgets/controls",
          "model_name": "HTMLModel",
          "model_module_version": "1.5.0",
          "state": {
            "_dom_classes": [],
            "_model_module": "@jupyter-widgets/controls",
            "_model_module_version": "1.5.0",
            "_model_name": "HTMLModel",
            "_view_count": null,
            "_view_module": "@jupyter-widgets/controls",
            "_view_module_version": "1.5.0",
            "_view_name": "HTMLView",
            "description": "",
            "description_tooltip": null,
            "layout": "IPY_MODEL_9ed582efcfe14f9790ee7002e5a97e37",
            "placeholder": "​",
            "style": "IPY_MODEL_4a2f545b67cc4dc99bc8f427a12e3cff",
            "value": "pytorch_model.bin: 100%"
          }
        },
        "aba82100fbeb4b8cb565508e42bbda68": {
          "model_module": "@jupyter-widgets/controls",
          "model_name": "FloatProgressModel",
          "model_module_version": "1.5.0",
          "state": {
            "_dom_classes": [],
            "_model_module": "@jupyter-widgets/controls",
            "_model_module_version": "1.5.0",
            "_model_name": "FloatProgressModel",
            "_view_count": null,
            "_view_module": "@jupyter-widgets/controls",
            "_view_module_version": "1.5.0",
            "_view_name": "ProgressView",
            "bar_style": "success",
            "description": "",
            "description_tooltip": null,
            "layout": "IPY_MODEL_9d17bb2045a74e7f8e31ec93092939ca",
            "max": 3141928084,
            "min": 0,
            "orientation": "horizontal",
            "style": "IPY_MODEL_8fe5cac1ac9d47e4b8659059e76924a2",
            "value": 3141928084
          }
        },
        "c8466d364d0f4f72b4af5c3e06e76fa2": {
          "model_module": "@jupyter-widgets/controls",
          "model_name": "HTMLModel",
          "model_module_version": "1.5.0",
          "state": {
            "_dom_classes": [],
            "_model_module": "@jupyter-widgets/controls",
            "_model_module_version": "1.5.0",
            "_model_name": "HTMLModel",
            "_view_count": null,
            "_view_module": "@jupyter-widgets/controls",
            "_view_module_version": "1.5.0",
            "_view_name": "HTMLView",
            "description": "",
            "description_tooltip": null,
            "layout": "IPY_MODEL_f5a2f92f35ee4ccba488601bbe493886",
            "placeholder": "​",
            "style": "IPY_MODEL_691e46dad77e46d699103f4b780607af",
            "value": " 3.14G/3.14G [00:19&lt;00:00, 254MB/s]"
          }
        },
        "436e3128b1ed494e8d8b968b59f64de8": {
          "model_module": "@jupyter-widgets/base",
          "model_name": "LayoutModel",
          "model_module_version": "1.2.0",
          "state": {
            "_model_module": "@jupyter-widgets/base",
            "_model_module_version": "1.2.0",
            "_model_name": "LayoutModel",
            "_view_count": null,
            "_view_module": "@jupyter-widgets/base",
            "_view_module_version": "1.2.0",
            "_view_name": "LayoutView",
            "align_content": null,
            "align_items": null,
            "align_self": null,
            "border": null,
            "bottom": null,
            "display": null,
            "flex": null,
            "flex_flow": null,
            "grid_area": null,
            "grid_auto_columns": null,
            "grid_auto_flow": null,
            "grid_auto_rows": null,
            "grid_column": null,
            "grid_gap": null,
            "grid_row": null,
            "grid_template_areas": null,
            "grid_template_columns": null,
            "grid_template_rows": null,
            "height": null,
            "justify_content": null,
            "justify_items": null,
            "left": null,
            "margin": null,
            "max_height": null,
            "max_width": null,
            "min_height": null,
            "min_width": null,
            "object_fit": null,
            "object_position": null,
            "order": null,
            "overflow": null,
            "overflow_x": null,
            "overflow_y": null,
            "padding": null,
            "right": null,
            "top": null,
            "visibility": null,
            "width": null
          }
        },
        "9ed582efcfe14f9790ee7002e5a97e37": {
          "model_module": "@jupyter-widgets/base",
          "model_name": "LayoutModel",
          "model_module_version": "1.2.0",
          "state": {
            "_model_module": "@jupyter-widgets/base",
            "_model_module_version": "1.2.0",
            "_model_name": "LayoutModel",
            "_view_count": null,
            "_view_module": "@jupyter-widgets/base",
            "_view_module_version": "1.2.0",
            "_view_name": "LayoutView",
            "align_content": null,
            "align_items": null,
            "align_self": null,
            "border": null,
            "bottom": null,
            "display": null,
            "flex": null,
            "flex_flow": null,
            "grid_area": null,
            "grid_auto_columns": null,
            "grid_auto_flow": null,
            "grid_auto_rows": null,
            "grid_column": null,
            "grid_gap": null,
            "grid_row": null,
            "grid_template_areas": null,
            "grid_template_columns": null,
            "grid_template_rows": null,
            "height": null,
            "justify_content": null,
            "justify_items": null,
            "left": null,
            "margin": null,
            "max_height": null,
            "max_width": null,
            "min_height": null,
            "min_width": null,
            "object_fit": null,
            "object_position": null,
            "order": null,
            "overflow": null,
            "overflow_x": null,
            "overflow_y": null,
            "padding": null,
            "right": null,
            "top": null,
            "visibility": null,
            "width": null
          }
        },
        "4a2f545b67cc4dc99bc8f427a12e3cff": {
          "model_module": "@jupyter-widgets/controls",
          "model_name": "DescriptionStyleModel",
          "model_module_version": "1.5.0",
          "state": {
            "_model_module": "@jupyter-widgets/controls",
            "_model_module_version": "1.5.0",
            "_model_name": "DescriptionStyleModel",
            "_view_count": null,
            "_view_module": "@jupyter-widgets/base",
            "_view_module_version": "1.2.0",
            "_view_name": "StyleView",
            "description_width": ""
          }
        },
        "9d17bb2045a74e7f8e31ec93092939ca": {
          "model_module": "@jupyter-widgets/base",
          "model_name": "LayoutModel",
          "model_module_version": "1.2.0",
          "state": {
            "_model_module": "@jupyter-widgets/base",
            "_model_module_version": "1.2.0",
            "_model_name": "LayoutModel",
            "_view_count": null,
            "_view_module": "@jupyter-widgets/base",
            "_view_module_version": "1.2.0",
            "_view_name": "LayoutView",
            "align_content": null,
            "align_items": null,
            "align_self": null,
            "border": null,
            "bottom": null,
            "display": null,
            "flex": null,
            "flex_flow": null,
            "grid_area": null,
            "grid_auto_columns": null,
            "grid_auto_flow": null,
            "grid_auto_rows": null,
            "grid_column": null,
            "grid_gap": null,
            "grid_row": null,
            "grid_template_areas": null,
            "grid_template_columns": null,
            "grid_template_rows": null,
            "height": null,
            "justify_content": null,
            "justify_items": null,
            "left": null,
            "margin": null,
            "max_height": null,
            "max_width": null,
            "min_height": null,
            "min_width": null,
            "object_fit": null,
            "object_position": null,
            "order": null,
            "overflow": null,
            "overflow_x": null,
            "overflow_y": null,
            "padding": null,
            "right": null,
            "top": null,
            "visibility": null,
            "width": null
          }
        },
        "8fe5cac1ac9d47e4b8659059e76924a2": {
          "model_module": "@jupyter-widgets/controls",
          "model_name": "ProgressStyleModel",
          "model_module_version": "1.5.0",
          "state": {
            "_model_module": "@jupyter-widgets/controls",
            "_model_module_version": "1.5.0",
            "_model_name": "ProgressStyleModel",
            "_view_count": null,
            "_view_module": "@jupyter-widgets/base",
            "_view_module_version": "1.2.0",
            "_view_name": "StyleView",
            "bar_color": null,
            "description_width": ""
          }
        },
        "f5a2f92f35ee4ccba488601bbe493886": {
          "model_module": "@jupyter-widgets/base",
          "model_name": "LayoutModel",
          "model_module_version": "1.2.0",
          "state": {
            "_model_module": "@jupyter-widgets/base",
            "_model_module_version": "1.2.0",
            "_model_name": "LayoutModel",
            "_view_count": null,
            "_view_module": "@jupyter-widgets/base",
            "_view_module_version": "1.2.0",
            "_view_name": "LayoutView",
            "align_content": null,
            "align_items": null,
            "align_self": null,
            "border": null,
            "bottom": null,
            "display": null,
            "flex": null,
            "flex_flow": null,
            "grid_area": null,
            "grid_auto_columns": null,
            "grid_auto_flow": null,
            "grid_auto_rows": null,
            "grid_column": null,
            "grid_gap": null,
            "grid_row": null,
            "grid_template_areas": null,
            "grid_template_columns": null,
            "grid_template_rows": null,
            "height": null,
            "justify_content": null,
            "justify_items": null,
            "left": null,
            "margin": null,
            "max_height": null,
            "max_width": null,
            "min_height": null,
            "min_width": null,
            "object_fit": null,
            "object_position": null,
            "order": null,
            "overflow": null,
            "overflow_x": null,
            "overflow_y": null,
            "padding": null,
            "right": null,
            "top": null,
            "visibility": null,
            "width": null
          }
        },
        "691e46dad77e46d699103f4b780607af": {
          "model_module": "@jupyter-widgets/controls",
          "model_name": "DescriptionStyleModel",
          "model_module_version": "1.5.0",
          "state": {
            "_model_module": "@jupyter-widgets/controls",
            "_model_module_version": "1.5.0",
            "_model_name": "DescriptionStyleModel",
            "_view_count": null,
            "_view_module": "@jupyter-widgets/base",
            "_view_module_version": "1.2.0",
            "_view_name": "StyleView",
            "description_width": ""
          }
        }
      }
    }
  },
  "nbformat": 4,
  "nbformat_minor": 5
}