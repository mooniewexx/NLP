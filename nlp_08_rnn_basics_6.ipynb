{
  "cells": [
    {
      "cell_type": "markdown",
      "id": "3a564d5f",
      "metadata": {
        "id": "3a564d5f"
      },
      "source": [
        "#  Введение в рекуррентные нейронные сети\n",
        "\n",
        "__Автор задач: Блохин Н.В. (NVBlokhin@fa.ru)__\n",
        "\n",
        "Материалы:\n",
        "* Николенко С., Кадурин А., Архангельская Е. Глубокое обучение.\n",
        "* https://pytorch.org/docs/stable/nn.html#recurrent-layers\n",
        "* https://karpathy.github.io/2015/05/21/rnn-effectiveness/\n",
        "* https://pytorch.org/docs/stable/generated/torch.nn.RNNCell.html\n",
        "* https://blog.floydhub.com/a-beginners-guide-on-recurrent-neural-networks-with-pytorch/\n",
        "* https://pytorch.org/tutorials/intermediate/char_rnn_classification_tutorial.html"
      ]
    },
    {
      "cell_type": "markdown",
      "id": "c9ecd663",
      "metadata": {
        "id": "c9ecd663"
      },
      "source": [
        "## Задачи для совместного разбора"
      ]
    },
    {
      "cell_type": "markdown",
      "id": "5691eb1d",
      "metadata": {
        "id": "5691eb1d"
      },
      "source": [
        "1\\. Рассмотрите пример работы одного шага простейшего рекуррентного слоя.  \n",
        "\n",
        "$$ h' = tanh(W_{ih}x + W_{hh}h) $$\n",
        "\n",
        "![RNN](https://kvitajakub.github.io/img/rnn-unrolled.png)"
      ]
    },
    {
      "cell_type": "markdown",
      "id": "7d2dbad1",
      "metadata": {
        "id": "7d2dbad1"
      },
      "source": [
        "2\\. Рассмотрите пример работы рекуррентных слоев из `torch.nn`."
      ]
    },
    {
      "cell_type": "code",
      "source": [
        "import torch as th\n",
        "import torch.nn as nn"
      ],
      "metadata": {
        "id": "5H9zdrJRJgRU"
      },
      "id": "5H9zdrJRJgRU",
      "execution_count": null,
      "outputs": []
    },
    {
      "cell_type": "code",
      "source": [
        "batch_size = 16\n",
        "input_size = 32\n",
        "hidden_size = 10\n",
        "output_size = 2\n",
        "\n",
        "x0 = th.rand(batch_size, input_size)"
      ],
      "metadata": {
        "id": "kJaA03ZuJspu"
      },
      "id": "kJaA03ZuJspu",
      "execution_count": null,
      "outputs": []
    },
    {
      "cell_type": "code",
      "source": [
        "layer = nn.RNNCell(input_size, hidden_size)\n",
        "fc = nn.Linear(hidden_size, output_size)\n",
        "# h0 = th.zeros(batch_size, hidden_size)\n",
        "# h1 = layer(x0, h0)\n",
        "h1 = layer(x0)\n",
        "o1 = fc(h1) # если нужен прогноз на уровне эл-тов последовательности"
      ],
      "metadata": {
        "id": "KMNC7D1MKNtt"
      },
      "id": "KMNC7D1MKNtt",
      "execution_count": null,
      "outputs": []
    },
    {
      "cell_type": "code",
      "source": [
        "x1 = th.rand(batch_size, input_size)\n",
        "h2 = layer(x1, h1)\n",
        "h2.shape"
      ],
      "metadata": {
        "colab": {
          "base_uri": "https://localhost:8080/"
        },
        "id": "PzsrghFdKn7y",
        "outputId": "f7d86001-1845-47c1-aaa4-ecaa07eb5c47"
      },
      "id": "PzsrghFdKn7y",
      "execution_count": null,
      "outputs": [
        {
          "output_type": "execute_result",
          "data": {
            "text/plain": [
              "torch.Size([16, 10])"
            ]
          },
          "metadata": {},
          "execution_count": 4
        }
      ]
    },
    {
      "cell_type": "code",
      "source": [
        "layer = nn.RNN(input_size, hidden_size, batch_first=True)\n",
        "\n",
        "seq_len = 8\n",
        "x = th.rand(batch_size, seq_len, input_size)\n",
        "o, h = layer(x)\n",
        "x.shape, h.shape, o.shape"
      ],
      "metadata": {
        "colab": {
          "base_uri": "https://localhost:8080/"
        },
        "id": "Zip69hf5LazD",
        "outputId": "ba162c87-cf2b-444a-bce0-d2e0b6bcda3a"
      },
      "id": "Zip69hf5LazD",
      "execution_count": null,
      "outputs": [
        {
          "output_type": "execute_result",
          "data": {
            "text/plain": [
              "(torch.Size([16, 8, 32]), torch.Size([1, 16, 10]), torch.Size([16, 8, 10]))"
            ]
          },
          "metadata": {},
          "execution_count": 5
        }
      ]
    },
    {
      "cell_type": "code",
      "source": [
        "o[0, -1, :]"
      ],
      "metadata": {
        "colab": {
          "base_uri": "https://localhost:8080/"
        },
        "id": "_nVkEGWcMPZp",
        "outputId": "ffe46155-bfe8-4dc1-a377-5c5745c90205"
      },
      "id": "_nVkEGWcMPZp",
      "execution_count": null,
      "outputs": [
        {
          "output_type": "execute_result",
          "data": {
            "text/plain": [
              "tensor([-0.1540,  0.8430,  0.4594,  0.8687,  0.2452,  0.8506, -0.3624, -0.4393,\n",
              "        -0.8056, -0.1328], grad_fn=<SliceBackward0>)"
            ]
          },
          "metadata": {},
          "execution_count": 6
        }
      ]
    },
    {
      "cell_type": "code",
      "source": [
        "h[0, 0, :]"
      ],
      "metadata": {
        "colab": {
          "base_uri": "https://localhost:8080/"
        },
        "id": "XEarq90pMoQN",
        "outputId": "a72555db-7e2d-49fc-829b-a38498bd0701"
      },
      "id": "XEarq90pMoQN",
      "execution_count": null,
      "outputs": [
        {
          "output_type": "execute_result",
          "data": {
            "text/plain": [
              "tensor([-0.1540,  0.8430,  0.4594,  0.8687,  0.2452,  0.8506, -0.3624, -0.4393,\n",
              "        -0.8056, -0.1328], grad_fn=<SliceBackward0>)"
            ]
          },
          "metadata": {},
          "execution_count": 7
        }
      ]
    },
    {
      "cell_type": "code",
      "source": [
        "classifier = nn.Linear(hidden_size, output_size)\n",
        "classifier(h[0, :])"
      ],
      "metadata": {
        "colab": {
          "base_uri": "https://localhost:8080/"
        },
        "collapsed": true,
        "id": "_2GQyxxDM2Ce",
        "outputId": "097c7745-5ace-426a-e94a-9d6b295effea"
      },
      "id": "_2GQyxxDM2Ce",
      "execution_count": null,
      "outputs": [
        {
          "output_type": "execute_result",
          "data": {
            "text/plain": [
              "tensor([[-0.5222,  0.6036],\n",
              "        [-0.1438,  1.1042],\n",
              "        [-0.5373,  0.8097],\n",
              "        [-0.6505,  0.7438],\n",
              "        [-0.7401,  0.8519],\n",
              "        [-0.5984,  1.1691],\n",
              "        [-0.1497,  0.9722],\n",
              "        [-0.3409,  0.6969],\n",
              "        [-0.6603,  1.1096],\n",
              "        [-0.5565,  1.0003],\n",
              "        [-0.4598,  0.5851],\n",
              "        [-0.4777,  0.4294],\n",
              "        [-0.5219,  0.6259],\n",
              "        [-0.6626,  1.1424],\n",
              "        [-0.5385,  0.8559],\n",
              "        [-0.2902,  1.0043]], grad_fn=<AddmmBackward0>)"
            ]
          },
          "metadata": {},
          "execution_count": 8
        }
      ]
    },
    {
      "cell_type": "code",
      "source": [
        "layer = nn.RNN(input_size, hidden_size, batch_first=False)\n",
        "\n",
        "seq_len = 8\n",
        "x = th.rand(seq_len, batch_size, input_size)\n",
        "o, h = layer(x)\n",
        "x.shape, h.shape, o.shape"
      ],
      "metadata": {
        "colab": {
          "base_uri": "https://localhost:8080/"
        },
        "id": "uFViSedwNB6Q",
        "outputId": "380cca2d-6bc6-4349-f02f-ba39037227e9"
      },
      "id": "uFViSedwNB6Q",
      "execution_count": null,
      "outputs": [
        {
          "output_type": "execute_result",
          "data": {
            "text/plain": [
              "(torch.Size([8, 16, 32]), torch.Size([1, 16, 10]), torch.Size([8, 16, 10]))"
            ]
          },
          "metadata": {},
          "execution_count": 9
        }
      ]
    },
    {
      "cell_type": "markdown",
      "id": "4d7b6d63",
      "metadata": {
        "id": "4d7b6d63"
      },
      "source": [
        "## Задачи для самостоятельного решения"
      ]
    },
    {
      "cell_type": "markdown",
      "source": [
        "### 1."
      ],
      "metadata": {
        "id": "vN-7RceNYqnC"
      },
      "id": "vN-7RceNYqnC"
    },
    {
      "cell_type": "markdown",
      "id": "af8d16f0",
      "metadata": {
        "id": "af8d16f0"
      },
      "source": [
        "<p class=\"task\" id=\"1\"></p>\n",
        "\n",
        "1\\. Используя класс `nn.RNNCell` (абстракцию для отдельного временного шага RNN), реализуйте простейшую рекуррентную сеть в виде класса `RNN`. Предусмотрите возможность работы с двумя вариантами данных: где данные (x) представлены в виде (batch, seq, feature) и где данные представлены в формате (seq, batch, feature). Создайте тензор `inputs1` размера 16 x 8 x 32 (batch, seq, feature) и пропустите через модель `RNN`. Выведите на экран форму двух полученных тензоров. Проверьте, что тензор `output[:, -1, :]` поэлементно равен `h`.\n",
        "\n",
        "- [ ] Проверено на семинаре"
      ]
    },
    {
      "cell_type": "code",
      "execution_count": null,
      "id": "9d6f3a42",
      "metadata": {
        "id": "9d6f3a42"
      },
      "outputs": [],
      "source": [
        "class RNN(nn.Module):\n",
        "  def __init__(self, input_size, hidden_size):\n",
        "    pass\n",
        "\n",
        "  def forward(self, x, h=None):\n",
        "    '''\n",
        "    x.shape = (batch_size, seq_len, feature_size) - тензор входных данных\n",
        "    h.shape = (batch_size, hidden_size) - тензор со скрытым состоянием RNN\n",
        "    '''\n",
        "    # инициализация тензора скрытых состояний\n",
        "    # h = ...\n",
        "\n",
        "    # проход по каждому элементу последовательностей s в батче и обновление скрытого состояния\n",
        "    # h = RNNCell(s_t, h)\n",
        "\n",
        "    # вернуть тензор всех наблюдавшихся скрытых состояний размера (batch_size, seq_len, hidden_size) и тензор скрытых состояний в последний момент времени"
      ]
    },
    {
      "cell_type": "code",
      "source": [
        "import torch as th"
      ],
      "metadata": {
        "id": "nqtMHzp1ux4W"
      },
      "id": "nqtMHzp1ux4W",
      "execution_count": null,
      "outputs": []
    },
    {
      "cell_type": "code",
      "source": [
        "class RNN(nn.Module):\n",
        "  def __init__(self, input_size, hidden_size, batch_first=True):\n",
        "    super().__init__()\n",
        "    self.input_size = input_size\n",
        "    self.hidden_size = hidden_size\n",
        "    self.batch_first = batch_first\n",
        "    self.rnn_cell = nn.RNNCell(input_size, hidden_size)\n",
        "\n",
        "  def forward(self, x, h=None):\n",
        "    '''\n",
        "    x.shape = (batch_size, seq_len, feature_size) - тензор входных данных\n",
        "    h.shape = (batch_size, hidden_size) - тензор со скрытым состоянием RNN\n",
        "    '''\n",
        "    if self.batch_first==True:\n",
        "      batch_size, seq_len, feature = x.size()\n",
        "    else:\n",
        "      seq_len, batch_size, feature = x.size()\n",
        "      x = x.transpose(0, 1) # приводим к размерности (batch, seq, features) из (seq, batch, ..)\n",
        "\n",
        "    if h is None:\n",
        "      h = th.zeros(batch_size, self.hidden_size)\n",
        "\n",
        "    h_s = []\n",
        "    for t in range(seq_len):\n",
        "      x_t = x[:, t, :]\n",
        "      h = self.rnn_cell(x_t, h)\n",
        "      h_s.append(h.unsqueeze(1)) # добавл размерность\n",
        "\n",
        "    h_s = th.cat(h_s, dim=1) # по столбцам\n",
        "\n",
        "    if self.batch_first==False:\n",
        "      h_s = h_s.transpose(0, 1) # возвращаю обратно к (seq, batch, hidden) из (batch, seq, ...)\n",
        "\n",
        "    return h_s, h"
      ],
      "metadata": {
        "id": "MXQgeyMhp_wc"
      },
      "id": "MXQgeyMhp_wc",
      "execution_count": null,
      "outputs": []
    },
    {
      "cell_type": "code",
      "source": [
        "inputs1 = th.rand(16, 8, 32) #(batch, seq, feature)"
      ],
      "metadata": {
        "id": "Hh5xGzpXuFu8"
      },
      "id": "Hh5xGzpXuFu8",
      "execution_count": null,
      "outputs": []
    },
    {
      "cell_type": "code",
      "source": [
        "input_size = 32\n",
        "hidden_size = 10\n",
        "model = RNN(input_size, hidden_size)"
      ],
      "metadata": {
        "id": "tdTwj3ktuFsj"
      },
      "id": "tdTwj3ktuFsj",
      "execution_count": null,
      "outputs": []
    },
    {
      "cell_type": "code",
      "source": [
        "output, h = model(inputs1)\n",
        "\n",
        "output.shape, h.shape"
      ],
      "metadata": {
        "colab": {
          "base_uri": "https://localhost:8080/"
        },
        "id": "tShTgOcfuoxL",
        "outputId": "70db07af-96b7-4b34-dafb-ab705bba9d68"
      },
      "id": "tShTgOcfuoxL",
      "execution_count": null,
      "outputs": [
        {
          "output_type": "execute_result",
          "data": {
            "text/plain": [
              "(torch.Size([16, 8, 10]), torch.Size([16, 10]))"
            ]
          },
          "metadata": {},
          "execution_count": 45
        }
      ]
    },
    {
      "cell_type": "code",
      "source": [
        "(output[:, -1, :] == h).all()"
      ],
      "metadata": {
        "colab": {
          "base_uri": "https://localhost:8080/"
        },
        "id": "70IVjbouvPQi",
        "outputId": "2299ce82-1784-49c7-c201-ce07daecc4ff"
      },
      "id": "70IVjbouvPQi",
      "execution_count": null,
      "outputs": [
        {
          "output_type": "execute_result",
          "data": {
            "text/plain": [
              "tensor(True)"
            ]
          },
          "metadata": {},
          "execution_count": 46
        }
      ]
    },
    {
      "cell_type": "markdown",
      "source": [
        "### 2."
      ],
      "metadata": {
        "id": "JoSdeKzXa5sk"
      },
      "id": "JoSdeKzXa5sk"
    },
    {
      "cell_type": "markdown",
      "id": "f5f54adc",
      "metadata": {
        "id": "f5f54adc"
      },
      "source": [
        "<p class=\"task\" id=\"2\"></p>\n",
        "\n",
        "2\\. Создайте тензор `inputs2` размера 8 x 16 x 32 (seq, batch, feature) и пропустите через модель `RNN`. Выведите на экран форму двух полученных тензоров. Проверьте, что тензор `output[:, -1, :]` поэлементно равен `h`.\n",
        "\n",
        "- [ ] Проверено на семинаре"
      ]
    },
    {
      "cell_type": "code",
      "source": [
        "# ошибка, должно быть output[-1, :, :]"
      ],
      "metadata": {
        "id": "vgz-KE2ebL9R"
      },
      "id": "vgz-KE2ebL9R",
      "execution_count": null,
      "outputs": []
    },
    {
      "cell_type": "code",
      "source": [
        "model2 = RNN(input_size, hidden_size, batch_first=False)\n",
        "inputs2 = th.rand(8, 16, 32)\n",
        "\n",
        "output2, h2 = model2(inputs2)\n",
        "\n",
        "output2.shape, h2.shape"
      ],
      "metadata": {
        "colab": {
          "base_uri": "https://localhost:8080/"
        },
        "id": "cesMX-rsvhgy",
        "outputId": "5c3277b2-2210-4166-81fa-6dc97a0f024b"
      },
      "execution_count": null,
      "outputs": [
        {
          "output_type": "execute_result",
          "data": {
            "text/plain": [
              "(torch.Size([8, 16, 10]), torch.Size([16, 10]))"
            ]
          },
          "metadata": {},
          "execution_count": 53
        }
      ],
      "id": "cesMX-rsvhgy"
    },
    {
      "cell_type": "code",
      "source": [
        "(output2[-1,:, :] == h2).all()"
      ],
      "metadata": {
        "colab": {
          "base_uri": "https://localhost:8080/"
        },
        "id": "IGlnC--MwXYF",
        "outputId": "28f7047c-57b1-42c9-9cce-bad4d7644292"
      },
      "execution_count": null,
      "outputs": [
        {
          "output_type": "execute_result",
          "data": {
            "text/plain": [
              "tensor(True)"
            ]
          },
          "metadata": {},
          "execution_count": 54
        }
      ],
      "id": "IGlnC--MwXYF"
    },
    {
      "cell_type": "markdown",
      "source": [
        "### 3."
      ],
      "metadata": {
        "id": "zhsfSktQa8bn"
      },
      "id": "zhsfSktQa8bn"
    },
    {
      "cell_type": "markdown",
      "id": "0f6ce17e",
      "metadata": {
        "id": "0f6ce17e"
      },
      "source": [
        "<p class=\"task\" id=\"3\"></p>\n",
        "\n",
        "3\\. Считайте файл `pets.csv`, приведите имена питомцев к нижнем регистру. Решите проблему с противоречивостью данных (некоторые имена встречаются в обоих классах). Разбейте набор данных на обучающую и тестовую выборку.  Создайте Tokenizer на основе обучающей выборки (токен - __буква__). Добавьте в словарь специальный токен `<PAD>`. Выведите на экран количество токенов в полученном словаре.\n",
        "\n",
        "- [ ] Проверено на семинаре"
      ]
    },
    {
      "cell_type": "code",
      "source": [
        "import pandas as pd\n",
        "\n",
        "data = pd.read_csv('pets.csv')\n",
        "data.head()"
      ],
      "metadata": {
        "colab": {
          "base_uri": "https://localhost:8080/",
          "height": 206
        },
        "id": "qPusJbGfxyMP",
        "outputId": "65195542-96f7-416c-d320-5cec41dcd038"
      },
      "id": "qPusJbGfxyMP",
      "execution_count": null,
      "outputs": [
        {
          "output_type": "execute_result",
          "data": {
            "text/plain": [
              "     имя   класс\n",
              "0   Арчи  собака\n",
              "1  Алекс  собака\n",
              "2   Амур  собака\n",
              "3  Алтaй  собака\n",
              "4   Альф  собака"
            ],
            "text/html": [
              "\n",
              "  <div id=\"df-e06b21a1-a596-4de1-9301-06ed63cd59da\" class=\"colab-df-container\">\n",
              "    <div>\n",
              "<style scoped>\n",
              "    .dataframe tbody tr th:only-of-type {\n",
              "        vertical-align: middle;\n",
              "    }\n",
              "\n",
              "    .dataframe tbody tr th {\n",
              "        vertical-align: top;\n",
              "    }\n",
              "\n",
              "    .dataframe thead th {\n",
              "        text-align: right;\n",
              "    }\n",
              "</style>\n",
              "<table border=\"1\" class=\"dataframe\">\n",
              "  <thead>\n",
              "    <tr style=\"text-align: right;\">\n",
              "      <th></th>\n",
              "      <th>имя</th>\n",
              "      <th>класс</th>\n",
              "    </tr>\n",
              "  </thead>\n",
              "  <tbody>\n",
              "    <tr>\n",
              "      <th>0</th>\n",
              "      <td>Арчи</td>\n",
              "      <td>собака</td>\n",
              "    </tr>\n",
              "    <tr>\n",
              "      <th>1</th>\n",
              "      <td>Алекс</td>\n",
              "      <td>собака</td>\n",
              "    </tr>\n",
              "    <tr>\n",
              "      <th>2</th>\n",
              "      <td>Амур</td>\n",
              "      <td>собака</td>\n",
              "    </tr>\n",
              "    <tr>\n",
              "      <th>3</th>\n",
              "      <td>Алтaй</td>\n",
              "      <td>собака</td>\n",
              "    </tr>\n",
              "    <tr>\n",
              "      <th>4</th>\n",
              "      <td>Альф</td>\n",
              "      <td>собака</td>\n",
              "    </tr>\n",
              "  </tbody>\n",
              "</table>\n",
              "</div>\n",
              "    <div class=\"colab-df-buttons\">\n",
              "\n",
              "  <div class=\"colab-df-container\">\n",
              "    <button class=\"colab-df-convert\" onclick=\"convertToInteractive('df-e06b21a1-a596-4de1-9301-06ed63cd59da')\"\n",
              "            title=\"Convert this dataframe to an interactive table.\"\n",
              "            style=\"display:none;\">\n",
              "\n",
              "  <svg xmlns=\"http://www.w3.org/2000/svg\" height=\"24px\" viewBox=\"0 -960 960 960\">\n",
              "    <path d=\"M120-120v-720h720v720H120Zm60-500h600v-160H180v160Zm220 220h160v-160H400v160Zm0 220h160v-160H400v160ZM180-400h160v-160H180v160Zm440 0h160v-160H620v160ZM180-180h160v-160H180v160Zm440 0h160v-160H620v160Z\"/>\n",
              "  </svg>\n",
              "    </button>\n",
              "\n",
              "  <style>\n",
              "    .colab-df-container {\n",
              "      display:flex;\n",
              "      gap: 12px;\n",
              "    }\n",
              "\n",
              "    .colab-df-convert {\n",
              "      background-color: #E8F0FE;\n",
              "      border: none;\n",
              "      border-radius: 50%;\n",
              "      cursor: pointer;\n",
              "      display: none;\n",
              "      fill: #1967D2;\n",
              "      height: 32px;\n",
              "      padding: 0 0 0 0;\n",
              "      width: 32px;\n",
              "    }\n",
              "\n",
              "    .colab-df-convert:hover {\n",
              "      background-color: #E2EBFA;\n",
              "      box-shadow: 0px 1px 2px rgba(60, 64, 67, 0.3), 0px 1px 3px 1px rgba(60, 64, 67, 0.15);\n",
              "      fill: #174EA6;\n",
              "    }\n",
              "\n",
              "    .colab-df-buttons div {\n",
              "      margin-bottom: 4px;\n",
              "    }\n",
              "\n",
              "    [theme=dark] .colab-df-convert {\n",
              "      background-color: #3B4455;\n",
              "      fill: #D2E3FC;\n",
              "    }\n",
              "\n",
              "    [theme=dark] .colab-df-convert:hover {\n",
              "      background-color: #434B5C;\n",
              "      box-shadow: 0px 1px 3px 1px rgba(0, 0, 0, 0.15);\n",
              "      filter: drop-shadow(0px 1px 2px rgba(0, 0, 0, 0.3));\n",
              "      fill: #FFFFFF;\n",
              "    }\n",
              "  </style>\n",
              "\n",
              "    <script>\n",
              "      const buttonEl =\n",
              "        document.querySelector('#df-e06b21a1-a596-4de1-9301-06ed63cd59da button.colab-df-convert');\n",
              "      buttonEl.style.display =\n",
              "        google.colab.kernel.accessAllowed ? 'block' : 'none';\n",
              "\n",
              "      async function convertToInteractive(key) {\n",
              "        const element = document.querySelector('#df-e06b21a1-a596-4de1-9301-06ed63cd59da');\n",
              "        const dataTable =\n",
              "          await google.colab.kernel.invokeFunction('convertToInteractive',\n",
              "                                                    [key], {});\n",
              "        if (!dataTable) return;\n",
              "\n",
              "        const docLinkHtml = 'Like what you see? Visit the ' +\n",
              "          '<a target=\"_blank\" href=https://colab.research.google.com/notebooks/data_table.ipynb>data table notebook</a>'\n",
              "          + ' to learn more about interactive tables.';\n",
              "        element.innerHTML = '';\n",
              "        dataTable['output_type'] = 'display_data';\n",
              "        await google.colab.output.renderOutput(dataTable, element);\n",
              "        const docLink = document.createElement('div');\n",
              "        docLink.innerHTML = docLinkHtml;\n",
              "        element.appendChild(docLink);\n",
              "      }\n",
              "    </script>\n",
              "  </div>\n",
              "\n",
              "\n",
              "<div id=\"df-d20156a8-75e6-49e1-8ec7-20b1f3777d2c\">\n",
              "  <button class=\"colab-df-quickchart\" onclick=\"quickchart('df-d20156a8-75e6-49e1-8ec7-20b1f3777d2c')\"\n",
              "            title=\"Suggest charts\"\n",
              "            style=\"display:none;\">\n",
              "\n",
              "<svg xmlns=\"http://www.w3.org/2000/svg\" height=\"24px\"viewBox=\"0 0 24 24\"\n",
              "     width=\"24px\">\n",
              "    <g>\n",
              "        <path d=\"M19 3H5c-1.1 0-2 .9-2 2v14c0 1.1.9 2 2 2h14c1.1 0 2-.9 2-2V5c0-1.1-.9-2-2-2zM9 17H7v-7h2v7zm4 0h-2V7h2v10zm4 0h-2v-4h2v4z\"/>\n",
              "    </g>\n",
              "</svg>\n",
              "  </button>\n",
              "\n",
              "<style>\n",
              "  .colab-df-quickchart {\n",
              "      --bg-color: #E8F0FE;\n",
              "      --fill-color: #1967D2;\n",
              "      --hover-bg-color: #E2EBFA;\n",
              "      --hover-fill-color: #174EA6;\n",
              "      --disabled-fill-color: #AAA;\n",
              "      --disabled-bg-color: #DDD;\n",
              "  }\n",
              "\n",
              "  [theme=dark] .colab-df-quickchart {\n",
              "      --bg-color: #3B4455;\n",
              "      --fill-color: #D2E3FC;\n",
              "      --hover-bg-color: #434B5C;\n",
              "      --hover-fill-color: #FFFFFF;\n",
              "      --disabled-bg-color: #3B4455;\n",
              "      --disabled-fill-color: #666;\n",
              "  }\n",
              "\n",
              "  .colab-df-quickchart {\n",
              "    background-color: var(--bg-color);\n",
              "    border: none;\n",
              "    border-radius: 50%;\n",
              "    cursor: pointer;\n",
              "    display: none;\n",
              "    fill: var(--fill-color);\n",
              "    height: 32px;\n",
              "    padding: 0;\n",
              "    width: 32px;\n",
              "  }\n",
              "\n",
              "  .colab-df-quickchart:hover {\n",
              "    background-color: var(--hover-bg-color);\n",
              "    box-shadow: 0 1px 2px rgba(60, 64, 67, 0.3), 0 1px 3px 1px rgba(60, 64, 67, 0.15);\n",
              "    fill: var(--button-hover-fill-color);\n",
              "  }\n",
              "\n",
              "  .colab-df-quickchart-complete:disabled,\n",
              "  .colab-df-quickchart-complete:disabled:hover {\n",
              "    background-color: var(--disabled-bg-color);\n",
              "    fill: var(--disabled-fill-color);\n",
              "    box-shadow: none;\n",
              "  }\n",
              "\n",
              "  .colab-df-spinner {\n",
              "    border: 2px solid var(--fill-color);\n",
              "    border-color: transparent;\n",
              "    border-bottom-color: var(--fill-color);\n",
              "    animation:\n",
              "      spin 1s steps(1) infinite;\n",
              "  }\n",
              "\n",
              "  @keyframes spin {\n",
              "    0% {\n",
              "      border-color: transparent;\n",
              "      border-bottom-color: var(--fill-color);\n",
              "      border-left-color: var(--fill-color);\n",
              "    }\n",
              "    20% {\n",
              "      border-color: transparent;\n",
              "      border-left-color: var(--fill-color);\n",
              "      border-top-color: var(--fill-color);\n",
              "    }\n",
              "    30% {\n",
              "      border-color: transparent;\n",
              "      border-left-color: var(--fill-color);\n",
              "      border-top-color: var(--fill-color);\n",
              "      border-right-color: var(--fill-color);\n",
              "    }\n",
              "    40% {\n",
              "      border-color: transparent;\n",
              "      border-right-color: var(--fill-color);\n",
              "      border-top-color: var(--fill-color);\n",
              "    }\n",
              "    60% {\n",
              "      border-color: transparent;\n",
              "      border-right-color: var(--fill-color);\n",
              "    }\n",
              "    80% {\n",
              "      border-color: transparent;\n",
              "      border-right-color: var(--fill-color);\n",
              "      border-bottom-color: var(--fill-color);\n",
              "    }\n",
              "    90% {\n",
              "      border-color: transparent;\n",
              "      border-bottom-color: var(--fill-color);\n",
              "    }\n",
              "  }\n",
              "</style>\n",
              "\n",
              "  <script>\n",
              "    async function quickchart(key) {\n",
              "      const quickchartButtonEl =\n",
              "        document.querySelector('#' + key + ' button');\n",
              "      quickchartButtonEl.disabled = true;  // To prevent multiple clicks.\n",
              "      quickchartButtonEl.classList.add('colab-df-spinner');\n",
              "      try {\n",
              "        const charts = await google.colab.kernel.invokeFunction(\n",
              "            'suggestCharts', [key], {});\n",
              "      } catch (error) {\n",
              "        console.error('Error during call to suggestCharts:', error);\n",
              "      }\n",
              "      quickchartButtonEl.classList.remove('colab-df-spinner');\n",
              "      quickchartButtonEl.classList.add('colab-df-quickchart-complete');\n",
              "    }\n",
              "    (() => {\n",
              "      let quickchartButtonEl =\n",
              "        document.querySelector('#df-d20156a8-75e6-49e1-8ec7-20b1f3777d2c button');\n",
              "      quickchartButtonEl.style.display =\n",
              "        google.colab.kernel.accessAllowed ? 'block' : 'none';\n",
              "    })();\n",
              "  </script>\n",
              "</div>\n",
              "\n",
              "    </div>\n",
              "  </div>\n"
            ],
            "application/vnd.google.colaboratory.intrinsic+json": {
              "type": "dataframe",
              "variable_name": "data",
              "summary": "{\n  \"name\": \"data\",\n  \"rows\": 3228,\n  \"fields\": [\n    {\n      \"column\": \"\\u0438\\u043c\\u044f\",\n      \"properties\": {\n        \"dtype\": \"string\",\n        \"num_unique_values\": 2792,\n        \"samples\": [\n          \"\\u0428\\u0435\\u0434\\u0430\",\n          \"\\u0420\\u043e\\u043d\\u0438\",\n          \"\\u0428\\u0438\\u043d\\u0438\\u0433\\u0430\\u043c\\u0438\"\n        ],\n        \"semantic_type\": \"\",\n        \"description\": \"\"\n      }\n    },\n    {\n      \"column\": \"\\u043a\\u043b\\u0430\\u0441\\u0441\",\n      \"properties\": {\n        \"dtype\": \"category\",\n        \"num_unique_values\": 2,\n        \"samples\": [\n          \"\\u043a\\u043e\\u0448\\u043a\\u0430\",\n          \"\\u0441\\u043e\\u0431\\u0430\\u043a\\u0430\"\n        ],\n        \"semantic_type\": \"\",\n        \"description\": \"\"\n      }\n    }\n  ]\n}"
            }
          },
          "metadata": {},
          "execution_count": 169
        }
      ]
    },
    {
      "cell_type": "code",
      "source": [
        "data['имя'] = data['имя'].str.lower()\n",
        "data.head()"
      ],
      "metadata": {
        "colab": {
          "base_uri": "https://localhost:8080/",
          "height": 206
        },
        "id": "5xl9HoZYy8Ye",
        "outputId": "bb44f4fb-66c3-4012-d762-a9cc7d5a6a60"
      },
      "id": "5xl9HoZYy8Ye",
      "execution_count": null,
      "outputs": [
        {
          "output_type": "execute_result",
          "data": {
            "text/plain": [
              "     имя   класс\n",
              "0   арчи  собака\n",
              "1  алекс  собака\n",
              "2   амур  собака\n",
              "3  алтaй  собака\n",
              "4   альф  собака"
            ],
            "text/html": [
              "\n",
              "  <div id=\"df-75e979bf-96a9-4b08-9e39-724ad26f590a\" class=\"colab-df-container\">\n",
              "    <div>\n",
              "<style scoped>\n",
              "    .dataframe tbody tr th:only-of-type {\n",
              "        vertical-align: middle;\n",
              "    }\n",
              "\n",
              "    .dataframe tbody tr th {\n",
              "        vertical-align: top;\n",
              "    }\n",
              "\n",
              "    .dataframe thead th {\n",
              "        text-align: right;\n",
              "    }\n",
              "</style>\n",
              "<table border=\"1\" class=\"dataframe\">\n",
              "  <thead>\n",
              "    <tr style=\"text-align: right;\">\n",
              "      <th></th>\n",
              "      <th>имя</th>\n",
              "      <th>класс</th>\n",
              "    </tr>\n",
              "  </thead>\n",
              "  <tbody>\n",
              "    <tr>\n",
              "      <th>0</th>\n",
              "      <td>арчи</td>\n",
              "      <td>собака</td>\n",
              "    </tr>\n",
              "    <tr>\n",
              "      <th>1</th>\n",
              "      <td>алекс</td>\n",
              "      <td>собака</td>\n",
              "    </tr>\n",
              "    <tr>\n",
              "      <th>2</th>\n",
              "      <td>амур</td>\n",
              "      <td>собака</td>\n",
              "    </tr>\n",
              "    <tr>\n",
              "      <th>3</th>\n",
              "      <td>алтaй</td>\n",
              "      <td>собака</td>\n",
              "    </tr>\n",
              "    <tr>\n",
              "      <th>4</th>\n",
              "      <td>альф</td>\n",
              "      <td>собака</td>\n",
              "    </tr>\n",
              "  </tbody>\n",
              "</table>\n",
              "</div>\n",
              "    <div class=\"colab-df-buttons\">\n",
              "\n",
              "  <div class=\"colab-df-container\">\n",
              "    <button class=\"colab-df-convert\" onclick=\"convertToInteractive('df-75e979bf-96a9-4b08-9e39-724ad26f590a')\"\n",
              "            title=\"Convert this dataframe to an interactive table.\"\n",
              "            style=\"display:none;\">\n",
              "\n",
              "  <svg xmlns=\"http://www.w3.org/2000/svg\" height=\"24px\" viewBox=\"0 -960 960 960\">\n",
              "    <path d=\"M120-120v-720h720v720H120Zm60-500h600v-160H180v160Zm220 220h160v-160H400v160Zm0 220h160v-160H400v160ZM180-400h160v-160H180v160Zm440 0h160v-160H620v160ZM180-180h160v-160H180v160Zm440 0h160v-160H620v160Z\"/>\n",
              "  </svg>\n",
              "    </button>\n",
              "\n",
              "  <style>\n",
              "    .colab-df-container {\n",
              "      display:flex;\n",
              "      gap: 12px;\n",
              "    }\n",
              "\n",
              "    .colab-df-convert {\n",
              "      background-color: #E8F0FE;\n",
              "      border: none;\n",
              "      border-radius: 50%;\n",
              "      cursor: pointer;\n",
              "      display: none;\n",
              "      fill: #1967D2;\n",
              "      height: 32px;\n",
              "      padding: 0 0 0 0;\n",
              "      width: 32px;\n",
              "    }\n",
              "\n",
              "    .colab-df-convert:hover {\n",
              "      background-color: #E2EBFA;\n",
              "      box-shadow: 0px 1px 2px rgba(60, 64, 67, 0.3), 0px 1px 3px 1px rgba(60, 64, 67, 0.15);\n",
              "      fill: #174EA6;\n",
              "    }\n",
              "\n",
              "    .colab-df-buttons div {\n",
              "      margin-bottom: 4px;\n",
              "    }\n",
              "\n",
              "    [theme=dark] .colab-df-convert {\n",
              "      background-color: #3B4455;\n",
              "      fill: #D2E3FC;\n",
              "    }\n",
              "\n",
              "    [theme=dark] .colab-df-convert:hover {\n",
              "      background-color: #434B5C;\n",
              "      box-shadow: 0px 1px 3px 1px rgba(0, 0, 0, 0.15);\n",
              "      filter: drop-shadow(0px 1px 2px rgba(0, 0, 0, 0.3));\n",
              "      fill: #FFFFFF;\n",
              "    }\n",
              "  </style>\n",
              "\n",
              "    <script>\n",
              "      const buttonEl =\n",
              "        document.querySelector('#df-75e979bf-96a9-4b08-9e39-724ad26f590a button.colab-df-convert');\n",
              "      buttonEl.style.display =\n",
              "        google.colab.kernel.accessAllowed ? 'block' : 'none';\n",
              "\n",
              "      async function convertToInteractive(key) {\n",
              "        const element = document.querySelector('#df-75e979bf-96a9-4b08-9e39-724ad26f590a');\n",
              "        const dataTable =\n",
              "          await google.colab.kernel.invokeFunction('convertToInteractive',\n",
              "                                                    [key], {});\n",
              "        if (!dataTable) return;\n",
              "\n",
              "        const docLinkHtml = 'Like what you see? Visit the ' +\n",
              "          '<a target=\"_blank\" href=https://colab.research.google.com/notebooks/data_table.ipynb>data table notebook</a>'\n",
              "          + ' to learn more about interactive tables.';\n",
              "        element.innerHTML = '';\n",
              "        dataTable['output_type'] = 'display_data';\n",
              "        await google.colab.output.renderOutput(dataTable, element);\n",
              "        const docLink = document.createElement('div');\n",
              "        docLink.innerHTML = docLinkHtml;\n",
              "        element.appendChild(docLink);\n",
              "      }\n",
              "    </script>\n",
              "  </div>\n",
              "\n",
              "\n",
              "<div id=\"df-6cfd1e5f-e88c-45b4-9134-af682d33bda7\">\n",
              "  <button class=\"colab-df-quickchart\" onclick=\"quickchart('df-6cfd1e5f-e88c-45b4-9134-af682d33bda7')\"\n",
              "            title=\"Suggest charts\"\n",
              "            style=\"display:none;\">\n",
              "\n",
              "<svg xmlns=\"http://www.w3.org/2000/svg\" height=\"24px\"viewBox=\"0 0 24 24\"\n",
              "     width=\"24px\">\n",
              "    <g>\n",
              "        <path d=\"M19 3H5c-1.1 0-2 .9-2 2v14c0 1.1.9 2 2 2h14c1.1 0 2-.9 2-2V5c0-1.1-.9-2-2-2zM9 17H7v-7h2v7zm4 0h-2V7h2v10zm4 0h-2v-4h2v4z\"/>\n",
              "    </g>\n",
              "</svg>\n",
              "  </button>\n",
              "\n",
              "<style>\n",
              "  .colab-df-quickchart {\n",
              "      --bg-color: #E8F0FE;\n",
              "      --fill-color: #1967D2;\n",
              "      --hover-bg-color: #E2EBFA;\n",
              "      --hover-fill-color: #174EA6;\n",
              "      --disabled-fill-color: #AAA;\n",
              "      --disabled-bg-color: #DDD;\n",
              "  }\n",
              "\n",
              "  [theme=dark] .colab-df-quickchart {\n",
              "      --bg-color: #3B4455;\n",
              "      --fill-color: #D2E3FC;\n",
              "      --hover-bg-color: #434B5C;\n",
              "      --hover-fill-color: #FFFFFF;\n",
              "      --disabled-bg-color: #3B4455;\n",
              "      --disabled-fill-color: #666;\n",
              "  }\n",
              "\n",
              "  .colab-df-quickchart {\n",
              "    background-color: var(--bg-color);\n",
              "    border: none;\n",
              "    border-radius: 50%;\n",
              "    cursor: pointer;\n",
              "    display: none;\n",
              "    fill: var(--fill-color);\n",
              "    height: 32px;\n",
              "    padding: 0;\n",
              "    width: 32px;\n",
              "  }\n",
              "\n",
              "  .colab-df-quickchart:hover {\n",
              "    background-color: var(--hover-bg-color);\n",
              "    box-shadow: 0 1px 2px rgba(60, 64, 67, 0.3), 0 1px 3px 1px rgba(60, 64, 67, 0.15);\n",
              "    fill: var(--button-hover-fill-color);\n",
              "  }\n",
              "\n",
              "  .colab-df-quickchart-complete:disabled,\n",
              "  .colab-df-quickchart-complete:disabled:hover {\n",
              "    background-color: var(--disabled-bg-color);\n",
              "    fill: var(--disabled-fill-color);\n",
              "    box-shadow: none;\n",
              "  }\n",
              "\n",
              "  .colab-df-spinner {\n",
              "    border: 2px solid var(--fill-color);\n",
              "    border-color: transparent;\n",
              "    border-bottom-color: var(--fill-color);\n",
              "    animation:\n",
              "      spin 1s steps(1) infinite;\n",
              "  }\n",
              "\n",
              "  @keyframes spin {\n",
              "    0% {\n",
              "      border-color: transparent;\n",
              "      border-bottom-color: var(--fill-color);\n",
              "      border-left-color: var(--fill-color);\n",
              "    }\n",
              "    20% {\n",
              "      border-color: transparent;\n",
              "      border-left-color: var(--fill-color);\n",
              "      border-top-color: var(--fill-color);\n",
              "    }\n",
              "    30% {\n",
              "      border-color: transparent;\n",
              "      border-left-color: var(--fill-color);\n",
              "      border-top-color: var(--fill-color);\n",
              "      border-right-color: var(--fill-color);\n",
              "    }\n",
              "    40% {\n",
              "      border-color: transparent;\n",
              "      border-right-color: var(--fill-color);\n",
              "      border-top-color: var(--fill-color);\n",
              "    }\n",
              "    60% {\n",
              "      border-color: transparent;\n",
              "      border-right-color: var(--fill-color);\n",
              "    }\n",
              "    80% {\n",
              "      border-color: transparent;\n",
              "      border-right-color: var(--fill-color);\n",
              "      border-bottom-color: var(--fill-color);\n",
              "    }\n",
              "    90% {\n",
              "      border-color: transparent;\n",
              "      border-bottom-color: var(--fill-color);\n",
              "    }\n",
              "  }\n",
              "</style>\n",
              "\n",
              "  <script>\n",
              "    async function quickchart(key) {\n",
              "      const quickchartButtonEl =\n",
              "        document.querySelector('#' + key + ' button');\n",
              "      quickchartButtonEl.disabled = true;  // To prevent multiple clicks.\n",
              "      quickchartButtonEl.classList.add('colab-df-spinner');\n",
              "      try {\n",
              "        const charts = await google.colab.kernel.invokeFunction(\n",
              "            'suggestCharts', [key], {});\n",
              "      } catch (error) {\n",
              "        console.error('Error during call to suggestCharts:', error);\n",
              "      }\n",
              "      quickchartButtonEl.classList.remove('colab-df-spinner');\n",
              "      quickchartButtonEl.classList.add('colab-df-quickchart-complete');\n",
              "    }\n",
              "    (() => {\n",
              "      let quickchartButtonEl =\n",
              "        document.querySelector('#df-6cfd1e5f-e88c-45b4-9134-af682d33bda7 button');\n",
              "      quickchartButtonEl.style.display =\n",
              "        google.colab.kernel.accessAllowed ? 'block' : 'none';\n",
              "    })();\n",
              "  </script>\n",
              "</div>\n",
              "\n",
              "    </div>\n",
              "  </div>\n"
            ],
            "application/vnd.google.colaboratory.intrinsic+json": {
              "type": "dataframe",
              "variable_name": "data",
              "summary": "{\n  \"name\": \"data\",\n  \"rows\": 3228,\n  \"fields\": [\n    {\n      \"column\": \"\\u0438\\u043c\\u044f\",\n      \"properties\": {\n        \"dtype\": \"string\",\n        \"num_unique_values\": 2792,\n        \"samples\": [\n          \"\\u0448\\u0435\\u0434\\u0430\",\n          \"\\u0440\\u043e\\u043d\\u0438\",\n          \"\\u0448\\u0438\\u043d\\u0438\\u0433\\u0430\\u043c\\u0438\"\n        ],\n        \"semantic_type\": \"\",\n        \"description\": \"\"\n      }\n    },\n    {\n      \"column\": \"\\u043a\\u043b\\u0430\\u0441\\u0441\",\n      \"properties\": {\n        \"dtype\": \"category\",\n        \"num_unique_values\": 2,\n        \"samples\": [\n          \"\\u043a\\u043e\\u0448\\u043a\\u0430\",\n          \"\\u0441\\u043e\\u0431\\u0430\\u043a\\u0430\"\n        ],\n        \"semantic_type\": \"\",\n        \"description\": \"\"\n      }\n    }\n  ]\n}"
            }
          },
          "metadata": {},
          "execution_count": 170
        }
      ]
    },
    {
      "cell_type": "code",
      "source": [
        "data.size"
      ],
      "metadata": {
        "colab": {
          "base_uri": "https://localhost:8080/"
        },
        "id": "-pYsNLhL0C4g",
        "outputId": "7f64a861-ee3f-4b17-8904-c13627d96f60"
      },
      "id": "-pYsNLhL0C4g",
      "execution_count": null,
      "outputs": [
        {
          "output_type": "execute_result",
          "data": {
            "text/plain": [
              "6456"
            ]
          },
          "metadata": {},
          "execution_count": 171
        }
      ]
    },
    {
      "cell_type": "code",
      "source": [
        "data = data.drop_duplicates(subset=['имя'], keep=False) #'first')\n",
        "data.size"
      ],
      "metadata": {
        "colab": {
          "base_uri": "https://localhost:8080/"
        },
        "id": "ZgUv9A7w1ufG",
        "outputId": "ec9fae8b-264f-4d40-db51-608805289b96"
      },
      "id": "ZgUv9A7w1ufG",
      "execution_count": null,
      "outputs": [
        {
          "output_type": "execute_result",
          "data": {
            "text/plain": [
              "4748"
            ]
          },
          "metadata": {},
          "execution_count": 172
        }
      ]
    },
    {
      "cell_type": "code",
      "source": [
        "from sklearn.model_selection import train_test_split\n",
        "\n",
        "train_data, test_data = train_test_split(data, test_size=0.2, random_state=42)\n",
        "train_data.size"
      ],
      "metadata": {
        "colab": {
          "base_uri": "https://localhost:8080/"
        },
        "id": "4DO6aKGa1-mx",
        "outputId": "79e2e873-2875-49b7-994d-c550662e40b3"
      },
      "id": "4DO6aKGa1-mx",
      "execution_count": null,
      "outputs": [
        {
          "output_type": "execute_result",
          "data": {
            "text/plain": [
              "3798"
            ]
          },
          "metadata": {},
          "execution_count": 173
        }
      ]
    },
    {
      "cell_type": "code",
      "source": [
        "from tensorflow.keras.preprocessing.text import Tokenizer\n",
        "\n",
        "tokenizer = Tokenizer(char_level=True, filters='', lower = False)\n",
        "tokenizer.fit_on_texts(data['имя'])\n",
        "\n",
        "tokenizer.index_word[0] = '<PAD>'\n",
        "tokenizer.word_index['<PAD>'] = 0\n",
        "\n",
        "len(tokenizer.word_index)"
      ],
      "metadata": {
        "colab": {
          "base_uri": "https://localhost:8080/"
        },
        "id": "e80uKaCH2QvQ",
        "outputId": "c8bd203c-4dd3-4492-cde2-c3694e4f8733"
      },
      "id": "e80uKaCH2QvQ",
      "execution_count": null,
      "outputs": [
        {
          "output_type": "execute_result",
          "data": {
            "text/plain": [
              "39"
            ]
          },
          "metadata": {},
          "execution_count": 174
        }
      ]
    },
    {
      "cell_type": "markdown",
      "source": [
        "### 4."
      ],
      "metadata": {
        "id": "InPtiC3va-ry"
      },
      "id": "InPtiC3va-ry"
    },
    {
      "cell_type": "markdown",
      "id": "3cc8b486",
      "metadata": {
        "id": "3cc8b486"
      },
      "source": [
        "<p class=\"task\" id=\"4\"></p>\n",
        "\n",
        "4\\. Создайте класс `PetsDataset`. Используя преобразования, сделайте длины наборов индексов одинаковой фиксированной длины (подходящее значение определите сами). Закодируйте целыми числами классы питомцев. Создайте два объекта класса `PetsDataset` (для обучающей и тестовой выборки). Выведите на экран их длины.\n",
        "\n",
        "- [ ] Проверено на семинаре"
      ]
    },
    {
      "cell_type": "code",
      "source": [
        "class PetsDataset:\n",
        "  def __init__(self, data, token2idx, label2idx, max_len):\n",
        "    self.data = data.reset_index(drop=True)\n",
        "    self.token2idx = token2idx\n",
        "    self.label2idx = label2idx\n",
        "    self.max_len = max_len\n",
        "\n",
        "  def __len__(self):\n",
        "    return len(self.data)\n",
        "\n",
        "  def __getitem__(self, idx):\n",
        "    name = self.data.loc[idx, 'имя']\n",
        "    label = self.data.loc[idx, 'класс']\n",
        "\n",
        "    token_idxs = [self.token2idx[char] for char in name]\n",
        "\n",
        "    if len(token_idxs) < self.max_len:\n",
        "      token_idxs+= [self.token2idx['<PAD>']]*(self.max_len-len(token_idxs))\n",
        "    else:\n",
        "      token_idxs = token_idxs[:self.max_len]\n",
        "\n",
        "    token_tensor = th.tensor(token_idxs)\n",
        "    label_tensor = th.tensor(self.label2idx[label])\n",
        "\n",
        "    return token_tensor, label_tensor"
      ],
      "metadata": {
        "id": "RdeEBkjwx3vo"
      },
      "id": "RdeEBkjwx3vo",
      "execution_count": null,
      "outputs": []
    },
    {
      "cell_type": "code",
      "source": [
        "classes = data['класс'].unique()\n",
        "classes"
      ],
      "metadata": {
        "colab": {
          "base_uri": "https://localhost:8080/"
        },
        "id": "PtPzIYGc6zoa",
        "outputId": "7ffe0a3c-e38d-4f4a-cd1a-daffa0cc4dd6"
      },
      "id": "PtPzIYGc6zoa",
      "execution_count": null,
      "outputs": [
        {
          "output_type": "execute_result",
          "data": {
            "text/plain": [
              "array(['собака', 'кошка'], dtype=object)"
            ]
          },
          "metadata": {},
          "execution_count": 176
        }
      ]
    },
    {
      "cell_type": "code",
      "source": [
        "label2idx = {label:i for i, label in enumerate(classes)}\n",
        "label2idx"
      ],
      "metadata": {
        "colab": {
          "base_uri": "https://localhost:8080/"
        },
        "id": "_8qPR76Q6WSu",
        "outputId": "8a9127f2-f9ec-421f-d3df-7ba283c0113d"
      },
      "id": "_8qPR76Q6WSu",
      "execution_count": null,
      "outputs": [
        {
          "output_type": "execute_result",
          "data": {
            "text/plain": [
              "{'собака': 0, 'кошка': 1}"
            ]
          },
          "metadata": {},
          "execution_count": 177
        }
      ]
    },
    {
      "cell_type": "code",
      "source": [
        "max_len = 10\n",
        "\n",
        "train_datset = PetsDataset(train_data, tokenizer.word_index, label2idx, max_len)\n",
        "test_datset = PetsDataset(test_data, tokenizer.word_index, label2idx, max_len)\n",
        "\n",
        "len(train_datset), len(test_datset)"
      ],
      "metadata": {
        "colab": {
          "base_uri": "https://localhost:8080/"
        },
        "id": "-9plZTvI3NSJ",
        "outputId": "3f5484ec-e426-4b06-9b1b-33d5740dcaf4"
      },
      "id": "-9plZTvI3NSJ",
      "execution_count": null,
      "outputs": [
        {
          "output_type": "execute_result",
          "data": {
            "text/plain": [
              "(1899, 475)"
            ]
          },
          "metadata": {},
          "execution_count": 178
        }
      ]
    },
    {
      "cell_type": "code",
      "source": [
        "name, label = train_datset[0]\n",
        "name, label"
      ],
      "metadata": {
        "colab": {
          "base_uri": "https://localhost:8080/"
        },
        "id": "Yb-MP76O7UNy",
        "outputId": "d64f6c9b-f60c-4236-aca0-e93a53b99275"
      },
      "id": "Yb-MP76O7UNy",
      "execution_count": null,
      "outputs": [
        {
          "output_type": "execute_result",
          "data": {
            "text/plain": [
              "(tensor([ 8, 22, 10,  3,  2,  4,  0,  0,  0,  0]), tensor(1))"
            ]
          },
          "metadata": {},
          "execution_count": 179
        }
      ]
    },
    {
      "cell_type": "markdown",
      "source": [
        "### 5."
      ],
      "metadata": {
        "id": "k2f6dJ5yMEGY"
      },
      "id": "k2f6dJ5yMEGY"
    },
    {
      "cell_type": "markdown",
      "id": "0b24087b",
      "metadata": {
        "id": "0b24087b"
      },
      "source": [
        "<p class=\"task\" id=\"5\"></p>\n",
        "\n",
        "5\\. Используя созданный класс `RNN`, решите задачу классификации категорий питомцев по их именам. Выведите на экран отчет по классификации на обучающем и тестовом множестве.\n",
        "\n",
        "- [ ] Проверено на семинаре"
      ]
    },
    {
      "cell_type": "code",
      "source": [
        "class PetClassifier(nn.Module):\n",
        "  def __init__(self, vocab_size, embed_dim, hidden_size, num_classes):\n",
        "    super().__init__()\n",
        "    self.embed = nn.Embedding(vocab_size, embed_dim)\n",
        "    self.rnn = RNN(embed_dim, hidden_size, batch_first=True)\n",
        "    self.fc = nn.Linear(hidden_size, num_classes)\n",
        "\n",
        "  def forward(self, x): # x - b x seq_len\n",
        "    embed = self.embed(x) # b,seq_len,embed_dim\n",
        "    output, h = self.rnn(embed) # output - b,seq_len, hidden_size\n",
        "    last_out = output[:, -1, :] # b, hidden_size\n",
        "\n",
        "    return self.fc(last_out)"
      ],
      "metadata": {
        "id": "d80DGU6A8kCT"
      },
      "id": "d80DGU6A8kCT",
      "execution_count": null,
      "outputs": []
    },
    {
      "cell_type": "code",
      "source": [
        "len(label2idx)"
      ],
      "metadata": {
        "colab": {
          "base_uri": "https://localhost:8080/"
        },
        "id": "4w2fjsL--Llq",
        "outputId": "ab3f553b-b70a-4757-b677-9ec3f777bc92"
      },
      "id": "4w2fjsL--Llq",
      "execution_count": null,
      "outputs": [
        {
          "output_type": "execute_result",
          "data": {
            "text/plain": [
              "2"
            ]
          },
          "metadata": {},
          "execution_count": 181
        }
      ]
    },
    {
      "cell_type": "code",
      "source": [
        "import torch.optim as optim\n",
        "\n",
        "vocab_size = len(tokenizer.word_index) + 1\n",
        "num_classes = len(label2idx)\n",
        "\n",
        "embed_dim = 32\n",
        "hidden_size = 64\n",
        "\n",
        "model = PetClassifier(vocab_size, embed_dim, hidden_size, num_classes)\n",
        "crit = nn.CrossEntropyLoss()\n",
        "optim = optim.Adam(model.parameters(), lr=0.001)"
      ],
      "metadata": {
        "id": "8R291ONKLvQy"
      },
      "execution_count": null,
      "outputs": [],
      "id": "8R291ONKLvQy"
    },
    {
      "cell_type": "code",
      "source": [
        "from torch.utils.data import DataLoader"
      ],
      "metadata": {
        "id": "sXn36quY-7aT"
      },
      "id": "sXn36quY-7aT",
      "execution_count": null,
      "outputs": []
    },
    {
      "cell_type": "code",
      "source": [
        "batch_size = 4\n",
        "\n",
        "train_loader = DataLoader(train_datset, batch_size=batch_size, shuffle=True)\n",
        "test_loader = DataLoader(test_datset, batch_size=batch_size)"
      ],
      "metadata": {
        "id": "Sn_i2BcbLvQz"
      },
      "execution_count": null,
      "outputs": [],
      "id": "Sn_i2BcbLvQz"
    },
    {
      "cell_type": "code",
      "source": [
        "num_epochs = 20\n",
        "\n",
        "rnn_train_losses = []\n",
        "rnn_test_losses = []\n",
        "\n",
        "for epoch in range(num_epochs):\n",
        "  model.train()\n",
        "  train_loss = 0\n",
        "\n",
        "  for batch in train_loader:\n",
        "    inputs, labels = batch\n",
        "    optim.zero_grad()\n",
        "    outputs = model(inputs)\n",
        "    loss = crit(outputs, labels)\n",
        "    loss.backward()\n",
        "    optim.step()\n",
        "\n",
        "    train_loss += loss.item()\n",
        "\n",
        "  model.eval()\n",
        "  test_loss = 0\n",
        "  train_preds = []\n",
        "  train_labels = []\n",
        "\n",
        "  with torch.no_grad():\n",
        "    for batch in train_loader:\n",
        "      inputs, labels = batch\n",
        "\n",
        "      outputs = model(inputs)\n",
        "      _, preds = th.max(outputs, dim=1)\n",
        "      loss = crit(outputs, labels)\n",
        "\n",
        "      train_preds.extend(preds.numpy())\n",
        "      train_labels.extend(labels.numpy())\n",
        "\n",
        "      test_loss += loss.item()\n",
        "\n",
        "  rnn_train_losses.append(train_loss/len(train_loader))\n",
        "  rnn_test_losses.append(test_loss/len(test_loader))\n",
        "\n",
        "  print(f'Epoch {epoch+1}/{num_epochs}')\n",
        "  print(f'train loss: {train_loss/len(train_loader):.4f} | test loss: {test_loss/len(test_loader):.4f}')"
      ],
      "metadata": {
        "colab": {
          "base_uri": "https://localhost:8080/"
        },
        "outputId": "64bd0d39-4350-49ce-91d5-0478eeb182f6",
        "id": "US1_KrE-LvQz"
      },
      "execution_count": null,
      "outputs": [
        {
          "output_type": "stream",
          "name": "stdout",
          "text": [
            "Epoch 1/20\n",
            "train loss: 0.6486 | test loss: 2.2217\n",
            "Epoch 2/20\n",
            "train loss: 0.5451 | test loss: 1.9082\n",
            "Epoch 3/20\n",
            "train loss: 0.4895 | test loss: 1.7288\n",
            "Epoch 4/20\n",
            "train loss: 0.4621 | test loss: 1.6400\n",
            "Epoch 5/20\n",
            "train loss: 0.4572 | test loss: 1.7566\n",
            "Epoch 6/20\n",
            "train loss: 0.4282 | test loss: 1.6461\n",
            "Epoch 7/20\n",
            "train loss: 0.4109 | test loss: 1.4898\n",
            "Epoch 8/20\n",
            "train loss: 0.3954 | test loss: 1.4393\n",
            "Epoch 9/20\n",
            "train loss: 0.3768 | test loss: 1.3581\n",
            "Epoch 10/20\n",
            "train loss: 0.3616 | test loss: 1.2131\n",
            "Epoch 11/20\n",
            "train loss: 0.3395 | test loss: 1.1661\n",
            "Epoch 12/20\n",
            "train loss: 0.3240 | test loss: 1.1020\n",
            "Epoch 13/20\n",
            "train loss: 0.3005 | test loss: 0.9657\n",
            "Epoch 14/20\n",
            "train loss: 0.2649 | test loss: 1.0118\n",
            "Epoch 15/20\n",
            "train loss: 0.2635 | test loss: 0.8536\n",
            "Epoch 16/20\n",
            "train loss: 0.2311 | test loss: 0.9598\n",
            "Epoch 17/20\n",
            "train loss: 0.2310 | test loss: 0.6613\n",
            "Epoch 18/20\n",
            "train loss: 0.1928 | test loss: 0.7086\n",
            "Epoch 19/20\n",
            "train loss: 0.1750 | test loss: 0.6915\n",
            "Epoch 20/20\n",
            "train loss: 0.1906 | test loss: 0.4960\n"
          ]
        }
      ],
      "id": "US1_KrE-LvQz"
    },
    {
      "cell_type": "code",
      "source": [
        "import matplotlib.pyplot as plt\n",
        "\n",
        "plt.figure(figsize=(8, 5))\n",
        "\n",
        "plt.plot(rnn_train_losses, label='train loss')\n",
        "plt.plot(rnn_test_losses, label='test loss')\n",
        "plt.legend()\n",
        "plt.show()"
      ],
      "metadata": {
        "colab": {
          "base_uri": "https://localhost:8080/",
          "height": 445
        },
        "id": "dMVMQvgKML_3",
        "outputId": "b6f4c4fb-ec7b-4d37-f777-e750c787b6c3"
      },
      "id": "dMVMQvgKML_3",
      "execution_count": null,
      "outputs": [
        {
          "output_type": "display_data",
          "data": {
            "text/plain": [
              "<Figure size 800x500 with 1 Axes>"
            ],
            "image/png": "[encoded data removed]"
          },
          "metadata": {}
        }
      ]
    },
    {
      "cell_type": "code",
      "source": [
        "from sklearn.metrics import classification_report\n",
        "\n",
        "print('на train:')\n",
        "cr_rnn_train = classification_report(train_labels, train_preds, target_names=label2idx.keys())\n",
        "print(cr_rnn_train)"
      ],
      "metadata": {
        "colab": {
          "base_uri": "https://localhost:8080/"
        },
        "outputId": "59519a84-f924-4aa1-e995-bcc7c46f405a",
        "id": "UYHoEsJ0LvQz"
      },
      "execution_count": null,
      "outputs": [
        {
          "output_type": "stream",
          "name": "stdout",
          "text": [
            "на train:\n",
            "              precision    recall  f1-score   support\n",
            "\n",
            "      собака       0.97      0.93      0.95       796\n",
            "       кошка       0.95      0.98      0.96      1103\n",
            "\n",
            "    accuracy                           0.96      1899\n",
            "   macro avg       0.96      0.95      0.96      1899\n",
            "weighted avg       0.96      0.96      0.96      1899\n",
            "\n"
          ]
        }
      ],
      "id": "UYHoEsJ0LvQz"
    },
    {
      "cell_type": "code",
      "source": [
        "test_preds = []\n",
        "test_labels = []\n",
        "with torch.no_grad():\n",
        "  for batch in test_loader:\n",
        "    inputs, labels = batch\n",
        "    outputs = model(inputs)\n",
        "    _, preds = torch.max(outputs, 1)\n",
        "    test_preds.extend(preds.numpy())\n",
        "    test_labels.extend(labels.numpy())\n",
        "\n",
        "print('на test:')\n",
        "cr_rnn_test = classification_report(test_labels, test_preds, target_names=label2idx.keys())\n",
        "print(cr_rnn_test)"
      ],
      "metadata": {
        "colab": {
          "base_uri": "https://localhost:8080/"
        },
        "outputId": "ec738103-a45d-4b0c-e8e9-0f3047fe4151",
        "id": "o6rYZCAlLvQz"
      },
      "execution_count": null,
      "outputs": [
        {
          "output_type": "stream",
          "name": "stdout",
          "text": [
            "на test:\n",
            "              precision    recall  f1-score   support\n",
            "\n",
            "      собака       0.77      0.74      0.75       207\n",
            "       кошка       0.81      0.82      0.82       268\n",
            "\n",
            "    accuracy                           0.79       475\n",
            "   macro avg       0.79      0.78      0.79       475\n",
            "weighted avg       0.79      0.79      0.79       475\n",
            "\n"
          ]
        }
      ],
      "id": "o6rYZCAlLvQz"
    },
    {
      "cell_type": "markdown",
      "source": [
        "### 6."
      ],
      "metadata": {
        "id": "NqcjcNctQrIx"
      },
      "id": "NqcjcNctQrIx"
    },
    {
      "cell_type": "markdown",
      "id": "f29af1d8",
      "metadata": {
        "id": "f29af1d8"
      },
      "source": [
        "<p class=\"task\" id=\"6\"></p>\n",
        "\n",
        "6\\. Решите предыщую задачу, заменив собственный модуль `RNN` на модули `nn.RNN`, `nn.LSTM` и `nn.GRU`. Сравните результаты работы.\n",
        "\n",
        "- [ ] Проверено на семинаре"
      ]
    },
    {
      "cell_type": "markdown",
      "source": [
        "#### nn.RNN:"
      ],
      "metadata": {
        "id": "HZEG_6J9I0KB"
      },
      "id": "HZEG_6J9I0KB"
    },
    {
      "cell_type": "code",
      "source": [
        "class PetClassifier(nn.Module):\n",
        "  def __init__(self, vocab_size, embed_dim, hidden_size, num_classes):\n",
        "    super().__init__()\n",
        "    self.embed = nn.Embedding(vocab_size, embed_dim)\n",
        "    self.rnn = nn.RNN(embed_dim, hidden_size, batch_first=True)\n",
        "    self.fc = nn.Linear(hidden_size, num_classes)\n",
        "\n",
        "  def forward(self, x): # x - b x seq_len\n",
        "    embed = self.embed(x) # b,seq_len,embed_dim\n",
        "    output, h = self.rnn(embed) # output - b,seq_len, hidden_size\n",
        "    last_out = output[:, -1, :] # b, hidden_size\n",
        "\n",
        "    return self.fc(last_out)"
      ],
      "metadata": {
        "id": "nSTn5lxNI9a_"
      },
      "execution_count": null,
      "outputs": [],
      "id": "nSTn5lxNI9a_"
    },
    {
      "cell_type": "code",
      "source": [
        "import torch.optim as optim\n",
        "\n",
        "vocab_size = len(tokenizer.word_index) + 1\n",
        "num_classes = len(label2idx)\n",
        "\n",
        "embed_dim = 32\n",
        "hidden_size = 64\n",
        "\n",
        "model = PetClassifier(vocab_size, embed_dim, hidden_size, num_classes)\n",
        "crit = nn.CrossEntropyLoss()\n",
        "optim = optim.Adam(model.parameters(), lr=0.001)"
      ],
      "metadata": {
        "id": "ol7MARqlP_SW"
      },
      "execution_count": null,
      "outputs": [],
      "id": "ol7MARqlP_SW"
    },
    {
      "cell_type": "code",
      "source": [
        "batch_size = 4\n",
        "\n",
        "train_loader = DataLoader(train_datset, batch_size=batch_size, shuffle=True)\n",
        "test_loader = DataLoader(test_datset, batch_size=batch_size)"
      ],
      "metadata": {
        "id": "hR9FA3K4P_SW"
      },
      "execution_count": null,
      "outputs": [],
      "id": "hR9FA3K4P_SW"
    },
    {
      "cell_type": "code",
      "source": [
        "num_epochs = 20\n",
        "\n",
        "nn_rnn_train_losses = []\n",
        "nn_rnn_test_losses = []\n",
        "\n",
        "for epoch in range(num_epochs):\n",
        "  model.train()\n",
        "  train_loss = 0\n",
        "\n",
        "  for batch in train_loader:\n",
        "    inputs, labels = batch\n",
        "    optim.zero_grad()\n",
        "    outputs = model(inputs)\n",
        "    loss = crit(outputs, labels)\n",
        "    loss.backward()\n",
        "    optim.step()\n",
        "\n",
        "    train_loss += loss.item()\n",
        "\n",
        "  model.eval()\n",
        "  test_loss = 0\n",
        "  train_preds = []\n",
        "  train_labels = []\n",
        "\n",
        "  with torch.no_grad():\n",
        "    for batch in train_loader:\n",
        "      inputs, labels = batch\n",
        "\n",
        "      outputs = model(inputs)\n",
        "      _, preds = th.max(outputs, dim=1)\n",
        "      loss = crit(outputs, labels)\n",
        "\n",
        "      train_preds.extend(preds.numpy())\n",
        "      train_labels.extend(labels.numpy())\n",
        "\n",
        "      test_loss += loss.item()\n",
        "\n",
        "  nn_rnn_train_losses.append(train_loss/len(train_loader))\n",
        "  nn_rnn_test_losses.append(test_loss/len(test_loader))\n",
        "\n",
        "  print(f'Epoch {epoch+1}/{num_epochs}')\n",
        "  print(f'train loss: {train_loss/len(train_loader):.4f} | test loss: {test_loss/len(test_loader):.4f}')"
      ],
      "metadata": {
        "colab": {
          "base_uri": "https://localhost:8080/"
        },
        "outputId": "d1f59dc3-2344-43d1-e8b7-c594a17ccaba",
        "id": "uzbj77R-P_SW"
      },
      "execution_count": null,
      "outputs": [
        {
          "output_type": "stream",
          "name": "stdout",
          "text": [
            "Epoch 1/20\n",
            "train loss: 0.6598 | test loss: 2.2650\n",
            "Epoch 2/20\n",
            "train loss: 0.5701 | test loss: 2.0676\n",
            "Epoch 3/20\n",
            "train loss: 0.5283 | test loss: 1.8197\n",
            "Epoch 4/20\n",
            "train loss: 0.4644 | test loss: 1.7045\n",
            "Epoch 5/20\n",
            "train loss: 0.4605 | test loss: 1.6471\n",
            "Epoch 6/20\n",
            "train loss: 0.4528 | test loss: 1.8201\n",
            "Epoch 7/20\n",
            "train loss: 0.4195 | test loss: 1.4553\n",
            "Epoch 8/20\n",
            "train loss: 0.3978 | test loss: 1.4720\n",
            "Epoch 9/20\n",
            "train loss: 0.3868 | test loss: 1.4145\n",
            "Epoch 10/20\n",
            "train loss: 0.3605 | test loss: 1.2571\n",
            "Epoch 11/20\n",
            "train loss: 0.3460 | test loss: 1.2997\n",
            "Epoch 12/20\n",
            "train loss: 0.3236 | test loss: 1.1589\n",
            "Epoch 13/20\n",
            "train loss: 0.2982 | test loss: 1.0066\n",
            "Epoch 14/20\n",
            "train loss: 0.2850 | test loss: 0.9869\n",
            "Epoch 15/20\n",
            "train loss: 0.2731 | test loss: 0.8736\n",
            "Epoch 16/20\n",
            "train loss: 0.2456 | test loss: 0.7611\n",
            "Epoch 17/20\n",
            "train loss: 0.2240 | test loss: 0.9056\n",
            "Epoch 18/20\n",
            "train loss: 0.2057 | test loss: 0.9128\n",
            "Epoch 19/20\n",
            "train loss: 0.1969 | test loss: 0.6537\n",
            "Epoch 20/20\n",
            "train loss: 0.1730 | test loss: 0.4439\n"
          ]
        }
      ],
      "id": "uzbj77R-P_SW"
    },
    {
      "cell_type": "code",
      "source": [
        "import matplotlib.pyplot as plt\n",
        "\n",
        "plt.figure(figsize=(8, 5))\n",
        "\n",
        "plt.plot(nn_rnn_train_losses, label='train loss')\n",
        "plt.plot(nn_rnn_test_losses, label='test loss')\n",
        "plt.legend()\n",
        "plt.show()"
      ],
      "metadata": {
        "colab": {
          "base_uri": "https://localhost:8080/",
          "height": 445
        },
        "outputId": "37df62d8-4cc6-41cc-b3a5-227ee696b672",
        "id": "m1iUTE0eP_SX"
      },
      "execution_count": null,
      "outputs": [
        {
          "output_type": "display_data",
          "data": {
            "text/plain": [
              "<Figure size 800x500 with 1 Axes>"
            ],
            "image/png": "[encoded data removed]"
          },
          "metadata": {}
        }
      ],
      "id": "m1iUTE0eP_SX"
    },
    {
      "cell_type": "code",
      "source": [
        "from sklearn.metrics import classification_report\n",
        "\n",
        "print('на train:')\n",
        "cr_nn_rnn_train = classification_report(train_labels, train_preds, target_names=label2idx.keys())\n",
        "print(cr_nn_rnn_train)"
      ],
      "metadata": {
        "colab": {
          "base_uri": "https://localhost:8080/"
        },
        "outputId": "9bc86a85-41e4-4d13-d0da-2604928fdf74",
        "id": "0AQeB8qlP_SX"
      },
      "execution_count": null,
      "outputs": [
        {
          "output_type": "stream",
          "name": "stdout",
          "text": [
            "на train:\n",
            "              precision    recall  f1-score   support\n",
            "\n",
            "      собака       0.98      0.95      0.96       796\n",
            "       кошка       0.97      0.98      0.97      1103\n",
            "\n",
            "    accuracy                           0.97      1899\n",
            "   macro avg       0.97      0.97      0.97      1899\n",
            "weighted avg       0.97      0.97      0.97      1899\n",
            "\n"
          ]
        }
      ],
      "id": "0AQeB8qlP_SX"
    },
    {
      "cell_type": "code",
      "source": [
        "test_preds = []\n",
        "test_labels = []\n",
        "with torch.no_grad():\n",
        "  for batch in test_loader:\n",
        "    inputs, labels = batch\n",
        "    outputs = model(inputs)\n",
        "    _, preds = torch.max(outputs, 1)\n",
        "    test_preds.extend(preds.numpy())\n",
        "    test_labels.extend(labels.numpy())\n",
        "\n",
        "print('на test:')\n",
        "cr_nn_rnn_test = classification_report(test_labels, test_preds, target_names=label2idx.keys())\n",
        "print(cr_nn_rnn_test)"
      ],
      "metadata": {
        "colab": {
          "base_uri": "https://localhost:8080/"
        },
        "outputId": "99becec2-eea9-4d47-fbc8-c91fad6f2784",
        "id": "FnG5-EiRP_SX"
      },
      "execution_count": null,
      "outputs": [
        {
          "output_type": "stream",
          "name": "stdout",
          "text": [
            "на test:\n",
            "              precision    recall  f1-score   support\n",
            "\n",
            "      собака       0.81      0.76      0.78       207\n",
            "       кошка       0.82      0.86      0.84       268\n",
            "\n",
            "    accuracy                           0.82       475\n",
            "   macro avg       0.82      0.81      0.81       475\n",
            "weighted avg       0.82      0.82      0.82       475\n",
            "\n"
          ]
        }
      ],
      "id": "FnG5-EiRP_SX"
    },
    {
      "cell_type": "markdown",
      "source": [
        "#### nn.LSTM:"
      ],
      "metadata": {
        "id": "lajvbW_vKDLU"
      },
      "id": "lajvbW_vKDLU"
    },
    {
      "cell_type": "code",
      "source": [
        "class PetClassifier(nn.Module):\n",
        "  def __init__(self, vocab_size, embed_dim, hidden_size, num_classes):\n",
        "    super().__init__()\n",
        "    self.embed = nn.Embedding(vocab_size, embed_dim)\n",
        "    self.rnn = nn.LSTM(embed_dim, hidden_size, batch_first=True)\n",
        "    self.fc = nn.Linear(hidden_size, num_classes)\n",
        "\n",
        "  def forward(self, x): # x - b x seq_len\n",
        "    embed = self.embed(x) # b,seq_len,embed_dim\n",
        "    output, h = self.rnn(embed) # output - b,seq_len, hidden_size\n",
        "    last_out = output[:, -1, :] # b, hidden_size\n",
        "\n",
        "    return self.fc(last_out)"
      ],
      "metadata": {
        "id": "Nk6keUQkOITg"
      },
      "execution_count": null,
      "outputs": [],
      "id": "Nk6keUQkOITg"
    },
    {
      "cell_type": "code",
      "source": [
        "import torch.optim as optim\n",
        "\n",
        "vocab_size = len(tokenizer.word_index) + 1\n",
        "num_classes = len(label2idx)\n",
        "\n",
        "embed_dim = 32\n",
        "hidden_size = 64\n",
        "\n",
        "model = PetClassifier(vocab_size, embed_dim, hidden_size, num_classes)\n",
        "crit = nn.CrossEntropyLoss()\n",
        "optim = optim.Adam(model.parameters(), lr=0.001)"
      ],
      "metadata": {
        "id": "j_n1ArSxOITg"
      },
      "execution_count": null,
      "outputs": [],
      "id": "j_n1ArSxOITg"
    },
    {
      "cell_type": "code",
      "source": [
        "batch_size = 4\n",
        "\n",
        "train_loader = DataLoader(train_datset, batch_size=batch_size, shuffle=True)\n",
        "test_loader = DataLoader(test_datset, batch_size=batch_size)"
      ],
      "metadata": {
        "id": "g8CxEjMaOITg"
      },
      "execution_count": null,
      "outputs": [],
      "id": "g8CxEjMaOITg"
    },
    {
      "cell_type": "code",
      "source": [
        "num_epochs = 20\n",
        "\n",
        "nn_lstm_train_losses = []\n",
        "nn_lstm_test_losses = []\n",
        "\n",
        "for epoch in range(num_epochs):\n",
        "  model.train()\n",
        "  train_loss = 0\n",
        "\n",
        "  for batch in train_loader:\n",
        "    inputs, labels = batch\n",
        "    optim.zero_grad()\n",
        "    outputs = model(inputs)\n",
        "    loss = crit(outputs, labels)\n",
        "    loss.backward()\n",
        "    optim.step()\n",
        "\n",
        "    train_loss += loss.item()\n",
        "\n",
        "  model.eval()\n",
        "  test_loss = 0\n",
        "  train_preds = []\n",
        "  train_labels = []\n",
        "\n",
        "  with torch.no_grad():\n",
        "    for batch in train_loader:\n",
        "      inputs, labels = batch\n",
        "\n",
        "      outputs = model(inputs)\n",
        "      _, preds = th.max(outputs, dim=1)\n",
        "      loss = crit(outputs, labels)\n",
        "\n",
        "      train_preds.extend(preds.numpy())\n",
        "      train_labels.extend(labels.numpy())\n",
        "\n",
        "      test_loss += loss.item()\n",
        "\n",
        "  nn_lstm_train_losses.append(train_loss/len(train_loader))\n",
        "  nn_lstm_test_losses.append(test_loss/len(test_loader))\n",
        "\n",
        "  print(f'Epoch {epoch+1}/{num_epochs}')\n",
        "  print(f'train loss: {train_loss/len(train_loader):.4f} | test loss: {test_loss/len(test_loader):.4f}')"
      ],
      "metadata": {
        "colab": {
          "base_uri": "https://localhost:8080/"
        },
        "outputId": "1e43423b-23d9-4489-a075-cf27eb64033f",
        "id": "9-QUKHXVNMGo"
      },
      "execution_count": null,
      "outputs": [
        {
          "output_type": "stream",
          "name": "stdout",
          "text": [
            "Epoch 1/20\n",
            "train loss: 0.5562 | test loss: 1.8154\n",
            "Epoch 2/20\n",
            "train loss: 0.4437 | test loss: 1.7747\n",
            "Epoch 3/20\n",
            "train loss: 0.4230 | test loss: 1.5983\n",
            "Epoch 4/20\n",
            "train loss: 0.4015 | test loss: 1.5154\n",
            "Epoch 5/20\n",
            "train loss: 0.3843 | test loss: 1.3888\n",
            "Epoch 6/20\n",
            "train loss: 0.3643 | test loss: 1.2891\n",
            "Epoch 7/20\n",
            "train loss: 0.3482 | test loss: 1.2354\n",
            "Epoch 8/20\n",
            "train loss: 0.3240 | test loss: 1.1815\n",
            "Epoch 9/20\n",
            "train loss: 0.3023 | test loss: 1.0721\n",
            "Epoch 10/20\n",
            "train loss: 0.2764 | test loss: 1.0926\n",
            "Epoch 11/20\n",
            "train loss: 0.2568 | test loss: 0.8079\n",
            "Epoch 12/20\n",
            "train loss: 0.2338 | test loss: 0.8542\n",
            "Epoch 13/20\n",
            "train loss: 0.2083 | test loss: 0.6683\n",
            "Epoch 14/20\n",
            "train loss: 0.1856 | test loss: 0.6050\n",
            "Epoch 15/20\n",
            "train loss: 0.1639 | test loss: 0.5442\n",
            "Epoch 16/20\n",
            "train loss: 0.1499 | test loss: 0.4372\n",
            "Epoch 17/20\n",
            "train loss: 0.1398 | test loss: 0.4111\n",
            "Epoch 18/20\n",
            "train loss: 0.1084 | test loss: 0.3114\n",
            "Epoch 19/20\n",
            "train loss: 0.1049 | test loss: 0.3068\n",
            "Epoch 20/20\n",
            "train loss: 0.0824 | test loss: 0.2255\n"
          ]
        }
      ],
      "id": "9-QUKHXVNMGo"
    },
    {
      "cell_type": "code",
      "source": [
        "import matplotlib.pyplot as plt\n",
        "\n",
        "plt.figure(figsize=(8, 5))\n",
        "\n",
        "plt.plot(nn_lstm_train_losses, label='train loss')\n",
        "plt.plot(nn_lstm_test_losses, label='test loss')\n",
        "plt.legend()\n",
        "plt.show()"
      ],
      "metadata": {
        "colab": {
          "base_uri": "https://localhost:8080/",
          "height": 445
        },
        "outputId": "99f694f1-de6d-4808-d714-fe1eb89e5a89",
        "id": "_XBr0wIeNMGo"
      },
      "execution_count": null,
      "outputs": [
        {
          "output_type": "display_data",
          "data": {
            "text/plain": [
              "<Figure size 800x500 with 1 Axes>"
            ],
            "image/png": "[encoded data removed]"
          },
          "metadata": {}
        }
      ],
      "id": "_XBr0wIeNMGo"
    },
    {
      "cell_type": "code",
      "source": [
        "from sklearn.metrics import classification_report\n",
        "\n",
        "print('на train:')\n",
        "cr_nn_lstm_train = classification_report(train_labels, train_preds, target_names=label2idx.keys())\n",
        "print(cr_nn_lstm_train)"
      ],
      "metadata": {
        "colab": {
          "base_uri": "https://localhost:8080/"
        },
        "outputId": "2bb02094-0d42-484f-e7bc-2cb3fb46e63a",
        "id": "GIqm0dS4NMGp"
      },
      "execution_count": null,
      "outputs": [
        {
          "output_type": "stream",
          "name": "stdout",
          "text": [
            "на train:\n",
            "              precision    recall  f1-score   support\n",
            "\n",
            "      собака       0.97      0.98      0.98       796\n",
            "       кошка       0.98      0.98      0.98      1103\n",
            "\n",
            "    accuracy                           0.98      1899\n",
            "   macro avg       0.98      0.98      0.98      1899\n",
            "weighted avg       0.98      0.98      0.98      1899\n",
            "\n"
          ]
        }
      ],
      "id": "GIqm0dS4NMGp"
    },
    {
      "cell_type": "code",
      "source": [
        "test_preds = []\n",
        "test_labels = []\n",
        "with torch.no_grad():\n",
        "  for batch in test_loader:\n",
        "    inputs, labels = batch\n",
        "    outputs = model(inputs)\n",
        "    _, preds = torch.max(outputs, 1)\n",
        "    test_preds.extend(preds.numpy())\n",
        "    test_labels.extend(labels.numpy())\n",
        "\n",
        "print('на test:')\n",
        "cr_nn_lstm_test = classification_report(test_labels, test_preds, target_names=label2idx.keys())\n",
        "print(cr_nn_lstm_test)"
      ],
      "metadata": {
        "colab": {
          "base_uri": "https://localhost:8080/"
        },
        "outputId": "badaea49-784d-4834-ef61-c7d91bda13dd",
        "id": "R_wsolWmNMGp"
      },
      "execution_count": null,
      "outputs": [
        {
          "output_type": "stream",
          "name": "stdout",
          "text": [
            "на test:\n",
            "              precision    recall  f1-score   support\n",
            "\n",
            "      собака       0.78      0.76      0.77       207\n",
            "       кошка       0.82      0.83      0.82       268\n",
            "\n",
            "    accuracy                           0.80       475\n",
            "   macro avg       0.80      0.80      0.80       475\n",
            "weighted avg       0.80      0.80      0.80       475\n",
            "\n"
          ]
        }
      ],
      "id": "R_wsolWmNMGp"
    },
    {
      "cell_type": "markdown",
      "source": [
        "#### nn.GRU:"
      ],
      "metadata": {
        "id": "sLCJjOCsOhcJ"
      },
      "id": "sLCJjOCsOhcJ"
    },
    {
      "cell_type": "code",
      "source": [
        "class PetClassifier(nn.Module):\n",
        "  def __init__(self, vocab_size, embed_dim, hidden_size, num_classes):\n",
        "    super().__init__()\n",
        "    self.embed = nn.Embedding(vocab_size, embed_dim)\n",
        "    self.rnn = nn.GRU(embed_dim, hidden_size, batch_first=True)\n",
        "    self.fc = nn.Linear(hidden_size, num_classes)\n",
        "\n",
        "  def forward(self, x): # x - b x seq_len\n",
        "    embed = self.embed(x) # b,seq_len,embed_dim\n",
        "    output, h = self.rnn(embed) # output - b,seq_len, hidden_size\n",
        "    last_out = output[:, -1, :] # b, hidden_size\n",
        "\n",
        "    return self.fc(last_out)"
      ],
      "metadata": {
        "id": "Ygq8GXNsOuZp"
      },
      "execution_count": null,
      "outputs": [],
      "id": "Ygq8GXNsOuZp"
    },
    {
      "cell_type": "code",
      "source": [
        "import torch.optim as optim\n",
        "\n",
        "vocab_size = len(tokenizer.word_index) + 1\n",
        "num_classes = len(label2idx)\n",
        "\n",
        "embed_dim = 32\n",
        "hidden_size = 64\n",
        "\n",
        "model = PetClassifier(vocab_size, embed_dim, hidden_size, num_classes)\n",
        "crit = nn.CrossEntropyLoss()\n",
        "optim = optim.Adam(model.parameters(), lr=0.001)"
      ],
      "metadata": {
        "id": "PcfQ1iI3OuZq"
      },
      "execution_count": null,
      "outputs": [],
      "id": "PcfQ1iI3OuZq"
    },
    {
      "cell_type": "code",
      "source": [
        "batch_size = 4\n",
        "\n",
        "train_loader = DataLoader(train_datset, batch_size=batch_size, shuffle=True)\n",
        "test_loader = DataLoader(test_datset, batch_size=batch_size)"
      ],
      "metadata": {
        "id": "m4yyb-7lOuZq"
      },
      "execution_count": null,
      "outputs": [],
      "id": "m4yyb-7lOuZq"
    },
    {
      "cell_type": "code",
      "source": [
        "num_epochs = 20\n",
        "\n",
        "nn_gru_train_losses = []\n",
        "nn_gru_test_losses = []\n",
        "\n",
        "for epoch in range(num_epochs):\n",
        "  model.train()\n",
        "  train_loss = 0\n",
        "\n",
        "  for batch in train_loader:\n",
        "    inputs, labels = batch\n",
        "    optim.zero_grad()\n",
        "    outputs = model(inputs)\n",
        "    loss = crit(outputs, labels)\n",
        "    loss.backward()\n",
        "    optim.step()\n",
        "\n",
        "    train_loss += loss.item()\n",
        "\n",
        "  model.eval()\n",
        "  test_loss = 0\n",
        "  train_preds = []\n",
        "  train_labels = []\n",
        "\n",
        "  with torch.no_grad():\n",
        "    for batch in train_loader:\n",
        "      inputs, labels = batch\n",
        "\n",
        "      outputs = model(inputs)\n",
        "      _, preds = th.max(outputs, dim=1)\n",
        "      loss = crit(outputs, labels)\n",
        "\n",
        "      train_preds.extend(preds.numpy())\n",
        "      train_labels.extend(labels.numpy())\n",
        "\n",
        "      test_loss += loss.item()\n",
        "\n",
        "  nn_gru_train_losses.append(train_loss/len(train_loader))\n",
        "  nn_gru_test_losses.append(test_loss/len(test_loader))\n",
        "\n",
        "  print(f'Epoch {epoch+1}/{num_epochs}')\n",
        "  print(f'train loss: {train_loss/len(train_loader):.4f} | test loss: {test_loss/len(test_loader):.4f}')"
      ],
      "metadata": {
        "colab": {
          "base_uri": "https://localhost:8080/"
        },
        "outputId": "2d0c6f78-41ac-4eb5-b8bc-75ec9225af31",
        "id": "4YExyLy5OuZq"
      },
      "execution_count": null,
      "outputs": [
        {
          "output_type": "stream",
          "name": "stdout",
          "text": [
            "Epoch 1/20\n",
            "train loss: 0.5307 | test loss: 1.7355\n",
            "Epoch 2/20\n",
            "train loss: 0.4350 | test loss: 1.6163\n",
            "Epoch 3/20\n",
            "train loss: 0.4122 | test loss: 1.5340\n",
            "Epoch 4/20\n",
            "train loss: 0.3966 | test loss: 1.4286\n",
            "Epoch 5/20\n",
            "train loss: 0.3732 | test loss: 1.3247\n",
            "Epoch 6/20\n",
            "train loss: 0.3543 | test loss: 1.2908\n",
            "Epoch 7/20\n",
            "train loss: 0.3309 | test loss: 1.2285\n",
            "Epoch 8/20\n",
            "train loss: 0.3138 | test loss: 1.0974\n",
            "Epoch 9/20\n",
            "train loss: 0.2864 | test loss: 0.9515\n",
            "Epoch 10/20\n",
            "train loss: 0.2591 | test loss: 0.8550\n",
            "Epoch 11/20\n",
            "train loss: 0.2316 | test loss: 0.7502\n",
            "Epoch 12/20\n",
            "train loss: 0.1963 | test loss: 0.5862\n",
            "Epoch 13/20\n",
            "train loss: 0.1698 | test loss: 0.4643\n",
            "Epoch 14/20\n",
            "train loss: 0.1407 | test loss: 0.3842\n",
            "Epoch 15/20\n",
            "train loss: 0.1063 | test loss: 0.3181\n",
            "Epoch 16/20\n",
            "train loss: 0.0990 | test loss: 0.2278\n",
            "Epoch 17/20\n",
            "train loss: 0.0895 | test loss: 0.2292\n",
            "Epoch 18/20\n",
            "train loss: 0.0644 | test loss: 0.1847\n",
            "Epoch 19/20\n",
            "train loss: 0.0501 | test loss: 0.1657\n",
            "Epoch 20/20\n",
            "train loss: 0.0499 | test loss: 0.0709\n"
          ]
        }
      ],
      "id": "4YExyLy5OuZq"
    },
    {
      "cell_type": "code",
      "source": [
        "import matplotlib.pyplot as plt\n",
        "\n",
        "plt.figure(figsize=(8, 5))\n",
        "\n",
        "plt.plot(nn_gru_train_losses, label='train loss')\n",
        "plt.plot(nn_gru_test_losses, label='test loss')\n",
        "plt.legend()\n",
        "plt.show()"
      ],
      "metadata": {
        "colab": {
          "base_uri": "https://localhost:8080/",
          "height": 445
        },
        "outputId": "5c429700-b427-40bc-8b09-b78fde8b07d3",
        "id": "0ljMbgAwOuZq"
      },
      "execution_count": null,
      "outputs": [
        {
          "output_type": "display_data",
          "data": {
            "text/plain": [
              "<Figure size 800x500 with 1 Axes>"
            ],
            "image/png": "[encoded data removed]"
          },
          "metadata": {}
        }
      ],
      "id": "0ljMbgAwOuZq"
    },
    {
      "cell_type": "code",
      "source": [
        "from sklearn.metrics import classification_report\n",
        "\n",
        "print('на train:')\n",
        "cr_nn_gru_train = classification_report(train_labels, train_preds, target_names=label2idx.keys())\n",
        "print(cr_nn_gru_train)"
      ],
      "metadata": {
        "colab": {
          "base_uri": "https://localhost:8080/"
        },
        "outputId": "c13c187a-2ee2-4f4e-c604-0579cf1875c1",
        "id": "017rm9lDOuZq"
      },
      "execution_count": null,
      "outputs": [
        {
          "output_type": "stream",
          "name": "stdout",
          "text": [
            "на train:\n",
            "              precision    recall  f1-score   support\n",
            "\n",
            "      собака       1.00      0.99      1.00       796\n",
            "       кошка       1.00      1.00      1.00      1103\n",
            "\n",
            "    accuracy                           1.00      1899\n",
            "   macro avg       1.00      1.00      1.00      1899\n",
            "weighted avg       1.00      1.00      1.00      1899\n",
            "\n"
          ]
        }
      ],
      "id": "017rm9lDOuZq"
    },
    {
      "cell_type": "code",
      "source": [
        "test_preds = []\n",
        "test_labels = []\n",
        "with torch.no_grad():\n",
        "  for batch in test_loader:\n",
        "    inputs, labels = batch\n",
        "    outputs = model(inputs)\n",
        "    _, preds = torch.max(outputs, 1)\n",
        "    test_preds.extend(preds.numpy())\n",
        "    test_labels.extend(labels.numpy())\n",
        "\n",
        "print('на test:')\n",
        "cr_nn_gru_test = classification_report(test_labels, test_preds, target_names=label2idx.keys())\n",
        "print(cr_nn_gru_test)"
      ],
      "metadata": {
        "colab": {
          "base_uri": "https://localhost:8080/"
        },
        "outputId": "9a48fbbb-1b0f-4784-974d-dd7d3a5bd0be",
        "id": "ptLdAQafOuZq"
      },
      "execution_count": null,
      "outputs": [
        {
          "output_type": "stream",
          "name": "stdout",
          "text": [
            "на test:\n",
            "              precision    recall  f1-score   support\n",
            "\n",
            "      собака       0.77      0.78      0.78       207\n",
            "       кошка       0.83      0.82      0.82       268\n",
            "\n",
            "    accuracy                           0.80       475\n",
            "   macro avg       0.80      0.80      0.80       475\n",
            "weighted avg       0.80      0.80      0.80       475\n",
            "\n"
          ]
        }
      ],
      "id": "ptLdAQafOuZq"
    },
    {
      "cell_type": "markdown",
      "source": [
        "#### Итог:"
      ],
      "metadata": {
        "id": "ap_K1ZbVTLlH"
      },
      "id": "ap_K1ZbVTLlH"
    },
    {
      "cell_type": "code",
      "source": [
        "print('RNN train:')\n",
        "print(cr_rnn_train)\n",
        "print('\\nRNN test:')\n",
        "print(cr_rnn_test)"
      ],
      "metadata": {
        "colab": {
          "base_uri": "https://localhost:8080/"
        },
        "id": "ZgmqLdJuQ9Vz",
        "outputId": "7e26bca0-68d3-4567-e988-5d737f28249f"
      },
      "id": "ZgmqLdJuQ9Vz",
      "execution_count": null,
      "outputs": [
        {
          "output_type": "stream",
          "name": "stdout",
          "text": [
            "RNN train:\n",
            "              precision    recall  f1-score   support\n",
            "\n",
            "      собака       0.97      0.93      0.95       796\n",
            "       кошка       0.95      0.98      0.96      1103\n",
            "\n",
            "    accuracy                           0.96      1899\n",
            "   macro avg       0.96      0.95      0.96      1899\n",
            "weighted avg       0.96      0.96      0.96      1899\n",
            "\n",
            "\n",
            "RNN test:\n",
            "              precision    recall  f1-score   support\n",
            "\n",
            "      собака       0.77      0.74      0.75       207\n",
            "       кошка       0.81      0.82      0.82       268\n",
            "\n",
            "    accuracy                           0.79       475\n",
            "   macro avg       0.79      0.78      0.79       475\n",
            "weighted avg       0.79      0.79      0.79       475\n",
            "\n"
          ]
        }
      ]
    },
    {
      "cell_type": "code",
      "source": [
        "print('nn.RNN train:')\n",
        "print(cr_nn_rnn_train)\n",
        "print('\\nnn.RNN test:')\n",
        "print(cr_nn_rnn_test)"
      ],
      "metadata": {
        "colab": {
          "base_uri": "https://localhost:8080/"
        },
        "id": "S_xmUswaTdWc",
        "outputId": "b136cd9e-de0f-4b12-8590-bc020813910a"
      },
      "id": "S_xmUswaTdWc",
      "execution_count": null,
      "outputs": [
        {
          "output_type": "stream",
          "name": "stdout",
          "text": [
            "nn.RNN train:\n",
            "              precision    recall  f1-score   support\n",
            "\n",
            "      собака       0.98      0.95      0.96       796\n",
            "       кошка       0.97      0.98      0.97      1103\n",
            "\n",
            "    accuracy                           0.97      1899\n",
            "   macro avg       0.97      0.97      0.97      1899\n",
            "weighted avg       0.97      0.97      0.97      1899\n",
            "\n",
            "\n",
            "nn.RNN test:\n",
            "              precision    recall  f1-score   support\n",
            "\n",
            "      собака       0.81      0.76      0.78       207\n",
            "       кошка       0.82      0.86      0.84       268\n",
            "\n",
            "    accuracy                           0.82       475\n",
            "   macro avg       0.82      0.81      0.81       475\n",
            "weighted avg       0.82      0.82      0.82       475\n",
            "\n"
          ]
        }
      ]
    },
    {
      "cell_type": "code",
      "source": [
        "print('nn.LSTM train:')\n",
        "print(cr_nn_lstm_train)\n",
        "print('\\nnn.LSTM test:')\n",
        "print(cr_nn_lstm_test)"
      ],
      "metadata": {
        "colab": {
          "base_uri": "https://localhost:8080/"
        },
        "id": "y6Ai__ltTlkr",
        "outputId": "03d9adaf-edb4-475c-b0a2-487f9bf63459"
      },
      "id": "y6Ai__ltTlkr",
      "execution_count": null,
      "outputs": [
        {
          "output_type": "stream",
          "name": "stdout",
          "text": [
            "nn.LSTM train:\n",
            "              precision    recall  f1-score   support\n",
            "\n",
            "      собака       0.97      0.98      0.98       796\n",
            "       кошка       0.98      0.98      0.98      1103\n",
            "\n",
            "    accuracy                           0.98      1899\n",
            "   macro avg       0.98      0.98      0.98      1899\n",
            "weighted avg       0.98      0.98      0.98      1899\n",
            "\n",
            "\n",
            "nn.LSTM test:\n",
            "              precision    recall  f1-score   support\n",
            "\n",
            "      собака       0.78      0.76      0.77       207\n",
            "       кошка       0.82      0.83      0.82       268\n",
            "\n",
            "    accuracy                           0.80       475\n",
            "   macro avg       0.80      0.80      0.80       475\n",
            "weighted avg       0.80      0.80      0.80       475\n",
            "\n"
          ]
        }
      ]
    },
    {
      "cell_type": "code",
      "source": [
        "print('nn.GRU train:')\n",
        "print(cr_nn_gru_train)\n",
        "print('\\nnn.GRU test:')\n",
        "print(cr_nn_gru_test)"
      ],
      "metadata": {
        "colab": {
          "base_uri": "https://localhost:8080/"
        },
        "id": "AmWy7pkaTsF_",
        "outputId": "c25de15e-439f-46fe-8d41-fbe665bd2de2"
      },
      "id": "AmWy7pkaTsF_",
      "execution_count": null,
      "outputs": [
        {
          "output_type": "stream",
          "name": "stdout",
          "text": [
            "nn.GRU train:\n",
            "              precision    recall  f1-score   support\n",
            "\n",
            "      собака       1.00      0.99      1.00       796\n",
            "       кошка       1.00      1.00      1.00      1103\n",
            "\n",
            "    accuracy                           1.00      1899\n",
            "   macro avg       1.00      1.00      1.00      1899\n",
            "weighted avg       1.00      1.00      1.00      1899\n",
            "\n",
            "\n",
            "nn.GRU test:\n",
            "              precision    recall  f1-score   support\n",
            "\n",
            "      собака       0.77      0.78      0.78       207\n",
            "       кошка       0.83      0.82      0.82       268\n",
            "\n",
            "    accuracy                           0.80       475\n",
            "   macro avg       0.80      0.80      0.80       475\n",
            "weighted avg       0.80      0.80      0.80       475\n",
            "\n"
          ]
        }
      ]
    },
    {
      "cell_type": "markdown",
      "source": [
        "accuracy на тестовых данных:\n",
        "\n",
        "RNN: 79%\n",
        "nn.RNN: 82%\n",
        "nn.LSTM: 80%\n",
        "nn.GRU: 80%"
      ],
      "metadata": {
        "id": "WZEca58BU4oS"
      },
      "id": "WZEca58BU4oS"
    },
    {
      "cell_type": "code",
      "source": [
        "import matplotlib.pyplot as plt\n",
        "\n",
        "plt.figure(figsize=(8, 5))\n",
        "\n",
        "\n",
        "plt.plot(rnn_train_losses, c='C0', label='RNN train loss')\n",
        "plt.plot(rnn_test_losses, c='C0', linestyle='--', label='RNN test loss')\n",
        "plt.plot(nn_rnn_train_losses,  c='C1', label='nn.RNN train loss')\n",
        "plt.plot(nn_rnn_test_losses, c='C1', linestyle='--',label='nn.RNN test loss')\n",
        "\n",
        "plt.plot(nn_lstm_train_losses, c='C2', label='nn.LSTM train loss')\n",
        "plt.plot(nn_lstm_test_losses, c='C2', linestyle='--',label='nn.LSTM test loss')\n",
        "plt.plot(nn_gru_train_losses, c='C3',label='nn.GRU train loss')\n",
        "plt.plot(nn_gru_test_losses, c='C3', linestyle='--', label='nn.GRU test loss')\n",
        "plt.grid()\n",
        "plt.legend()\n",
        "plt.show()"
      ],
      "metadata": {
        "colab": {
          "base_uri": "https://localhost:8080/",
          "height": 445
        },
        "id": "VEdHsEs6PTUO",
        "outputId": "5bc3abab-8a63-4c01-99eb-9d9445037222"
      },
      "id": "VEdHsEs6PTUO",
      "execution_count": null,
      "outputs": [
        {
          "output_type": "display_data",
          "data": {
            "text/plain": [
              "<Figure size 800x500 with 1 Axes>"
            ],
            "image/png": "[encoded data removed]"
          },
          "metadata": {}
        }
      ]
    },
    {
      "cell_type": "markdown",
      "source": [
        "Сравнение результатов:\n",
        "\n",
        "по графику моя модель с RNN и модель с nn.RNN обучают примерно одинаково, тоже самое с моделями с nn.LSTM и nn.GRU\n",
        "\n",
        "по accuracy лучшей моделью является модель с nn.RNN\n",
        "\n",
        "по итогам обучения, nn.GRU справляется лучше всех, по графику имеет наименьшие ошибки"
      ],
      "metadata": {
        "id": "SCmhUfzpWMKx"
      },
      "id": "SCmhUfzpWMKx"
    }
  ],
  "metadata": {
    "kernelspec": {
      "display_name": "Python 3 (ipykernel)",
      "language": "python",
      "name": "python3"
    },
    "language_info": {
      "codemirror_mode": {
        "name": "ipython",
        "version": 3
      },
      "file_extension": ".py",
      "mimetype": "text/x-python",
      "name": "python",
      "nbconvert_exporter": "python",
      "pygments_lexer": "ipython3",
      "version": "3.11.5"
    },
    "colab": {
      "provenance": [],
      "toc_visible": true
    }
  },
  "nbformat": 4,
  "nbformat_minor": 5
}