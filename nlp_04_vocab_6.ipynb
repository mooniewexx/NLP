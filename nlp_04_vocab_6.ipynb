{
  "cells": [
    {
      "cell_type": "markdown",
      "id": "3a564d5f",
      "metadata": {
        "id": "3a564d5f"
      },
      "source": [
        "#  Преобразование текстов в последовательность индексов токенов. 🤗 Tokenizers\n",
        "\n",
        "__Автор задач: Блохин Н.В. (NVBlokhin@fa.ru)__\n",
        "\n",
        "Материалы:\n",
        "* Deep Learning with PyTorch (2020) Авторы: Eli Stevens, Luca Antiga, Thomas Viehmann\n",
        "* https://huggingface.co/docs/tokenizers/index\n",
        "* https://huggingface.co/docs/tokenizers/pipeline\n",
        "* https://huggingface.co/docs/tokenizers/api/trainers#tokenizers.trainers.WordLevelTrainer\n",
        "* Хороший минималистичный пакет с набором готовых преобразований, но больше не развивается:\n",
        "    * https://pytorch.org/text/stable/\n",
        "    * https://pytorch.org/text/stable/vocab.html\n",
        "    * https://pytorch.org/text/stable/transforms.html"
      ]
    },
    {
      "cell_type": "markdown",
      "id": "c9ecd663",
      "metadata": {
        "id": "c9ecd663"
      },
      "source": [
        "## Задачи для совместного разбора"
      ]
    },
    {
      "cell_type": "markdown",
      "id": "a3a10d94",
      "metadata": {
        "id": "a3a10d94"
      },
      "source": [
        "1\\. Рассмотрите основные шаги по преобразованию текста в последовательность индексов токенов."
      ]
    },
    {
      "cell_type": "code",
      "execution_count": null,
      "id": "72ce64eb",
      "metadata": {
        "id": "72ce64eb"
      },
      "outputs": [],
      "source": [
        "corpus = [\n",
        "    \"Студенты усердно занимаются стремясь получить знания и достичь успеха\",\n",
        "    \"Студенты активно участвуют в общественной жизни университета\"\n",
        "]"
      ]
    },
    {
      "cell_type": "code",
      "source": [
        "from nltk import word_tokenize\n",
        "import nltk\n",
        "nltk.download('punkt_tab')\n",
        "word_tokenize(\"\")"
      ],
      "metadata": {
        "colab": {
          "base_uri": "https://localhost:8080/"
        },
        "id": "cr3ytdI67wf7",
        "outputId": "d6f37e95-0b29-473f-eda0-79102862ec0f"
      },
      "id": "cr3ytdI67wf7",
      "execution_count": null,
      "outputs": [
        {
          "output_type": "stream",
          "name": "stderr",
          "text": [
            "[nltk_data] Downloading package punkt_tab to /root/nltk_data...\n",
            "[nltk_data]   Package punkt_tab is already up-to-date!\n"
          ]
        },
        {
          "output_type": "execute_result",
          "data": {
            "text/plain": [
              "[]"
            ]
          },
          "metadata": {},
          "execution_count": 203
        }
      ]
    },
    {
      "cell_type": "code",
      "source": [
        "corpus_tokens = [\n",
        "    word_tokenize(doc.lower())\n",
        "    for doc in corpus\n",
        "]\n",
        "corpus_tokens"
      ],
      "metadata": {
        "colab": {
          "base_uri": "https://localhost:8080/"
        },
        "collapsed": true,
        "id": "ClBNF55V8FNd",
        "outputId": "1e95a638-2a52-4a9b-8120-7c3737791160"
      },
      "id": "ClBNF55V8FNd",
      "execution_count": null,
      "outputs": [
        {
          "output_type": "execute_result",
          "data": {
            "text/plain": [
              "[['студенты',\n",
              "  'усердно',\n",
              "  'занимаются',\n",
              "  'стремясь',\n",
              "  'получить',\n",
              "  'знания',\n",
              "  'и',\n",
              "  'достичь',\n",
              "  'успеха'],\n",
              " ['студенты',\n",
              "  'активно',\n",
              "  'участвуют',\n",
              "  'в',\n",
              "  'общественной',\n",
              "  'жизни',\n",
              "  'университета']]"
            ]
          },
          "metadata": {},
          "execution_count": 204
        }
      ]
    },
    {
      "cell_type": "code",
      "source": [
        "words = set()\n",
        "words.update(corpus_tokens[0])\n",
        "words.update(corpus_tokens[1])\n",
        "words"
      ],
      "metadata": {
        "colab": {
          "base_uri": "https://localhost:8080/"
        },
        "collapsed": true,
        "id": "g2d1A_w68UQq",
        "outputId": "c70631d1-40db-4c83-9c9b-2844df6a2c0e"
      },
      "id": "g2d1A_w68UQq",
      "execution_count": null,
      "outputs": [
        {
          "output_type": "execute_result",
          "data": {
            "text/plain": [
              "{'активно',\n",
              " 'в',\n",
              " 'достичь',\n",
              " 'жизни',\n",
              " 'занимаются',\n",
              " 'знания',\n",
              " 'и',\n",
              " 'общественной',\n",
              " 'получить',\n",
              " 'стремясь',\n",
              " 'студенты',\n",
              " 'университета',\n",
              " 'усердно',\n",
              " 'успеха',\n",
              " 'участвуют'}"
            ]
          },
          "metadata": {},
          "execution_count": 205
        }
      ]
    },
    {
      "cell_type": "code",
      "source": [
        "stoi = {w: idx for idx, w in enumerate(words)}\n",
        "stoi[\"<UNK>\"] = len(stoi)\n",
        "stoi[\"<PAD>\"] = len(stoi)\n",
        "stoi\n",
        "# itos"
      ],
      "metadata": {
        "id": "wx-pSIDk8mvL",
        "colab": {
          "base_uri": "https://localhost:8080/"
        },
        "outputId": "23aa9fc0-cd06-426d-e8a7-a4f1732aecbc"
      },
      "id": "wx-pSIDk8mvL",
      "execution_count": null,
      "outputs": [
        {
          "output_type": "execute_result",
          "data": {
            "text/plain": [
              "{'занимаются': 0,\n",
              " 'получить': 1,\n",
              " 'в': 2,\n",
              " 'университета': 3,\n",
              " 'и': 4,\n",
              " 'достичь': 5,\n",
              " 'студенты': 6,\n",
              " 'усердно': 7,\n",
              " 'успеха': 8,\n",
              " 'жизни': 9,\n",
              " 'активно': 10,\n",
              " 'стремясь': 11,\n",
              " 'знания': 12,\n",
              " 'общественной': 13,\n",
              " 'участвуют': 14,\n",
              " '<UNK>': 15,\n",
              " '<PAD>': 16}"
            ]
          },
          "metadata": {},
          "execution_count": 206
        }
      ]
    },
    {
      "cell_type": "code",
      "source": [
        "stoi[\"усердно\"]"
      ],
      "metadata": {
        "colab": {
          "base_uri": "https://localhost:8080/"
        },
        "id": "7Cw2K5dQGDZj",
        "outputId": "ba2d620b-e6a2-4656-f88d-ba293abd2fc5"
      },
      "id": "7Cw2K5dQGDZj",
      "execution_count": null,
      "outputs": [
        {
          "output_type": "execute_result",
          "data": {
            "text/plain": [
              "7"
            ]
          },
          "metadata": {},
          "execution_count": 207
        }
      ]
    },
    {
      "cell_type": "code",
      "source": [
        "[stoi[w] for w in corpus_tokens[0]]"
      ],
      "metadata": {
        "colab": {
          "base_uri": "https://localhost:8080/"
        },
        "id": "hnO5tdCiGHl7",
        "outputId": "faff4ff4-7c02-4fa9-afc0-53dede66326f"
      },
      "id": "hnO5tdCiGHl7",
      "execution_count": null,
      "outputs": [
        {
          "output_type": "execute_result",
          "data": {
            "text/plain": [
              "[6, 7, 0, 11, 1, 12, 4, 5, 8]"
            ]
          },
          "metadata": {},
          "execution_count": 208
        }
      ]
    },
    {
      "cell_type": "code",
      "source": [
        "corpus_i = [\n",
        "    [stoi[w] for w in doc]\n",
        "    for doc in corpus_tokens\n",
        "]\n",
        "corpus_i"
      ],
      "metadata": {
        "colab": {
          "base_uri": "https://localhost:8080/"
        },
        "id": "cpzC2Fvi84-o",
        "outputId": "58f21ad7-5c3e-4bf5-93f2-d090135c9e74"
      },
      "id": "cpzC2Fvi84-o",
      "execution_count": null,
      "outputs": [
        {
          "output_type": "execute_result",
          "data": {
            "text/plain": [
              "[[6, 7, 0, 11, 1, 12, 4, 5, 8], [6, 10, 14, 2, 13, 9, 3]]"
            ]
          },
          "metadata": {},
          "execution_count": 209
        }
      ]
    },
    {
      "cell_type": "code",
      "source": [
        "# stoi[\"милана\"]\n",
        "stoi.get(\"милана\", stoi[\"<UNK>\"])"
      ],
      "metadata": {
        "colab": {
          "base_uri": "https://localhost:8080/"
        },
        "id": "bBcxO-C19GF0",
        "outputId": "877073e4-f14b-46e1-e0cb-d49f012d92bb"
      },
      "id": "bBcxO-C19GF0",
      "execution_count": null,
      "outputs": [
        {
          "output_type": "execute_result",
          "data": {
            "text/plain": [
              "15"
            ]
          },
          "metadata": {},
          "execution_count": 210
        }
      ]
    },
    {
      "cell_type": "code",
      "source": [
        "import torch as th"
      ],
      "metadata": {
        "id": "EWhkj5Jv96T7"
      },
      "id": "EWhkj5Jv96T7",
      "execution_count": null,
      "outputs": []
    },
    {
      "cell_type": "code",
      "source": [
        "# padding\n",
        "corpus_i[1].extend((stoi[\"<PAD>\"], stoi[\"<PAD>\"]))"
      ],
      "metadata": {
        "id": "BZGfsplK-Ta_"
      },
      "id": "BZGfsplK-Ta_",
      "execution_count": null,
      "outputs": []
    },
    {
      "cell_type": "code",
      "source": [
        "th.tensor(corpus_i)"
      ],
      "metadata": {
        "colab": {
          "base_uri": "https://localhost:8080/"
        },
        "id": "o9oj5v1A-CRO",
        "outputId": "437a571a-9ce8-46b6-95c3-73d5cb4fa781"
      },
      "id": "o9oj5v1A-CRO",
      "execution_count": null,
      "outputs": [
        {
          "output_type": "execute_result",
          "data": {
            "text/plain": [
              "tensor([[ 6,  7,  0, 11,  1, 12,  4,  5,  8],\n",
              "        [ 6, 10, 14,  2, 13,  9,  3, 16, 16]])"
            ]
          },
          "metadata": {},
          "execution_count": 213
        }
      ]
    },
    {
      "cell_type": "markdown",
      "id": "8785be82",
      "metadata": {
        "id": "8785be82"
      },
      "source": [
        "2\\. Обсудите основные требования к инструменту для построения набора индексов"
      ]
    },
    {
      "cell_type": "markdown",
      "id": "a592b414",
      "metadata": {
        "id": "a592b414"
      },
      "source": [
        "3\\. Рассмотрите пример работы с пакетом `tokenizers` для построения набора индексов токенов."
      ]
    },
    {
      "cell_type": "code",
      "source": [
        "from tokenizers import Tokenizer\n",
        "from tokenizers.models import WordLevel\n",
        "from tokenizers.pre_tokenizers import Whitespace\n",
        "from tokenizers.normalizers import Lowercase\n",
        "from tokenizers.trainers import WordLevelTrainer"
      ],
      "metadata": {
        "id": "Iiizln8SAAz2"
      },
      "id": "Iiizln8SAAz2",
      "execution_count": null,
      "outputs": []
    },
    {
      "cell_type": "code",
      "source": [
        "corpus = [\n",
        "    \"Студенты усердно занимаются стремясь получить знания и достичь успеха\",\n",
        "    \"Студенты активно участвуют в общественной жизни университета\"\n",
        "]"
      ],
      "metadata": {
        "id": "dHxeTvWBAwvm"
      },
      "id": "dHxeTvWBAwvm",
      "execution_count": null,
      "outputs": []
    },
    {
      "cell_type": "code",
      "source": [
        "model = WordLevel()\n",
        "tokenizer = Tokenizer(model)\n",
        "tokenizer.normalizer = Lowercase()\n",
        "tokenizer.pre_tokenizer = Whitespace()\n",
        "\n",
        "trainer = WordLevelTrainer(special_tokens=[\"<PAD>\", \"<UNK>\"])\n",
        "tokenizer.train_from_iterator(corpus, trainer=trainer)"
      ],
      "metadata": {
        "id": "8bOpAZlCADqM"
      },
      "id": "8bOpAZlCADqM",
      "execution_count": null,
      "outputs": []
    },
    {
      "cell_type": "code",
      "source": [
        "tokenizer.get_vocab()"
      ],
      "metadata": {
        "colab": {
          "base_uri": "https://localhost:8080/"
        },
        "collapsed": true,
        "id": "f2_Hgws-AnDb",
        "outputId": "445d7445-30a3-40cf-a552-10c32d0d6a62"
      },
      "id": "f2_Hgws-AnDb",
      "execution_count": null,
      "outputs": [
        {
          "output_type": "execute_result",
          "data": {
            "text/plain": [
              "{'общественной': 10,\n",
              " 'получить': 11,\n",
              " 'достичь': 5,\n",
              " 'студенты': 2,\n",
              " 'жизни': 6,\n",
              " 'активно': 3,\n",
              " 'занимаются': 7,\n",
              " '<UNK>': 1,\n",
              " 'успеха': 15,\n",
              " 'в': 4,\n",
              " 'университета': 13,\n",
              " 'знания': 8,\n",
              " 'участвуют': 16,\n",
              " 'усердно': 14,\n",
              " '<PAD>': 0,\n",
              " 'и': 9,\n",
              " 'стремясь': 12}"
            ]
          },
          "metadata": {},
          "execution_count": 217
        }
      ]
    },
    {
      "cell_type": "code",
      "source": [
        "encoding = tokenizer.encode(corpus[0])\n",
        "\n",
        "encoding.tokens, encoding.ids"
      ],
      "metadata": {
        "colab": {
          "base_uri": "https://localhost:8080/"
        },
        "collapsed": true,
        "id": "Hdye4JDcCRWk",
        "outputId": "21dda781-962e-4daf-af52-2ccf6ebd9c74"
      },
      "id": "Hdye4JDcCRWk",
      "execution_count": null,
      "outputs": [
        {
          "output_type": "execute_result",
          "data": {
            "text/plain": [
              "(['студенты',\n",
              "  'усердно',\n",
              "  'занимаются',\n",
              "  'стремясь',\n",
              "  'получить',\n",
              "  'знания',\n",
              "  'и',\n",
              "  'достичь',\n",
              "  'успеха'],\n",
              " [2, 14, 7, 12, 11, 8, 9, 5, 15])"
            ]
          },
          "metadata": {},
          "execution_count": 218
        }
      ]
    },
    {
      "cell_type": "markdown",
      "id": "4d7b6d63",
      "metadata": {
        "id": "4d7b6d63"
      },
      "source": [
        "## Задачи для самостоятельного решения"
      ]
    },
    {
      "cell_type": "markdown",
      "source": [
        "### 1."
      ],
      "metadata": {
        "id": "2jhzuOGChwV4"
      },
      "id": "2jhzuOGChwV4"
    },
    {
      "cell_type": "markdown",
      "id": "fadc01f5",
      "metadata": {
        "id": "fadc01f5"
      },
      "source": [
        "<p class=\"task\" id=\"1\"></p>\n",
        "\n",
        "1\\. Опишите класс `Vocab`. При создании объекта `Vocab` в конструктор передается набор текстов, предварительно разбитых на токены. Объект должен позволять:\n",
        "* по токену получить его уникальный индекс (в случае отсутствия токена в словаре вернуть 1)\n",
        "* по индексу токена получить сам токен (в случае отсутствия токена в словаре вернуть <UNK>)\n",
        "\n",
        "Первые 4 индекса зарезервированы под специальные токены `<PAD>`, `<UNK>`, `<SOS>`, `<EOS>`.\n",
        "    \n",
        "Создайте `Vocab` на основе списка `corpus` и закодируйте каждый токен в предложениях, используя `Vocab`. Выведите полученный результат на экран.\n",
        "\n",
        "- [ ] Проверено на семинаре"
      ]
    },
    {
      "cell_type": "code",
      "execution_count": null,
      "id": "f3a41634",
      "metadata": {
        "id": "f3a41634"
      },
      "outputs": [],
      "source": [
        "class Vocab:\n",
        "    def __init__(self, data):\n",
        "      self.spec_tokens = ['<PAD>', '<UNK>', '<SOS>', '<EOS>']\n",
        "      self.words = set()\n",
        "      self.words.update(self.spec_tokens)\n",
        "\n",
        "      for doc in data:\n",
        "        self.words.update(doc)\n",
        "\n",
        "      self.stoi_ = {w: idx for idx, w in enumerate(self.words)}\n",
        "      self.itos_ = {idx: w for w, idx in self.stoi_.items()}\n",
        "\n",
        "    def itos(self, idx):\n",
        "        \"\"\"Возвращает токен по индексу\"\"\"\n",
        "        return self.itos_.get(idx, '<UNK>')\n",
        "\n",
        "    def stoi(self, s):\n",
        "        \"\"\"Возвращает индекс токена\"\"\"\n",
        "        return self.stoi_.get(s, 1) # self.stoi_['<UNK>'])"
      ]
    },
    {
      "cell_type": "code",
      "execution_count": null,
      "id": "aa8656b5",
      "metadata": {
        "id": "aa8656b5"
      },
      "outputs": [],
      "source": [
        "corpus = [\n",
        "    \"Маленький котенок игриво прыгает за шариком\",\n",
        "    \"Пушистый котик мурлыкает, лежа на солнышке\",\n",
        "    \"Котенок любопытно нюхает цветы в саду\",\n",
        "    \"Котик ловко лазает по дереву, исследуя окружающий мир\",\n",
        "    \"Спящий котик мило моргает своими яркими глазками\",\n",
        "]"
      ]
    },
    {
      "cell_type": "code",
      "source": [
        "from nltk.tokenize import RegexpTokenizer\n",
        "nltk.download('punkt_tab')\n",
        "\n",
        "tokenizer = RegexpTokenizer(r\"\\w+\")\n",
        "\n",
        "nltk.download('punkt_tab')"
      ],
      "metadata": {
        "colab": {
          "base_uri": "https://localhost:8080/"
        },
        "outputId": "64b23626-c21f-4bff-cdf4-184a0e039750",
        "id": "P4NphlU_VE4t"
      },
      "execution_count": null,
      "outputs": [
        {
          "output_type": "stream",
          "name": "stderr",
          "text": [
            "[nltk_data] Downloading package punkt_tab to /root/nltk_data...\n",
            "[nltk_data]   Package punkt_tab is already up-to-date!\n",
            "[nltk_data] Downloading package punkt_tab to /root/nltk_data...\n",
            "[nltk_data]   Package punkt_tab is already up-to-date!\n"
          ]
        },
        {
          "output_type": "execute_result",
          "data": {
            "text/plain": [
              "True"
            ]
          },
          "metadata": {},
          "execution_count": 221
        }
      ],
      "id": "P4NphlU_VE4t"
    },
    {
      "cell_type": "code",
      "source": [
        "corpus_tokens = [\n",
        "    tokenizer.tokenize(doc.lower())\n",
        "    for doc in corpus\n",
        "]\n",
        "corpus_tokens"
      ],
      "metadata": {
        "colab": {
          "base_uri": "https://localhost:8080/"
        },
        "collapsed": true,
        "outputId": "da5ad5ca-9976-45f5-f579-17ffd4e89cba",
        "id": "1Tse89SyVE4u"
      },
      "execution_count": null,
      "outputs": [
        {
          "output_type": "execute_result",
          "data": {
            "text/plain": [
              "[['маленький', 'котенок', 'игриво', 'прыгает', 'за', 'шариком'],\n",
              " ['пушистый', 'котик', 'мурлыкает', 'лежа', 'на', 'солнышке'],\n",
              " ['котенок', 'любопытно', 'нюхает', 'цветы', 'в', 'саду'],\n",
              " ['котик', 'ловко', 'лазает', 'по', 'дереву', 'исследуя', 'окружающий', 'мир'],\n",
              " ['спящий', 'котик', 'мило', 'моргает', 'своими', 'яркими', 'глазками']]"
            ]
          },
          "metadata": {},
          "execution_count": 222
        }
      ],
      "id": "1Tse89SyVE4u"
    },
    {
      "cell_type": "code",
      "source": [
        "vocab = Vocab(corpus_tokens)\n",
        "\n",
        "encoded_corpus = [[vocab.stoi(t) for t in doc] for doc in corpus_tokens]\n",
        "encoded_corpus"
      ],
      "metadata": {
        "colab": {
          "base_uri": "https://localhost:8080/"
        },
        "id": "QcWPD8nOVHqD",
        "outputId": "371e0b8e-ddb7-41cd-fe97-a69735d23890"
      },
      "id": "QcWPD8nOVHqD",
      "execution_count": null,
      "outputs": [
        {
          "output_type": "execute_result",
          "data": {
            "text/plain": [
              "[[6, 24, 5, 16, 18, 31],\n",
              " [1, 4, 12, 30, 29, 8],\n",
              " [24, 25, 20, 33, 0, 2],\n",
              " [4, 15, 21, 7, 13, 22, 32, 17],\n",
              " [10, 4, 28, 26, 14, 27, 19]]"
            ]
          },
          "metadata": {},
          "execution_count": 223
        }
      ]
    },
    {
      "cell_type": "code",
      "source": [
        "vocab.stoi('мурлыкает')"
      ],
      "metadata": {
        "colab": {
          "base_uri": "https://localhost:8080/"
        },
        "id": "RQZNAL33V9ZH",
        "outputId": "037116ea-54ff-4d36-bb00-b71056a2ab12"
      },
      "id": "RQZNAL33V9ZH",
      "execution_count": null,
      "outputs": [
        {
          "output_type": "execute_result",
          "data": {
            "text/plain": [
              "12"
            ]
          },
          "metadata": {},
          "execution_count": 224
        }
      ]
    },
    {
      "cell_type": "code",
      "source": [
        "vocab.stoi('москва')"
      ],
      "metadata": {
        "colab": {
          "base_uri": "https://localhost:8080/"
        },
        "id": "mWOb7L3zWQ28",
        "outputId": "8c75d37b-4a38-492d-a358-8b32e5a71466"
      },
      "id": "mWOb7L3zWQ28",
      "execution_count": null,
      "outputs": [
        {
          "output_type": "execute_result",
          "data": {
            "text/plain": [
              "1"
            ]
          },
          "metadata": {},
          "execution_count": 225
        }
      ]
    },
    {
      "cell_type": "code",
      "source": [
        "vocab.itos(7)"
      ],
      "metadata": {
        "colab": {
          "base_uri": "https://localhost:8080/",
          "height": 36
        },
        "id": "dL4Cgh4_VkxS",
        "outputId": "1f406fcd-4537-4ea7-e302-cb3b420b1d9b"
      },
      "id": "dL4Cgh4_VkxS",
      "execution_count": null,
      "outputs": [
        {
          "output_type": "execute_result",
          "data": {
            "text/plain": [
              "'по'"
            ],
            "application/vnd.google.colaboratory.intrinsic+json": {
              "type": "string"
            }
          },
          "metadata": {},
          "execution_count": 226
        }
      ]
    },
    {
      "cell_type": "code",
      "source": [
        "vocab.itos(100)"
      ],
      "metadata": {
        "colab": {
          "base_uri": "https://localhost:8080/",
          "height": 36
        },
        "id": "vmkbMVhrWkv0",
        "outputId": "51dc87e6-5cf2-4d3e-fb7e-ee343e720574"
      },
      "id": "vmkbMVhrWkv0",
      "execution_count": null,
      "outputs": [
        {
          "output_type": "execute_result",
          "data": {
            "text/plain": [
              "'<UNK>'"
            ],
            "application/vnd.google.colaboratory.intrinsic+json": {
              "type": "string"
            }
          },
          "metadata": {},
          "execution_count": 227
        }
      ]
    },
    {
      "cell_type": "markdown",
      "source": [
        "### 2."
      ],
      "metadata": {
        "id": "ghiNk-WiiG4r"
      },
      "id": "ghiNk-WiiG4r"
    },
    {
      "cell_type": "markdown",
      "id": "0cb3a54b",
      "metadata": {
        "id": "0cb3a54b"
      },
      "source": [
        "<p class=\"task\" id=\"2\"></p>\n",
        "\n",
        "2\\. Создайте класс `NewsDataset` на основе данных из файла `news.csv`. Реализуйте метод `__getitem__` таким образом, чтобы он возвращал набор индексов токенов для заголовка новости $i$ и метку класса для этой новости. Для кодирования текстов используйте собственную реализацию `Vocab`. Набор индексов токенов возвращайте в виде тензора. Предусмотрите возможность передавать в конструктор класса преобразования.\n",
        "\n",
        "Выведите на экран результат выполнения `dataset[0]`.\n",
        "\n",
        "- [ ] Проверено на семинаре"
      ]
    },
    {
      "cell_type": "code",
      "source": [
        "import pandas as pd\n",
        "\n",
        "pd.read_csv('news.csv')"
      ],
      "metadata": {
        "colab": {
          "base_uri": "https://localhost:8080/",
          "height": 423
        },
        "id": "jBp-b-wEYoBK",
        "outputId": "62a4bd1c-a4e5-4cb5-8869-ec3e5069b2e4"
      },
      "id": "jBp-b-wEYoBK",
      "execution_count": null,
      "outputs": [
        {
          "output_type": "execute_result",
          "data": {
            "text/plain": [
              "                                                   text  label\n",
              "0     лукашенко пригрозил литовским танкам белорусск...      0\n",
              "1     российские компании оказались в опасности из з...      1\n",
              "2     лукашенко объявил об отмене выборов из за напа...      0\n",
              "3     «роснефть» стала лидером по объему биржевых пр...      1\n",
              "4     псковской области дадут десятки миллионов рубл...      1\n",
              "...                                                 ...    ...\n",
              "1096  борис джонсон пообещал избирателям вернуть ирл...      0\n",
              "1097  михаил горбачев заявил что не подавал в отстав...      0\n",
              "1098  в мгимо появится факультет международных отнош...      0\n",
              "1099  в россии введут штраф за отрицание агрессии нато       0\n",
              "1100  близкие художницы саши скочиленко  арестованно...      1\n",
              "\n",
              "[1101 rows x 2 columns]"
            ],
            "text/html": [
              "\n",
              "  <div id=\"df-9a8e6ea9-0a9c-4da0-a19d-a3c941ee256b\" class=\"colab-df-container\">\n",
              "    <div>\n",
              "<style scoped>\n",
              "    .dataframe tbody tr th:only-of-type {\n",
              "        vertical-align: middle;\n",
              "    }\n",
              "\n",
              "    .dataframe tbody tr th {\n",
              "        vertical-align: top;\n",
              "    }\n",
              "\n",
              "    .dataframe thead th {\n",
              "        text-align: right;\n",
              "    }\n",
              "</style>\n",
              "<table border=\"1\" class=\"dataframe\">\n",
              "  <thead>\n",
              "    <tr style=\"text-align: right;\">\n",
              "      <th></th>\n",
              "      <th>text</th>\n",
              "      <th>label</th>\n",
              "    </tr>\n",
              "  </thead>\n",
              "  <tbody>\n",
              "    <tr>\n",
              "      <th>0</th>\n",
              "      <td>лукашенко пригрозил литовским танкам белорусск...</td>\n",
              "      <td>0</td>\n",
              "    </tr>\n",
              "    <tr>\n",
              "      <th>1</th>\n",
              "      <td>российские компании оказались в опасности из з...</td>\n",
              "      <td>1</td>\n",
              "    </tr>\n",
              "    <tr>\n",
              "      <th>2</th>\n",
              "      <td>лукашенко объявил об отмене выборов из за напа...</td>\n",
              "      <td>0</td>\n",
              "    </tr>\n",
              "    <tr>\n",
              "      <th>3</th>\n",
              "      <td>«роснефть» стала лидером по объему биржевых пр...</td>\n",
              "      <td>1</td>\n",
              "    </tr>\n",
              "    <tr>\n",
              "      <th>4</th>\n",
              "      <td>псковской области дадут десятки миллионов рубл...</td>\n",
              "      <td>1</td>\n",
              "    </tr>\n",
              "    <tr>\n",
              "      <th>...</th>\n",
              "      <td>...</td>\n",
              "      <td>...</td>\n",
              "    </tr>\n",
              "    <tr>\n",
              "      <th>1096</th>\n",
              "      <td>борис джонсон пообещал избирателям вернуть ирл...</td>\n",
              "      <td>0</td>\n",
              "    </tr>\n",
              "    <tr>\n",
              "      <th>1097</th>\n",
              "      <td>михаил горбачев заявил что не подавал в отстав...</td>\n",
              "      <td>0</td>\n",
              "    </tr>\n",
              "    <tr>\n",
              "      <th>1098</th>\n",
              "      <td>в мгимо появится факультет международных отнош...</td>\n",
              "      <td>0</td>\n",
              "    </tr>\n",
              "    <tr>\n",
              "      <th>1099</th>\n",
              "      <td>в россии введут штраф за отрицание агрессии нато</td>\n",
              "      <td>0</td>\n",
              "    </tr>\n",
              "    <tr>\n",
              "      <th>1100</th>\n",
              "      <td>близкие художницы саши скочиленко  арестованно...</td>\n",
              "      <td>1</td>\n",
              "    </tr>\n",
              "  </tbody>\n",
              "</table>\n",
              "<p>1101 rows × 2 columns</p>\n",
              "</div>\n",
              "    <div class=\"colab-df-buttons\">\n",
              "\n",
              "  <div class=\"colab-df-container\">\n",
              "    <button class=\"colab-df-convert\" onclick=\"convertToInteractive('df-9a8e6ea9-0a9c-4da0-a19d-a3c941ee256b')\"\n",
              "            title=\"Convert this dataframe to an interactive table.\"\n",
              "            style=\"display:none;\">\n",
              "\n",
              "  <svg xmlns=\"http://www.w3.org/2000/svg\" height=\"24px\" viewBox=\"0 -960 960 960\">\n",
              "    <path d=\"M120-120v-720h720v720H120Zm60-500h600v-160H180v160Zm220 220h160v-160H400v160Zm0 220h160v-160H400v160ZM180-400h160v-160H180v160Zm440 0h160v-160H620v160ZM180-180h160v-160H180v160Zm440 0h160v-160H620v160Z\"/>\n",
              "  </svg>\n",
              "    </button>\n",
              "\n",
              "  <style>\n",
              "    .colab-df-container {\n",
              "      display:flex;\n",
              "      gap: 12px;\n",
              "    }\n",
              "\n",
              "    .colab-df-convert {\n",
              "      background-color: #E8F0FE;\n",
              "      border: none;\n",
              "      border-radius: 50%;\n",
              "      cursor: pointer;\n",
              "      display: none;\n",
              "      fill: #1967D2;\n",
              "      height: 32px;\n",
              "      padding: 0 0 0 0;\n",
              "      width: 32px;\n",
              "    }\n",
              "\n",
              "    .colab-df-convert:hover {\n",
              "      background-color: #E2EBFA;\n",
              "      box-shadow: 0px 1px 2px rgba(60, 64, 67, 0.3), 0px 1px 3px 1px rgba(60, 64, 67, 0.15);\n",
              "      fill: #174EA6;\n",
              "    }\n",
              "\n",
              "    .colab-df-buttons div {\n",
              "      margin-bottom: 4px;\n",
              "    }\n",
              "\n",
              "    [theme=dark] .colab-df-convert {\n",
              "      background-color: #3B4455;\n",
              "      fill: #D2E3FC;\n",
              "    }\n",
              "\n",
              "    [theme=dark] .colab-df-convert:hover {\n",
              "      background-color: #434B5C;\n",
              "      box-shadow: 0px 1px 3px 1px rgba(0, 0, 0, 0.15);\n",
              "      filter: drop-shadow(0px 1px 2px rgba(0, 0, 0, 0.3));\n",
              "      fill: #FFFFFF;\n",
              "    }\n",
              "  </style>\n",
              "\n",
              "    <script>\n",
              "      const buttonEl =\n",
              "        document.querySelector('#df-9a8e6ea9-0a9c-4da0-a19d-a3c941ee256b button.colab-df-convert');\n",
              "      buttonEl.style.display =\n",
              "        google.colab.kernel.accessAllowed ? 'block' : 'none';\n",
              "\n",
              "      async function convertToInteractive(key) {\n",
              "        const element = document.querySelector('#df-9a8e6ea9-0a9c-4da0-a19d-a3c941ee256b');\n",
              "        const dataTable =\n",
              "          await google.colab.kernel.invokeFunction('convertToInteractive',\n",
              "                                                    [key], {});\n",
              "        if (!dataTable) return;\n",
              "\n",
              "        const docLinkHtml = 'Like what you see? Visit the ' +\n",
              "          '<a target=\"_blank\" href=https://colab.research.google.com/notebooks/data_table.ipynb>data table notebook</a>'\n",
              "          + ' to learn more about interactive tables.';\n",
              "        element.innerHTML = '';\n",
              "        dataTable['output_type'] = 'display_data';\n",
              "        await google.colab.output.renderOutput(dataTable, element);\n",
              "        const docLink = document.createElement('div');\n",
              "        docLink.innerHTML = docLinkHtml;\n",
              "        element.appendChild(docLink);\n",
              "      }\n",
              "    </script>\n",
              "  </div>\n",
              "\n",
              "\n",
              "<div id=\"df-32c6d8bb-d50e-4978-a559-503598e7a93e\">\n",
              "  <button class=\"colab-df-quickchart\" onclick=\"quickchart('df-32c6d8bb-d50e-4978-a559-503598e7a93e')\"\n",
              "            title=\"Suggest charts\"\n",
              "            style=\"display:none;\">\n",
              "\n",
              "<svg xmlns=\"http://www.w3.org/2000/svg\" height=\"24px\"viewBox=\"0 0 24 24\"\n",
              "     width=\"24px\">\n",
              "    <g>\n",
              "        <path d=\"M19 3H5c-1.1 0-2 .9-2 2v14c0 1.1.9 2 2 2h14c1.1 0 2-.9 2-2V5c0-1.1-.9-2-2-2zM9 17H7v-7h2v7zm4 0h-2V7h2v10zm4 0h-2v-4h2v4z\"/>\n",
              "    </g>\n",
              "</svg>\n",
              "  </button>\n",
              "\n",
              "<style>\n",
              "  .colab-df-quickchart {\n",
              "      --bg-color: #E8F0FE;\n",
              "      --fill-color: #1967D2;\n",
              "      --hover-bg-color: #E2EBFA;\n",
              "      --hover-fill-color: #174EA6;\n",
              "      --disabled-fill-color: #AAA;\n",
              "      --disabled-bg-color: #DDD;\n",
              "  }\n",
              "\n",
              "  [theme=dark] .colab-df-quickchart {\n",
              "      --bg-color: #3B4455;\n",
              "      --fill-color: #D2E3FC;\n",
              "      --hover-bg-color: #434B5C;\n",
              "      --hover-fill-color: #FFFFFF;\n",
              "      --disabled-bg-color: #3B4455;\n",
              "      --disabled-fill-color: #666;\n",
              "  }\n",
              "\n",
              "  .colab-df-quickchart {\n",
              "    background-color: var(--bg-color);\n",
              "    border: none;\n",
              "    border-radius: 50%;\n",
              "    cursor: pointer;\n",
              "    display: none;\n",
              "    fill: var(--fill-color);\n",
              "    height: 32px;\n",
              "    padding: 0;\n",
              "    width: 32px;\n",
              "  }\n",
              "\n",
              "  .colab-df-quickchart:hover {\n",
              "    background-color: var(--hover-bg-color);\n",
              "    box-shadow: 0 1px 2px rgba(60, 64, 67, 0.3), 0 1px 3px 1px rgba(60, 64, 67, 0.15);\n",
              "    fill: var(--button-hover-fill-color);\n",
              "  }\n",
              "\n",
              "  .colab-df-quickchart-complete:disabled,\n",
              "  .colab-df-quickchart-complete:disabled:hover {\n",
              "    background-color: var(--disabled-bg-color);\n",
              "    fill: var(--disabled-fill-color);\n",
              "    box-shadow: none;\n",
              "  }\n",
              "\n",
              "  .colab-df-spinner {\n",
              "    border: 2px solid var(--fill-color);\n",
              "    border-color: transparent;\n",
              "    border-bottom-color: var(--fill-color);\n",
              "    animation:\n",
              "      spin 1s steps(1) infinite;\n",
              "  }\n",
              "\n",
              "  @keyframes spin {\n",
              "    0% {\n",
              "      border-color: transparent;\n",
              "      border-bottom-color: var(--fill-color);\n",
              "      border-left-color: var(--fill-color);\n",
              "    }\n",
              "    20% {\n",
              "      border-color: transparent;\n",
              "      border-left-color: var(--fill-color);\n",
              "      border-top-color: var(--fill-color);\n",
              "    }\n",
              "    30% {\n",
              "      border-color: transparent;\n",
              "      border-left-color: var(--fill-color);\n",
              "      border-top-color: var(--fill-color);\n",
              "      border-right-color: var(--fill-color);\n",
              "    }\n",
              "    40% {\n",
              "      border-color: transparent;\n",
              "      border-right-color: var(--fill-color);\n",
              "      border-top-color: var(--fill-color);\n",
              "    }\n",
              "    60% {\n",
              "      border-color: transparent;\n",
              "      border-right-color: var(--fill-color);\n",
              "    }\n",
              "    80% {\n",
              "      border-color: transparent;\n",
              "      border-right-color: var(--fill-color);\n",
              "      border-bottom-color: var(--fill-color);\n",
              "    }\n",
              "    90% {\n",
              "      border-color: transparent;\n",
              "      border-bottom-color: var(--fill-color);\n",
              "    }\n",
              "  }\n",
              "</style>\n",
              "\n",
              "  <script>\n",
              "    async function quickchart(key) {\n",
              "      const quickchartButtonEl =\n",
              "        document.querySelector('#' + key + ' button');\n",
              "      quickchartButtonEl.disabled = true;  // To prevent multiple clicks.\n",
              "      quickchartButtonEl.classList.add('colab-df-spinner');\n",
              "      try {\n",
              "        const charts = await google.colab.kernel.invokeFunction(\n",
              "            'suggestCharts', [key], {});\n",
              "      } catch (error) {\n",
              "        console.error('Error during call to suggestCharts:', error);\n",
              "      }\n",
              "      quickchartButtonEl.classList.remove('colab-df-spinner');\n",
              "      quickchartButtonEl.classList.add('colab-df-quickchart-complete');\n",
              "    }\n",
              "    (() => {\n",
              "      let quickchartButtonEl =\n",
              "        document.querySelector('#df-32c6d8bb-d50e-4978-a559-503598e7a93e button');\n",
              "      quickchartButtonEl.style.display =\n",
              "        google.colab.kernel.accessAllowed ? 'block' : 'none';\n",
              "    })();\n",
              "  </script>\n",
              "</div>\n",
              "    </div>\n",
              "  </div>\n"
            ],
            "application/vnd.google.colaboratory.intrinsic+json": {
              "type": "dataframe",
              "summary": "{\n  \"name\": \"pd\",\n  \"rows\": 1101,\n  \"fields\": [\n    {\n      \"column\": \"text\",\n      \"properties\": {\n        \"dtype\": \"string\",\n        \"num_unique_values\": 1099,\n        \"samples\": [\n          \"\\u043f\\u0443\\u0442\\u0438\\u043d \\u043f\\u0440\\u0438\\u043a\\u0430\\u0437\\u0430\\u043b \\u043e\\u0442\\u043c\\u0435\\u043d\\u0438\\u0442\\u044c \\u0448\\u0442\\u0443\\u0440\\u043c \\u00ab\\u0430\\u0437\\u043e\\u0432\\u0441\\u0442\\u0430\\u043b\\u0438\\u00bb \\u0432 \\u043c\\u0430\\u0440\\u0438\\u0443\\u043f\\u043e\\u043b\\u0435\",\n          \"\\u0434\\u0435\\u043f\\u0443\\u0442\\u0430\\u0442\\u0430 \\u0440\\u0430\\u0448\\u043a\\u0438\\u043d\\u0430 \\u0437\\u0430\\u0434\\u0435\\u0440\\u0436\\u0430\\u043b\\u0438 \\u043f\\u0440\\u0438 \\u043f\\u043e\\u043f\\u044b\\u0442\\u043a\\u0435 \\u043f\\u0440\\u043e\\u043d\\u0435\\u0441\\u0442\\u0438 \\u0432\\u0438\\u043d\\u0442\\u043e\\u0432\\u043a\\u0443 \\u043d\\u0430 \\u0431\\u0438\\u0430\\u0442\\u043b\\u043e\\u043d\\u043d\\u044b\\u0439 \\u0441\\u0442\\u0430\\u0434\\u0438\\u043e\\u043d \",\n          \"\\u0440\\u043e\\u0441\\u0441\\u0438\\u044f\\u043d\\u0438\\u043d\\u0443 \\u0437\\u0430\\u043f\\u0440\\u0435\\u0442\\u0438\\u043b\\u0438 \\u043e\\u0445\\u043e\\u0442\\u0438\\u0442\\u044c\\u0441\\u044f \\u0438\\u0437 \\u0437\\u0430 \\u043a\\u0432\\u0430\\u0440\\u0442\\u0438\\u0440\\u044b\"\n        ],\n        \"semantic_type\": \"\",\n        \"description\": \"\"\n      }\n    },\n    {\n      \"column\": \"label\",\n      \"properties\": {\n        \"dtype\": \"number\",\n        \"std\": 0,\n        \"min\": 0,\n        \"max\": 1,\n        \"num_unique_values\": 2,\n        \"samples\": [\n          1,\n          0\n        ],\n        \"semantic_type\": \"\",\n        \"description\": \"\"\n      }\n    }\n  ]\n}"
            }
          },
          "metadata": {},
          "execution_count": 228
        }
      ]
    },
    {
      "cell_type": "code",
      "source": [
        "pd.read_csv('news.csv').iloc[0]['text']"
      ],
      "metadata": {
        "colab": {
          "base_uri": "https://localhost:8080/",
          "height": 36
        },
        "id": "wiXLlKxCeky-",
        "outputId": "d0e9aa47-aeff-400a-9a66-e4491eacd707"
      },
      "id": "wiXLlKxCeky-",
      "execution_count": null,
      "outputs": [
        {
          "output_type": "execute_result",
          "data": {
            "text/plain": [
              "'лукашенко пригрозил литовским танкам белорусской картошкой '"
            ],
            "application/vnd.google.colaboratory.intrinsic+json": {
              "type": "string"
            }
          },
          "metadata": {},
          "execution_count": 229
        }
      ]
    },
    {
      "cell_type": "code",
      "source": [
        "class NewsDataset:\n",
        "  def __init__(self, f, vocab=None, tokenizer=None, transform = None):\n",
        "    self.data = pd.read_csv(f)\n",
        "    self.tokenizer = tokenizer or RegexpTokenizer(r'\\w+')\n",
        "    self.vocab = vocab or self.create_vocab(self.data['text']) #vocab if vocab is not None else\n",
        "    self.transform = transform\n",
        "\n",
        "  def create_vocab(self, texts):\n",
        "    corpus_tokens = [self.tokenizer.tokenize(t.lower()) for t in texts]\n",
        "    return Vocab(corpus_tokens)\n",
        "\n",
        "  def __getitem__(self, idx):\n",
        "    text = self.data.iloc[idx]['text']\n",
        "    label = self.data.iloc[idx]['label']\n",
        "\n",
        "    tokens = self.tokenizer.tokenize(text.lower())\n",
        "    idxs = [self.vocab.stoi(t) for t in tokens]\n",
        "\n",
        "    if self.transform:\n",
        "      idxs = self.transform(idxs)\n",
        "\n",
        "    return th.tensor(idxs), label\n",
        "\n",
        "\n",
        "dataset = NewsDataset('news.csv')\n",
        "tokens, label = dataset[0]\n",
        "print(tokens)\n",
        "print('label:', label)"
      ],
      "metadata": {
        "colab": {
          "base_uri": "https://localhost:8080/"
        },
        "id": "htbehcvVZL61",
        "outputId": "def58952-a8dc-4e46-a7eb-6601f4168921"
      },
      "id": "htbehcvVZL61",
      "execution_count": null,
      "outputs": [
        {
          "output_type": "stream",
          "name": "stdout",
          "text": [
            "tensor([ 977, 5191, 2126, 1997, 3835, 2124])\n",
            "label: 0\n"
          ]
        }
      ]
    },
    {
      "cell_type": "markdown",
      "source": [
        "### 3."
      ],
      "metadata": {
        "id": "wjJgurlDVO2-"
      },
      "id": "wjJgurlDVO2-"
    },
    {
      "cell_type": "markdown",
      "id": "fda17cdd",
      "metadata": {
        "id": "fda17cdd"
      },
      "source": [
        "<p class=\"task\" id=\"3\"></p>\n",
        "\n",
        "3\\. Реализуйте преобразование `Truncate`, которое обрезает каждый текст в батче до `n` токенов. Создайте объект `NewsDataset` с обрезкой предложений до 5 токенов (указав данное преобразование при создании объекта). Создайте батч из 16 примеров при помощи стандартного `torch.utils.data.DataLoader`. Выведите на экран батч и размеры его компонент.\n",
        "\n",
        "- [ ] Проверено на семинаре"
      ]
    },
    {
      "cell_type": "code",
      "execution_count": null,
      "id": "21b3ab8a",
      "metadata": {
        "id": "21b3ab8a"
      },
      "outputs": [],
      "source": [
        "class Truncate:\n",
        "    def __init__(self, n):\n",
        "      self.n = n\n",
        "\n",
        "    def __call__(self, token):\n",
        "      return token[:self.n]"
      ]
    },
    {
      "cell_type": "code",
      "source": [
        "class NewsDataset:\n",
        "  def __init__(self, f, vocab=None, tokenizer=None, transform = None):\n",
        "    self.data = pd.read_csv(f)\n",
        "    self.tokenizer = tokenizer or RegexpTokenizer(r'\\w+')\n",
        "    self.vocab = vocab or self.create_vocab(self.data['text']) #vocab if vocab is not None else\n",
        "    self.transform = transform\n",
        "\n",
        "  def create_vocab(self, texts):\n",
        "    corpus_tokens = [self.tokenizer.tokenize(t.lower()) for t in texts]\n",
        "    return Vocab(corpus_tokens)\n",
        "\n",
        "  def __getitem__(self, idx):\n",
        "    text = self.data.iloc[idx]['text']\n",
        "    label = self.data.iloc[idx]['label']\n",
        "\n",
        "    tokens = self.tokenizer.tokenize(text.lower())\n",
        "    idxs = [self.vocab.stoi(t) for t in tokens]\n",
        "\n",
        "    if self.transform:\n",
        "      idxs = self.transform(idxs)\n",
        "\n",
        "    return th.tensor(idxs), label\n",
        "\n",
        "  def __len__(self):  ## добавила\n",
        "    return len(self.data)\n",
        "\n",
        "trunc = Truncate(5)\n",
        "dataset = NewsDataset('news.csv', transform = trunc)\n",
        "tokens, label = dataset[0]\n",
        "print(tokens)\n",
        "print('label:', label)"
      ],
      "metadata": {
        "colab": {
          "base_uri": "https://localhost:8080/"
        },
        "id": "OpGvFPI8gANu",
        "outputId": "e8ddbe29-abcc-41fa-e7e3-6b85ecffd6ab"
      },
      "id": "OpGvFPI8gANu",
      "execution_count": null,
      "outputs": [
        {
          "output_type": "stream",
          "name": "stdout",
          "text": [
            "tensor([ 977, 5191, 2126, 1997, 3835])\n",
            "label: 0\n"
          ]
        }
      ]
    },
    {
      "cell_type": "code",
      "source": [
        "from torch.utils.data import DataLoader\n",
        "\n",
        "dataloader = DataLoader(dataset, batch_size=16, shuffle=True)\n",
        "\n",
        "for batch in dataloader:\n",
        "  tokens, labels = batch\n",
        "  print(tokens, tokens.shape)\n",
        "  print(labels, labels.shape)\n",
        "  break"
      ],
      "metadata": {
        "colab": {
          "base_uri": "https://localhost:8080/"
        },
        "id": "Q3Li_QGDgAKO",
        "outputId": "d8984d49-3328-4ea2-b5e4-614b4ecbeda2"
      },
      "id": "Q3Li_QGDgAKO",
      "execution_count": null,
      "outputs": [
        {
          "output_type": "stream",
          "name": "stdout",
          "text": [
            "tensor([[5397, 5103, 2286, 3864,  524],\n",
            "        [2596, 1421, 3718,  385, 4465],\n",
            "        [3258,  730, 3982, 1489, 5366],\n",
            "        [4195, 3758, 3718, 4948,  418],\n",
            "        [1564, 4901, 1310, 1114, 3718],\n",
            "        [4400, 5782, 3688, 4082, 1445],\n",
            "        [2808,  833, 2638,  463, 1836],\n",
            "        [2434,  290,  478, 5160,  241],\n",
            "        [1445,  103, 4454, 1065, 3780],\n",
            "        [3716, 5211,  366, 3587, 3982],\n",
            "        [4951, 3718, 1026, 2733, 5040],\n",
            "        [3183, 3658, 3469, 2095,  332],\n",
            "        [1445, 4973, 1324, 3643,  694],\n",
            "        [1051, 2348, 2036, 4607, 1859],\n",
            "        [4400, 2808, 1445, 3576, 3664],\n",
            "        [4132, 3018,  562, 1445, 3743]]) torch.Size([16, 5])\n",
            "tensor([0, 0, 1, 0, 0, 1, 1, 0, 0, 0, 1, 0, 0, 0, 1, 0]) torch.Size([16])\n"
          ]
        }
      ]
    },
    {
      "cell_type": "markdown",
      "source": [
        "### 4."
      ],
      "metadata": {
        "id": "o8kXQBfdWWhp"
      },
      "id": "o8kXQBfdWWhp"
    },
    {
      "cell_type": "markdown",
      "id": "5bfcac69",
      "metadata": {
        "id": "5bfcac69"
      },
      "source": [
        "<p class=\"task\" id=\"4\"></p>\n",
        "\n",
        "4\\. Реализуйте преобразование `Pad`, которое расширяет каждый текст в батче до `n` токенов значением `pad_idx`. Создайте объект `NewsDataset` с расширением предложений до 30 токенов (указав данное преобразование при создании объекта). Создайте батч из 16 примеров при помощи стандартного `torch.utils.data.DataLoader`. Выведите на экран батч и размеры его компонент.\n",
        "\n",
        "- [ ] Проверено на семинаре"
      ]
    },
    {
      "cell_type": "code",
      "execution_count": null,
      "id": "842d669c",
      "metadata": {
        "id": "842d669c"
      },
      "outputs": [],
      "source": [
        "class Pad:\n",
        "    def __init__(self, n, pad_idx):\n",
        "      self.n = n\n",
        "      self.pad_idx = pad_idx\n",
        "\n",
        "    def __call__(self, token):\n",
        "      return token + [self.pad_idx]*(self.n-len(token))"
      ]
    },
    {
      "cell_type": "code",
      "source": [
        "dataset = NewsDataset('news.csv')\n",
        "pad_idx = dataset.vocab.stoi('<PAD>')\n",
        "pad_idx"
      ],
      "metadata": {
        "colab": {
          "base_uri": "https://localhost:8080/"
        },
        "id": "aQotcgzHjeDB",
        "outputId": "d8f13a3b-9504-482e-a9fe-ceb585bd45ff"
      },
      "id": "aQotcgzHjeDB",
      "execution_count": null,
      "outputs": [
        {
          "output_type": "execute_result",
          "data": {
            "text/plain": [
              "4092"
            ]
          },
          "metadata": {},
          "execution_count": 235
        }
      ]
    },
    {
      "cell_type": "code",
      "source": [
        "pad = Pad(30, pad_idx)\n",
        "dataset = NewsDataset('news.csv', transform = pad)\n",
        "tokens, label = dataset[0]\n",
        "\n",
        "print(tokens)\n",
        "print('label:', label)"
      ],
      "metadata": {
        "colab": {
          "base_uri": "https://localhost:8080/"
        },
        "id": "dKKGmC3AjIGX",
        "outputId": "7cd04a88-608e-44bc-d09e-214cc95e1b22"
      },
      "id": "dKKGmC3AjIGX",
      "execution_count": null,
      "outputs": [
        {
          "output_type": "stream",
          "name": "stdout",
          "text": [
            "tensor([ 977, 5191, 2126, 1997, 3835, 2124, 4092, 4092, 4092, 4092, 4092, 4092,\n",
            "        4092, 4092, 4092, 4092, 4092, 4092, 4092, 4092, 4092, 4092, 4092, 4092,\n",
            "        4092, 4092, 4092, 4092, 4092, 4092])\n",
            "label: 0\n"
          ]
        }
      ]
    },
    {
      "cell_type": "code",
      "source": [
        "from torch.utils.data import DataLoader\n",
        "\n",
        "dataloader = DataLoader(dataset, batch_size=16, shuffle=True)\n",
        "\n",
        "for batch in dataloader:\n",
        "  texts, labels = batch\n",
        "  print(texts, texts.shape)\n",
        "  print(labels, labels.shape)\n",
        "  break"
      ],
      "metadata": {
        "colab": {
          "base_uri": "https://localhost:8080/"
        },
        "id": "gV3EzcGEi4Ua",
        "outputId": "8352588e-76e1-41a5-edb4-971be7470319"
      },
      "id": "gV3EzcGEi4Ua",
      "execution_count": null,
      "outputs": [
        {
          "output_type": "stream",
          "name": "stdout",
          "text": [
            "tensor([[4701, 2537,  510, 5356, 1445, 4989, 3337, 4692, 2733, 3748, 4092, 4092,\n",
            "         4092, 4092, 4092, 4092, 4092, 4092, 4092, 4092, 4092, 4092, 4092, 4092,\n",
            "         4092, 4092, 4092, 4092, 4092, 4092],\n",
            "        [1445, 1577, 3631,  292, 4050, 4060, 4092, 4092, 4092, 4092, 4092, 4092,\n",
            "         4092, 4092, 4092, 4092, 4092, 4092, 4092, 4092, 4092, 4092, 4092, 4092,\n",
            "         4092, 4092, 4092, 4092, 4092, 4092],\n",
            "        [1445,  312, 4758, 5266, 5453,  917, 1510, 2733, 2540, 5958, 2105, 5707,\n",
            "         1071, 1449,  583, 1510, 1652,  168, 3101, 4216, 3386, 4699, 4092, 4092,\n",
            "         4092, 4092, 4092, 4092, 4092, 4092],\n",
            "        [2284, 2203, 1908,  201, 3256, 4719, 3117, 1445, 2403, 2807, 3341, 4775,\n",
            "         2469, 4394, 4092, 4092, 4092, 4092, 4092, 4092, 4092, 4092, 4092, 4092,\n",
            "         4092, 4092, 4092, 4092, 4092, 4092],\n",
            "        [2833, 1537, 2648, 5721, 3273, 1859,  508, 3092, 3570, 4804, 3943, 4092,\n",
            "         4092, 4092, 4092, 4092, 4092, 4092, 4092, 4092, 4092, 4092, 4092, 4092,\n",
            "         4092, 4092, 4092, 4092, 4092, 4092],\n",
            "        [3846, 1641, 5397, 1849, 2053, 4312, 1859,  487, 4565, 4092, 4092, 4092,\n",
            "         4092, 4092, 4092, 4092, 4092, 4092, 4092, 4092, 4092, 4092, 4092, 4092,\n",
            "         4092, 4092, 4092, 4092, 4092, 4092],\n",
            "        [2510, 2920, 3964, 1871, 3922, 4733, 1652, 5937,  753, 2436, 3092, 2317,\n",
            "         3210, 3982, 5487, 1215, 5485, 1392, 4068, 4092, 4092, 4092, 4092, 4092,\n",
            "         4092, 4092, 4092, 4092, 4092, 4092],\n",
            "        [1445, 2901, 2075,   88,  524, 2690, 2106, 3773, 5563, 5155,  902, 5778,\n",
            "         4092, 4092, 4092, 4092, 4092, 4092, 4092, 4092, 4092, 4092, 4092, 4092,\n",
            "         4092, 4092, 4092, 4092, 4092, 4092],\n",
            "        [ 524, 1357, 3982, 2654,  198, 4972, 5737, 2465, 1216, 1620, 4783, 2904,\n",
            "         3106, 4092, 4092, 4092, 4092, 4092, 4092, 4092, 4092, 4092, 4092, 4092,\n",
            "         4092, 4092, 4092, 4092, 4092, 4092],\n",
            "        [1702,  917, 1510,  463, 3907, 3958, 5100, 3922,  332,  740, 1276, 1445,\n",
            "          816, 4092, 4092, 4092, 4092, 4092, 4092, 4092, 4092, 4092, 4092, 4092,\n",
            "         4092, 4092, 4092, 4092, 4092, 4092],\n",
            "        [4414, 4299, 5388, 3557, 2802,  524, 4970, 1447, 5012, 2744, 3588,  484,\n",
            "         3269, 1685, 4092, 4092, 4092, 4092, 4092, 4092, 4092, 4092, 4092, 4092,\n",
            "         4092, 4092, 4092, 4092, 4092, 4092],\n",
            "        [2808, 2208, 5679, 5940, 1994, 4092, 4092, 4092, 4092, 4092, 4092, 4092,\n",
            "         4092, 4092, 4092, 4092, 4092, 4092, 4092, 4092, 4092, 4092, 4092, 4092,\n",
            "         4092, 4092, 4092, 4092, 4092, 4092],\n",
            "        [1343, 4784, 3718,  313, 1039, 3480, 4632, 2609, 1651, 4479, 3231, 1859,\n",
            "         1599, 4092, 4092, 4092, 4092, 4092, 4092, 4092, 4092, 4092, 4092, 4092,\n",
            "         4092, 4092, 4092, 4092, 4092, 4092],\n",
            "        [1445, 5627, 4471, 1541, 3022, 5090,  769, 3772, 4975, 3484, 5371, 3982,\n",
            "         1732, 2021,  494, 4775, 4336, 3758, 4092, 4092, 4092, 4092, 4092, 4092,\n",
            "         4092, 4092, 4092, 4092, 4092, 4092],\n",
            "        [5306, 5126, 2466,  881, 1445, 1577, 4092, 4092, 4092, 4092, 4092, 4092,\n",
            "         4092, 4092, 4092, 4092, 4092, 4092, 4092, 4092, 4092, 4092, 4092, 4092,\n",
            "         4092, 4092, 4092, 4092, 4092, 4092],\n",
            "        [2500, 4531,  524, 3338, 3087, 5478, 3533, 2507, 1652, 1569,  421, 4092,\n",
            "         4092, 4092, 4092, 4092, 4092, 4092, 4092, 4092, 4092, 4092, 4092, 4092,\n",
            "         4092, 4092, 4092, 4092, 4092, 4092]]) torch.Size([16, 30])\n",
            "tensor([1, 1, 1, 0, 0, 1, 1, 1, 1, 0, 1, 1, 0, 1, 1, 0]) torch.Size([16])\n"
          ]
        }
      ]
    },
    {
      "cell_type": "markdown",
      "source": [
        "### 5."
      ],
      "metadata": {
        "id": "v5LQZj4hX8WT"
      },
      "id": "v5LQZj4hX8WT"
    },
    {
      "cell_type": "markdown",
      "id": "b880cc31",
      "metadata": {
        "id": "b880cc31"
      },
      "source": [
        "<p class=\"task\" id=\"5\"></p>\n",
        "\n",
        "5\\. Создайте объект `tokenizers.Tokenizer` на основе данных из файла `news.csv`. Для выделения токенов из текста используйте разбиение по пробелам (pre-tokenizer `Whitespace` + model `WordLevel` ). На этапе нормализации приводите текст к нижнему регистру и убирайте знаки препинания. Включите опцию паддинга. Первые 4 индекса зарезервируйте под специальные токены `<PAD>`, `<UNK>`, `<SOS>`, `<EOS>`.\n",
        "\n",
        "Опишите класс `NewsDatasetHfTokenizer`. Реализуйте метод `__getitem__` таким образом, чтобы он возвращал набор индексов токенов для заголовка новости $i$ и метку класса для этой новости. Для кодирования текстов используйте обученный токенизатор. Набор индексов токенов возвращайте в виде тензора. Создайте батч из 16 примеров при помощи стандартного `torch.utils.data.DataLoader`. Выведите на экран батч и размеры его компонент.\n",
        "\n",
        "- [ ] Проверено на семинаре"
      ]
    },
    {
      "cell_type": "code",
      "source": [
        "from tokenizers import Tokenizer\n",
        "from tokenizers.models import WordLevel\n",
        "from tokenizers.pre_tokenizers import Whitespace\n",
        "from tokenizers.normalizers import Lowercase\n",
        "from tokenizers.trainers import WordLevelTrainer"
      ],
      "metadata": {
        "id": "_7JUgaOGZ5mL"
      },
      "id": "_7JUgaOGZ5mL",
      "execution_count": null,
      "outputs": []
    },
    {
      "cell_type": "code",
      "source": [
        "data = pd.read_csv(\"news.csv\")"
      ],
      "metadata": {
        "id": "yWAUTHgzbt6O"
      },
      "id": "yWAUTHgzbt6O",
      "execution_count": null,
      "outputs": []
    },
    {
      "cell_type": "code",
      "source": [
        "corpus = data.text.to_list()\n",
        "corpus[:5]"
      ],
      "metadata": {
        "colab": {
          "base_uri": "https://localhost:8080/"
        },
        "id": "7axtVynmby_0",
        "outputId": "2fef344e-476a-40f1-f5c0-a1a842c48e86"
      },
      "id": "7axtVynmby_0",
      "execution_count": null,
      "outputs": [
        {
          "output_type": "execute_result",
          "data": {
            "text/plain": [
              "['лукашенко пригрозил литовским танкам белорусской картошкой ',\n",
              " 'российские компании оказались в опасности из за глобального потепления',\n",
              " 'лукашенко объявил об отмене выборов из за нападения иностранных диверсантов ',\n",
              " '«роснефть» стала лидером по объему биржевых продаж нефтепродуктов',\n",
              " 'псковской области дадут десятки миллионов рублей на ремонт дорог']"
            ]
          },
          "metadata": {},
          "execution_count": 240
        }
      ]
    },
    {
      "cell_type": "code",
      "source": [
        "model = WordLevel()  # разбиваем на слова\n",
        "tokenizer = Tokenizer(model)\n",
        "tokenizer.normalizer = Lowercase() # к нижнему регистру\n",
        "tokenizer.pre_tokenizer = Whitespace()  # токен-ция по пробелам\n",
        "\n",
        "trainer = WordLevelTrainer(special_tokens=[\"<PAD>\", \"<UNK>\", \"<SOS>\", \"<EOS>\"])\n",
        "tokenizer.train_from_iterator(corpus, trainer=trainer)  # обучаем ток-р на корпусе т"
      ],
      "metadata": {
        "id": "ioW8HkedZFHG"
      },
      "id": "ioW8HkedZFHG",
      "execution_count": null,
      "outputs": []
    },
    {
      "cell_type": "code",
      "source": [
        "pad_id = tokenizer.token_to_id(\"<PAD>\")\n",
        "pad_id"
      ],
      "metadata": {
        "colab": {
          "base_uri": "https://localhost:8080/"
        },
        "id": "0vlBx8btdegu",
        "outputId": "c5a8011c-7479-4ec5-8b6c-4b73ea23de98"
      },
      "id": "0vlBx8btdegu",
      "execution_count": null,
      "outputs": [
        {
          "output_type": "execute_result",
          "data": {
            "text/plain": [
              "0"
            ]
          },
          "metadata": {},
          "execution_count": 242
        }
      ]
    },
    {
      "cell_type": "code",
      "source": [
        "tokenizer.token_to_id(\"<UNK>\")"
      ],
      "metadata": {
        "colab": {
          "base_uri": "https://localhost:8080/"
        },
        "id": "TdLtLN_Qdgza",
        "outputId": "c63b76e5-0266-48d8-ac4c-647d566d9ff3"
      },
      "id": "TdLtLN_Qdgza",
      "execution_count": null,
      "outputs": [
        {
          "output_type": "execute_result",
          "data": {
            "text/plain": [
              "1"
            ]
          },
          "metadata": {},
          "execution_count": 243
        }
      ]
    },
    {
      "cell_type": "code",
      "source": [
        "max_len = max(len(t) for t in corpus)\n",
        "max_len"
      ],
      "metadata": {
        "colab": {
          "base_uri": "https://localhost:8080/"
        },
        "id": "MWtfilParggX",
        "outputId": "00303673-9d3f-4534-f72f-0010906ea262"
      },
      "id": "MWtfilParggX",
      "execution_count": null,
      "outputs": [
        {
          "output_type": "execute_result",
          "data": {
            "text/plain": [
              "165"
            ]
          },
          "metadata": {},
          "execution_count": 266
        }
      ]
    },
    {
      "cell_type": "code",
      "source": [
        "tokenizer.enable_padding(pad_id = pad_id, pad_token=\"<PAD>\", length=max_len) # включаем паддинг"
      ],
      "metadata": {
        "id": "X0lV2lxvcrCb"
      },
      "id": "X0lV2lxvcrCb",
      "execution_count": null,
      "outputs": []
    },
    {
      "cell_type": "markdown",
      "source": [
        "\n",
        "Опишите класс `NewsDatasetHfTokenizer`. Реализуйте метод `__getitem__` таким образом, чтобы он возвращал набор индексов токенов для заголовка новости $i$ и метку класса для этой новости. Для кодирования текстов используйте обученный токенизатор. Набор индексов токенов возвращайте в виде тензора. Создайте батч из 16 примеров при помощи стандартного `torch.utils.data.DataLoader`. Выведите на экран батч и размеры его компонент.\n"
      ],
      "metadata": {
        "id": "cq9axxT4d4Qd"
      },
      "id": "cq9axxT4d4Qd"
    },
    {
      "cell_type": "code",
      "source": [
        "class NewsDatasetHfTokenizer:\n",
        "    def __init__(self, f, tokenizer, transform=None):\n",
        "        self.data = pd.read_csv(f)\n",
        "        self.tokenizer = tokenizer\n",
        "        self.transform = transform\n",
        "\n",
        "    def __getitem__(self, idx):\n",
        "        text = self.data.iloc[idx][\"text\"]\n",
        "        label = self.data.iloc[idx][\"label\"]\n",
        "\n",
        "        tokens = self.tokenizer.encode(text)  # токенизируем (ч/з .tokens)\n",
        "        idxs = tokens.ids\n",
        "\n",
        "        if self.transform:\n",
        "            idxs = self.transform(idxs)\n",
        "\n",
        "        return th.tensor(idxs), label\n",
        "\n",
        "    def __len__(self):\n",
        "        return len(self.data)"
      ],
      "metadata": {
        "id": "K0ATLBivd5_T"
      },
      "id": "K0ATLBivd5_T",
      "execution_count": null,
      "outputs": []
    },
    {
      "cell_type": "code",
      "source": [
        "def collate_fn(batch):        # вручную паддим\n",
        "  text, labels = zip(*batch)  # распакоука на\n",
        "  max_len = max(len(t) for t in texts)\n",
        "  padded_texts = [th.cat([t, th.full((max_len - len(text),), pad_id)]) for t in texts]\n",
        "  # обзор чеек : full - создаем тенз нужной лен и заполняем pad_id\n",
        "  # cat - конкатенируем, в итоге получаем западденные тексты :)\n",
        "\n",
        "  return th.stack(padded_texts), th.tensor(labels)\n",
        "  # ну стакаем типо до 1 тенза"
      ],
      "metadata": {
        "id": "LUXbNkjxkBNY"
      },
      "id": "LUXbNkjxkBNY",
      "execution_count": null,
      "outputs": []
    },
    {
      "cell_type": "code",
      "source": [
        "dataset = NewsDatasetHfTokenizer(\"news.csv\", tokenizer=tokenizer)\n",
        "dataloader = DataLoader(dataset, batch_size=16, shuffle=True, collate_fn=collate_fn)\n",
        "\n",
        "for batch in dataloader:\n",
        "  texts, labels = batch\n",
        "  print(texts, texts.shape)\n",
        "  print(labels, labels.shape)\n",
        "  break"
      ],
      "metadata": {
        "colab": {
          "base_uri": "https://localhost:8080/"
        },
        "outputId": "83306821-9900-46c0-8b96-1bdbc87efe7a",
        "id": "wAMbA626hcYi"
      },
      "execution_count": null,
      "outputs": [
        {
          "output_type": "stream",
          "name": "stdout",
          "text": [
            "tensor([[4701, 2537,  510, 5356, 1445, 4989, 3337, 4692, 2733, 3748, 4092, 4092,\n",
            "         4092, 4092, 4092, 4092, 4092, 4092, 4092, 4092, 4092, 4092, 4092, 4092,\n",
            "         4092, 4092, 4092, 4092, 4092, 4092,    0,    0,    0,    0,    0,    0,\n",
            "            0,    0,    0,    0,    0,    0,    0,    0],\n",
            "        [1445, 1577, 3631,  292, 4050, 4060, 4092, 4092, 4092, 4092, 4092, 4092,\n",
            "         4092, 4092, 4092, 4092, 4092, 4092, 4092, 4092, 4092, 4092, 4092, 4092,\n",
            "         4092, 4092, 4092, 4092, 4092, 4092,    0,    0,    0,    0,    0,    0,\n",
            "            0,    0,    0,    0,    0,    0,    0,    0],\n",
            "        [1445,  312, 4758, 5266, 5453,  917, 1510, 2733, 2540, 5958, 2105, 5707,\n",
            "         1071, 1449,  583, 1510, 1652,  168, 3101, 4216, 3386, 4699, 4092, 4092,\n",
            "         4092, 4092, 4092, 4092, 4092, 4092,    0,    0,    0,    0,    0,    0,\n",
            "            0,    0,    0,    0,    0,    0,    0,    0],\n",
            "        [2284, 2203, 1908,  201, 3256, 4719, 3117, 1445, 2403, 2807, 3341, 4775,\n",
            "         2469, 4394, 4092, 4092, 4092, 4092, 4092, 4092, 4092, 4092, 4092, 4092,\n",
            "         4092, 4092, 4092, 4092, 4092, 4092,    0,    0,    0,    0,    0,    0,\n",
            "            0,    0,    0,    0,    0,    0,    0,    0],\n",
            "        [2833, 1537, 2648, 5721, 3273, 1859,  508, 3092, 3570, 4804, 3943, 4092,\n",
            "         4092, 4092, 4092, 4092, 4092, 4092, 4092, 4092, 4092, 4092, 4092, 4092,\n",
            "         4092, 4092, 4092, 4092, 4092, 4092,    0,    0,    0,    0,    0,    0,\n",
            "            0,    0,    0,    0,    0,    0,    0,    0],\n",
            "        [3846, 1641, 5397, 1849, 2053, 4312, 1859,  487, 4565, 4092, 4092, 4092,\n",
            "         4092, 4092, 4092, 4092, 4092, 4092, 4092, 4092, 4092, 4092, 4092, 4092,\n",
            "         4092, 4092, 4092, 4092, 4092, 4092,    0,    0,    0,    0,    0,    0,\n",
            "            0,    0,    0,    0,    0,    0,    0,    0],\n",
            "        [2510, 2920, 3964, 1871, 3922, 4733, 1652, 5937,  753, 2436, 3092, 2317,\n",
            "         3210, 3982, 5487, 1215, 5485, 1392, 4068, 4092, 4092, 4092, 4092, 4092,\n",
            "         4092, 4092, 4092, 4092, 4092, 4092,    0,    0,    0,    0,    0,    0,\n",
            "            0,    0,    0,    0,    0,    0,    0,    0],\n",
            "        [1445, 2901, 2075,   88,  524, 2690, 2106, 3773, 5563, 5155,  902, 5778,\n",
            "         4092, 4092, 4092, 4092, 4092, 4092, 4092, 4092, 4092, 4092, 4092, 4092,\n",
            "         4092, 4092, 4092, 4092, 4092, 4092,    0,    0,    0,    0,    0,    0,\n",
            "            0,    0,    0,    0,    0,    0,    0,    0],\n",
            "        [ 524, 1357, 3982, 2654,  198, 4972, 5737, 2465, 1216, 1620, 4783, 2904,\n",
            "         3106, 4092, 4092, 4092, 4092, 4092, 4092, 4092, 4092, 4092, 4092, 4092,\n",
            "         4092, 4092, 4092, 4092, 4092, 4092,    0,    0,    0,    0,    0,    0,\n",
            "            0,    0,    0,    0,    0,    0,    0,    0],\n",
            "        [1702,  917, 1510,  463, 3907, 3958, 5100, 3922,  332,  740, 1276, 1445,\n",
            "          816, 4092, 4092, 4092, 4092, 4092, 4092, 4092, 4092, 4092, 4092, 4092,\n",
            "         4092, 4092, 4092, 4092, 4092, 4092,    0,    0,    0,    0,    0,    0,\n",
            "            0,    0,    0,    0,    0,    0,    0,    0],\n",
            "        [4414, 4299, 5388, 3557, 2802,  524, 4970, 1447, 5012, 2744, 3588,  484,\n",
            "         3269, 1685, 4092, 4092, 4092, 4092, 4092, 4092, 4092, 4092, 4092, 4092,\n",
            "         4092, 4092, 4092, 4092, 4092, 4092,    0,    0,    0,    0,    0,    0,\n",
            "            0,    0,    0,    0,    0,    0,    0,    0],\n",
            "        [2808, 2208, 5679, 5940, 1994, 4092, 4092, 4092, 4092, 4092, 4092, 4092,\n",
            "         4092, 4092, 4092, 4092, 4092, 4092, 4092, 4092, 4092, 4092, 4092, 4092,\n",
            "         4092, 4092, 4092, 4092, 4092, 4092,    0,    0,    0,    0,    0,    0,\n",
            "            0,    0,    0,    0,    0,    0,    0,    0],\n",
            "        [1343, 4784, 3718,  313, 1039, 3480, 4632, 2609, 1651, 4479, 3231, 1859,\n",
            "         1599, 4092, 4092, 4092, 4092, 4092, 4092, 4092, 4092, 4092, 4092, 4092,\n",
            "         4092, 4092, 4092, 4092, 4092, 4092,    0,    0,    0,    0,    0,    0,\n",
            "            0,    0,    0,    0,    0,    0,    0,    0],\n",
            "        [1445, 5627, 4471, 1541, 3022, 5090,  769, 3772, 4975, 3484, 5371, 3982,\n",
            "         1732, 2021,  494, 4775, 4336, 3758, 4092, 4092, 4092, 4092, 4092, 4092,\n",
            "         4092, 4092, 4092, 4092, 4092, 4092,    0,    0,    0,    0,    0,    0,\n",
            "            0,    0,    0,    0,    0,    0,    0,    0],\n",
            "        [5306, 5126, 2466,  881, 1445, 1577, 4092, 4092, 4092, 4092, 4092, 4092,\n",
            "         4092, 4092, 4092, 4092, 4092, 4092, 4092, 4092, 4092, 4092, 4092, 4092,\n",
            "         4092, 4092, 4092, 4092, 4092, 4092,    0,    0,    0,    0,    0,    0,\n",
            "            0,    0,    0,    0,    0,    0,    0,    0],\n",
            "        [2500, 4531,  524, 3338, 3087, 5478, 3533, 2507, 1652, 1569,  421, 4092,\n",
            "         4092, 4092, 4092, 4092, 4092, 4092, 4092, 4092, 4092, 4092, 4092, 4092,\n",
            "         4092, 4092, 4092, 4092, 4092, 4092,    0,    0,    0,    0,    0,    0,\n",
            "            0,    0,    0,    0,    0,    0,    0,    0]]) torch.Size([16, 44])\n",
            "tensor([1, 0, 1, 1, 0, 1, 1, 0, 0, 0, 1, 1, 1, 1, 0, 1]) torch.Size([16])\n"
          ]
        }
      ],
      "id": "wAMbA626hcYi"
    },
    {
      "cell_type": "code",
      "source": [
        "# если с enable_padding (без ручного падд),\n",
        "# то размер батча будет максимальным по длине и не будет учитывать макс лен у 1 батча (ну многа памяти тип, не оч эффективно):"
      ],
      "metadata": {
        "id": "_dlndWLom0BH"
      },
      "id": "_dlndWLom0BH",
      "execution_count": null,
      "outputs": []
    },
    {
      "cell_type": "code",
      "source": [
        "dataset = NewsDatasetHfTokenizer(\"news.csv\", tokenizer=tokenizer)\n",
        "dataloader = DataLoader(dataset, batch_size=16, shuffle=True)\n",
        "\n",
        "for batch in dataloader:\n",
        "  texts, labels = batch\n",
        "  print(texts, texts.shape)\n",
        "  print(labels, labels.shape)\n",
        "  break"
      ],
      "metadata": {
        "colab": {
          "base_uri": "https://localhost:8080/"
        },
        "outputId": "edd63f60-afb3-44e4-9a75-8c32a5f5c197",
        "id": "VSvjIbSLqfF0"
      },
      "execution_count": null,
      "outputs": [
        {
          "output_type": "stream",
          "name": "stdout",
          "text": [
            "tensor([[  47, 4961,  179,  ...,    0,    0,    0],\n",
            "        [4156,   97, 4132,  ...,    0,    0,    0],\n",
            "        [1953, 4225,  953,  ...,    0,    0,    0],\n",
            "        ...,\n",
            "        [ 100,   64,   11,  ...,    0,    0,    0],\n",
            "        [   7, 3436, 1202,  ...,    0,    0,    0],\n",
            "        [ 331,   68, 1384,  ...,    0,    0,    0]]) torch.Size([16, 165])\n",
            "tensor([1, 1, 0, 0, 0, 0, 1, 0, 0, 0, 1, 0, 0, 0, 0, 0]) torch.Size([16])\n"
          ]
        }
      ],
      "id": "VSvjIbSLqfF0"
    },
    {
      "cell_type": "code",
      "source": [],
      "metadata": {
        "id": "xIcJ829nqmQT"
      },
      "id": "xIcJ829nqmQT",
      "execution_count": null,
      "outputs": []
    }
  ],
  "metadata": {
    "kernelspec": {
      "display_name": "Python 3 (ipykernel)",
      "language": "python",
      "name": "python3"
    },
    "language_info": {
      "codemirror_mode": {
        "name": "ipython",
        "version": 3
      },
      "file_extension": ".py",
      "mimetype": "text/x-python",
      "name": "python",
      "nbconvert_exporter": "python",
      "pygments_lexer": "ipython3",
      "version": "3.11.5"
    },
    "colab": {
      "provenance": [],
      "toc_visible": true
    }
  },
  "nbformat": 4,
  "nbformat_minor": 5
}