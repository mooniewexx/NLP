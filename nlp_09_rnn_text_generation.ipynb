{
  "cells": [
    {
      "cell_type": "markdown",
      "id": "3a564d5f",
      "metadata": {
        "jupyter": {
          "source_hidden": true
        },
        "id": "3a564d5f"
      },
      "source": [
        "#  Генерация текста с использованием рекуррентных нейронных сетей\n",
        "\n",
        "__Автор задач: Блохин Н.В. (NVBlokhin@fa.ru)__\n",
        "\n",
        "Материалы:\n",
        "* Николенко С., Кадурин А., Архангельская Е. Глубокое обучение.\n",
        "* https://pytorch.org/docs/stable/nn.html#recurrent-layers\n",
        "* https://pytorch.org/tutorials/intermediate/char_rnn_generation_tutorial.html\n"
      ]
    },
    {
      "cell_type": "markdown",
      "id": "c9ecd663",
      "metadata": {
        "id": "c9ecd663"
      },
      "source": [
        "## Задачи для совместного разбора"
      ]
    },
    {
      "cell_type": "markdown",
      "id": "8f8b28c1",
      "metadata": {
        "id": "8f8b28c1"
      },
      "source": [
        "1\\. Рассмотрите основные шаги обучения модели для генерации текста с использованием RNN.\n",
        "\n",
        "![text gen](https://www.tensorflow.org/static/text/tutorials/images/text_generation_sampling.png)"
      ]
    },
    {
      "cell_type": "markdown",
      "id": "8e9a58fe",
      "metadata": {
        "id": "8e9a58fe"
      },
      "source": [
        "В этой ЛР мы рассматриваем задачу генерации текста. Верхнеуровнево это выглядит так: по текущему токену и некоторой информации о предыдущих токенах наша цель - сгенерировать следующий токен. Похожие вещи мы раньше делали, оценивая вероятностные распределения. Модель на биграммах - частный случай (история = один предыдущий токен).\n",
        "\n",
        "Теперь мы усложняем модель и в качестве истории используем вектор скрытого состояния RNN, который получен после обработки части последовательности. Новый промежуточный вектор скрытого состояния можно использовать для прогноза следующего токена."
      ]
    },
    {
      "cell_type": "code",
      "execution_count": null,
      "id": "d8d4e8c3",
      "metadata": {
        "colab": {
          "base_uri": "https://localhost:8080/"
        },
        "id": "d8d4e8c3",
        "outputId": "802a8e4e-9f28-4092-f544-3bc7cfa4d0dd"
      },
      "outputs": [
        {
          "output_type": "execute_result",
          "data": {
            "text/plain": [
              "tensor([[1, 5, 8, 1, 8],\n",
              "        [1, 2, 7, 7, 0],\n",
              "        [8, 6, 6, 3, 2],\n",
              "        [4, 5, 1, 9, 6],\n",
              "        [7, 3, 7, 2, 2],\n",
              "        [0, 8, 0, 8, 0],\n",
              "        [2, 2, 0, 8, 9],\n",
              "        [5, 1, 2, 4, 2]])"
            ]
          },
          "metadata": {},
          "execution_count": 1
        }
      ],
      "source": [
        "import torch as th\n",
        "\n",
        "batch_size, seq_len, vocab_size = 8, 5, 10\n",
        "data = th.randint(0, vocab_size, size=(batch_size, seq_len)) # входные последовательности\n",
        "data"
      ]
    },
    {
      "cell_type": "markdown",
      "id": "93be87f7",
      "metadata": {
        "id": "93be87f7"
      },
      "source": [
        "Для обучения нужны примеры и ответы. Мы можем получить их из исходных данных, имея в виду решаемую задачу. Для конкретного токена правильный \"ответ\" в нашей постановке задачи - это следующий за ним токен"
      ]
    },
    {
      "cell_type": "code",
      "execution_count": null,
      "id": "d2fc7ef5",
      "metadata": {
        "id": "d2fc7ef5"
      },
      "outputs": [],
      "source": [
        "X_t = X[:, :-1]\n",
        "y_t = X[:, 1:]"
      ]
    },
    {
      "cell_type": "code",
      "execution_count": null,
      "id": "d4f9e278",
      "metadata": {
        "id": "d4f9e278",
        "outputId": "54fc1987-59a8-4f47-a3ed-53f8c4a284d4"
      },
      "outputs": [
        {
          "data": {
            "text/plain": [
              "torch.Size([8, 4, 10])"
            ]
          },
          "execution_count": 9,
          "metadata": {},
          "output_type": "execute_result"
        }
      ],
      "source": [
        "import torch.nn as nn\n",
        "\n",
        "embedding_dim = 10\n",
        "emb = nn.Embedding(num_embeddings=10, embedding_dim=embedding_dim) # каждый токен заменяем на вектор\n",
        "X_e = emb(X_t)\n",
        "X_e.shape"
      ]
    },
    {
      "cell_type": "code",
      "execution_count": null,
      "id": "c8aa051e",
      "metadata": {
        "id": "c8aa051e",
        "outputId": "60cf8a45-2cba-496e-8593-b31428d95474"
      },
      "outputs": [
        {
          "data": {
            "text/plain": [
              "torch.Size([8, 4, 7])"
            ]
          },
          "execution_count": 10,
          "metadata": {},
          "output_type": "execute_result"
        }
      ],
      "source": [
        "hidden_size = 7\n",
        "rnn = nn.RNN(input_size=embedding_dim, hidden_size=hidden_size, batch_first=True)\n",
        "\n",
        "out, h = rnn(X_e) # пропускаем последовательности через RNN\n",
        "out.shape"
      ]
    },
    {
      "cell_type": "markdown",
      "id": "7185864f",
      "metadata": {
        "id": "7185864f"
      },
      "source": [
        "out - это векторы скрытых состояний после обработки очередного элемента последовательностей. Для каждого примера батча есть 4 (seq_len - 1) таких векторов. Каждый из них мы можем использовать для прогноза"
      ]
    },
    {
      "cell_type": "code",
      "execution_count": null,
      "id": "76e49441",
      "metadata": {
        "id": "76e49441",
        "outputId": "4159369d-767a-42ad-d3e4-132db7033d35"
      },
      "outputs": [
        {
          "data": {
            "text/plain": [
              "torch.Size([8, 4, 10])"
            ]
          },
          "execution_count": 11,
          "metadata": {},
          "output_type": "execute_result"
        }
      ],
      "source": [
        "fc = nn.Linear(hidden_size, vocab_size)\n",
        "y_preds = fc(out)\n",
        "y_preds.shape"
      ]
    },
    {
      "cell_type": "markdown",
      "id": "160a38c4",
      "metadata": {
        "id": "160a38c4"
      },
      "source": [
        "На этом этапе у нас каждый из векторов имеет размерность 10 (по количеству уникальных токенов в словаре). Каждый из этих векторов трактуем как логиты. Цель - добиться того, чтобы логит, соответствующий правильному ответу (реально идущему далее слову) был побольше. В этом месте нам уже не нужна трехмерная структура."
      ]
    },
    {
      "cell_type": "code",
      "execution_count": null,
      "id": "7765a127",
      "metadata": {
        "id": "7765a127",
        "outputId": "0bb42ede-c66e-4c76-c825-fd24b49e26c9"
      },
      "outputs": [
        {
          "data": {
            "text/plain": [
              "torch.Size([32, 10])"
            ]
          },
          "execution_count": 14,
          "metadata": {},
          "output_type": "execute_result"
        }
      ],
      "source": [
        "y_preds_2d = y_preds.reshape(batch_size * (seq_len - 1), -1)\n",
        "y_preds_2d.shape"
      ]
    },
    {
      "cell_type": "code",
      "execution_count": null,
      "id": "70359e3d",
      "metadata": {
        "id": "70359e3d",
        "outputId": "35ec01da-f818-49ad-b067-699beb5ad66e"
      },
      "outputs": [
        {
          "data": {
            "text/plain": [
              "torch.Size([32])"
            ]
          },
          "execution_count": 15,
          "metadata": {},
          "output_type": "execute_result"
        }
      ],
      "source": [
        "y_t.flatten().shape"
      ]
    },
    {
      "cell_type": "markdown",
      "id": "0d7e7ca6",
      "metadata": {
        "id": "0d7e7ca6"
      },
      "source": [
        "Теперь можно посчитать значение функции потерь и поотпимизировать его в стандартном цикле обучения."
      ]
    },
    {
      "cell_type": "markdown",
      "id": "483759fc",
      "metadata": {
        "id": "483759fc"
      },
      "source": [
        "Во всей этой процедуре есть один токен, который будет встречаться очень часто - PAD. Вопрос: какое воздействие он должен оказывать на итоговое значение функции потерь? По факту, нас не интересуют прогнозы для этих токенов, т.к. они чисто служебные. Для учета этого факта можно рассмотреть параметр ignore_index при создании функции потерь."
      ]
    },
    {
      "cell_type": "markdown",
      "id": "4d7b6d63",
      "metadata": {
        "id": "4d7b6d63"
      },
      "source": [
        "## Задачи для самостоятельного решения"
      ]
    },
    {
      "cell_type": "markdown",
      "source": [
        "### 1."
      ],
      "metadata": {
        "id": "gW8hNxIVNpzD"
      },
      "id": "gW8hNxIVNpzD"
    },
    {
      "cell_type": "markdown",
      "id": "e9c5b920",
      "metadata": {
        "id": "e9c5b920"
      },
      "source": [
        "<p class=\"task\" id=\"1\"></p>\n",
        "\n",
        "1\\. Считайте файл `pets_ru_en.csv`, приведите имена питомцев к нижнем регистру. Создайте Tokenizer на основе загруженных данных (токен - __буква__). Добавьте в словарь специальные токены `<PAD>`, `<SOS>`, `<EOS>`. Выведите на экран количество токенов в полученном словаре.\n",
        "\n",
        "- [ ] Проверено на семинаре"
      ]
    },
    {
      "cell_type": "code",
      "source": [
        "import pandas as pd\n",
        "\n",
        "data = pd.read_csv('pets_ru_en.csv')"
      ],
      "metadata": {
        "id": "rs9td-USNpSK"
      },
      "id": "rs9td-USNpSK",
      "execution_count": null,
      "outputs": []
    },
    {
      "cell_type": "code",
      "source": [
        "data.head()"
      ],
      "metadata": {
        "colab": {
          "base_uri": "https://localhost:8080/",
          "height": 206
        },
        "id": "ex9G__wfPFPA",
        "outputId": "ee9e2300-1164-4474-f651-e139cca614ef"
      },
      "id": "ex9G__wfPFPA",
      "execution_count": null,
      "outputs": [
        {
          "output_type": "execute_result",
          "data": {
            "text/plain": [
              "        имя язык\n",
              "0  Acapella   en\n",
              "1  Achilles   en\n",
              "2   Adriana   en\n",
              "3     Alpha   en\n",
              "4   Alyssum   en"
            ],
            "text/html": [
              "\n",
              "  <div id=\"df-3675aacf-0388-43a3-a186-86176a02b495\" class=\"colab-df-container\">\n",
              "    <div>\n",
              "<style scoped>\n",
              "    .dataframe tbody tr th:only-of-type {\n",
              "        vertical-align: middle;\n",
              "    }\n",
              "\n",
              "    .dataframe tbody tr th {\n",
              "        vertical-align: top;\n",
              "    }\n",
              "\n",
              "    .dataframe thead th {\n",
              "        text-align: right;\n",
              "    }\n",
              "</style>\n",
              "<table border=\"1\" class=\"dataframe\">\n",
              "  <thead>\n",
              "    <tr style=\"text-align: right;\">\n",
              "      <th></th>\n",
              "      <th>имя</th>\n",
              "      <th>язык</th>\n",
              "    </tr>\n",
              "  </thead>\n",
              "  <tbody>\n",
              "    <tr>\n",
              "      <th>0</th>\n",
              "      <td>Acapella</td>\n",
              "      <td>en</td>\n",
              "    </tr>\n",
              "    <tr>\n",
              "      <th>1</th>\n",
              "      <td>Achilles</td>\n",
              "      <td>en</td>\n",
              "    </tr>\n",
              "    <tr>\n",
              "      <th>2</th>\n",
              "      <td>Adriana</td>\n",
              "      <td>en</td>\n",
              "    </tr>\n",
              "    <tr>\n",
              "      <th>3</th>\n",
              "      <td>Alpha</td>\n",
              "      <td>en</td>\n",
              "    </tr>\n",
              "    <tr>\n",
              "      <th>4</th>\n",
              "      <td>Alyssum</td>\n",
              "      <td>en</td>\n",
              "    </tr>\n",
              "  </tbody>\n",
              "</table>\n",
              "</div>\n",
              "    <div class=\"colab-df-buttons\">\n",
              "\n",
              "  <div class=\"colab-df-container\">\n",
              "    <button class=\"colab-df-convert\" onclick=\"convertToInteractive('df-3675aacf-0388-43a3-a186-86176a02b495')\"\n",
              "            title=\"Convert this dataframe to an interactive table.\"\n",
              "            style=\"display:none;\">\n",
              "\n",
              "  <svg xmlns=\"http://www.w3.org/2000/svg\" height=\"24px\" viewBox=\"0 -960 960 960\">\n",
              "    <path d=\"M120-120v-720h720v720H120Zm60-500h600v-160H180v160Zm220 220h160v-160H400v160Zm0 220h160v-160H400v160ZM180-400h160v-160H180v160Zm440 0h160v-160H620v160ZM180-180h160v-160H180v160Zm440 0h160v-160H620v160Z\"/>\n",
              "  </svg>\n",
              "    </button>\n",
              "\n",
              "  <style>\n",
              "    .colab-df-container {\n",
              "      display:flex;\n",
              "      gap: 12px;\n",
              "    }\n",
              "\n",
              "    .colab-df-convert {\n",
              "      background-color: #E8F0FE;\n",
              "      border: none;\n",
              "      border-radius: 50%;\n",
              "      cursor: pointer;\n",
              "      display: none;\n",
              "      fill: #1967D2;\n",
              "      height: 32px;\n",
              "      padding: 0 0 0 0;\n",
              "      width: 32px;\n",
              "    }\n",
              "\n",
              "    .colab-df-convert:hover {\n",
              "      background-color: #E2EBFA;\n",
              "      box-shadow: 0px 1px 2px rgba(60, 64, 67, 0.3), 0px 1px 3px 1px rgba(60, 64, 67, 0.15);\n",
              "      fill: #174EA6;\n",
              "    }\n",
              "\n",
              "    .colab-df-buttons div {\n",
              "      margin-bottom: 4px;\n",
              "    }\n",
              "\n",
              "    [theme=dark] .colab-df-convert {\n",
              "      background-color: #3B4455;\n",
              "      fill: #D2E3FC;\n",
              "    }\n",
              "\n",
              "    [theme=dark] .colab-df-convert:hover {\n",
              "      background-color: #434B5C;\n",
              "      box-shadow: 0px 1px 3px 1px rgba(0, 0, 0, 0.15);\n",
              "      filter: drop-shadow(0px 1px 2px rgba(0, 0, 0, 0.3));\n",
              "      fill: #FFFFFF;\n",
              "    }\n",
              "  </style>\n",
              "\n",
              "    <script>\n",
              "      const buttonEl =\n",
              "        document.querySelector('#df-3675aacf-0388-43a3-a186-86176a02b495 button.colab-df-convert');\n",
              "      buttonEl.style.display =\n",
              "        google.colab.kernel.accessAllowed ? 'block' : 'none';\n",
              "\n",
              "      async function convertToInteractive(key) {\n",
              "        const element = document.querySelector('#df-3675aacf-0388-43a3-a186-86176a02b495');\n",
              "        const dataTable =\n",
              "          await google.colab.kernel.invokeFunction('convertToInteractive',\n",
              "                                                    [key], {});\n",
              "        if (!dataTable) return;\n",
              "\n",
              "        const docLinkHtml = 'Like what you see? Visit the ' +\n",
              "          '<a target=\"_blank\" href=https://colab.research.google.com/notebooks/data_table.ipynb>data table notebook</a>'\n",
              "          + ' to learn more about interactive tables.';\n",
              "        element.innerHTML = '';\n",
              "        dataTable['output_type'] = 'display_data';\n",
              "        await google.colab.output.renderOutput(dataTable, element);\n",
              "        const docLink = document.createElement('div');\n",
              "        docLink.innerHTML = docLinkHtml;\n",
              "        element.appendChild(docLink);\n",
              "      }\n",
              "    </script>\n",
              "  </div>\n",
              "\n",
              "\n",
              "<div id=\"df-681edb2f-b628-4b6b-8ce0-95fec3029314\">\n",
              "  <button class=\"colab-df-quickchart\" onclick=\"quickchart('df-681edb2f-b628-4b6b-8ce0-95fec3029314')\"\n",
              "            title=\"Suggest charts\"\n",
              "            style=\"display:none;\">\n",
              "\n",
              "<svg xmlns=\"http://www.w3.org/2000/svg\" height=\"24px\"viewBox=\"0 0 24 24\"\n",
              "     width=\"24px\">\n",
              "    <g>\n",
              "        <path d=\"M19 3H5c-1.1 0-2 .9-2 2v14c0 1.1.9 2 2 2h14c1.1 0 2-.9 2-2V5c0-1.1-.9-2-2-2zM9 17H7v-7h2v7zm4 0h-2V7h2v10zm4 0h-2v-4h2v4z\"/>\n",
              "    </g>\n",
              "</svg>\n",
              "  </button>\n",
              "\n",
              "<style>\n",
              "  .colab-df-quickchart {\n",
              "      --bg-color: #E8F0FE;\n",
              "      --fill-color: #1967D2;\n",
              "      --hover-bg-color: #E2EBFA;\n",
              "      --hover-fill-color: #174EA6;\n",
              "      --disabled-fill-color: #AAA;\n",
              "      --disabled-bg-color: #DDD;\n",
              "  }\n",
              "\n",
              "  [theme=dark] .colab-df-quickchart {\n",
              "      --bg-color: #3B4455;\n",
              "      --fill-color: #D2E3FC;\n",
              "      --hover-bg-color: #434B5C;\n",
              "      --hover-fill-color: #FFFFFF;\n",
              "      --disabled-bg-color: #3B4455;\n",
              "      --disabled-fill-color: #666;\n",
              "  }\n",
              "\n",
              "  .colab-df-quickchart {\n",
              "    background-color: var(--bg-color);\n",
              "    border: none;\n",
              "    border-radius: 50%;\n",
              "    cursor: pointer;\n",
              "    display: none;\n",
              "    fill: var(--fill-color);\n",
              "    height: 32px;\n",
              "    padding: 0;\n",
              "    width: 32px;\n",
              "  }\n",
              "\n",
              "  .colab-df-quickchart:hover {\n",
              "    background-color: var(--hover-bg-color);\n",
              "    box-shadow: 0 1px 2px rgba(60, 64, 67, 0.3), 0 1px 3px 1px rgba(60, 64, 67, 0.15);\n",
              "    fill: var(--button-hover-fill-color);\n",
              "  }\n",
              "\n",
              "  .colab-df-quickchart-complete:disabled,\n",
              "  .colab-df-quickchart-complete:disabled:hover {\n",
              "    background-color: var(--disabled-bg-color);\n",
              "    fill: var(--disabled-fill-color);\n",
              "    box-shadow: none;\n",
              "  }\n",
              "\n",
              "  .colab-df-spinner {\n",
              "    border: 2px solid var(--fill-color);\n",
              "    border-color: transparent;\n",
              "    border-bottom-color: var(--fill-color);\n",
              "    animation:\n",
              "      spin 1s steps(1) infinite;\n",
              "  }\n",
              "\n",
              "  @keyframes spin {\n",
              "    0% {\n",
              "      border-color: transparent;\n",
              "      border-bottom-color: var(--fill-color);\n",
              "      border-left-color: var(--fill-color);\n",
              "    }\n",
              "    20% {\n",
              "      border-color: transparent;\n",
              "      border-left-color: var(--fill-color);\n",
              "      border-top-color: var(--fill-color);\n",
              "    }\n",
              "    30% {\n",
              "      border-color: transparent;\n",
              "      border-left-color: var(--fill-color);\n",
              "      border-top-color: var(--fill-color);\n",
              "      border-right-color: var(--fill-color);\n",
              "    }\n",
              "    40% {\n",
              "      border-color: transparent;\n",
              "      border-right-color: var(--fill-color);\n",
              "      border-top-color: var(--fill-color);\n",
              "    }\n",
              "    60% {\n",
              "      border-color: transparent;\n",
              "      border-right-color: var(--fill-color);\n",
              "    }\n",
              "    80% {\n",
              "      border-color: transparent;\n",
              "      border-right-color: var(--fill-color);\n",
              "      border-bottom-color: var(--fill-color);\n",
              "    }\n",
              "    90% {\n",
              "      border-color: transparent;\n",
              "      border-bottom-color: var(--fill-color);\n",
              "    }\n",
              "  }\n",
              "</style>\n",
              "\n",
              "  <script>\n",
              "    async function quickchart(key) {\n",
              "      const quickchartButtonEl =\n",
              "        document.querySelector('#' + key + ' button');\n",
              "      quickchartButtonEl.disabled = true;  // To prevent multiple clicks.\n",
              "      quickchartButtonEl.classList.add('colab-df-spinner');\n",
              "      try {\n",
              "        const charts = await google.colab.kernel.invokeFunction(\n",
              "            'suggestCharts', [key], {});\n",
              "      } catch (error) {\n",
              "        console.error('Error during call to suggestCharts:', error);\n",
              "      }\n",
              "      quickchartButtonEl.classList.remove('colab-df-spinner');\n",
              "      quickchartButtonEl.classList.add('colab-df-quickchart-complete');\n",
              "    }\n",
              "    (() => {\n",
              "      let quickchartButtonEl =\n",
              "        document.querySelector('#df-681edb2f-b628-4b6b-8ce0-95fec3029314 button');\n",
              "      quickchartButtonEl.style.display =\n",
              "        google.colab.kernel.accessAllowed ? 'block' : 'none';\n",
              "    })();\n",
              "  </script>\n",
              "</div>\n",
              "    </div>\n",
              "  </div>\n"
            ],
            "application/vnd.google.colaboratory.intrinsic+json": {
              "type": "dataframe",
              "variable_name": "data",
              "summary": "{\n  \"name\": \"data\",\n  \"rows\": 2913,\n  \"fields\": [\n    {\n      \"column\": \"\\u0438\\u043c\\u044f\",\n      \"properties\": {\n        \"dtype\": \"string\",\n        \"num_unique_values\": 2894,\n        \"samples\": [\n          \"\\u041c\\u0438\\u0446\\u0446\\u0430\",\n          \"Annabel\",\n          \"\\u0424\\u0435\\u0444\\u043e\\u0447\\u043a\\u0430\"\n        ],\n        \"semantic_type\": \"\",\n        \"description\": \"\"\n      }\n    },\n    {\n      \"column\": \"\\u044f\\u0437\\u044b\\u043a\",\n      \"properties\": {\n        \"dtype\": \"category\",\n        \"num_unique_values\": 2,\n        \"samples\": [\n          \"rus\",\n          \"en\"\n        ],\n        \"semantic_type\": \"\",\n        \"description\": \"\"\n      }\n    }\n  ]\n}"
            }
          },
          "metadata": {},
          "execution_count": 64
        }
      ]
    },
    {
      "cell_type": "code",
      "source": [
        "import re\n",
        "\n",
        "def preprocess(text):\n",
        "  text = text.lower()\n",
        "  text = re.sub(r'[^a-zа-яё]','',text)\n",
        "  words = text.split()\n",
        "  return ''.join(words)  # сделала так чтобы сложные имена были слитными"
      ],
      "metadata": {
        "id": "tB9toq7-KUwC"
      },
      "execution_count": null,
      "outputs": [],
      "id": "tB9toq7-KUwC"
    },
    {
      "cell_type": "code",
      "source": [
        "data['имя'] = data['имя'].apply(preprocess)\n",
        "data.head()"
      ],
      "metadata": {
        "colab": {
          "base_uri": "https://localhost:8080/",
          "height": 206
        },
        "id": "XI0h3q0_LYq1",
        "outputId": "5762f2c4-e449-4576-9a97-967dc71d7e2e"
      },
      "execution_count": null,
      "outputs": [
        {
          "output_type": "execute_result",
          "data": {
            "text/plain": [
              "        имя язык\n",
              "0  acapella   en\n",
              "1  achilles   en\n",
              "2   adriana   en\n",
              "3     alpha   en\n",
              "4   alyssum   en"
            ],
            "text/html": [
              "\n",
              "  <div id=\"df-9baf3b37-bfa7-46eb-90e0-9e38179b72fb\" class=\"colab-df-container\">\n",
              "    <div>\n",
              "<style scoped>\n",
              "    .dataframe tbody tr th:only-of-type {\n",
              "        vertical-align: middle;\n",
              "    }\n",
              "\n",
              "    .dataframe tbody tr th {\n",
              "        vertical-align: top;\n",
              "    }\n",
              "\n",
              "    .dataframe thead th {\n",
              "        text-align: right;\n",
              "    }\n",
              "</style>\n",
              "<table border=\"1\" class=\"dataframe\">\n",
              "  <thead>\n",
              "    <tr style=\"text-align: right;\">\n",
              "      <th></th>\n",
              "      <th>имя</th>\n",
              "      <th>язык</th>\n",
              "    </tr>\n",
              "  </thead>\n",
              "  <tbody>\n",
              "    <tr>\n",
              "      <th>0</th>\n",
              "      <td>acapella</td>\n",
              "      <td>en</td>\n",
              "    </tr>\n",
              "    <tr>\n",
              "      <th>1</th>\n",
              "      <td>achilles</td>\n",
              "      <td>en</td>\n",
              "    </tr>\n",
              "    <tr>\n",
              "      <th>2</th>\n",
              "      <td>adriana</td>\n",
              "      <td>en</td>\n",
              "    </tr>\n",
              "    <tr>\n",
              "      <th>3</th>\n",
              "      <td>alpha</td>\n",
              "      <td>en</td>\n",
              "    </tr>\n",
              "    <tr>\n",
              "      <th>4</th>\n",
              "      <td>alyssum</td>\n",
              "      <td>en</td>\n",
              "    </tr>\n",
              "  </tbody>\n",
              "</table>\n",
              "</div>\n",
              "    <div class=\"colab-df-buttons\">\n",
              "\n",
              "  <div class=\"colab-df-container\">\n",
              "    <button class=\"colab-df-convert\" onclick=\"convertToInteractive('df-9baf3b37-bfa7-46eb-90e0-9e38179b72fb')\"\n",
              "            title=\"Convert this dataframe to an interactive table.\"\n",
              "            style=\"display:none;\">\n",
              "\n",
              "  <svg xmlns=\"http://www.w3.org/2000/svg\" height=\"24px\" viewBox=\"0 -960 960 960\">\n",
              "    <path d=\"M120-120v-720h720v720H120Zm60-500h600v-160H180v160Zm220 220h160v-160H400v160Zm0 220h160v-160H400v160ZM180-400h160v-160H180v160Zm440 0h160v-160H620v160ZM180-180h160v-160H180v160Zm440 0h160v-160H620v160Z\"/>\n",
              "  </svg>\n",
              "    </button>\n",
              "\n",
              "  <style>\n",
              "    .colab-df-container {\n",
              "      display:flex;\n",
              "      gap: 12px;\n",
              "    }\n",
              "\n",
              "    .colab-df-convert {\n",
              "      background-color: #E8F0FE;\n",
              "      border: none;\n",
              "      border-radius: 50%;\n",
              "      cursor: pointer;\n",
              "      display: none;\n",
              "      fill: #1967D2;\n",
              "      height: 32px;\n",
              "      padding: 0 0 0 0;\n",
              "      width: 32px;\n",
              "    }\n",
              "\n",
              "    .colab-df-convert:hover {\n",
              "      background-color: #E2EBFA;\n",
              "      box-shadow: 0px 1px 2px rgba(60, 64, 67, 0.3), 0px 1px 3px 1px rgba(60, 64, 67, 0.15);\n",
              "      fill: #174EA6;\n",
              "    }\n",
              "\n",
              "    .colab-df-buttons div {\n",
              "      margin-bottom: 4px;\n",
              "    }\n",
              "\n",
              "    [theme=dark] .colab-df-convert {\n",
              "      background-color: #3B4455;\n",
              "      fill: #D2E3FC;\n",
              "    }\n",
              "\n",
              "    [theme=dark] .colab-df-convert:hover {\n",
              "      background-color: #434B5C;\n",
              "      box-shadow: 0px 1px 3px 1px rgba(0, 0, 0, 0.15);\n",
              "      filter: drop-shadow(0px 1px 2px rgba(0, 0, 0, 0.3));\n",
              "      fill: #FFFFFF;\n",
              "    }\n",
              "  </style>\n",
              "\n",
              "    <script>\n",
              "      const buttonEl =\n",
              "        document.querySelector('#df-9baf3b37-bfa7-46eb-90e0-9e38179b72fb button.colab-df-convert');\n",
              "      buttonEl.style.display =\n",
              "        google.colab.kernel.accessAllowed ? 'block' : 'none';\n",
              "\n",
              "      async function convertToInteractive(key) {\n",
              "        const element = document.querySelector('#df-9baf3b37-bfa7-46eb-90e0-9e38179b72fb');\n",
              "        const dataTable =\n",
              "          await google.colab.kernel.invokeFunction('convertToInteractive',\n",
              "                                                    [key], {});\n",
              "        if (!dataTable) return;\n",
              "\n",
              "        const docLinkHtml = 'Like what you see? Visit the ' +\n",
              "          '<a target=\"_blank\" href=https://colab.research.google.com/notebooks/data_table.ipynb>data table notebook</a>'\n",
              "          + ' to learn more about interactive tables.';\n",
              "        element.innerHTML = '';\n",
              "        dataTable['output_type'] = 'display_data';\n",
              "        await google.colab.output.renderOutput(dataTable, element);\n",
              "        const docLink = document.createElement('div');\n",
              "        docLink.innerHTML = docLinkHtml;\n",
              "        element.appendChild(docLink);\n",
              "      }\n",
              "    </script>\n",
              "  </div>\n",
              "\n",
              "\n",
              "<div id=\"df-0321b715-32d9-4972-afde-c3a46a348f9c\">\n",
              "  <button class=\"colab-df-quickchart\" onclick=\"quickchart('df-0321b715-32d9-4972-afde-c3a46a348f9c')\"\n",
              "            title=\"Suggest charts\"\n",
              "            style=\"display:none;\">\n",
              "\n",
              "<svg xmlns=\"http://www.w3.org/2000/svg\" height=\"24px\"viewBox=\"0 0 24 24\"\n",
              "     width=\"24px\">\n",
              "    <g>\n",
              "        <path d=\"M19 3H5c-1.1 0-2 .9-2 2v14c0 1.1.9 2 2 2h14c1.1 0 2-.9 2-2V5c0-1.1-.9-2-2-2zM9 17H7v-7h2v7zm4 0h-2V7h2v10zm4 0h-2v-4h2v4z\"/>\n",
              "    </g>\n",
              "</svg>\n",
              "  </button>\n",
              "\n",
              "<style>\n",
              "  .colab-df-quickchart {\n",
              "      --bg-color: #E8F0FE;\n",
              "      --fill-color: #1967D2;\n",
              "      --hover-bg-color: #E2EBFA;\n",
              "      --hover-fill-color: #174EA6;\n",
              "      --disabled-fill-color: #AAA;\n",
              "      --disabled-bg-color: #DDD;\n",
              "  }\n",
              "\n",
              "  [theme=dark] .colab-df-quickchart {\n",
              "      --bg-color: #3B4455;\n",
              "      --fill-color: #D2E3FC;\n",
              "      --hover-bg-color: #434B5C;\n",
              "      --hover-fill-color: #FFFFFF;\n",
              "      --disabled-bg-color: #3B4455;\n",
              "      --disabled-fill-color: #666;\n",
              "  }\n",
              "\n",
              "  .colab-df-quickchart {\n",
              "    background-color: var(--bg-color);\n",
              "    border: none;\n",
              "    border-radius: 50%;\n",
              "    cursor: pointer;\n",
              "    display: none;\n",
              "    fill: var(--fill-color);\n",
              "    height: 32px;\n",
              "    padding: 0;\n",
              "    width: 32px;\n",
              "  }\n",
              "\n",
              "  .colab-df-quickchart:hover {\n",
              "    background-color: var(--hover-bg-color);\n",
              "    box-shadow: 0 1px 2px rgba(60, 64, 67, 0.3), 0 1px 3px 1px rgba(60, 64, 67, 0.15);\n",
              "    fill: var(--button-hover-fill-color);\n",
              "  }\n",
              "\n",
              "  .colab-df-quickchart-complete:disabled,\n",
              "  .colab-df-quickchart-complete:disabled:hover {\n",
              "    background-color: var(--disabled-bg-color);\n",
              "    fill: var(--disabled-fill-color);\n",
              "    box-shadow: none;\n",
              "  }\n",
              "\n",
              "  .colab-df-spinner {\n",
              "    border: 2px solid var(--fill-color);\n",
              "    border-color: transparent;\n",
              "    border-bottom-color: var(--fill-color);\n",
              "    animation:\n",
              "      spin 1s steps(1) infinite;\n",
              "  }\n",
              "\n",
              "  @keyframes spin {\n",
              "    0% {\n",
              "      border-color: transparent;\n",
              "      border-bottom-color: var(--fill-color);\n",
              "      border-left-color: var(--fill-color);\n",
              "    }\n",
              "    20% {\n",
              "      border-color: transparent;\n",
              "      border-left-color: var(--fill-color);\n",
              "      border-top-color: var(--fill-color);\n",
              "    }\n",
              "    30% {\n",
              "      border-color: transparent;\n",
              "      border-left-color: var(--fill-color);\n",
              "      border-top-color: var(--fill-color);\n",
              "      border-right-color: var(--fill-color);\n",
              "    }\n",
              "    40% {\n",
              "      border-color: transparent;\n",
              "      border-right-color: var(--fill-color);\n",
              "      border-top-color: var(--fill-color);\n",
              "    }\n",
              "    60% {\n",
              "      border-color: transparent;\n",
              "      border-right-color: var(--fill-color);\n",
              "    }\n",
              "    80% {\n",
              "      border-color: transparent;\n",
              "      border-right-color: var(--fill-color);\n",
              "      border-bottom-color: var(--fill-color);\n",
              "    }\n",
              "    90% {\n",
              "      border-color: transparent;\n",
              "      border-bottom-color: var(--fill-color);\n",
              "    }\n",
              "  }\n",
              "</style>\n",
              "\n",
              "  <script>\n",
              "    async function quickchart(key) {\n",
              "      const quickchartButtonEl =\n",
              "        document.querySelector('#' + key + ' button');\n",
              "      quickchartButtonEl.disabled = true;  // To prevent multiple clicks.\n",
              "      quickchartButtonEl.classList.add('colab-df-spinner');\n",
              "      try {\n",
              "        const charts = await google.colab.kernel.invokeFunction(\n",
              "            'suggestCharts', [key], {});\n",
              "      } catch (error) {\n",
              "        console.error('Error during call to suggestCharts:', error);\n",
              "      }\n",
              "      quickchartButtonEl.classList.remove('colab-df-spinner');\n",
              "      quickchartButtonEl.classList.add('colab-df-quickchart-complete');\n",
              "    }\n",
              "    (() => {\n",
              "      let quickchartButtonEl =\n",
              "        document.querySelector('#df-0321b715-32d9-4972-afde-c3a46a348f9c button');\n",
              "      quickchartButtonEl.style.display =\n",
              "        google.colab.kernel.accessAllowed ? 'block' : 'none';\n",
              "    })();\n",
              "  </script>\n",
              "</div>\n",
              "    </div>\n",
              "  </div>\n"
            ],
            "application/vnd.google.colaboratory.intrinsic+json": {
              "type": "dataframe",
              "variable_name": "data",
              "summary": "{\n  \"name\": \"data\",\n  \"rows\": 2913,\n  \"fields\": [\n    {\n      \"column\": \"\\u0438\\u043c\\u044f\",\n      \"properties\": {\n        \"dtype\": \"string\",\n        \"num_unique_values\": 2889,\n        \"samples\": [\n          \"spunky\",\n          \"\\u0431\\u044d\\u0441\\u0441\\u0438\",\n          \"\\u0443\\u043b\\u044b\\u0431\\u043a\\u0430\"\n        ],\n        \"semantic_type\": \"\",\n        \"description\": \"\"\n      }\n    },\n    {\n      \"column\": \"\\u044f\\u0437\\u044b\\u043a\",\n      \"properties\": {\n        \"dtype\": \"category\",\n        \"num_unique_values\": 2,\n        \"samples\": [\n          \"rus\",\n          \"en\"\n        ],\n        \"semantic_type\": \"\",\n        \"description\": \"\"\n      }\n    }\n  ]\n}"
            }
          },
          "metadata": {},
          "execution_count": 67
        }
      ],
      "id": "XI0h3q0_LYq1"
    },
    {
      "cell_type": "code",
      "source": [
        "data.shape"
      ],
      "metadata": {
        "colab": {
          "base_uri": "https://localhost:8080/"
        },
        "id": "WTkaomL9W57E",
        "outputId": "85654e61-eacc-40d7-ba98-2a89c189a936"
      },
      "id": "WTkaomL9W57E",
      "execution_count": null,
      "outputs": [
        {
          "output_type": "execute_result",
          "data": {
            "text/plain": [
              "(2913, 2)"
            ]
          },
          "metadata": {},
          "execution_count": 68
        }
      ]
    },
    {
      "cell_type": "code",
      "source": [
        "data.isna().sum()"
      ],
      "metadata": {
        "colab": {
          "base_uri": "https://localhost:8080/",
          "height": 147
        },
        "id": "urPUQJllXXLW",
        "outputId": "a9d2b6be-d4e2-4a0b-a251-ed9e1cac2365"
      },
      "id": "urPUQJllXXLW",
      "execution_count": null,
      "outputs": [
        {
          "output_type": "execute_result",
          "data": {
            "text/plain": [
              "имя     0\n",
              "язык    0\n",
              "dtype: int64"
            ],
            "text/html": [
              "<div>\n",
              "<style scoped>\n",
              "    .dataframe tbody tr th:only-of-type {\n",
              "        vertical-align: middle;\n",
              "    }\n",
              "\n",
              "    .dataframe tbody tr th {\n",
              "        vertical-align: top;\n",
              "    }\n",
              "\n",
              "    .dataframe thead th {\n",
              "        text-align: right;\n",
              "    }\n",
              "</style>\n",
              "<table border=\"1\" class=\"dataframe\">\n",
              "  <thead>\n",
              "    <tr style=\"text-align: right;\">\n",
              "      <th></th>\n",
              "      <th>0</th>\n",
              "    </tr>\n",
              "  </thead>\n",
              "  <tbody>\n",
              "    <tr>\n",
              "      <th>имя</th>\n",
              "      <td>0</td>\n",
              "    </tr>\n",
              "    <tr>\n",
              "      <th>язык</th>\n",
              "      <td>0</td>\n",
              "    </tr>\n",
              "  </tbody>\n",
              "</table>\n",
              "</div><br><label><b>dtype:</b> int64</label>"
            ]
          },
          "metadata": {},
          "execution_count": 69
        }
      ]
    },
    {
      "cell_type": "code",
      "source": [
        "all_chars = []\n",
        "for name in data['имя']:\n",
        "    all_chars.extend(list(name))\n",
        "\n",
        "all_chars[:5]"
      ],
      "metadata": {
        "colab": {
          "base_uri": "https://localhost:8080/"
        },
        "id": "qJmzRbzuWt7n",
        "outputId": "905f6524-51bf-4374-cde9-6de4c5ec6f54"
      },
      "id": "qJmzRbzuWt7n",
      "execution_count": null,
      "outputs": [
        {
          "output_type": "execute_result",
          "data": {
            "text/plain": [
              "['a', 'c', 'a', 'p', 'e']"
            ]
          },
          "metadata": {},
          "execution_count": 70
        }
      ]
    },
    {
      "cell_type": "code",
      "source": [
        "from collections import Counter\n",
        "\n",
        "char_count = Counter(all_chars)\n",
        "char_count"
      ],
      "metadata": {
        "colab": {
          "base_uri": "https://localhost:8080/"
        },
        "id": "rZgCHZ2kXpOe",
        "outputId": "c3b9c812-f6fd-487c-eee6-9bdae8470b2a"
      },
      "id": "rZgCHZ2kXpOe",
      "execution_count": null,
      "outputs": [
        {
          "output_type": "execute_result",
          "data": {
            "text/plain": [
              "Counter({'a': 733,\n",
              "         'c': 283,\n",
              "         'p': 242,\n",
              "         'e': 753,\n",
              "         'l': 429,\n",
              "         'h': 209,\n",
              "         'i': 507,\n",
              "         's': 442,\n",
              "         'd': 220,\n",
              "         'r': 577,\n",
              "         'n': 468,\n",
              "         'y': 167,\n",
              "         'u': 248,\n",
              "         'm': 228,\n",
              "         't': 378,\n",
              "         'o': 488,\n",
              "         'g': 152,\n",
              "         'w': 88,\n",
              "         'z': 45,\n",
              "         'b': 183,\n",
              "         'k': 121,\n",
              "         'j': 26,\n",
              "         'x': 40,\n",
              "         'v': 62,\n",
              "         'f': 127,\n",
              "         'q': 5,\n",
              "         'а': 1622,\n",
              "         'с': 595,\n",
              "         'я': 329,\n",
              "         'л': 623,\n",
              "         'и': 1101,\n",
              "         'н': 575,\n",
              "         'ф': 167,\n",
              "         'в': 136,\n",
              "         'р': 520,\n",
              "         'о': 357,\n",
              "         'д': 202,\n",
              "         'е': 522,\n",
              "         'ь': 154,\n",
              "         'к': 534,\n",
              "         'й': 101,\n",
              "         'г': 124,\n",
              "         'т': 386,\n",
              "         'э': 145,\n",
              "         'м': 317,\n",
              "         'у': 263,\n",
              "         'б': 143,\n",
              "         'п': 165,\n",
              "         'ш': 233,\n",
              "         'з': 137,\n",
              "         'ч': 120,\n",
              "         'ё': 12,\n",
              "         'ж': 98,\n",
              "         'ю': 89,\n",
              "         'ы': 29,\n",
              "         'ц': 51,\n",
              "         'х': 89,\n",
              "         'щ': 1})"
            ]
          },
          "metadata": {},
          "execution_count": 71
        }
      ]
    },
    {
      "cell_type": "code",
      "source": [
        "unique_chars = sorted(char_count.keys())\n",
        "unique_chars[:5]"
      ],
      "metadata": {
        "colab": {
          "base_uri": "https://localhost:8080/"
        },
        "id": "1wiv5rnYXxgi",
        "outputId": "85929392-ed7e-43b9-bcfd-c6f00252504f"
      },
      "id": "1wiv5rnYXxgi",
      "execution_count": null,
      "outputs": [
        {
          "output_type": "execute_result",
          "data": {
            "text/plain": [
              "['a', 'b', 'c', 'd', 'e']"
            ]
          },
          "metadata": {},
          "execution_count": 73
        }
      ]
    },
    {
      "cell_type": "code",
      "source": [
        "special_tokens = ['<PAD>', '<SOS>', '<EOS>']\n",
        "vocab = special_tokens + unique_chars\n",
        "vocab[:5]"
      ],
      "metadata": {
        "colab": {
          "base_uri": "https://localhost:8080/"
        },
        "id": "5EGNo8GXYXPa",
        "outputId": "b621a542-73a9-4be0-f1b1-d52261526160"
      },
      "id": "5EGNo8GXYXPa",
      "execution_count": null,
      "outputs": [
        {
          "output_type": "execute_result",
          "data": {
            "text/plain": [
              "['<PAD>', '<SOS>', '<EOS>', 'a', 'b']"
            ]
          },
          "metadata": {},
          "execution_count": 74
        }
      ]
    },
    {
      "cell_type": "code",
      "source": [
        "char2idx = {char: idx for idx, char in enumerate(vocab)}\n",
        "idx2char = {idx: char for idx, char in enumerate(vocab)}"
      ],
      "metadata": {
        "id": "o3vd4sNSYfUI"
      },
      "id": "o3vd4sNSYfUI",
      "execution_count": null,
      "outputs": []
    },
    {
      "cell_type": "code",
      "source": [
        "idx2char"
      ],
      "metadata": {
        "colab": {
          "base_uri": "https://localhost:8080/"
        },
        "id": "SYpm5AaDYoKC",
        "outputId": "cb21f4b5-58b1-4c30-c910-02bafe0f8799"
      },
      "id": "SYpm5AaDYoKC",
      "execution_count": null,
      "outputs": [
        {
          "output_type": "execute_result",
          "data": {
            "text/plain": [
              "{0: '<PAD>',\n",
              " 1: '<SOS>',\n",
              " 2: '<EOS>',\n",
              " 3: 'a',\n",
              " 4: 'b',\n",
              " 5: 'c',\n",
              " 6: 'd',\n",
              " 7: 'e',\n",
              " 8: 'f',\n",
              " 9: 'g',\n",
              " 10: 'h',\n",
              " 11: 'i',\n",
              " 12: 'j',\n",
              " 13: 'k',\n",
              " 14: 'l',\n",
              " 15: 'm',\n",
              " 16: 'n',\n",
              " 17: 'o',\n",
              " 18: 'p',\n",
              " 19: 'q',\n",
              " 20: 'r',\n",
              " 21: 's',\n",
              " 22: 't',\n",
              " 23: 'u',\n",
              " 24: 'v',\n",
              " 25: 'w',\n",
              " 26: 'x',\n",
              " 27: 'y',\n",
              " 28: 'z',\n",
              " 29: 'а',\n",
              " 30: 'б',\n",
              " 31: 'в',\n",
              " 32: 'г',\n",
              " 33: 'д',\n",
              " 34: 'е',\n",
              " 35: 'ж',\n",
              " 36: 'з',\n",
              " 37: 'и',\n",
              " 38: 'й',\n",
              " 39: 'к',\n",
              " 40: 'л',\n",
              " 41: 'м',\n",
              " 42: 'н',\n",
              " 43: 'о',\n",
              " 44: 'п',\n",
              " 45: 'р',\n",
              " 46: 'с',\n",
              " 47: 'т',\n",
              " 48: 'у',\n",
              " 49: 'ф',\n",
              " 50: 'х',\n",
              " 51: 'ц',\n",
              " 52: 'ч',\n",
              " 53: 'ш',\n",
              " 54: 'щ',\n",
              " 55: 'ы',\n",
              " 56: 'ь',\n",
              " 57: 'э',\n",
              " 58: 'ю',\n",
              " 59: 'я',\n",
              " 60: 'ё'}"
            ]
          },
          "metadata": {},
          "execution_count": 76
        }
      ]
    },
    {
      "cell_type": "code",
      "source": [
        "len(vocab)"
      ],
      "metadata": {
        "colab": {
          "base_uri": "https://localhost:8080/"
        },
        "id": "XbHVtXtXYwgE",
        "outputId": "b4496398-5bf6-4301-b995-1d8e445be266"
      },
      "id": "XbHVtXtXYwgE",
      "execution_count": null,
      "outputs": [
        {
          "output_type": "execute_result",
          "data": {
            "text/plain": [
              "61"
            ]
          },
          "metadata": {},
          "execution_count": 77
        }
      ]
    },
    {
      "cell_type": "markdown",
      "source": [
        "### 2."
      ],
      "metadata": {
        "id": "yZA7s3qRN-qF"
      },
      "id": "yZA7s3qRN-qF"
    },
    {
      "cell_type": "markdown",
      "id": "1fe1170d",
      "metadata": {
        "id": "1fe1170d"
      },
      "source": [
        "<p class=\"task\" id=\"2\"></p>\n",
        "\n",
        "2\\. Создайте класс `PetsGenDataset`. Используя преобразования, сделайте длины наборов индексов одинаковой фиксированной длины (подходящее значение определите сами) и добавьте в начало каждого набора индекс `<SOS>`, а в конец - индекс токена `<EOS>`. Реализуйте `__getitem__` таким образом, чтобы он возвращал кортеж `(x, y)` в соответствии с приведенным рисунком. Создайте объект `DataLoader` с размером батча 128 и включенным `shuffle`. Выведите на экран размер `x` и `y` из одного батча.\n",
        "\n",
        "<img src=\"data:image/png;base64,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\">\n",
        "\n",
        "- [ ] Проверено на семинаре"
      ]
    },
    {
      "cell_type": "code",
      "source": [
        "class PetsGenDataset:\n",
        "  def __init__(self, names, vocab, max_length=20):\n",
        "    self.names = names\n",
        "    self.vocab = vocab\n",
        "    self.max_length = max_length\n",
        "\n",
        "  def __len__(self):\n",
        "    return len(self.names)\n",
        "\n",
        "  def __getitem__(self, idx):\n",
        "    name = self.names[idx]\n",
        "    ids = [self.vocab[char] for char in name]\n",
        "\n",
        "    ids = [self.vocab['<SOS>']] + ids + [self.vocab['<EOS>']]\n",
        "\n",
        "    if len(ids) < self.max_length:\n",
        "      ids = ids + [self.vocab['<PAD>']] * (self.max_length - len(ids))\n",
        "    else:\n",
        "      ids = ids[:self.max_length]\n",
        "      ids[-1] = self.vocab['<EOS>'] # последний токен дб EOS\n",
        "\n",
        "    tensor = th.tensor(ids)\n",
        "\n",
        "    x = tensor[:-1] # без последнего элемента\n",
        "    y = tensor[1:] # смещен на 1\n",
        "\n",
        "    return x, y"
      ],
      "metadata": {
        "id": "fnZzVfejZPIT"
      },
      "id": "fnZzVfejZPIT",
      "execution_count": null,
      "outputs": []
    },
    {
      "cell_type": "code",
      "source": [
        "names = data['имя'].to_list()\n",
        "vocab = char2idx\n",
        "\n",
        "dataset = PetsGenDataset(names, vocab, max_length=15)"
      ],
      "metadata": {
        "id": "mKhJi1iUcl4L"
      },
      "id": "mKhJi1iUcl4L",
      "execution_count": null,
      "outputs": []
    },
    {
      "cell_type": "code",
      "source": [
        "from torch.utils.data import DataLoader\n",
        "\n",
        "dataloader = DataLoader(dataset, batch_size=128, shuffle=True)\n",
        "\n",
        "batch_x, batch_y = next(iter(dataloader))\n",
        "batch_x.shape, batch_y.shape"
      ],
      "metadata": {
        "colab": {
          "base_uri": "https://localhost:8080/"
        },
        "id": "5DGVK7VmcdQb",
        "outputId": "44e8fce0-2f27-4d2b-a02a-904194eab25e"
      },
      "id": "5DGVK7VmcdQb",
      "execution_count": null,
      "outputs": [
        {
          "output_type": "execute_result",
          "data": {
            "text/plain": [
              "(torch.Size([128, 14]), torch.Size([128, 14]))"
            ]
          },
          "metadata": {},
          "execution_count": 80
        }
      ]
    },
    {
      "cell_type": "markdown",
      "source": [
        "### 3."
      ],
      "metadata": {
        "id": "7paFQgQup9xS"
      },
      "id": "7paFQgQup9xS"
    },
    {
      "cell_type": "markdown",
      "id": "08ab0366",
      "metadata": {
        "id": "08ab0366"
      },
      "source": [
        "<p class=\"task\" id=\"3\"></p>\n",
        "\n",
        "3\\. Напишите функцию, которая генерирует имя питомца при помощи обученной модели:\n",
        "  * построение начинается с последовательности единичной длины, состоящей из индекса токена `<SOS>`;\n",
        "  * начальное скрытое состояние RNN `h_t = None`;\n",
        "  * в результате прогона последнего токена из построенной последовательности через модель получаете новое скрытое состояние `h_t` и распределение над всеми токенами из словаря;\n",
        "  * выбираете 1 токен пропорционально вероятности и добавляете его в последовательность (можно воспользоваться `torch.multinomial`);\n",
        "  * повторяете эти действия до тех пор, пока не сгенерирован токен `<EOS>` или не превышена максимальная длина последовательности;\n",
        "  * функция возвращает строку из букв с первой заглавной буквой.\n",
        "  \n",
        "- [ ] Проверено на семинаре"
      ]
    },
    {
      "cell_type": "code",
      "source": [
        "def generate_name(model, vocab, idx2char, max_length=20):\n",
        "  model.eval()\n",
        "  current_tok = th.tensor([[vocab['<SOS>']]])\n",
        "  h_t = None\n",
        "  generated_ids = []\n",
        "\n",
        "  for _ in range(max_length):\n",
        "    with th.no_grad():\n",
        "      output, h_t = model(current_tok, h_t) # forward\n",
        "      probs = th.softmax(output, dim=-1) # распр вер-ей\n",
        "      current_tok = th.multinomial(probs, num_samples =1)\n",
        "      generated_ids.append(current_tok.item())\n",
        "\n",
        "      if current_tok.item() == vocab['<EOS>']: # если сгенерен <EOS>, остановка\n",
        "        break\n",
        "\n",
        "  generated_chars = [idx2char[idx] for idx in generated_ids if idx not in [vocab['<EOS>'], vocab['<SOS>']]]\n",
        "\n",
        "  generated_chars[0] = generated_chars[0].upper()\n",
        "\n",
        "  return ''.join(generated_chars)"
      ],
      "metadata": {
        "id": "yJkYSAj9yAZ0"
      },
      "id": "yJkYSAj9yAZ0",
      "execution_count": null,
      "outputs": []
    },
    {
      "cell_type": "markdown",
      "source": [
        "### 4."
      ],
      "metadata": {
        "id": "7eCDWdeIwyy3"
      },
      "id": "7eCDWdeIwyy3"
    },
    {
      "cell_type": "markdown",
      "id": "5b720c14",
      "metadata": {
        "id": "5b720c14"
      },
      "source": [
        "<p class=\"task\" id=\"4\"></p>\n",
        "\n",
        "4\\. Создайте и обучите модель для генерации имени питомца. Задача классификации ставится как предсказание следующего токена в каждом примере из пакета для каждого элемента последовательности (по прочитанной подстроке предсказывается следующий символ для данной строки). Каждые несколько эпох выводите примеры генерации имен при помощи текущего состояния модели. Игнорируйте токен `<PAD>` при расчете ошибки.\n",
        "\n",
        "Примерная схема реализации метода `forward`:\n",
        "```\n",
        "input_X: [batch_size x seq_len] -> nn.Embedding -> emb_X: [batch_size x seq_len x embedding_size]\n",
        "emb_X: [batch_size x seq_len x embedding_size] -> nn.RNN -> output: [batch_size x seq_len x hidden_size]\n",
        "output: [batch_size x seq_len x hidden_size] -> torch.Tensor.reshape -> output: [batch_size * seq_len x hidden_size]\n",
        "output: [batch_size * seq_len x hidden_size] -> nn.Linear -> output: [batch_size * seq_len x vocab_size]\n",
        "```\n",
        "\n",
        "- [ ] Проверено на семинаре"
      ]
    },
    {
      "cell_type": "code",
      "source": [
        "import torch.nn as nn\n",
        "\n",
        "class GeneratorModel(nn.Module):\n",
        "  def __init__(self, vocab_size, embedding_dim, hidden_size):\n",
        "    super(GeneratorModel, self).__init__()\n",
        "    self.embed = nn.Embedding(vocab_size, embedding_dim)\n",
        "    self.rnn = nn.RNN(embedding_dim, hidden_size, batch_first=True)\n",
        "    self.fc = nn.Linear(hidden_size, vocab_size) # тк мы генерим символы\n",
        "\n",
        "  def forward(self, x, h=None): # input_X: [batch_size x seq_len]\n",
        "    emb_X = self.embed(x) # [batch_size x seq_len x embedding_size]\n",
        "    out, h = self.rnn(emb_X, h) #  output: [batch_size x seq_len x hidden_size]\n",
        "    # преобразую для лин слоя\n",
        "    # out = out.reshape(batch_size * (seq_len - 1), -1)\n",
        "    out = out.reshape(-1, out.shape[2]) # reshape -> output: [batch_size * seq_len x hidden_size]\n",
        "    # -1 автоматом высчитывает этот размер (batch_size * seq_len),out.shape[2] - hidden_size\n",
        "    out = self.fc(out) # nn.Linear -> output: [batch_size * seq_len x vocab_size]\n",
        "\n",
        "    return out, h"
      ],
      "metadata": {
        "id": "TO1F9qQA09XD"
      },
      "id": "TO1F9qQA09XD",
      "execution_count": null,
      "outputs": []
    },
    {
      "cell_type": "markdown",
      "source": [
        "при скорости обучения = 0.001:"
      ],
      "metadata": {
        "id": "pxPP1tXM_-Ok"
      },
      "id": "pxPP1tXM_-Ok"
    },
    {
      "cell_type": "code",
      "source": [
        "import torch.optim as optim\n",
        "\n",
        "vocab_size = len(vocab)\n",
        "embedding_dim = 64\n",
        "hidden_size = 128\n",
        "\n",
        "model = GeneratorModel(vocab_size, embedding_dim, hidden_size)\n",
        "\n",
        "crit = nn.CrossEntropyLoss(ignore_index=char2idx['<PAD>'])\n",
        "optim = optim.Adam(model.parameters(), lr = 0.001)\n",
        "\n",
        "num_epochs = 100\n",
        "\n",
        "for epoch in range(num_epochs):\n",
        "  model.train()\n",
        "  total_loss = 0\n",
        "\n",
        "  for batch_x, batch_y in dataloader:\n",
        "    optim.zero_grad()\n",
        "    out, h = model(batch_x)\n",
        "    loss = crit(out, batch_y.reshape(-1))  # в 1 строчку\n",
        "    loss.backward()\n",
        "    optim.step()\n",
        "\n",
        "    total_loss +=loss.item()\n",
        "  avg_loss = total_loss/len(dataloader)\n",
        "  if epoch+1 == 1:\n",
        "    print(f'Epoch [{epoch+1}/{num_epochs}], loss: {avg_loss:.4f}')\n",
        "  elif (epoch+1) % 10 == 0:\n",
        "    print(f'Epoch [{epoch+1}/{num_epochs}], loss: {avg_loss:.4f}')\n",
        "\n",
        "  if (epoch+1) % 20 == 0:\n",
        "    model.eval()\n",
        "    print('\\nпример генерации:')\n",
        "    for _ in range(5):\n",
        "      generated_name = generate_name(model, char2idx, idx2char)\n",
        "      print(generated_name)\n",
        "    print('\\n')"
      ],
      "metadata": {
        "colab": {
          "base_uri": "https://localhost:8080/"
        },
        "id": "01gbVXxj-P2N",
        "outputId": "3800b067-b81f-4eae-c4a0-a8caa61b7d6c"
      },
      "id": "01gbVXxj-P2N",
      "execution_count": null,
      "outputs": [
        {
          "output_type": "stream",
          "name": "stdout",
          "text": [
            "Epoch [1/100], loss: 3.6340\n",
            "Epoch [10/100], loss: 2.3289\n",
            "Epoch [20/100], loss: 2.2003\n",
            "\n",
            "пример генерации:\n",
            "Thisker\n",
            "Татя\n",
            "Эллия\n",
            "Эми\n",
            "Дэйси\n",
            "\n",
            "\n",
            "Epoch [30/100], loss: 2.1075\n",
            "Epoch [40/100], loss: 2.0264\n",
            "\n",
            "пример генерации:\n",
            "Ришку\n",
            "Gicke\n",
            "Урсик\n",
            "Chelliore\n",
            "Юня\n",
            "\n",
            "\n",
            "Epoch [50/100], loss: 1.9513\n",
            "Epoch [60/100], loss: 1.8817\n",
            "\n",
            "пример генерации:\n",
            "Frose\n",
            "Cote\n",
            "Torper\n",
            "Ксолина\n",
            "Олныся\n",
            "\n",
            "\n",
            "Epoch [70/100], loss: 1.8164\n",
            "Epoch [80/100], loss: 1.7612\n",
            "\n",
            "пример генерации:\n",
            "Juloctina\n",
            "Жезубл\n",
            "Лапушка\n",
            "Нори\n",
            "Сафрина\n",
            "\n",
            "\n",
            "Epoch [90/100], loss: 1.7104\n",
            "Epoch [100/100], loss: 1.6629\n",
            "\n",
            "пример генерации:\n",
            "Лара\n",
            "Ягма\n",
            "Carmen\n",
            "Blowella\n",
            "Foxir\n",
            "\n",
            "\n"
          ]
        }
      ]
    },
    {
      "cell_type": "markdown",
      "source": [
        "при скорости обучения = 0.01:"
      ],
      "metadata": {
        "id": "FU0GhXx_ARC-"
      },
      "id": "FU0GhXx_ARC-"
    },
    {
      "cell_type": "code",
      "source": [
        "import torch.optim as optim\n",
        "\n",
        "vocab_size = len(vocab)\n",
        "embedding_dim = 64\n",
        "hidden_size = 128\n",
        "\n",
        "model = GeneratorModel(vocab_size, embedding_dim, hidden_size)\n",
        "\n",
        "crit = nn.CrossEntropyLoss(ignore_index=char2idx['<PAD>'])\n",
        "optim = optim.Adam(model.parameters(), lr = 0.01)\n",
        "\n",
        "num_epochs = 100\n",
        "\n",
        "for epoch in range(num_epochs):\n",
        "  model.train()\n",
        "  total_loss = 0\n",
        "\n",
        "  for batch_x, batch_y in dataloader:\n",
        "    optim.zero_grad()\n",
        "    out, h = model(batch_x)\n",
        "    loss = crit(out, batch_y.reshape(-1))  # в 1 строчку\n",
        "    loss.backward()\n",
        "    optim.step()\n",
        "\n",
        "    total_loss +=loss.item()\n",
        "  avg_loss = total_loss/len(dataloader)\n",
        "  if epoch+1 == 1:\n",
        "    print(f'Epoch [{epoch+1}/{num_epochs}], loss: {avg_loss:.4f}')\n",
        "  elif (epoch+1) % 10 == 0:\n",
        "    print(f'Epoch [{epoch+1}/{num_epochs}], loss: {avg_loss:.4f}')\n",
        "\n",
        "  if (epoch+1) % 20 == 0:\n",
        "    model.eval()\n",
        "    print('\\nпример генерации:')\n",
        "    for _ in range(5):\n",
        "      generated_name = generate_name(model, char2idx, idx2char)\n",
        "      print(generated_name)\n",
        "    print('\\n')"
      ],
      "metadata": {
        "colab": {
          "base_uri": "https://localhost:8080/"
        },
        "id": "UyWfjCo5-36w",
        "outputId": "b59c5677-e44b-4542-e0d7-884353b75738"
      },
      "id": "UyWfjCo5-36w",
      "execution_count": null,
      "outputs": [
        {
          "output_type": "stream",
          "name": "stdout",
          "text": [
            "Epoch [1/100], loss: 2.8234\n",
            "Epoch [10/100], loss: 2.0427\n",
            "Epoch [20/100], loss: 1.7957\n",
            "\n",
            "пример генерации:\n",
            "Ophafry\n",
            "Юки\n",
            "Orcas\n",
            "Шалинмейсен\n",
            "Trisca\n",
            "\n",
            "\n",
            "Epoch [30/100], loss: 1.6819\n",
            "Epoch [40/100], loss: 1.5738\n",
            "\n",
            "пример генерации:\n",
            "Phece\n",
            "Mony\n",
            "Сэнди\n",
            "Эсси\n",
            "Полька\n",
            "\n",
            "\n",
            "Epoch [50/100], loss: 1.5495\n",
            "Epoch [60/100], loss: 1.5154\n",
            "\n",
            "пример генерации:\n",
            "Crurivona\n",
            "Пузя\n",
            "Teas\n",
            "Иллиана\n",
            "Рона\n",
            "\n",
            "\n",
            "Epoch [70/100], loss: 1.5055\n",
            "Epoch [80/100], loss: 1.4876\n",
            "\n",
            "пример генерации:\n",
            "Энилинка\n",
            "Котти\n",
            "Цезатаме\n",
            "Герання\n",
            "Тулисса\n",
            "\n",
            "\n",
            "Epoch [90/100], loss: 1.4926\n",
            "Epoch [100/100], loss: 1.4966\n",
            "\n",
            "пример генерации:\n",
            "Luscitus\n",
            "Биал\n",
            "Бастет\n",
            "Spine\n",
            "Ясмина\n",
            "\n",
            "\n"
          ]
        }
      ]
    },
    {
      "cell_type": "markdown",
      "source": [
        "при lr=0.01 генерация лучше и ошибка меньше"
      ],
      "metadata": {
        "id": "AxEm3FDoATx-"
      },
      "id": "AxEm3FDoATx-"
    },
    {
      "cell_type": "markdown",
      "source": [
        "### 5."
      ],
      "metadata": {
        "id": "tkTu1bGKAfoy"
      },
      "id": "tkTu1bGKAfoy"
    },
    {
      "cell_type": "markdown",
      "id": "18054f0a",
      "metadata": {
        "id": "18054f0a"
      },
      "source": [
        "<p class=\"task\" id=\"5\"></p>\n",
        "\n",
        "5\\. Считайте файл `pets_ru_en.csv`, приведите имена питомцев к нижнем регистру. Создайте Vocab на основе загруженных данных (токен - __буква__). Добавьте в словарь специальные токены `<PAD>`, `<SOS>`, `<EOS>`, `<RU>`, `<EN>`. Выведите на экран количество токенов в полученном словаре.\n",
        "\n",
        "Модифицируйте датасет `PetsGenDataset` таким образом, чтобы в начало каждого примера добавлялся токен `<RU>`, если это имя питомца на русском, и `<EN>`, если имя на английском. Создайте объект `DataLoader` с размером батча 128 и включенным `shuffle`. Выведите на экран размер `x` и `y` из одного батча.\n",
        "\n",
        "- [ ] Проверено на семинаре"
      ]
    },
    {
      "cell_type": "code",
      "source": [
        "import pandas as pd\n",
        "\n",
        "data = pd.read_csv('pets_ru_en.csv')"
      ],
      "metadata": {
        "id": "LFpQz8ruAkvF"
      },
      "execution_count": null,
      "outputs": [],
      "id": "LFpQz8ruAkvF"
    },
    {
      "cell_type": "code",
      "source": [
        "import re\n",
        "\n",
        "def preprocess(text):\n",
        "  text = text.lower()\n",
        "  text = re.sub(r'[^a-zа-яё]','',text)\n",
        "  words = text.split()\n",
        "  return ''.join(words)  # сделала так чтобы сложные имена были слитными"
      ],
      "metadata": {
        "id": "ogCx3HYKAkvG"
      },
      "execution_count": null,
      "outputs": [],
      "id": "ogCx3HYKAkvG"
    },
    {
      "cell_type": "code",
      "source": [
        "data['имя'] = data['имя'].apply(preprocess)\n",
        "data.head()"
      ],
      "metadata": {
        "colab": {
          "base_uri": "https://localhost:8080/",
          "height": 206
        },
        "outputId": "302b7593-5a8d-4ab5-f042-5a0b2f637228",
        "id": "y_srGwkCAkvG"
      },
      "execution_count": null,
      "outputs": [
        {
          "output_type": "execute_result",
          "data": {
            "text/plain": [
              "        имя язык\n",
              "0  acapella   en\n",
              "1  achilles   en\n",
              "2   adriana   en\n",
              "3     alpha   en\n",
              "4   alyssum   en"
            ],
            "text/html": [
              "\n",
              "  <div id=\"df-c268f874-fe5b-4521-910a-b84a6934393f\" class=\"colab-df-container\">\n",
              "    <div>\n",
              "<style scoped>\n",
              "    .dataframe tbody tr th:only-of-type {\n",
              "        vertical-align: middle;\n",
              "    }\n",
              "\n",
              "    .dataframe tbody tr th {\n",
              "        vertical-align: top;\n",
              "    }\n",
              "\n",
              "    .dataframe thead th {\n",
              "        text-align: right;\n",
              "    }\n",
              "</style>\n",
              "<table border=\"1\" class=\"dataframe\">\n",
              "  <thead>\n",
              "    <tr style=\"text-align: right;\">\n",
              "      <th></th>\n",
              "      <th>имя</th>\n",
              "      <th>язык</th>\n",
              "    </tr>\n",
              "  </thead>\n",
              "  <tbody>\n",
              "    <tr>\n",
              "      <th>0</th>\n",
              "      <td>acapella</td>\n",
              "      <td>en</td>\n",
              "    </tr>\n",
              "    <tr>\n",
              "      <th>1</th>\n",
              "      <td>achilles</td>\n",
              "      <td>en</td>\n",
              "    </tr>\n",
              "    <tr>\n",
              "      <th>2</th>\n",
              "      <td>adriana</td>\n",
              "      <td>en</td>\n",
              "    </tr>\n",
              "    <tr>\n",
              "      <th>3</th>\n",
              "      <td>alpha</td>\n",
              "      <td>en</td>\n",
              "    </tr>\n",
              "    <tr>\n",
              "      <th>4</th>\n",
              "      <td>alyssum</td>\n",
              "      <td>en</td>\n",
              "    </tr>\n",
              "  </tbody>\n",
              "</table>\n",
              "</div>\n",
              "    <div class=\"colab-df-buttons\">\n",
              "\n",
              "  <div class=\"colab-df-container\">\n",
              "    <button class=\"colab-df-convert\" onclick=\"convertToInteractive('df-c268f874-fe5b-4521-910a-b84a6934393f')\"\n",
              "            title=\"Convert this dataframe to an interactive table.\"\n",
              "            style=\"display:none;\">\n",
              "\n",
              "  <svg xmlns=\"http://www.w3.org/2000/svg\" height=\"24px\" viewBox=\"0 -960 960 960\">\n",
              "    <path d=\"M120-120v-720h720v720H120Zm60-500h600v-160H180v160Zm220 220h160v-160H400v160Zm0 220h160v-160H400v160ZM180-400h160v-160H180v160Zm440 0h160v-160H620v160ZM180-180h160v-160H180v160Zm440 0h160v-160H620v160Z\"/>\n",
              "  </svg>\n",
              "    </button>\n",
              "\n",
              "  <style>\n",
              "    .colab-df-container {\n",
              "      display:flex;\n",
              "      gap: 12px;\n",
              "    }\n",
              "\n",
              "    .colab-df-convert {\n",
              "      background-color: #E8F0FE;\n",
              "      border: none;\n",
              "      border-radius: 50%;\n",
              "      cursor: pointer;\n",
              "      display: none;\n",
              "      fill: #1967D2;\n",
              "      height: 32px;\n",
              "      padding: 0 0 0 0;\n",
              "      width: 32px;\n",
              "    }\n",
              "\n",
              "    .colab-df-convert:hover {\n",
              "      background-color: #E2EBFA;\n",
              "      box-shadow: 0px 1px 2px rgba(60, 64, 67, 0.3), 0px 1px 3px 1px rgba(60, 64, 67, 0.15);\n",
              "      fill: #174EA6;\n",
              "    }\n",
              "\n",
              "    .colab-df-buttons div {\n",
              "      margin-bottom: 4px;\n",
              "    }\n",
              "\n",
              "    [theme=dark] .colab-df-convert {\n",
              "      background-color: #3B4455;\n",
              "      fill: #D2E3FC;\n",
              "    }\n",
              "\n",
              "    [theme=dark] .colab-df-convert:hover {\n",
              "      background-color: #434B5C;\n",
              "      box-shadow: 0px 1px 3px 1px rgba(0, 0, 0, 0.15);\n",
              "      filter: drop-shadow(0px 1px 2px rgba(0, 0, 0, 0.3));\n",
              "      fill: #FFFFFF;\n",
              "    }\n",
              "  </style>\n",
              "\n",
              "    <script>\n",
              "      const buttonEl =\n",
              "        document.querySelector('#df-c268f874-fe5b-4521-910a-b84a6934393f button.colab-df-convert');\n",
              "      buttonEl.style.display =\n",
              "        google.colab.kernel.accessAllowed ? 'block' : 'none';\n",
              "\n",
              "      async function convertToInteractive(key) {\n",
              "        const element = document.querySelector('#df-c268f874-fe5b-4521-910a-b84a6934393f');\n",
              "        const dataTable =\n",
              "          await google.colab.kernel.invokeFunction('convertToInteractive',\n",
              "                                                    [key], {});\n",
              "        if (!dataTable) return;\n",
              "\n",
              "        const docLinkHtml = 'Like what you see? Visit the ' +\n",
              "          '<a target=\"_blank\" href=https://colab.research.google.com/notebooks/data_table.ipynb>data table notebook</a>'\n",
              "          + ' to learn more about interactive tables.';\n",
              "        element.innerHTML = '';\n",
              "        dataTable['output_type'] = 'display_data';\n",
              "        await google.colab.output.renderOutput(dataTable, element);\n",
              "        const docLink = document.createElement('div');\n",
              "        docLink.innerHTML = docLinkHtml;\n",
              "        element.appendChild(docLink);\n",
              "      }\n",
              "    </script>\n",
              "  </div>\n",
              "\n",
              "\n",
              "<div id=\"df-c62e9266-2864-43f6-86fe-466201f6e1ae\">\n",
              "  <button class=\"colab-df-quickchart\" onclick=\"quickchart('df-c62e9266-2864-43f6-86fe-466201f6e1ae')\"\n",
              "            title=\"Suggest charts\"\n",
              "            style=\"display:none;\">\n",
              "\n",
              "<svg xmlns=\"http://www.w3.org/2000/svg\" height=\"24px\"viewBox=\"0 0 24 24\"\n",
              "     width=\"24px\">\n",
              "    <g>\n",
              "        <path d=\"M19 3H5c-1.1 0-2 .9-2 2v14c0 1.1.9 2 2 2h14c1.1 0 2-.9 2-2V5c0-1.1-.9-2-2-2zM9 17H7v-7h2v7zm4 0h-2V7h2v10zm4 0h-2v-4h2v4z\"/>\n",
              "    </g>\n",
              "</svg>\n",
              "  </button>\n",
              "\n",
              "<style>\n",
              "  .colab-df-quickchart {\n",
              "      --bg-color: #E8F0FE;\n",
              "      --fill-color: #1967D2;\n",
              "      --hover-bg-color: #E2EBFA;\n",
              "      --hover-fill-color: #174EA6;\n",
              "      --disabled-fill-color: #AAA;\n",
              "      --disabled-bg-color: #DDD;\n",
              "  }\n",
              "\n",
              "  [theme=dark] .colab-df-quickchart {\n",
              "      --bg-color: #3B4455;\n",
              "      --fill-color: #D2E3FC;\n",
              "      --hover-bg-color: #434B5C;\n",
              "      --hover-fill-color: #FFFFFF;\n",
              "      --disabled-bg-color: #3B4455;\n",
              "      --disabled-fill-color: #666;\n",
              "  }\n",
              "\n",
              "  .colab-df-quickchart {\n",
              "    background-color: var(--bg-color);\n",
              "    border: none;\n",
              "    border-radius: 50%;\n",
              "    cursor: pointer;\n",
              "    display: none;\n",
              "    fill: var(--fill-color);\n",
              "    height: 32px;\n",
              "    padding: 0;\n",
              "    width: 32px;\n",
              "  }\n",
              "\n",
              "  .colab-df-quickchart:hover {\n",
              "    background-color: var(--hover-bg-color);\n",
              "    box-shadow: 0 1px 2px rgba(60, 64, 67, 0.3), 0 1px 3px 1px rgba(60, 64, 67, 0.15);\n",
              "    fill: var(--button-hover-fill-color);\n",
              "  }\n",
              "\n",
              "  .colab-df-quickchart-complete:disabled,\n",
              "  .colab-df-quickchart-complete:disabled:hover {\n",
              "    background-color: var(--disabled-bg-color);\n",
              "    fill: var(--disabled-fill-color);\n",
              "    box-shadow: none;\n",
              "  }\n",
              "\n",
              "  .colab-df-spinner {\n",
              "    border: 2px solid var(--fill-color);\n",
              "    border-color: transparent;\n",
              "    border-bottom-color: var(--fill-color);\n",
              "    animation:\n",
              "      spin 1s steps(1) infinite;\n",
              "  }\n",
              "\n",
              "  @keyframes spin {\n",
              "    0% {\n",
              "      border-color: transparent;\n",
              "      border-bottom-color: var(--fill-color);\n",
              "      border-left-color: var(--fill-color);\n",
              "    }\n",
              "    20% {\n",
              "      border-color: transparent;\n",
              "      border-left-color: var(--fill-color);\n",
              "      border-top-color: var(--fill-color);\n",
              "    }\n",
              "    30% {\n",
              "      border-color: transparent;\n",
              "      border-left-color: var(--fill-color);\n",
              "      border-top-color: var(--fill-color);\n",
              "      border-right-color: var(--fill-color);\n",
              "    }\n",
              "    40% {\n",
              "      border-color: transparent;\n",
              "      border-right-color: var(--fill-color);\n",
              "      border-top-color: var(--fill-color);\n",
              "    }\n",
              "    60% {\n",
              "      border-color: transparent;\n",
              "      border-right-color: var(--fill-color);\n",
              "    }\n",
              "    80% {\n",
              "      border-color: transparent;\n",
              "      border-right-color: var(--fill-color);\n",
              "      border-bottom-color: var(--fill-color);\n",
              "    }\n",
              "    90% {\n",
              "      border-color: transparent;\n",
              "      border-bottom-color: var(--fill-color);\n",
              "    }\n",
              "  }\n",
              "</style>\n",
              "\n",
              "  <script>\n",
              "    async function quickchart(key) {\n",
              "      const quickchartButtonEl =\n",
              "        document.querySelector('#' + key + ' button');\n",
              "      quickchartButtonEl.disabled = true;  // To prevent multiple clicks.\n",
              "      quickchartButtonEl.classList.add('colab-df-spinner');\n",
              "      try {\n",
              "        const charts = await google.colab.kernel.invokeFunction(\n",
              "            'suggestCharts', [key], {});\n",
              "      } catch (error) {\n",
              "        console.error('Error during call to suggestCharts:', error);\n",
              "      }\n",
              "      quickchartButtonEl.classList.remove('colab-df-spinner');\n",
              "      quickchartButtonEl.classList.add('colab-df-quickchart-complete');\n",
              "    }\n",
              "    (() => {\n",
              "      let quickchartButtonEl =\n",
              "        document.querySelector('#df-c62e9266-2864-43f6-86fe-466201f6e1ae button');\n",
              "      quickchartButtonEl.style.display =\n",
              "        google.colab.kernel.accessAllowed ? 'block' : 'none';\n",
              "    })();\n",
              "  </script>\n",
              "</div>\n",
              "    </div>\n",
              "  </div>\n"
            ],
            "application/vnd.google.colaboratory.intrinsic+json": {
              "type": "dataframe",
              "variable_name": "data",
              "summary": "{\n  \"name\": \"data\",\n  \"rows\": 2913,\n  \"fields\": [\n    {\n      \"column\": \"\\u0438\\u043c\\u044f\",\n      \"properties\": {\n        \"dtype\": \"string\",\n        \"num_unique_values\": 2889,\n        \"samples\": [\n          \"spunky\",\n          \"\\u0431\\u044d\\u0441\\u0441\\u0438\",\n          \"\\u0443\\u043b\\u044b\\u0431\\u043a\\u0430\"\n        ],\n        \"semantic_type\": \"\",\n        \"description\": \"\"\n      }\n    },\n    {\n      \"column\": \"\\u044f\\u0437\\u044b\\u043a\",\n      \"properties\": {\n        \"dtype\": \"category\",\n        \"num_unique_values\": 2,\n        \"samples\": [\n          \"rus\",\n          \"en\"\n        ],\n        \"semantic_type\": \"\",\n        \"description\": \"\"\n      }\n    }\n  ]\n}"
            }
          },
          "metadata": {},
          "execution_count": 119
        }
      ],
      "id": "y_srGwkCAkvG"
    },
    {
      "cell_type": "code",
      "source": [
        "all_chars = []\n",
        "for name in data['имя']:\n",
        "    all_chars.extend(list(name))\n",
        "\n",
        "all_chars[:5]"
      ],
      "metadata": {
        "colab": {
          "base_uri": "https://localhost:8080/"
        },
        "outputId": "a57a00f2-f5b0-46a2-a4a9-5e42556590d4",
        "id": "Q3CrQlgIAkvG"
      },
      "execution_count": null,
      "outputs": [
        {
          "output_type": "execute_result",
          "data": {
            "text/plain": [
              "['a', 'c', 'a', 'p', 'e']"
            ]
          },
          "metadata": {},
          "execution_count": 120
        }
      ],
      "id": "Q3CrQlgIAkvG"
    },
    {
      "cell_type": "code",
      "source": [
        "from collections import Counter\n",
        "\n",
        "char_count = Counter(all_chars)"
      ],
      "metadata": {
        "id": "YkrA-G43AkvG"
      },
      "execution_count": null,
      "outputs": [],
      "id": "YkrA-G43AkvG"
    },
    {
      "cell_type": "code",
      "source": [
        "unique_chars = sorted(char_count.keys())\n",
        "unique_chars[:5]"
      ],
      "metadata": {
        "colab": {
          "base_uri": "https://localhost:8080/"
        },
        "outputId": "be3b996e-f6a7-4d5d-9150-b139373aa781",
        "id": "Y5BWZz3rAkvG"
      },
      "execution_count": null,
      "outputs": [
        {
          "output_type": "execute_result",
          "data": {
            "text/plain": [
              "['a', 'b', 'c', 'd', 'e']"
            ]
          },
          "metadata": {},
          "execution_count": 123
        }
      ],
      "id": "Y5BWZz3rAkvG"
    },
    {
      "cell_type": "code",
      "source": [
        "special_tokens = ['<PAD>', '<SOS>', '<EOS>', '<RU>', '<EN>']\n",
        "vocab = special_tokens + unique_chars\n",
        "vocab[:7]"
      ],
      "metadata": {
        "colab": {
          "base_uri": "https://localhost:8080/"
        },
        "outputId": "b21a91b4-3e5a-4396-e3a7-edf5cb88b081",
        "id": "GPXihnuJAkvH"
      },
      "execution_count": null,
      "outputs": [
        {
          "output_type": "execute_result",
          "data": {
            "text/plain": [
              "['<PAD>', '<SOS>', '<EOS>', '<RU>', '<EN>', 'a', 'b']"
            ]
          },
          "metadata": {},
          "execution_count": 124
        }
      ],
      "id": "GPXihnuJAkvH"
    },
    {
      "cell_type": "code",
      "source": [
        "char2idx = {char: idx for idx, char in enumerate(vocab)}\n",
        "idx2char = {idx: char for idx, char in enumerate(vocab)}"
      ],
      "metadata": {
        "id": "iZ7zJhSnAkvH"
      },
      "execution_count": null,
      "outputs": [],
      "id": "iZ7zJhSnAkvH"
    },
    {
      "cell_type": "code",
      "source": [
        "len(vocab)"
      ],
      "metadata": {
        "colab": {
          "base_uri": "https://localhost:8080/"
        },
        "outputId": "c881f876-d095-4dc8-e916-029e84a01ffd",
        "id": "3DA4MlMBAkvH"
      },
      "execution_count": null,
      "outputs": [
        {
          "output_type": "execute_result",
          "data": {
            "text/plain": [
              "63"
            ]
          },
          "metadata": {},
          "execution_count": 126
        }
      ],
      "id": "3DA4MlMBAkvH"
    },
    {
      "cell_type": "code",
      "source": [
        "data['язык'].value_counts()"
      ],
      "metadata": {
        "colab": {
          "base_uri": "https://localhost:8080/",
          "height": 178
        },
        "id": "fPt5G5KwBMbE",
        "outputId": "73e209c9-7050-46de-f6ee-4596b1585ffc"
      },
      "id": "fPt5G5KwBMbE",
      "execution_count": null,
      "outputs": [
        {
          "output_type": "execute_result",
          "data": {
            "text/plain": [
              "язык\n",
              "rus    1783\n",
              "en     1130\n",
              "Name: count, dtype: int64"
            ],
            "text/html": [
              "<div>\n",
              "<style scoped>\n",
              "    .dataframe tbody tr th:only-of-type {\n",
              "        vertical-align: middle;\n",
              "    }\n",
              "\n",
              "    .dataframe tbody tr th {\n",
              "        vertical-align: top;\n",
              "    }\n",
              "\n",
              "    .dataframe thead th {\n",
              "        text-align: right;\n",
              "    }\n",
              "</style>\n",
              "<table border=\"1\" class=\"dataframe\">\n",
              "  <thead>\n",
              "    <tr style=\"text-align: right;\">\n",
              "      <th></th>\n",
              "      <th>count</th>\n",
              "    </tr>\n",
              "    <tr>\n",
              "      <th>язык</th>\n",
              "      <th></th>\n",
              "    </tr>\n",
              "  </thead>\n",
              "  <tbody>\n",
              "    <tr>\n",
              "      <th>rus</th>\n",
              "      <td>1783</td>\n",
              "    </tr>\n",
              "    <tr>\n",
              "      <th>en</th>\n",
              "      <td>1130</td>\n",
              "    </tr>\n",
              "  </tbody>\n",
              "</table>\n",
              "</div><br><label><b>dtype:</b> int64</label>"
            ]
          },
          "metadata": {},
          "execution_count": 130
        }
      ]
    },
    {
      "cell_type": "code",
      "source": [
        "class PetsGenDataset:\n",
        "  def __init__(self, names, vocab, max_length=20, lang_col=None):\n",
        "    self.names = names\n",
        "    self.vocab = vocab\n",
        "    self.max_length = max_length\n",
        "    self.lang_col = lang_col\n",
        "\n",
        "  def __len__(self):\n",
        "    return len(self.names)\n",
        "\n",
        "  def __getitem__(self, idx):\n",
        "    name = self.names[idx]\n",
        "\n",
        "    if self.lang_col is not None:\n",
        "      lang = self.lang_col[idx]\n",
        "      lang_token = '<RU>' if lang == 'rus' else '<EN>'\n",
        "\n",
        "    ids = [self.vocab[char] for char in name]\n",
        "    ids = [self.vocab[lang_token]] + [self.vocab['<SOS>']] + ids + [self.vocab['<EOS>']]\n",
        "\n",
        "    if len(ids) < self.max_length:\n",
        "      ids = ids + [self.vocab['<PAD>']] * (self.max_length - len(ids))\n",
        "    else:\n",
        "      ids = ids[:self.max_length]\n",
        "      ids[-1] = self.vocab['<EOS>'] # последний токен дб EOS\n",
        "\n",
        "    tensor = th.tensor(ids)\n",
        "\n",
        "    x = tensor[:-1] # без последнего элемента\n",
        "    y = tensor[1:] # смещен на 1\n",
        "\n",
        "    return x, y"
      ],
      "metadata": {
        "id": "hmyzk8QIBMiH"
      },
      "execution_count": null,
      "outputs": [],
      "id": "hmyzk8QIBMiH"
    },
    {
      "cell_type": "code",
      "source": [
        "names = data['имя'].to_list()\n",
        "vocab = char2idx\n",
        "\n",
        "dataset = PetsGenDataset(names, vocab, max_length=15, lang_col=data['язык'])"
      ],
      "metadata": {
        "id": "KCRuxVM2BMiI"
      },
      "execution_count": null,
      "outputs": [],
      "id": "KCRuxVM2BMiI"
    },
    {
      "cell_type": "code",
      "source": [
        "from torch.utils.data import DataLoader\n",
        "\n",
        "dataloader = DataLoader(dataset, batch_size=128, shuffle=True)\n",
        "\n",
        "batch_x, batch_y = next(iter(dataloader))\n",
        "batch_x.shape, batch_y.shape"
      ],
      "metadata": {
        "colab": {
          "base_uri": "https://localhost:8080/"
        },
        "outputId": "2ab48ecb-0dc1-471b-ad0a-40b9592b0ce6",
        "id": "cr6iMoJRBMiI"
      },
      "execution_count": null,
      "outputs": [
        {
          "output_type": "execute_result",
          "data": {
            "text/plain": [
              "(torch.Size([128, 14]), torch.Size([128, 14]))"
            ]
          },
          "metadata": {},
          "execution_count": 143
        }
      ],
      "id": "cr6iMoJRBMiI"
    },
    {
      "cell_type": "code",
      "source": [
        "batch_x"
      ],
      "metadata": {
        "colab": {
          "base_uri": "https://localhost:8080/"
        },
        "id": "kdSlK3NrDWlv",
        "outputId": "558e2a1f-fea8-4497-bb61-3b72a1c7cf4e"
      },
      "id": "kdSlK3NrDWlv",
      "execution_count": null,
      "outputs": [
        {
          "output_type": "execute_result",
          "data": {
            "text/plain": [
              "tensor([[ 4,  1,  6,  ...,  0,  0,  0],\n",
              "        [ 4,  1,  6,  ...,  0,  0,  0],\n",
              "        [ 4,  1, 20,  ...,  0,  0,  0],\n",
              "        ...,\n",
              "        [ 4,  1,  5,  ...,  0,  0,  0],\n",
              "        [ 4,  1,  6,  ...,  0,  0,  0],\n",
              "        [ 4,  1, 15,  ...,  0,  0,  0]])"
            ]
          },
          "metadata": {},
          "execution_count": 144
        }
      ]
    },
    {
      "cell_type": "markdown",
      "source": [
        "### 6."
      ],
      "metadata": {
        "id": "U_iIq6QKDy9A"
      },
      "id": "U_iIq6QKDy9A"
    },
    {
      "cell_type": "markdown",
      "id": "a8f2ded6",
      "metadata": {
        "id": "a8f2ded6"
      },
      "source": [
        "<p class=\"task\" id=\"6\"></p>\n",
        "\n",
        "6\\. Модифицируйте функцию для генерации имени, добавив возможность указать первый токен - `<RU>` или `<EN>`. Создайте и обучите модель для генерации имени питомца с указанием языка. Каждые несколько эпох выводите примеры генерации русскоязычных и англоязычных имен при помощи текущего состояния модели . Игнорируйте токен `<PAD>` при расчете ошибки.\n",
        "\n",
        "- [ ] Проверено на семинаре\n"
      ]
    },
    {
      "cell_type": "code",
      "source": [
        "def generate_name(model, vocab, idx2char, max_length=20, lang_token=None):\n",
        "  model.eval()\n",
        "  h_t = None\n",
        "\n",
        "  if lang_token is not None:\n",
        "    current_tok = th.tensor([[vocab[lang_token]]])\n",
        "    output, h_t = model(current_tok, h_t)\n",
        "\n",
        "  current_tok = th.tensor([[vocab['<SOS>']]])\n",
        "  generated_ids = []\n",
        "\n",
        "  for _ in range(max_length):\n",
        "    with th.no_grad():\n",
        "      output, h_t = model(current_tok, h_t) # forward\n",
        "      probs = th.softmax(output, dim=-1) # распр вер-ей\n",
        "      current_tok = th.multinomial(probs, num_samples =1)\n",
        "      generated_ids.append(current_tok.item())\n",
        "\n",
        "      if current_tok.item() == vocab['<EOS>']: # если сгенерен <EOS>, остановка\n",
        "        break\n",
        "\n",
        "  generated_chars = [idx2char[idx] for idx in generated_ids # фильтр служ ток\n",
        "                     if idx not in [vocab['<EOS>'], vocab['<SOS>'], vocab['<RU>'], vocab['<EN>']]]\n",
        "\n",
        "  generated_chars[0] = generated_chars[0].upper()\n",
        "\n",
        "  return ''.join(generated_chars)\n"
      ],
      "metadata": {
        "id": "ZrerjSbxD02Z"
      },
      "id": "ZrerjSbxD02Z",
      "execution_count": null,
      "outputs": []
    },
    {
      "cell_type": "code",
      "source": [
        "import torch.optim as optim\n",
        "\n",
        "vocab_size = len(vocab)\n",
        "embedding_dim = 64\n",
        "hidden_size = 128\n",
        "\n",
        "model = GeneratorModel(vocab_size, embedding_dim, hidden_size)\n",
        "\n",
        "crit = nn.CrossEntropyLoss(ignore_index=char2idx['<PAD>'])\n",
        "optim = optim.Adam(model.parameters(), lr = 0.01)\n",
        "\n",
        "num_epochs = 100\n",
        "\n",
        "for epoch in range(num_epochs):\n",
        "  model.train()\n",
        "  total_loss = 0\n",
        "\n",
        "  for batch_x, batch_y in dataloader:\n",
        "    optim.zero_grad()\n",
        "    out, h = model(batch_x)\n",
        "    loss = crit(out, batch_y.reshape(-1))  # в 1 строчку\n",
        "    loss.backward()\n",
        "    optim.step()\n",
        "\n",
        "    total_loss +=loss.item()\n",
        "  avg_loss = total_loss/len(dataloader)\n",
        "  if epoch+1 == 1:\n",
        "    print(f'Epoch [{epoch+1}/{num_epochs}], loss: {avg_loss:.4f}')\n",
        "  elif (epoch+1) % 10 == 0:\n",
        "    print(f'Epoch [{epoch+1}/{num_epochs}], loss: {avg_loss:.4f}')\n",
        "\n",
        "  if (epoch+1) % 20 == 0:\n",
        "    model.eval()\n",
        "    print('\\nпример генерации RU:')\n",
        "    for _ in range(3):\n",
        "      print(generate_name(model, char2idx, idx2char, lang_token='<RU>'))\n",
        "\n",
        "    print('\\nпример генерации ENG:')\n",
        "    for _ in range(3):\n",
        "      print(generate_name(model, char2idx, idx2char, lang_token='<EN>'))\n",
        "    print('\\n')"
      ],
      "metadata": {
        "colab": {
          "base_uri": "https://localhost:8080/"
        },
        "id": "14Vn5WBFEoqp",
        "outputId": "bc41bc6e-2e49-4239-8228-2e8d4019bd43"
      },
      "id": "14Vn5WBFEoqp",
      "execution_count": null,
      "outputs": [
        {
          "output_type": "stream",
          "name": "stdout",
          "text": [
            "Epoch [1/100], loss: 2.5163\n",
            "Epoch [10/100], loss: 1.7276\n",
            "Epoch [20/100], loss: 1.5228\n",
            "\n",
            "пример генерации RU:\n",
            "Юфа\n",
            "Викки\n",
            "Елоксеспа\n",
            "\n",
            "пример генерации ENG:\n",
            "Tee\n",
            "Carshie\n",
            "Firivich\n",
            "\n",
            "\n",
            "Epoch [30/100], loss: 1.3984\n",
            "Epoch [40/100], loss: 1.3170\n",
            "\n",
            "пример генерации RU:\n",
            "Тейла\n",
            "Патти\n",
            "Марса\n",
            "\n",
            "пример генерации ENG:\n",
            "Guccay\n",
            "Autcau\n",
            "Safa\n",
            "\n",
            "\n",
            "Epoch [50/100], loss: 1.2659\n",
            "Epoch [60/100], loss: 1.2592\n",
            "\n",
            "пример генерации RU:\n",
            "Дыма\n",
            "Тося\n",
            "Шуся\n",
            "\n",
            "пример генерации ENG:\n",
            "Nikare\n",
            "Abery\n",
            "Magan\n",
            "\n",
            "\n",
            "Epoch [70/100], loss: 1.2435\n",
            "Epoch [80/100], loss: 1.2199\n",
            "\n",
            "пример генерации RU:\n",
            "Грация\n",
            "Бетси\n",
            "Белоснежиния\n",
            "\n",
            "пример генерации ENG:\n",
            "Moonger\n",
            "Ares\n",
            "Bella\n",
            "\n",
            "\n",
            "Epoch [90/100], loss: 1.2516\n",
            "Epoch [100/100], loss: 1.2327\n",
            "\n",
            "пример генерации RU:\n",
            "Ликки\n",
            "Чантар\n",
            "Гелла\n",
            "\n",
            "пример генерации ENG:\n",
            "Walex\n",
            "Slackjakes\n",
            "Casperidia\n",
            "\n",
            "\n"
          ]
        }
      ]
    }
  ],
  "metadata": {
    "kernelspec": {
      "display_name": "dl23",
      "language": "python",
      "name": "python3"
    },
    "language_info": {
      "codemirror_mode": {
        "name": "ipython",
        "version": 3
      },
      "file_extension": ".py",
      "mimetype": "text/x-python",
      "name": "python",
      "nbconvert_exporter": "python",
      "pygments_lexer": "ipython3",
      "version": "3.10.0"
    },
    "colab": {
      "provenance": [],
      "toc_visible": true
    }
  },
  "nbformat": 4,
  "nbformat_minor": 5
}